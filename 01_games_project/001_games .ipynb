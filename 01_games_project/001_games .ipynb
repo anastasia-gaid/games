{
 "cells": [
  {
   "cell_type": "markdown",
   "metadata": {},
   "source": [
    "<b> Проект: \"Исследование мирового рынка игр\" </b>\n",
    "    \n",
    "<b> Оглавление проекта:</b>\n",
    "\n",
    "[1. Загрузка и предобработка данных.](#step_1)\n",
    "    \n",
    "[2. Исследовательский анализ данных.](#step_2)\n",
    "    \n",
    "[3. Составление портрета пользователя каждого региона.](#step_3)\n",
    "    \n",
    "[4. Проверка статистических гипотез.](#step_4)\n",
    "\n",
    "[4.1. Гипотеза №1 : Средние пользовательские рейтинги платформ Xbox One и PC одинаковы.](#step_4.1)\n",
    "\n",
    "[4.2. Гипотеза №2 : Средние пользовательские рейтинги жанров Action и Sports различаются.](#step_4.2)\n",
    "\n",
    "[5. Общие выводы и рекомендации.](#step_5)"
   ]
  },
  {
   "cell_type": "markdown",
   "metadata": {},
   "source": [
    "<a id=\"step_1\"></a> \n",
    "## Загрузка и предобработка данных"
   ]
  },
  {
   "cell_type": "code",
   "execution_count": 1,
   "metadata": {},
   "outputs": [],
   "source": [
    "import pandas as pd\n",
    "import matplotlib.pyplot as plt\n",
    "import seaborn as sns\n",
    "import numpy as np "
   ]
  },
  {
   "cell_type": "code",
   "execution_count": 2,
   "metadata": {},
   "outputs": [
    {
     "data": {
      "text/html": [
       "<div>\n",
       "<style scoped>\n",
       "    .dataframe tbody tr th:only-of-type {\n",
       "        vertical-align: middle;\n",
       "    }\n",
       "\n",
       "    .dataframe tbody tr th {\n",
       "        vertical-align: top;\n",
       "    }\n",
       "\n",
       "    .dataframe thead th {\n",
       "        text-align: right;\n",
       "    }\n",
       "</style>\n",
       "<table border=\"1\" class=\"dataframe\">\n",
       "  <thead>\n",
       "    <tr style=\"text-align: right;\">\n",
       "      <th></th>\n",
       "      <th>Name</th>\n",
       "      <th>Platform</th>\n",
       "      <th>Year_of_Release</th>\n",
       "      <th>Genre</th>\n",
       "      <th>NA_sales</th>\n",
       "      <th>EU_sales</th>\n",
       "      <th>JP_sales</th>\n",
       "      <th>Other_sales</th>\n",
       "      <th>Critic_Score</th>\n",
       "      <th>User_Score</th>\n",
       "      <th>Rating</th>\n",
       "    </tr>\n",
       "  </thead>\n",
       "  <tbody>\n",
       "    <tr>\n",
       "      <th>0</th>\n",
       "      <td>Wii Sports</td>\n",
       "      <td>Wii</td>\n",
       "      <td>2006.0</td>\n",
       "      <td>Sports</td>\n",
       "      <td>41.36</td>\n",
       "      <td>28.96</td>\n",
       "      <td>3.77</td>\n",
       "      <td>8.45</td>\n",
       "      <td>76.0</td>\n",
       "      <td>8</td>\n",
       "      <td>E</td>\n",
       "    </tr>\n",
       "    <tr>\n",
       "      <th>1</th>\n",
       "      <td>Super Mario Bros.</td>\n",
       "      <td>NES</td>\n",
       "      <td>1985.0</td>\n",
       "      <td>Platform</td>\n",
       "      <td>29.08</td>\n",
       "      <td>3.58</td>\n",
       "      <td>6.81</td>\n",
       "      <td>0.77</td>\n",
       "      <td>NaN</td>\n",
       "      <td>NaN</td>\n",
       "      <td>NaN</td>\n",
       "    </tr>\n",
       "    <tr>\n",
       "      <th>2</th>\n",
       "      <td>Mario Kart Wii</td>\n",
       "      <td>Wii</td>\n",
       "      <td>2008.0</td>\n",
       "      <td>Racing</td>\n",
       "      <td>15.68</td>\n",
       "      <td>12.76</td>\n",
       "      <td>3.79</td>\n",
       "      <td>3.29</td>\n",
       "      <td>82.0</td>\n",
       "      <td>8.3</td>\n",
       "      <td>E</td>\n",
       "    </tr>\n",
       "    <tr>\n",
       "      <th>3</th>\n",
       "      <td>Wii Sports Resort</td>\n",
       "      <td>Wii</td>\n",
       "      <td>2009.0</td>\n",
       "      <td>Sports</td>\n",
       "      <td>15.61</td>\n",
       "      <td>10.93</td>\n",
       "      <td>3.28</td>\n",
       "      <td>2.95</td>\n",
       "      <td>80.0</td>\n",
       "      <td>8</td>\n",
       "      <td>E</td>\n",
       "    </tr>\n",
       "    <tr>\n",
       "      <th>4</th>\n",
       "      <td>Pokemon Red/Pokemon Blue</td>\n",
       "      <td>GB</td>\n",
       "      <td>1996.0</td>\n",
       "      <td>Role-Playing</td>\n",
       "      <td>11.27</td>\n",
       "      <td>8.89</td>\n",
       "      <td>10.22</td>\n",
       "      <td>1.00</td>\n",
       "      <td>NaN</td>\n",
       "      <td>NaN</td>\n",
       "      <td>NaN</td>\n",
       "    </tr>\n",
       "  </tbody>\n",
       "</table>\n",
       "</div>"
      ],
      "text/plain": [
       "                       Name Platform  Year_of_Release         Genre  NA_sales  \\\n",
       "0                Wii Sports      Wii           2006.0        Sports     41.36   \n",
       "1         Super Mario Bros.      NES           1985.0      Platform     29.08   \n",
       "2            Mario Kart Wii      Wii           2008.0        Racing     15.68   \n",
       "3         Wii Sports Resort      Wii           2009.0        Sports     15.61   \n",
       "4  Pokemon Red/Pokemon Blue       GB           1996.0  Role-Playing     11.27   \n",
       "\n",
       "   EU_sales  JP_sales  Other_sales  Critic_Score User_Score Rating  \n",
       "0     28.96      3.77         8.45          76.0          8      E  \n",
       "1      3.58      6.81         0.77           NaN        NaN    NaN  \n",
       "2     12.76      3.79         3.29          82.0        8.3      E  \n",
       "3     10.93      3.28         2.95          80.0          8      E  \n",
       "4      8.89     10.22         1.00           NaN        NaN    NaN  "
      ]
     },
     "execution_count": 2,
     "metadata": {},
     "output_type": "execute_result"
    }
   ],
   "source": [
    "df = pd.read_csv('/datasets/games.csv')\n",
    "df.head()"
   ]
  },
  {
   "cell_type": "code",
   "execution_count": 3,
   "metadata": {},
   "outputs": [
    {
     "name": "stdout",
     "output_type": "stream",
     "text": [
      "<class 'pandas.core.frame.DataFrame'>\n",
      "RangeIndex: 16715 entries, 0 to 16714\n",
      "Data columns (total 11 columns):\n",
      " #   Column           Non-Null Count  Dtype  \n",
      "---  ------           --------------  -----  \n",
      " 0   Name             16713 non-null  object \n",
      " 1   Platform         16715 non-null  object \n",
      " 2   Year_of_Release  16446 non-null  float64\n",
      " 3   Genre            16713 non-null  object \n",
      " 4   NA_sales         16715 non-null  float64\n",
      " 5   EU_sales         16715 non-null  float64\n",
      " 6   JP_sales         16715 non-null  float64\n",
      " 7   Other_sales      16715 non-null  float64\n",
      " 8   Critic_Score     8137 non-null   float64\n",
      " 9   User_Score       10014 non-null  object \n",
      " 10  Rating           9949 non-null   object \n",
      "dtypes: float64(6), object(5)\n",
      "memory usage: 1.4+ MB\n"
     ]
    }
   ],
   "source": [
    "df.info()"
   ]
  },
  {
   "cell_type": "markdown",
   "metadata": {},
   "source": [
    "Приведем названия столбцов к нижнему регистру."
   ]
  },
  {
   "cell_type": "code",
   "execution_count": 4,
   "metadata": {},
   "outputs": [
    {
     "name": "stdout",
     "output_type": "stream",
     "text": [
      "<class 'pandas.core.frame.DataFrame'>\n",
      "RangeIndex: 16715 entries, 0 to 16714\n",
      "Data columns (total 11 columns):\n",
      " #   Column           Non-Null Count  Dtype  \n",
      "---  ------           --------------  -----  \n",
      " 0   name             16713 non-null  object \n",
      " 1   platform         16715 non-null  object \n",
      " 2   year_of_release  16446 non-null  float64\n",
      " 3   genre            16713 non-null  object \n",
      " 4   na_sales         16715 non-null  float64\n",
      " 5   eu_sales         16715 non-null  float64\n",
      " 6   jp_sales         16715 non-null  float64\n",
      " 7   other_sales      16715 non-null  float64\n",
      " 8   critic_score     8137 non-null   float64\n",
      " 9   user_score       10014 non-null  object \n",
      " 10  rating           9949 non-null   object \n",
      "dtypes: float64(6), object(5)\n",
      "memory usage: 1.4+ MB\n"
     ]
    }
   ],
   "source": [
    "df.columns = df.columns.str.lower()\n",
    "df.info()"
   ]
  },
  {
   "cell_type": "markdown",
   "metadata": {},
   "source": [
    "Выведем строки с пропусками в столбце 'name'."
   ]
  },
  {
   "cell_type": "code",
   "execution_count": 5,
   "metadata": {},
   "outputs": [
    {
     "data": {
      "text/html": [
       "<div>\n",
       "<style scoped>\n",
       "    .dataframe tbody tr th:only-of-type {\n",
       "        vertical-align: middle;\n",
       "    }\n",
       "\n",
       "    .dataframe tbody tr th {\n",
       "        vertical-align: top;\n",
       "    }\n",
       "\n",
       "    .dataframe thead th {\n",
       "        text-align: right;\n",
       "    }\n",
       "</style>\n",
       "<table border=\"1\" class=\"dataframe\">\n",
       "  <thead>\n",
       "    <tr style=\"text-align: right;\">\n",
       "      <th></th>\n",
       "      <th>name</th>\n",
       "      <th>platform</th>\n",
       "      <th>year_of_release</th>\n",
       "      <th>genre</th>\n",
       "      <th>na_sales</th>\n",
       "      <th>eu_sales</th>\n",
       "      <th>jp_sales</th>\n",
       "      <th>other_sales</th>\n",
       "      <th>critic_score</th>\n",
       "      <th>user_score</th>\n",
       "      <th>rating</th>\n",
       "    </tr>\n",
       "  </thead>\n",
       "  <tbody>\n",
       "    <tr>\n",
       "      <th>659</th>\n",
       "      <td>NaN</td>\n",
       "      <td>GEN</td>\n",
       "      <td>1993.0</td>\n",
       "      <td>NaN</td>\n",
       "      <td>1.78</td>\n",
       "      <td>0.53</td>\n",
       "      <td>0.00</td>\n",
       "      <td>0.08</td>\n",
       "      <td>NaN</td>\n",
       "      <td>NaN</td>\n",
       "      <td>NaN</td>\n",
       "    </tr>\n",
       "    <tr>\n",
       "      <th>14244</th>\n",
       "      <td>NaN</td>\n",
       "      <td>GEN</td>\n",
       "      <td>1993.0</td>\n",
       "      <td>NaN</td>\n",
       "      <td>0.00</td>\n",
       "      <td>0.00</td>\n",
       "      <td>0.03</td>\n",
       "      <td>0.00</td>\n",
       "      <td>NaN</td>\n",
       "      <td>NaN</td>\n",
       "      <td>NaN</td>\n",
       "    </tr>\n",
       "  </tbody>\n",
       "</table>\n",
       "</div>"
      ],
      "text/plain": [
       "      name platform  year_of_release genre  na_sales  eu_sales  jp_sales  \\\n",
       "659    NaN      GEN           1993.0   NaN      1.78      0.53      0.00   \n",
       "14244  NaN      GEN           1993.0   NaN      0.00      0.00      0.03   \n",
       "\n",
       "       other_sales  critic_score user_score rating  \n",
       "659           0.08           NaN        NaN    NaN  \n",
       "14244         0.00           NaN        NaN    NaN  "
      ]
     },
     "execution_count": 5,
     "metadata": {},
     "output_type": "execute_result"
    }
   ],
   "source": [
    "df[df['name'].isna()]"
   ]
  },
  {
   "cell_type": "markdown",
   "metadata": {},
   "source": [
    "Пропуски в играх с годом выпуска 1993, в большинстве стобцов данные об этих \n",
    "играх отсутствуют, следовательно данные строки неинформативны и их можно удалить."
   ]
  },
  {
   "cell_type": "code",
   "execution_count": 6,
   "metadata": {},
   "outputs": [
    {
     "name": "stdout",
     "output_type": "stream",
     "text": [
      "<class 'pandas.core.frame.DataFrame'>\n",
      "Int64Index: 16713 entries, 0 to 16714\n",
      "Data columns (total 11 columns):\n",
      " #   Column           Non-Null Count  Dtype  \n",
      "---  ------           --------------  -----  \n",
      " 0   name             16713 non-null  object \n",
      " 1   platform         16713 non-null  object \n",
      " 2   year_of_release  16444 non-null  float64\n",
      " 3   genre            16713 non-null  object \n",
      " 4   na_sales         16713 non-null  float64\n",
      " 5   eu_sales         16713 non-null  float64\n",
      " 6   jp_sales         16713 non-null  float64\n",
      " 7   other_sales      16713 non-null  float64\n",
      " 8   critic_score     8137 non-null   float64\n",
      " 9   user_score       10014 non-null  object \n",
      " 10  rating           9949 non-null   object \n",
      "dtypes: float64(6), object(5)\n",
      "memory usage: 1.5+ MB\n"
     ]
    }
   ],
   "source": [
    "df = df.dropna(subset=['name'])\n",
    "df.reset_index()\n",
    "df.info()"
   ]
  },
  {
   "cell_type": "markdown",
   "metadata": {},
   "source": [
    "Обработаем пропуски в столбце rating заменив пропуски на значение \"unknow\", для возможности оценки влияния рейтинга на продажи"
   ]
  },
  {
   "cell_type": "code",
   "execution_count": 7,
   "metadata": {},
   "outputs": [
    {
     "name": "stdout",
     "output_type": "stream",
     "text": [
      "<class 'pandas.core.frame.DataFrame'>\n",
      "Int64Index: 16713 entries, 0 to 16714\n",
      "Data columns (total 11 columns):\n",
      " #   Column           Non-Null Count  Dtype  \n",
      "---  ------           --------------  -----  \n",
      " 0   name             16713 non-null  object \n",
      " 1   platform         16713 non-null  object \n",
      " 2   year_of_release  16444 non-null  float64\n",
      " 3   genre            16713 non-null  object \n",
      " 4   na_sales         16713 non-null  float64\n",
      " 5   eu_sales         16713 non-null  float64\n",
      " 6   jp_sales         16713 non-null  float64\n",
      " 7   other_sales      16713 non-null  float64\n",
      " 8   critic_score     8137 non-null   float64\n",
      " 9   user_score       10014 non-null  object \n",
      " 10  rating           16713 non-null  object \n",
      "dtypes: float64(6), object(5)\n",
      "memory usage: 1.5+ MB\n"
     ]
    }
   ],
   "source": [
    "df['rating'] = df['rating'].fillna(\"unknow\")\n",
    "df.info()"
   ]
  },
  {
   "cell_type": "markdown",
   "metadata": {},
   "source": [
    "Проверим сколько игр в каждой категории рейтинга."
   ]
  },
  {
   "cell_type": "code",
   "execution_count": 8,
   "metadata": {},
   "outputs": [
    {
     "data": {
      "text/plain": [
       "unknow    6764\n",
       "E         3990\n",
       "T         2961\n",
       "M         1563\n",
       "E10+      1420\n",
       "EC           8\n",
       "RP           3\n",
       "K-A          3\n",
       "AO           1\n",
       "Name: rating, dtype: int64"
      ]
     },
     "execution_count": 8,
     "metadata": {},
     "output_type": "execute_result"
    }
   ],
   "source": [
    "df['rating'].value_counts()"
   ]
  },
  {
   "cell_type": "markdown",
   "metadata": {},
   "source": [
    "Категории рейтинга \"EC\", \"K-A\", \"RP\", \"AO\" встречаются крайне редко. Заменим данные категории на подходящие по смыслу."
   ]
  },
  {
   "cell_type": "code",
   "execution_count": 9,
   "metadata": {},
   "outputs": [
    {
     "data": {
      "text/plain": [
       "unknow    6767\n",
       "E         4001\n",
       "T         2961\n",
       "M         1564\n",
       "E10+      1420\n",
       "Name: rating, dtype: int64"
      ]
     },
     "execution_count": 9,
     "metadata": {},
     "output_type": "execute_result"
    }
   ],
   "source": [
    "df['rating'] = df['rating'].replace({'EC':'E','RP':'unknow','K-A':'E','AO':'M'})\n",
    "df['rating'].value_counts()"
   ]
  },
  {
   "cell_type": "markdown",
   "metadata": {},
   "source": [
    "Изменим тип данных в столбце 'year_of_release'."
   ]
  },
  {
   "cell_type": "code",
   "execution_count": 10,
   "metadata": {},
   "outputs": [
    {
     "name": "stdout",
     "output_type": "stream",
     "text": [
      "<class 'pandas.core.frame.DataFrame'>\n",
      "Int64Index: 16713 entries, 0 to 16714\n",
      "Data columns (total 11 columns):\n",
      " #   Column           Non-Null Count  Dtype  \n",
      "---  ------           --------------  -----  \n",
      " 0   name             16713 non-null  object \n",
      " 1   platform         16713 non-null  object \n",
      " 2   year_of_release  16444 non-null  Int64  \n",
      " 3   genre            16713 non-null  object \n",
      " 4   na_sales         16713 non-null  float64\n",
      " 5   eu_sales         16713 non-null  float64\n",
      " 6   jp_sales         16713 non-null  float64\n",
      " 7   other_sales      16713 non-null  float64\n",
      " 8   critic_score     8137 non-null   float64\n",
      " 9   user_score       10014 non-null  object \n",
      " 10  rating           16713 non-null  object \n",
      "dtypes: Int64(1), float64(5), object(5)\n",
      "memory usage: 1.5+ MB\n"
     ]
    }
   ],
   "source": [
    "df['year_of_release'] = df['year_of_release'].astype('Int64')\n",
    "df.info()"
   ]
  },
  {
   "cell_type": "markdown",
   "metadata": {},
   "source": [
    "Выведем уникальные значения столбца 'user_score'."
   ]
  },
  {
   "cell_type": "code",
   "execution_count": 11,
   "metadata": {},
   "outputs": [
    {
     "data": {
      "text/plain": [
       "array(['8', nan, '8.3', '8.5', '6.6', '8.4', '8.6', '7.7', '6.3', '7.4',\n",
       "       '8.2', '9', '7.9', '8.1', '8.7', '7.1', '3.4', '5.3', '4.8', '3.2',\n",
       "       '8.9', '6.4', '7.8', '7.5', '2.6', '7.2', '9.2', '7', '7.3', '4.3',\n",
       "       '7.6', '5.7', '5', '9.1', '6.5', 'tbd', '8.8', '6.9', '9.4', '6.8',\n",
       "       '6.1', '6.7', '5.4', '4', '4.9', '4.5', '9.3', '6.2', '4.2', '6',\n",
       "       '3.7', '4.1', '5.8', '5.6', '5.5', '4.4', '4.6', '5.9', '3.9',\n",
       "       '3.1', '2.9', '5.2', '3.3', '4.7', '5.1', '3.5', '2.5', '1.9', '3',\n",
       "       '2.7', '2.2', '2', '9.5', '2.1', '3.6', '2.8', '1.8', '3.8', '0',\n",
       "       '1.6', '9.6', '2.4', '1.7', '1.1', '0.3', '1.5', '0.7', '1.2',\n",
       "       '2.3', '0.5', '1.3', '0.2', '0.6', '1.4', '0.9', '1', '9.7'],\n",
       "      dtype=object)"
      ]
     },
     "execution_count": 11,
     "metadata": {},
     "output_type": "execute_result"
    }
   ],
   "source": [
    "df['user_score'].unique()"
   ]
  },
  {
   "cell_type": "markdown",
   "metadata": {},
   "source": [
    "Рассчитаем количество значений \"tbd\" в столбце 'user_score'."
   ]
  },
  {
   "cell_type": "code",
   "execution_count": 12,
   "metadata": {},
   "outputs": [
    {
     "data": {
      "text/plain": [
       "2424"
      ]
     },
     "execution_count": 12,
     "metadata": {},
     "output_type": "execute_result"
    }
   ],
   "source": [
    "df.query('user_score == \"tbd\"')['user_score'].count()"
   ]
  },
  {
   "cell_type": "markdown",
   "metadata": {},
   "source": [
    "Пропуски в столбцах: `year_of_release`, `critic_score`, `user_score` оставим без изменений т.к. для данных столбцов нет уместного способа заполнения пропусков. \n",
    "\n",
    "Столбцы `critic_score`, `user_score` хранят в себе оценки критиков и пользователей в диапазоне от 0 до 100, если заменить пропуски в этих столбцах медианными значениями, сгруппированными по определенным признакам, можно сильно ошибиться и исказить фактические данные. Значение \"tbd\" это аббревиатура от английского To Be Determined (будет определено) используется, если какая-то информация еще не определена или решение по вопросу не принято. Акроним служит для отметки неясностей или пропусков, которые надо заполнить, в информации требований. Данное значение встречается в столбце `user_score` и будет расцениваться, как пропущенное значение.\n",
    "\n",
    "Столбец `rating` содержит рейтинг от организации ESRB с указанием определенной возрастной группы, присваиваемой по неким конкретным параметрам, заполнять пропуски случайным распределением неуместно, однако для возможности оценить влияние рейтинга на продажи, мы обработали пропуски в столбце rating заменив пропуски на значение \"unknow\"."
   ]
  },
  {
   "cell_type": "markdown",
   "metadata": {},
   "source": [
    "Рассчитаем суммарные продажи игры во всех регионгах и запишем в отдельный столбец."
   ]
  },
  {
   "cell_type": "code",
   "execution_count": 13,
   "metadata": {},
   "outputs": [
    {
     "data": {
      "text/html": [
       "<div>\n",
       "<style scoped>\n",
       "    .dataframe tbody tr th:only-of-type {\n",
       "        vertical-align: middle;\n",
       "    }\n",
       "\n",
       "    .dataframe tbody tr th {\n",
       "        vertical-align: top;\n",
       "    }\n",
       "\n",
       "    .dataframe thead th {\n",
       "        text-align: right;\n",
       "    }\n",
       "</style>\n",
       "<table border=\"1\" class=\"dataframe\">\n",
       "  <thead>\n",
       "    <tr style=\"text-align: right;\">\n",
       "      <th></th>\n",
       "      <th>name</th>\n",
       "      <th>platform</th>\n",
       "      <th>year_of_release</th>\n",
       "      <th>genre</th>\n",
       "      <th>na_sales</th>\n",
       "      <th>eu_sales</th>\n",
       "      <th>jp_sales</th>\n",
       "      <th>other_sales</th>\n",
       "      <th>critic_score</th>\n",
       "      <th>user_score</th>\n",
       "      <th>rating</th>\n",
       "      <th>all_sales</th>\n",
       "    </tr>\n",
       "  </thead>\n",
       "  <tbody>\n",
       "    <tr>\n",
       "      <th>0</th>\n",
       "      <td>Wii Sports</td>\n",
       "      <td>Wii</td>\n",
       "      <td>2006</td>\n",
       "      <td>Sports</td>\n",
       "      <td>41.36</td>\n",
       "      <td>28.96</td>\n",
       "      <td>3.77</td>\n",
       "      <td>8.45</td>\n",
       "      <td>76.0</td>\n",
       "      <td>8</td>\n",
       "      <td>E</td>\n",
       "      <td>82.54</td>\n",
       "    </tr>\n",
       "    <tr>\n",
       "      <th>1</th>\n",
       "      <td>Super Mario Bros.</td>\n",
       "      <td>NES</td>\n",
       "      <td>1985</td>\n",
       "      <td>Platform</td>\n",
       "      <td>29.08</td>\n",
       "      <td>3.58</td>\n",
       "      <td>6.81</td>\n",
       "      <td>0.77</td>\n",
       "      <td>NaN</td>\n",
       "      <td>NaN</td>\n",
       "      <td>unknow</td>\n",
       "      <td>40.24</td>\n",
       "    </tr>\n",
       "    <tr>\n",
       "      <th>2</th>\n",
       "      <td>Mario Kart Wii</td>\n",
       "      <td>Wii</td>\n",
       "      <td>2008</td>\n",
       "      <td>Racing</td>\n",
       "      <td>15.68</td>\n",
       "      <td>12.76</td>\n",
       "      <td>3.79</td>\n",
       "      <td>3.29</td>\n",
       "      <td>82.0</td>\n",
       "      <td>8.3</td>\n",
       "      <td>E</td>\n",
       "      <td>35.52</td>\n",
       "    </tr>\n",
       "    <tr>\n",
       "      <th>3</th>\n",
       "      <td>Wii Sports Resort</td>\n",
       "      <td>Wii</td>\n",
       "      <td>2009</td>\n",
       "      <td>Sports</td>\n",
       "      <td>15.61</td>\n",
       "      <td>10.93</td>\n",
       "      <td>3.28</td>\n",
       "      <td>2.95</td>\n",
       "      <td>80.0</td>\n",
       "      <td>8</td>\n",
       "      <td>E</td>\n",
       "      <td>32.77</td>\n",
       "    </tr>\n",
       "    <tr>\n",
       "      <th>4</th>\n",
       "      <td>Pokemon Red/Pokemon Blue</td>\n",
       "      <td>GB</td>\n",
       "      <td>1996</td>\n",
       "      <td>Role-Playing</td>\n",
       "      <td>11.27</td>\n",
       "      <td>8.89</td>\n",
       "      <td>10.22</td>\n",
       "      <td>1.00</td>\n",
       "      <td>NaN</td>\n",
       "      <td>NaN</td>\n",
       "      <td>unknow</td>\n",
       "      <td>31.38</td>\n",
       "    </tr>\n",
       "  </tbody>\n",
       "</table>\n",
       "</div>"
      ],
      "text/plain": [
       "                       name platform  year_of_release         genre  na_sales  \\\n",
       "0                Wii Sports      Wii             2006        Sports     41.36   \n",
       "1         Super Mario Bros.      NES             1985      Platform     29.08   \n",
       "2            Mario Kart Wii      Wii             2008        Racing     15.68   \n",
       "3         Wii Sports Resort      Wii             2009        Sports     15.61   \n",
       "4  Pokemon Red/Pokemon Blue       GB             1996  Role-Playing     11.27   \n",
       "\n",
       "   eu_sales  jp_sales  other_sales  critic_score user_score  rating  all_sales  \n",
       "0     28.96      3.77         8.45          76.0          8       E      82.54  \n",
       "1      3.58      6.81         0.77           NaN        NaN  unknow      40.24  \n",
       "2     12.76      3.79         3.29          82.0        8.3       E      35.52  \n",
       "3     10.93      3.28         2.95          80.0          8       E      32.77  \n",
       "4      8.89     10.22         1.00           NaN        NaN  unknow      31.38  "
      ]
     },
     "execution_count": 13,
     "metadata": {},
     "output_type": "execute_result"
    }
   ],
   "source": [
    "df['all_sales'] = df[['na_sales', 'eu_sales', 'jp_sales', 'other_sales']].sum(axis=1)\n",
    "df.head()"
   ]
  },
  {
   "cell_type": "markdown",
   "metadata": {},
   "source": [
    "<a id=\"step_2\"></a> \n",
    "## Исследовательский анализ данных"
   ]
  },
  {
   "cell_type": "markdown",
   "metadata": {},
   "source": [
    "Посмотрим, сколько игр выпускалось в разные годы и определим актуальный период для исследования."
   ]
  },
  {
   "cell_type": "code",
   "execution_count": 14,
   "metadata": {},
   "outputs": [
    {
     "data": {
      "text/html": [
       "<div>\n",
       "<style scoped>\n",
       "    .dataframe tbody tr th:only-of-type {\n",
       "        vertical-align: middle;\n",
       "    }\n",
       "\n",
       "    .dataframe tbody tr th {\n",
       "        vertical-align: top;\n",
       "    }\n",
       "\n",
       "    .dataframe thead th {\n",
       "        text-align: right;\n",
       "    }\n",
       "</style>\n",
       "<table border=\"1\" class=\"dataframe\">\n",
       "  <thead>\n",
       "    <tr style=\"text-align: right;\">\n",
       "      <th></th>\n",
       "      <th>year_of_release</th>\n",
       "      <th>games_count</th>\n",
       "    </tr>\n",
       "  </thead>\n",
       "  <tbody>\n",
       "    <tr>\n",
       "      <th>0</th>\n",
       "      <td>1980</td>\n",
       "      <td>9</td>\n",
       "    </tr>\n",
       "    <tr>\n",
       "      <th>1</th>\n",
       "      <td>1981</td>\n",
       "      <td>46</td>\n",
       "    </tr>\n",
       "    <tr>\n",
       "      <th>2</th>\n",
       "      <td>1982</td>\n",
       "      <td>36</td>\n",
       "    </tr>\n",
       "    <tr>\n",
       "      <th>3</th>\n",
       "      <td>1983</td>\n",
       "      <td>17</td>\n",
       "    </tr>\n",
       "    <tr>\n",
       "      <th>4</th>\n",
       "      <td>1984</td>\n",
       "      <td>14</td>\n",
       "    </tr>\n",
       "  </tbody>\n",
       "</table>\n",
       "</div>"
      ],
      "text/plain": [
       "   year_of_release  games_count\n",
       "0             1980            9\n",
       "1             1981           46\n",
       "2             1982           36\n",
       "3             1983           17\n",
       "4             1984           14"
      ]
     },
     "execution_count": 14,
     "metadata": {},
     "output_type": "execute_result"
    }
   ],
   "source": [
    "games_by_year = df.groupby('year_of_release').agg({'name':'count'}).reset_index().rename(columns={'name':'games_count'})\n",
    "games_by_year.head()"
   ]
  },
  {
   "cell_type": "code",
   "execution_count": 15,
   "metadata": {},
   "outputs": [
    {
     "data": {
      "image/png": "[encoded data removed]",
      "text/plain": [
       "<Figure size 864x360 with 1 Axes>"
      ]
     },
     "metadata": {
      "needs_background": "light"
     },
     "output_type": "display_data"
    }
   ],
   "source": [
    "ax = games_by_year.plot.bar(x='year_of_release',y='games_count',figsize=(12,5))\n",
    "plt.title('График распределения количества выпущенных игр по годам')\n",
    "plt.xlabel('Год')\n",
    "plt.ylabel('Количество выпущенных игр')\n",
    "plt.show()"
   ]
  },
  {
   "cell_type": "markdown",
   "metadata": {},
   "source": [
    "Параллельно с развитием технологий развивались и компьютерные игры, игры выпущенные в 1980 году невозможно сравнивать по характеристикам, массовости с играми выпущенными в 2016.\n",
    "\n",
    "Чем быстрее развиваются технологии, тем существеннее отличия в играх разных годов и тем сложнее их сравнивать. К тому же изменяются предпочтения потребителей и маркетинговые стратегии продвижения продукта. В связи с вышеперечисленными факторами, для анализа важна выборка только за последние несколько лет, установим актуальный период между 2010 и 2016 годами.\n"
   ]
  },
  {
   "cell_type": "markdown",
   "metadata": {},
   "source": [
    "Проанализируем, как менялись продажи по платформам. Выберем платформы с\n",
    "наибольшими суммарными продажами и построим распределение по годам."
   ]
  },
  {
   "cell_type": "code",
   "execution_count": 16,
   "metadata": {},
   "outputs": [
    {
     "name": "stdout",
     "output_type": "stream",
     "text": [
      "Kоличество платформ в выборке : 31\n"
     ]
    }
   ],
   "source": [
    "print('Kоличество платформ в выборке :',df['platform'].nunique())"
   ]
  },
  {
   "cell_type": "markdown",
   "metadata": {},
   "source": [
    "Найдем топ платформы с наибольшими суммарными продажами."
   ]
  },
  {
   "cell_type": "code",
   "execution_count": 17,
   "metadata": {},
   "outputs": [
    {
     "data": {
      "text/html": [
       "<div>\n",
       "<style scoped>\n",
       "    .dataframe tbody tr th:only-of-type {\n",
       "        vertical-align: middle;\n",
       "    }\n",
       "\n",
       "    .dataframe tbody tr th {\n",
       "        vertical-align: top;\n",
       "    }\n",
       "\n",
       "    .dataframe thead th {\n",
       "        text-align: right;\n",
       "    }\n",
       "</style>\n",
       "<table border=\"1\" class=\"dataframe\">\n",
       "  <thead>\n",
       "    <tr style=\"text-align: right;\">\n",
       "      <th></th>\n",
       "      <th>all_sales</th>\n",
       "    </tr>\n",
       "    <tr>\n",
       "      <th>platform</th>\n",
       "      <th></th>\n",
       "    </tr>\n",
       "  </thead>\n",
       "  <tbody>\n",
       "    <tr>\n",
       "      <th>PS2</th>\n",
       "      <td>1255.77</td>\n",
       "    </tr>\n",
       "    <tr>\n",
       "      <th>X360</th>\n",
       "      <td>971.42</td>\n",
       "    </tr>\n",
       "    <tr>\n",
       "      <th>PS3</th>\n",
       "      <td>939.65</td>\n",
       "    </tr>\n",
       "    <tr>\n",
       "      <th>Wii</th>\n",
       "      <td>907.51</td>\n",
       "    </tr>\n",
       "    <tr>\n",
       "      <th>DS</th>\n",
       "      <td>806.12</td>\n",
       "    </tr>\n",
       "  </tbody>\n",
       "</table>\n",
       "</div>"
      ],
      "text/plain": [
       "          all_sales\n",
       "platform           \n",
       "PS2         1255.77\n",
       "X360         971.42\n",
       "PS3          939.65\n",
       "Wii          907.51\n",
       "DS           806.12"
      ]
     },
     "execution_count": 17,
     "metadata": {},
     "output_type": "execute_result"
    }
   ],
   "source": [
    "top_platform = df.groupby('platform').agg({'all_sales':'sum'}).sort_values(by='all_sales',ascending=False).head()\n",
    "top_platform"
   ]
  },
  {
   "cell_type": "code",
   "execution_count": 18,
   "metadata": {},
   "outputs": [
    {
     "data": {
      "text/html": [
       "<div>\n",
       "<style scoped>\n",
       "    .dataframe tbody tr th:only-of-type {\n",
       "        vertical-align: middle;\n",
       "    }\n",
       "\n",
       "    .dataframe tbody tr th {\n",
       "        vertical-align: top;\n",
       "    }\n",
       "\n",
       "    .dataframe thead th {\n",
       "        text-align: right;\n",
       "    }\n",
       "</style>\n",
       "<table border=\"1\" class=\"dataframe\">\n",
       "  <thead>\n",
       "    <tr style=\"text-align: right;\">\n",
       "      <th></th>\n",
       "      <th>name</th>\n",
       "      <th>platform</th>\n",
       "      <th>year_of_release</th>\n",
       "      <th>genre</th>\n",
       "      <th>na_sales</th>\n",
       "      <th>eu_sales</th>\n",
       "      <th>jp_sales</th>\n",
       "      <th>other_sales</th>\n",
       "      <th>critic_score</th>\n",
       "      <th>user_score</th>\n",
       "      <th>rating</th>\n",
       "      <th>all_sales</th>\n",
       "    </tr>\n",
       "  </thead>\n",
       "  <tbody>\n",
       "    <tr>\n",
       "      <th>0</th>\n",
       "      <td>Wii Sports</td>\n",
       "      <td>Wii</td>\n",
       "      <td>2006</td>\n",
       "      <td>Sports</td>\n",
       "      <td>41.36</td>\n",
       "      <td>28.96</td>\n",
       "      <td>3.77</td>\n",
       "      <td>8.45</td>\n",
       "      <td>76.0</td>\n",
       "      <td>8</td>\n",
       "      <td>E</td>\n",
       "      <td>82.54</td>\n",
       "    </tr>\n",
       "    <tr>\n",
       "      <th>2</th>\n",
       "      <td>Mario Kart Wii</td>\n",
       "      <td>Wii</td>\n",
       "      <td>2008</td>\n",
       "      <td>Racing</td>\n",
       "      <td>15.68</td>\n",
       "      <td>12.76</td>\n",
       "      <td>3.79</td>\n",
       "      <td>3.29</td>\n",
       "      <td>82.0</td>\n",
       "      <td>8.3</td>\n",
       "      <td>E</td>\n",
       "      <td>35.52</td>\n",
       "    </tr>\n",
       "    <tr>\n",
       "      <th>3</th>\n",
       "      <td>Wii Sports Resort</td>\n",
       "      <td>Wii</td>\n",
       "      <td>2009</td>\n",
       "      <td>Sports</td>\n",
       "      <td>15.61</td>\n",
       "      <td>10.93</td>\n",
       "      <td>3.28</td>\n",
       "      <td>2.95</td>\n",
       "      <td>80.0</td>\n",
       "      <td>8</td>\n",
       "      <td>E</td>\n",
       "      <td>32.77</td>\n",
       "    </tr>\n",
       "    <tr>\n",
       "      <th>6</th>\n",
       "      <td>New Super Mario Bros.</td>\n",
       "      <td>DS</td>\n",
       "      <td>2006</td>\n",
       "      <td>Platform</td>\n",
       "      <td>11.28</td>\n",
       "      <td>9.14</td>\n",
       "      <td>6.50</td>\n",
       "      <td>2.88</td>\n",
       "      <td>89.0</td>\n",
       "      <td>8.5</td>\n",
       "      <td>E</td>\n",
       "      <td>29.80</td>\n",
       "    </tr>\n",
       "    <tr>\n",
       "      <th>7</th>\n",
       "      <td>Wii Play</td>\n",
       "      <td>Wii</td>\n",
       "      <td>2006</td>\n",
       "      <td>Misc</td>\n",
       "      <td>13.96</td>\n",
       "      <td>9.18</td>\n",
       "      <td>2.93</td>\n",
       "      <td>2.84</td>\n",
       "      <td>58.0</td>\n",
       "      <td>6.6</td>\n",
       "      <td>E</td>\n",
       "      <td>28.91</td>\n",
       "    </tr>\n",
       "    <tr>\n",
       "      <th>...</th>\n",
       "      <td>...</td>\n",
       "      <td>...</td>\n",
       "      <td>...</td>\n",
       "      <td>...</td>\n",
       "      <td>...</td>\n",
       "      <td>...</td>\n",
       "      <td>...</td>\n",
       "      <td>...</td>\n",
       "      <td>...</td>\n",
       "      <td>...</td>\n",
       "      <td>...</td>\n",
       "      <td>...</td>\n",
       "    </tr>\n",
       "    <tr>\n",
       "      <th>16700</th>\n",
       "      <td>Mezase!! Tsuri Master DS</td>\n",
       "      <td>DS</td>\n",
       "      <td>2009</td>\n",
       "      <td>Sports</td>\n",
       "      <td>0.00</td>\n",
       "      <td>0.00</td>\n",
       "      <td>0.01</td>\n",
       "      <td>0.00</td>\n",
       "      <td>NaN</td>\n",
       "      <td>NaN</td>\n",
       "      <td>unknow</td>\n",
       "      <td>0.01</td>\n",
       "    </tr>\n",
       "    <tr>\n",
       "      <th>16704</th>\n",
       "      <td>Plushees</td>\n",
       "      <td>DS</td>\n",
       "      <td>2008</td>\n",
       "      <td>Simulation</td>\n",
       "      <td>0.01</td>\n",
       "      <td>0.00</td>\n",
       "      <td>0.00</td>\n",
       "      <td>0.00</td>\n",
       "      <td>NaN</td>\n",
       "      <td>tbd</td>\n",
       "      <td>E</td>\n",
       "      <td>0.01</td>\n",
       "    </tr>\n",
       "    <tr>\n",
       "      <th>16709</th>\n",
       "      <td>SCORE International Baja 1000: The Official Game</td>\n",
       "      <td>PS2</td>\n",
       "      <td>2008</td>\n",
       "      <td>Racing</td>\n",
       "      <td>0.00</td>\n",
       "      <td>0.00</td>\n",
       "      <td>0.00</td>\n",
       "      <td>0.00</td>\n",
       "      <td>NaN</td>\n",
       "      <td>NaN</td>\n",
       "      <td>unknow</td>\n",
       "      <td>0.00</td>\n",
       "    </tr>\n",
       "    <tr>\n",
       "      <th>16710</th>\n",
       "      <td>Samurai Warriors: Sanada Maru</td>\n",
       "      <td>PS3</td>\n",
       "      <td>2016</td>\n",
       "      <td>Action</td>\n",
       "      <td>0.00</td>\n",
       "      <td>0.00</td>\n",
       "      <td>0.01</td>\n",
       "      <td>0.00</td>\n",
       "      <td>NaN</td>\n",
       "      <td>NaN</td>\n",
       "      <td>unknow</td>\n",
       "      <td>0.01</td>\n",
       "    </tr>\n",
       "    <tr>\n",
       "      <th>16711</th>\n",
       "      <td>LMA Manager 2007</td>\n",
       "      <td>X360</td>\n",
       "      <td>2006</td>\n",
       "      <td>Sports</td>\n",
       "      <td>0.00</td>\n",
       "      <td>0.01</td>\n",
       "      <td>0.00</td>\n",
       "      <td>0.00</td>\n",
       "      <td>NaN</td>\n",
       "      <td>NaN</td>\n",
       "      <td>unknow</td>\n",
       "      <td>0.01</td>\n",
       "    </tr>\n",
       "  </tbody>\n",
       "</table>\n",
       "<p>8225 rows × 12 columns</p>\n",
       "</div>"
      ],
      "text/plain": [
       "                                                   name platform  \\\n",
       "0                                            Wii Sports      Wii   \n",
       "2                                        Mario Kart Wii      Wii   \n",
       "3                                     Wii Sports Resort      Wii   \n",
       "6                                 New Super Mario Bros.       DS   \n",
       "7                                              Wii Play      Wii   \n",
       "...                                                 ...      ...   \n",
       "16700                          Mezase!! Tsuri Master DS       DS   \n",
       "16704                                          Plushees       DS   \n",
       "16709  SCORE International Baja 1000: The Official Game      PS2   \n",
       "16710                     Samurai Warriors: Sanada Maru      PS3   \n",
       "16711                                  LMA Manager 2007     X360   \n",
       "\n",
       "       year_of_release       genre  na_sales  eu_sales  jp_sales  other_sales  \\\n",
       "0                 2006      Sports     41.36     28.96      3.77         8.45   \n",
       "2                 2008      Racing     15.68     12.76      3.79         3.29   \n",
       "3                 2009      Sports     15.61     10.93      3.28         2.95   \n",
       "6                 2006    Platform     11.28      9.14      6.50         2.88   \n",
       "7                 2006        Misc     13.96      9.18      2.93         2.84   \n",
       "...                ...         ...       ...       ...       ...          ...   \n",
       "16700             2009      Sports      0.00      0.00      0.01         0.00   \n",
       "16704             2008  Simulation      0.01      0.00      0.00         0.00   \n",
       "16709             2008      Racing      0.00      0.00      0.00         0.00   \n",
       "16710             2016      Action      0.00      0.00      0.01         0.00   \n",
       "16711             2006      Sports      0.00      0.01      0.00         0.00   \n",
       "\n",
       "       critic_score user_score  rating  all_sales  \n",
       "0              76.0          8       E      82.54  \n",
       "2              82.0        8.3       E      35.52  \n",
       "3              80.0          8       E      32.77  \n",
       "6              89.0        8.5       E      29.80  \n",
       "7              58.0        6.6       E      28.91  \n",
       "...             ...        ...     ...        ...  \n",
       "16700           NaN        NaN  unknow       0.01  \n",
       "16704           NaN        tbd       E       0.01  \n",
       "16709           NaN        NaN  unknow       0.00  \n",
       "16710           NaN        NaN  unknow       0.01  \n",
       "16711           NaN        NaN  unknow       0.01  \n",
       "\n",
       "[8225 rows x 12 columns]"
      ]
     },
     "execution_count": 18,
     "metadata": {},
     "output_type": "execute_result"
    }
   ],
   "source": [
    "# создадим таблицу с данными только по топ платформам\n",
    "df_top_platform = df.query('platform in @top_platform.index')\n",
    "df_top_platform"
   ]
  },
  {
   "cell_type": "code",
   "execution_count": 19,
   "metadata": {},
   "outputs": [
    {
     "data": {
      "image/png": "[encoded data removed]",
      "text/plain": [
       "<Figure size 576x432 with 1 Axes>"
      ]
     },
     "metadata": {
      "needs_background": "light"
     },
     "output_type": "display_data"
    }
   ],
   "source": [
    "# построим график распределения суммарных продаж по годам\n",
    "df_top_platform.pivot_table(index='year_of_release',columns='platform',values='all_sales',aggfunc='sum').plot(figsize=(8,6))\n",
    "plt.ylabel('all_sales')\n",
    "plt.show()"
   ]
  },
  {
   "cell_type": "code",
   "execution_count": 20,
   "metadata": {},
   "outputs": [
    {
     "data": {
      "image/png": "[encoded data removed]",
      "text/plain": [
       "<Figure size 864x432 with 1 Axes>"
      ]
     },
     "metadata": {
      "needs_background": "light"
     },
     "output_type": "display_data"
    }
   ],
   "source": [
    "# построим график распределения суммарных продаж по годам\n",
    "df_top_platform.pivot_table(index='year_of_release',columns='platform',values='all_sales',aggfunc='sum').plot(figsize=(12,6))\n",
    "plt.ylabel('all_sales')\n",
    "plt.xlim(1999,2016)\n",
    "plt.show()"
   ]
  },
  {
   "cell_type": "code",
   "execution_count": 21,
   "metadata": {},
   "outputs": [
    {
     "data": {
      "text/html": [
       "<div>\n",
       "<style scoped>\n",
       "    .dataframe tbody tr th:only-of-type {\n",
       "        vertical-align: middle;\n",
       "    }\n",
       "\n",
       "    .dataframe tbody tr th {\n",
       "        vertical-align: top;\n",
       "    }\n",
       "\n",
       "    .dataframe thead th {\n",
       "        text-align: right;\n",
       "    }\n",
       "</style>\n",
       "<table border=\"1\" class=\"dataframe\">\n",
       "  <thead>\n",
       "    <tr style=\"text-align: right;\">\n",
       "      <th></th>\n",
       "      <th>min_year</th>\n",
       "      <th>max_year</th>\n",
       "    </tr>\n",
       "    <tr>\n",
       "      <th>platform</th>\n",
       "      <th></th>\n",
       "      <th></th>\n",
       "    </tr>\n",
       "  </thead>\n",
       "  <tbody>\n",
       "    <tr>\n",
       "      <th>2600</th>\n",
       "      <td>1980</td>\n",
       "      <td>1989</td>\n",
       "    </tr>\n",
       "    <tr>\n",
       "      <th>3DO</th>\n",
       "      <td>1994</td>\n",
       "      <td>1995</td>\n",
       "    </tr>\n",
       "    <tr>\n",
       "      <th>3DS</th>\n",
       "      <td>2011</td>\n",
       "      <td>2016</td>\n",
       "    </tr>\n",
       "    <tr>\n",
       "      <th>DC</th>\n",
       "      <td>1998</td>\n",
       "      <td>2008</td>\n",
       "    </tr>\n",
       "    <tr>\n",
       "      <th>DS</th>\n",
       "      <td>1985</td>\n",
       "      <td>2013</td>\n",
       "    </tr>\n",
       "  </tbody>\n",
       "</table>\n",
       "</div>"
      ],
      "text/plain": [
       "          min_year  max_year\n",
       "platform                    \n",
       "2600          1980      1989\n",
       "3DO           1994      1995\n",
       "3DS           2011      2016\n",
       "DC            1998      2008\n",
       "DS            1985      2013"
      ]
     },
     "execution_count": 21,
     "metadata": {},
     "output_type": "execute_result"
    }
   ],
   "source": [
    "# создадим таблицу с минимальным и максимальным годом упоминания платформы\n",
    "df_years = df[['platform','year_of_release']]\n",
    "df_years = df_years.pivot_table(index='platform', values='year_of_release',aggfunc=['min','max'])\n",
    "df_years.columns = ['min_year','max_year']\n",
    "df_years.head()"
   ]
  },
  {
   "cell_type": "code",
   "execution_count": 22,
   "metadata": {},
   "outputs": [
    {
     "data": {
      "text/html": [
       "<div>\n",
       "<style scoped>\n",
       "    .dataframe tbody tr th:only-of-type {\n",
       "        vertical-align: middle;\n",
       "    }\n",
       "\n",
       "    .dataframe tbody tr th {\n",
       "        vertical-align: top;\n",
       "    }\n",
       "\n",
       "    .dataframe thead th {\n",
       "        text-align: right;\n",
       "    }\n",
       "</style>\n",
       "<table border=\"1\" class=\"dataframe\">\n",
       "  <thead>\n",
       "    <tr style=\"text-align: right;\">\n",
       "      <th></th>\n",
       "      <th>platform</th>\n",
       "      <th>min_year</th>\n",
       "      <th>max_year</th>\n",
       "      <th>duration</th>\n",
       "    </tr>\n",
       "  </thead>\n",
       "  <tbody>\n",
       "    <tr>\n",
       "      <th>0</th>\n",
       "      <td>2600</td>\n",
       "      <td>1980</td>\n",
       "      <td>1989</td>\n",
       "      <td>9</td>\n",
       "    </tr>\n",
       "    <tr>\n",
       "      <th>1</th>\n",
       "      <td>3DO</td>\n",
       "      <td>1994</td>\n",
       "      <td>1995</td>\n",
       "      <td>1</td>\n",
       "    </tr>\n",
       "    <tr>\n",
       "      <th>2</th>\n",
       "      <td>3DS</td>\n",
       "      <td>2011</td>\n",
       "      <td>2016</td>\n",
       "      <td>5</td>\n",
       "    </tr>\n",
       "    <tr>\n",
       "      <th>3</th>\n",
       "      <td>DC</td>\n",
       "      <td>1998</td>\n",
       "      <td>2008</td>\n",
       "      <td>10</td>\n",
       "    </tr>\n",
       "    <tr>\n",
       "      <th>4</th>\n",
       "      <td>DS</td>\n",
       "      <td>1985</td>\n",
       "      <td>2013</td>\n",
       "      <td>28</td>\n",
       "    </tr>\n",
       "  </tbody>\n",
       "</table>\n",
       "</div>"
      ],
      "text/plain": [
       "  platform  min_year  max_year  duration\n",
       "0     2600      1980      1989         9\n",
       "1      3DO      1994      1995         1\n",
       "2      3DS      2011      2016         5\n",
       "3       DC      1998      2008        10\n",
       "4       DS      1985      2013        28"
      ]
     },
     "execution_count": 22,
     "metadata": {},
     "output_type": "execute_result"
    }
   ],
   "source": [
    "# рассчитаем и добавим в таблицу значение продолжительности лет работы платформы\n",
    "df_years['duration'] = df_years['max_year'] - df_years['min_year']\n",
    "df_years.reset_index(inplace=True)\n",
    "df_years.head()"
   ]
  },
  {
   "cell_type": "code",
   "execution_count": 23,
   "metadata": {},
   "outputs": [
    {
     "name": "stdout",
     "output_type": "stream",
     "text": [
      "Средняя продолжительность лет работы платформы: 7.61\n",
      "Медианная продолжительность лет работы платформы: 6.0\n",
      "Минимальная продолжительность лет работы платформы: 0\n",
      "Максимальная продолжительность лет работы платформы: 31\n"
     ]
    }
   ],
   "source": [
    "# найдем среднюю,медианную,минимальную и максимальную продолжительность лет работы платформ\n",
    "print('Средняя продолжительность лет работы платформы:',df_years['duration'].mean().round(2))\n",
    "print('Медианная продолжительность лет работы платформы:',df_years['duration'].median())\n",
    "print('Минимальная продолжительность лет работы платформы:',min(df_years['duration']))\n",
    "print('Максимальная продолжительность лет работы платформы:',max(df_years['duration']))"
   ]
  },
  {
   "cell_type": "code",
   "execution_count": 24,
   "metadata": {},
   "outputs": [
    {
     "data": {
      "text/html": [
       "<div>\n",
       "<style scoped>\n",
       "    .dataframe tbody tr th:only-of-type {\n",
       "        vertical-align: middle;\n",
       "    }\n",
       "\n",
       "    .dataframe tbody tr th {\n",
       "        vertical-align: top;\n",
       "    }\n",
       "\n",
       "    .dataframe thead th {\n",
       "        text-align: right;\n",
       "    }\n",
       "</style>\n",
       "<table border=\"1\" class=\"dataframe\">\n",
       "  <thead>\n",
       "    <tr style=\"text-align: right;\">\n",
       "      <th></th>\n",
       "      <th>name</th>\n",
       "      <th>platform</th>\n",
       "      <th>year_of_release</th>\n",
       "      <th>genre</th>\n",
       "      <th>na_sales</th>\n",
       "      <th>eu_sales</th>\n",
       "      <th>jp_sales</th>\n",
       "      <th>other_sales</th>\n",
       "      <th>critic_score</th>\n",
       "      <th>user_score</th>\n",
       "      <th>rating</th>\n",
       "      <th>all_sales</th>\n",
       "    </tr>\n",
       "  </thead>\n",
       "  <tbody>\n",
       "    <tr>\n",
       "      <th>0</th>\n",
       "      <td>Grand Theft Auto V</td>\n",
       "      <td>PS3</td>\n",
       "      <td>2013</td>\n",
       "      <td>Action</td>\n",
       "      <td>7.02</td>\n",
       "      <td>9.09</td>\n",
       "      <td>0.98</td>\n",
       "      <td>3.96</td>\n",
       "      <td>97.0</td>\n",
       "      <td>8.2</td>\n",
       "      <td>M</td>\n",
       "      <td>21.05</td>\n",
       "    </tr>\n",
       "    <tr>\n",
       "      <th>1</th>\n",
       "      <td>Grand Theft Auto V</td>\n",
       "      <td>X360</td>\n",
       "      <td>2013</td>\n",
       "      <td>Action</td>\n",
       "      <td>9.66</td>\n",
       "      <td>5.14</td>\n",
       "      <td>0.06</td>\n",
       "      <td>1.41</td>\n",
       "      <td>97.0</td>\n",
       "      <td>8.1</td>\n",
       "      <td>M</td>\n",
       "      <td>16.27</td>\n",
       "    </tr>\n",
       "    <tr>\n",
       "      <th>2</th>\n",
       "      <td>Call of Duty: Modern Warfare 3</td>\n",
       "      <td>X360</td>\n",
       "      <td>2011</td>\n",
       "      <td>Shooter</td>\n",
       "      <td>9.04</td>\n",
       "      <td>4.24</td>\n",
       "      <td>0.13</td>\n",
       "      <td>1.32</td>\n",
       "      <td>88.0</td>\n",
       "      <td>3.4</td>\n",
       "      <td>M</td>\n",
       "      <td>14.73</td>\n",
       "    </tr>\n",
       "    <tr>\n",
       "      <th>3</th>\n",
       "      <td>Call of Duty: Black Ops 3</td>\n",
       "      <td>PS4</td>\n",
       "      <td>2015</td>\n",
       "      <td>Shooter</td>\n",
       "      <td>6.03</td>\n",
       "      <td>5.86</td>\n",
       "      <td>0.36</td>\n",
       "      <td>2.38</td>\n",
       "      <td>NaN</td>\n",
       "      <td>NaN</td>\n",
       "      <td>unknow</td>\n",
       "      <td>14.63</td>\n",
       "    </tr>\n",
       "    <tr>\n",
       "      <th>4</th>\n",
       "      <td>Pokemon X/Pokemon Y</td>\n",
       "      <td>3DS</td>\n",
       "      <td>2013</td>\n",
       "      <td>Role-Playing</td>\n",
       "      <td>5.28</td>\n",
       "      <td>4.19</td>\n",
       "      <td>4.35</td>\n",
       "      <td>0.78</td>\n",
       "      <td>NaN</td>\n",
       "      <td>NaN</td>\n",
       "      <td>unknow</td>\n",
       "      <td>14.60</td>\n",
       "    </tr>\n",
       "    <tr>\n",
       "      <th>5</th>\n",
       "      <td>Call of Duty: Black Ops II</td>\n",
       "      <td>PS3</td>\n",
       "      <td>2012</td>\n",
       "      <td>Shooter</td>\n",
       "      <td>4.99</td>\n",
       "      <td>5.73</td>\n",
       "      <td>0.65</td>\n",
       "      <td>2.42</td>\n",
       "      <td>83.0</td>\n",
       "      <td>5.3</td>\n",
       "      <td>M</td>\n",
       "      <td>13.79</td>\n",
       "    </tr>\n",
       "    <tr>\n",
       "      <th>6</th>\n",
       "      <td>Call of Duty: Black Ops II</td>\n",
       "      <td>X360</td>\n",
       "      <td>2012</td>\n",
       "      <td>Shooter</td>\n",
       "      <td>8.25</td>\n",
       "      <td>4.24</td>\n",
       "      <td>0.07</td>\n",
       "      <td>1.12</td>\n",
       "      <td>83.0</td>\n",
       "      <td>4.8</td>\n",
       "      <td>M</td>\n",
       "      <td>13.68</td>\n",
       "    </tr>\n",
       "    <tr>\n",
       "      <th>7</th>\n",
       "      <td>Call of Duty: Modern Warfare 3</td>\n",
       "      <td>PS3</td>\n",
       "      <td>2011</td>\n",
       "      <td>Shooter</td>\n",
       "      <td>5.54</td>\n",
       "      <td>5.73</td>\n",
       "      <td>0.49</td>\n",
       "      <td>1.57</td>\n",
       "      <td>88.0</td>\n",
       "      <td>3.2</td>\n",
       "      <td>M</td>\n",
       "      <td>13.33</td>\n",
       "    </tr>\n",
       "    <tr>\n",
       "      <th>8</th>\n",
       "      <td>Mario Kart 7</td>\n",
       "      <td>3DS</td>\n",
       "      <td>2011</td>\n",
       "      <td>Racing</td>\n",
       "      <td>5.03</td>\n",
       "      <td>4.02</td>\n",
       "      <td>2.69</td>\n",
       "      <td>0.91</td>\n",
       "      <td>85.0</td>\n",
       "      <td>8.2</td>\n",
       "      <td>E</td>\n",
       "      <td>12.65</td>\n",
       "    </tr>\n",
       "    <tr>\n",
       "      <th>9</th>\n",
       "      <td>Grand Theft Auto V</td>\n",
       "      <td>PS4</td>\n",
       "      <td>2014</td>\n",
       "      <td>Action</td>\n",
       "      <td>3.96</td>\n",
       "      <td>6.31</td>\n",
       "      <td>0.38</td>\n",
       "      <td>1.97</td>\n",
       "      <td>97.0</td>\n",
       "      <td>8.3</td>\n",
       "      <td>M</td>\n",
       "      <td>12.62</td>\n",
       "    </tr>\n",
       "  </tbody>\n",
       "</table>\n",
       "</div>"
      ],
      "text/plain": [
       "                             name platform  year_of_release         genre  \\\n",
       "0              Grand Theft Auto V      PS3             2013        Action   \n",
       "1              Grand Theft Auto V     X360             2013        Action   \n",
       "2  Call of Duty: Modern Warfare 3     X360             2011       Shooter   \n",
       "3       Call of Duty: Black Ops 3      PS4             2015       Shooter   \n",
       "4             Pokemon X/Pokemon Y      3DS             2013  Role-Playing   \n",
       "5      Call of Duty: Black Ops II      PS3             2012       Shooter   \n",
       "6      Call of Duty: Black Ops II     X360             2012       Shooter   \n",
       "7  Call of Duty: Modern Warfare 3      PS3             2011       Shooter   \n",
       "8                    Mario Kart 7      3DS             2011        Racing   \n",
       "9              Grand Theft Auto V      PS4             2014        Action   \n",
       "\n",
       "   na_sales  eu_sales  jp_sales  other_sales  critic_score user_score  rating  \\\n",
       "0      7.02      9.09      0.98         3.96          97.0        8.2       M   \n",
       "1      9.66      5.14      0.06         1.41          97.0        8.1       M   \n",
       "2      9.04      4.24      0.13         1.32          88.0        3.4       M   \n",
       "3      6.03      5.86      0.36         2.38           NaN        NaN  unknow   \n",
       "4      5.28      4.19      4.35         0.78           NaN        NaN  unknow   \n",
       "5      4.99      5.73      0.65         2.42          83.0        5.3       M   \n",
       "6      8.25      4.24      0.07         1.12          83.0        4.8       M   \n",
       "7      5.54      5.73      0.49         1.57          88.0        3.2       M   \n",
       "8      5.03      4.02      2.69         0.91          85.0        8.2       E   \n",
       "9      3.96      6.31      0.38         1.97          97.0        8.3       M   \n",
       "\n",
       "   all_sales  \n",
       "0      21.05  \n",
       "1      16.27  \n",
       "2      14.73  \n",
       "3      14.63  \n",
       "4      14.60  \n",
       "5      13.79  \n",
       "6      13.68  \n",
       "7      13.33  \n",
       "8      12.65  \n",
       "9      12.62  "
      ]
     },
     "execution_count": 24,
     "metadata": {},
     "output_type": "execute_result"
    }
   ],
   "source": [
    "# создадим таблицу содержащую данные за актуальный период, на основе которых можно построить прогноз на 2017 год.\n",
    "df_actual = df.query('year_of_release > 2010')\n",
    "df_actual = df_actual.reset_index(drop=True)\n",
    "df_actual.head(10)"
   ]
  },
  {
   "cell_type": "markdown",
   "metadata": {},
   "source": [
    "Ранее мы строили график распределения суммарных продаж по годам для пяти топ платформ с наибольшим суммарным количеством продаж.Построим и детально проанализируем график для всех платформ в актуальном периоде. "
   ]
  },
  {
   "cell_type": "code",
   "execution_count": 25,
   "metadata": {},
   "outputs": [
    {
     "data": {
      "image/png": "[encoded data removed]",
      "text/plain": [
       "<Figure size 1008x576 with 1 Axes>"
      ]
     },
     "metadata": {
      "needs_background": "light"
     },
     "output_type": "display_data"
    }
   ],
   "source": [
    "# построим график распределения суммарных продаж по годам\n",
    "df_actual.pivot_table(index='year_of_release',columns='platform',values='all_sales',aggfunc='sum').plot(style='o-',figsize=(14,8))\n",
    "plt.ylabel('all_sales')\n",
    "plt.show()"
   ]
  },
  {
   "cell_type": "markdown",
   "metadata": {},
   "source": [
    "График иллюстрирует снижение общих продаж каждой платформы на рынке в течении последних 6 лет. Тем неменее, есть две платформы графики которых выбиваются из общей закономерности, платформы \"PS4\" и \"XOne\" показывают рост продаж в период с 2013 по 2015 год, в 2016 продажи платформ снижаются, как и у остальных платформ , однако темпы снижения продаж менее высоки относительно рынка."
   ]
  },
  {
   "cell_type": "code",
   "execution_count": 26,
   "metadata": {},
   "outputs": [
    {
     "data": {
      "text/html": [
       "<div>\n",
       "<style scoped>\n",
       "    .dataframe tbody tr th:only-of-type {\n",
       "        vertical-align: middle;\n",
       "    }\n",
       "\n",
       "    .dataframe tbody tr th {\n",
       "        vertical-align: top;\n",
       "    }\n",
       "\n",
       "    .dataframe thead th {\n",
       "        text-align: right;\n",
       "    }\n",
       "</style>\n",
       "<table border=\"1\" class=\"dataframe\">\n",
       "  <thead>\n",
       "    <tr style=\"text-align: right;\">\n",
       "      <th></th>\n",
       "      <th>platform</th>\n",
       "      <th>2011_sales</th>\n",
       "      <th>2012_sales</th>\n",
       "      <th>2013_sales</th>\n",
       "      <th>2014_sales</th>\n",
       "      <th>2015_sales</th>\n",
       "      <th>2016_sales</th>\n",
       "    </tr>\n",
       "  </thead>\n",
       "  <tbody>\n",
       "    <tr>\n",
       "      <th>0</th>\n",
       "      <td>3DS</td>\n",
       "      <td>63.20</td>\n",
       "      <td>51.36</td>\n",
       "      <td>56.57</td>\n",
       "      <td>43.76</td>\n",
       "      <td>27.78</td>\n",
       "      <td>15.14</td>\n",
       "    </tr>\n",
       "    <tr>\n",
       "      <th>1</th>\n",
       "      <td>DS</td>\n",
       "      <td>26.18</td>\n",
       "      <td>11.01</td>\n",
       "      <td>1.54</td>\n",
       "      <td>NaN</td>\n",
       "      <td>NaN</td>\n",
       "      <td>NaN</td>\n",
       "    </tr>\n",
       "    <tr>\n",
       "      <th>2</th>\n",
       "      <td>PC</td>\n",
       "      <td>35.03</td>\n",
       "      <td>23.22</td>\n",
       "      <td>12.38</td>\n",
       "      <td>13.28</td>\n",
       "      <td>8.52</td>\n",
       "      <td>5.25</td>\n",
       "    </tr>\n",
       "    <tr>\n",
       "      <th>3</th>\n",
       "      <td>PS2</td>\n",
       "      <td>0.45</td>\n",
       "      <td>NaN</td>\n",
       "      <td>NaN</td>\n",
       "      <td>NaN</td>\n",
       "      <td>NaN</td>\n",
       "      <td>NaN</td>\n",
       "    </tr>\n",
       "    <tr>\n",
       "      <th>4</th>\n",
       "      <td>PS3</td>\n",
       "      <td>156.78</td>\n",
       "      <td>107.36</td>\n",
       "      <td>113.25</td>\n",
       "      <td>47.76</td>\n",
       "      <td>16.82</td>\n",
       "      <td>3.60</td>\n",
       "    </tr>\n",
       "  </tbody>\n",
       "</table>\n",
       "</div>"
      ],
      "text/plain": [
       "  platform  2011_sales  2012_sales  2013_sales  2014_sales  2015_sales  \\\n",
       "0      3DS       63.20       51.36       56.57       43.76       27.78   \n",
       "1       DS       26.18       11.01        1.54         NaN         NaN   \n",
       "2       PC       35.03       23.22       12.38       13.28        8.52   \n",
       "3      PS2        0.45         NaN         NaN         NaN         NaN   \n",
       "4      PS3      156.78      107.36      113.25       47.76       16.82   \n",
       "\n",
       "   2016_sales  \n",
       "0       15.14  \n",
       "1         NaN  \n",
       "2        5.25  \n",
       "3         NaN  \n",
       "4        3.60  "
      ]
     },
     "execution_count": 26,
     "metadata": {},
     "output_type": "execute_result"
    }
   ],
   "source": [
    "# создадим таблицу с распределением продаж по годам \n",
    "actual_all_sales = df_actual.pivot_table(index='platform',columns='year_of_release',values='all_sales',aggfunc='sum')\n",
    "actual_all_sales.reset_index(inplace=True)\n",
    "actual_all_sales.columns = ['platform','2011_sales','2012_sales','2013_sales','2014_sales','2015_sales','2016_sales']\n",
    "actual_all_sales.head()"
   ]
  },
  {
   "cell_type": "code",
   "execution_count": 27,
   "metadata": {},
   "outputs": [],
   "source": [
    "actual_all_sales = actual_all_sales.fillna(0)"
   ]
  },
  {
   "cell_type": "code",
   "execution_count": 28,
   "metadata": {},
   "outputs": [
    {
     "data": {
      "text/html": [
       "<div>\n",
       "<style scoped>\n",
       "    .dataframe tbody tr th:only-of-type {\n",
       "        vertical-align: middle;\n",
       "    }\n",
       "\n",
       "    .dataframe tbody tr th {\n",
       "        vertical-align: top;\n",
       "    }\n",
       "\n",
       "    .dataframe thead th {\n",
       "        text-align: right;\n",
       "    }\n",
       "</style>\n",
       "<table border=\"1\" class=\"dataframe\">\n",
       "  <thead>\n",
       "    <tr style=\"text-align: right;\">\n",
       "      <th></th>\n",
       "      <th>platform</th>\n",
       "      <th>2011_sales</th>\n",
       "      <th>2012_sales</th>\n",
       "      <th>2013_sales</th>\n",
       "      <th>2014_sales</th>\n",
       "      <th>2015_sales</th>\n",
       "      <th>2016_sales</th>\n",
       "      <th>total_sales</th>\n",
       "    </tr>\n",
       "  </thead>\n",
       "  <tbody>\n",
       "    <tr>\n",
       "      <th>0</th>\n",
       "      <td>PS3</td>\n",
       "      <td>156.78</td>\n",
       "      <td>107.36</td>\n",
       "      <td>113.25</td>\n",
       "      <td>47.76</td>\n",
       "      <td>16.82</td>\n",
       "      <td>3.60</td>\n",
       "      <td>445.57</td>\n",
       "    </tr>\n",
       "    <tr>\n",
       "      <th>1</th>\n",
       "      <td>X360</td>\n",
       "      <td>143.84</td>\n",
       "      <td>99.74</td>\n",
       "      <td>88.58</td>\n",
       "      <td>34.74</td>\n",
       "      <td>11.96</td>\n",
       "      <td>1.52</td>\n",
       "      <td>380.38</td>\n",
       "    </tr>\n",
       "    <tr>\n",
       "      <th>2</th>\n",
       "      <td>PS4</td>\n",
       "      <td>0.00</td>\n",
       "      <td>0.00</td>\n",
       "      <td>25.99</td>\n",
       "      <td>100.00</td>\n",
       "      <td>118.90</td>\n",
       "      <td>69.25</td>\n",
       "      <td>314.14</td>\n",
       "    </tr>\n",
       "    <tr>\n",
       "      <th>3</th>\n",
       "      <td>3DS</td>\n",
       "      <td>63.20</td>\n",
       "      <td>51.36</td>\n",
       "      <td>56.57</td>\n",
       "      <td>43.76</td>\n",
       "      <td>27.78</td>\n",
       "      <td>15.14</td>\n",
       "      <td>257.81</td>\n",
       "    </tr>\n",
       "    <tr>\n",
       "      <th>4</th>\n",
       "      <td>XOne</td>\n",
       "      <td>0.00</td>\n",
       "      <td>0.00</td>\n",
       "      <td>18.96</td>\n",
       "      <td>54.07</td>\n",
       "      <td>60.14</td>\n",
       "      <td>26.15</td>\n",
       "      <td>159.32</td>\n",
       "    </tr>\n",
       "    <tr>\n",
       "      <th>5</th>\n",
       "      <td>PC</td>\n",
       "      <td>35.03</td>\n",
       "      <td>23.22</td>\n",
       "      <td>12.38</td>\n",
       "      <td>13.28</td>\n",
       "      <td>8.52</td>\n",
       "      <td>5.25</td>\n",
       "      <td>97.68</td>\n",
       "    </tr>\n",
       "    <tr>\n",
       "      <th>6</th>\n",
       "      <td>Wii</td>\n",
       "      <td>59.65</td>\n",
       "      <td>21.71</td>\n",
       "      <td>8.59</td>\n",
       "      <td>3.75</td>\n",
       "      <td>1.14</td>\n",
       "      <td>0.18</td>\n",
       "      <td>95.02</td>\n",
       "    </tr>\n",
       "    <tr>\n",
       "      <th>7</th>\n",
       "      <td>WiiU</td>\n",
       "      <td>0.00</td>\n",
       "      <td>17.56</td>\n",
       "      <td>21.65</td>\n",
       "      <td>22.03</td>\n",
       "      <td>16.35</td>\n",
       "      <td>4.60</td>\n",
       "      <td>82.19</td>\n",
       "    </tr>\n",
       "    <tr>\n",
       "      <th>8</th>\n",
       "      <td>PSV</td>\n",
       "      <td>4.63</td>\n",
       "      <td>16.19</td>\n",
       "      <td>10.59</td>\n",
       "      <td>11.90</td>\n",
       "      <td>6.25</td>\n",
       "      <td>4.25</td>\n",
       "      <td>53.81</td>\n",
       "    </tr>\n",
       "    <tr>\n",
       "      <th>9</th>\n",
       "      <td>DS</td>\n",
       "      <td>26.18</td>\n",
       "      <td>11.01</td>\n",
       "      <td>1.54</td>\n",
       "      <td>0.00</td>\n",
       "      <td>0.00</td>\n",
       "      <td>0.00</td>\n",
       "      <td>38.73</td>\n",
       "    </tr>\n",
       "    <tr>\n",
       "      <th>10</th>\n",
       "      <td>PSP</td>\n",
       "      <td>17.82</td>\n",
       "      <td>7.69</td>\n",
       "      <td>3.14</td>\n",
       "      <td>0.24</td>\n",
       "      <td>0.12</td>\n",
       "      <td>0.00</td>\n",
       "      <td>29.01</td>\n",
       "    </tr>\n",
       "    <tr>\n",
       "      <th>11</th>\n",
       "      <td>PS2</td>\n",
       "      <td>0.45</td>\n",
       "      <td>0.00</td>\n",
       "      <td>0.00</td>\n",
       "      <td>0.00</td>\n",
       "      <td>0.00</td>\n",
       "      <td>0.00</td>\n",
       "      <td>0.45</td>\n",
       "    </tr>\n",
       "  </tbody>\n",
       "</table>\n",
       "</div>"
      ],
      "text/plain": [
       "   platform  2011_sales  2012_sales  2013_sales  2014_sales  2015_sales  \\\n",
       "0       PS3      156.78      107.36      113.25       47.76       16.82   \n",
       "1      X360      143.84       99.74       88.58       34.74       11.96   \n",
       "2       PS4        0.00        0.00       25.99      100.00      118.90   \n",
       "3       3DS       63.20       51.36       56.57       43.76       27.78   \n",
       "4      XOne        0.00        0.00       18.96       54.07       60.14   \n",
       "5        PC       35.03       23.22       12.38       13.28        8.52   \n",
       "6       Wii       59.65       21.71        8.59        3.75        1.14   \n",
       "7      WiiU        0.00       17.56       21.65       22.03       16.35   \n",
       "8       PSV        4.63       16.19       10.59       11.90        6.25   \n",
       "9        DS       26.18       11.01        1.54        0.00        0.00   \n",
       "10      PSP       17.82        7.69        3.14        0.24        0.12   \n",
       "11      PS2        0.45        0.00        0.00        0.00        0.00   \n",
       "\n",
       "    2016_sales  total_sales  \n",
       "0         3.60       445.57  \n",
       "1         1.52       380.38  \n",
       "2        69.25       314.14  \n",
       "3        15.14       257.81  \n",
       "4        26.15       159.32  \n",
       "5         5.25        97.68  \n",
       "6         0.18        95.02  \n",
       "7         4.60        82.19  \n",
       "8         4.25        53.81  \n",
       "9         0.00        38.73  \n",
       "10        0.00        29.01  \n",
       "11        0.00         0.45  "
      ]
     },
     "metadata": {},
     "output_type": "display_data"
    },
    {
     "data": {
      "text/html": [
       "<div>\n",
       "<style scoped>\n",
       "    .dataframe tbody tr th:only-of-type {\n",
       "        vertical-align: middle;\n",
       "    }\n",
       "\n",
       "    .dataframe tbody tr th {\n",
       "        vertical-align: top;\n",
       "    }\n",
       "\n",
       "    .dataframe thead th {\n",
       "        text-align: right;\n",
       "    }\n",
       "</style>\n",
       "<table border=\"1\" class=\"dataframe\">\n",
       "  <thead>\n",
       "    <tr style=\"text-align: right;\">\n",
       "      <th></th>\n",
       "      <th>platform</th>\n",
       "      <th>2011_sales</th>\n",
       "      <th>2012_sales</th>\n",
       "      <th>2013_sales</th>\n",
       "      <th>2014_sales</th>\n",
       "      <th>2015_sales</th>\n",
       "      <th>2016_sales</th>\n",
       "      <th>total_sales</th>\n",
       "    </tr>\n",
       "  </thead>\n",
       "  <tbody>\n",
       "    <tr>\n",
       "      <th>5</th>\n",
       "      <td>PS4</td>\n",
       "      <td>0.00</td>\n",
       "      <td>0.00</td>\n",
       "      <td>25.99</td>\n",
       "      <td>100.00</td>\n",
       "      <td>118.90</td>\n",
       "      <td>69.25</td>\n",
       "      <td>314.14</td>\n",
       "    </tr>\n",
       "    <tr>\n",
       "      <th>11</th>\n",
       "      <td>XOne</td>\n",
       "      <td>0.00</td>\n",
       "      <td>0.00</td>\n",
       "      <td>18.96</td>\n",
       "      <td>54.07</td>\n",
       "      <td>60.14</td>\n",
       "      <td>26.15</td>\n",
       "      <td>159.32</td>\n",
       "    </tr>\n",
       "    <tr>\n",
       "      <th>0</th>\n",
       "      <td>3DS</td>\n",
       "      <td>63.20</td>\n",
       "      <td>51.36</td>\n",
       "      <td>56.57</td>\n",
       "      <td>43.76</td>\n",
       "      <td>27.78</td>\n",
       "      <td>15.14</td>\n",
       "      <td>257.81</td>\n",
       "    </tr>\n",
       "    <tr>\n",
       "      <th>2</th>\n",
       "      <td>PC</td>\n",
       "      <td>35.03</td>\n",
       "      <td>23.22</td>\n",
       "      <td>12.38</td>\n",
       "      <td>13.28</td>\n",
       "      <td>8.52</td>\n",
       "      <td>5.25</td>\n",
       "      <td>97.68</td>\n",
       "    </tr>\n",
       "    <tr>\n",
       "      <th>9</th>\n",
       "      <td>WiiU</td>\n",
       "      <td>0.00</td>\n",
       "      <td>17.56</td>\n",
       "      <td>21.65</td>\n",
       "      <td>22.03</td>\n",
       "      <td>16.35</td>\n",
       "      <td>4.60</td>\n",
       "      <td>82.19</td>\n",
       "    </tr>\n",
       "    <tr>\n",
       "      <th>7</th>\n",
       "      <td>PSV</td>\n",
       "      <td>4.63</td>\n",
       "      <td>16.19</td>\n",
       "      <td>10.59</td>\n",
       "      <td>11.90</td>\n",
       "      <td>6.25</td>\n",
       "      <td>4.25</td>\n",
       "      <td>53.81</td>\n",
       "    </tr>\n",
       "    <tr>\n",
       "      <th>4</th>\n",
       "      <td>PS3</td>\n",
       "      <td>156.78</td>\n",
       "      <td>107.36</td>\n",
       "      <td>113.25</td>\n",
       "      <td>47.76</td>\n",
       "      <td>16.82</td>\n",
       "      <td>3.60</td>\n",
       "      <td>445.57</td>\n",
       "    </tr>\n",
       "    <tr>\n",
       "      <th>10</th>\n",
       "      <td>X360</td>\n",
       "      <td>143.84</td>\n",
       "      <td>99.74</td>\n",
       "      <td>88.58</td>\n",
       "      <td>34.74</td>\n",
       "      <td>11.96</td>\n",
       "      <td>1.52</td>\n",
       "      <td>380.38</td>\n",
       "    </tr>\n",
       "    <tr>\n",
       "      <th>8</th>\n",
       "      <td>Wii</td>\n",
       "      <td>59.65</td>\n",
       "      <td>21.71</td>\n",
       "      <td>8.59</td>\n",
       "      <td>3.75</td>\n",
       "      <td>1.14</td>\n",
       "      <td>0.18</td>\n",
       "      <td>95.02</td>\n",
       "    </tr>\n",
       "    <tr>\n",
       "      <th>1</th>\n",
       "      <td>DS</td>\n",
       "      <td>26.18</td>\n",
       "      <td>11.01</td>\n",
       "      <td>1.54</td>\n",
       "      <td>0.00</td>\n",
       "      <td>0.00</td>\n",
       "      <td>0.00</td>\n",
       "      <td>38.73</td>\n",
       "    </tr>\n",
       "    <tr>\n",
       "      <th>6</th>\n",
       "      <td>PSP</td>\n",
       "      <td>17.82</td>\n",
       "      <td>7.69</td>\n",
       "      <td>3.14</td>\n",
       "      <td>0.24</td>\n",
       "      <td>0.12</td>\n",
       "      <td>0.00</td>\n",
       "      <td>29.01</td>\n",
       "    </tr>\n",
       "    <tr>\n",
       "      <th>3</th>\n",
       "      <td>PS2</td>\n",
       "      <td>0.45</td>\n",
       "      <td>0.00</td>\n",
       "      <td>0.00</td>\n",
       "      <td>0.00</td>\n",
       "      <td>0.00</td>\n",
       "      <td>0.00</td>\n",
       "      <td>0.45</td>\n",
       "    </tr>\n",
       "  </tbody>\n",
       "</table>\n",
       "</div>"
      ],
      "text/plain": [
       "   platform  2011_sales  2012_sales  2013_sales  2014_sales  2015_sales  \\\n",
       "5       PS4        0.00        0.00       25.99      100.00      118.90   \n",
       "11     XOne        0.00        0.00       18.96       54.07       60.14   \n",
       "0       3DS       63.20       51.36       56.57       43.76       27.78   \n",
       "2        PC       35.03       23.22       12.38       13.28        8.52   \n",
       "9      WiiU        0.00       17.56       21.65       22.03       16.35   \n",
       "7       PSV        4.63       16.19       10.59       11.90        6.25   \n",
       "4       PS3      156.78      107.36      113.25       47.76       16.82   \n",
       "10     X360      143.84       99.74       88.58       34.74       11.96   \n",
       "8       Wii       59.65       21.71        8.59        3.75        1.14   \n",
       "1        DS       26.18       11.01        1.54        0.00        0.00   \n",
       "6       PSP       17.82        7.69        3.14        0.24        0.12   \n",
       "3       PS2        0.45        0.00        0.00        0.00        0.00   \n",
       "\n",
       "    2016_sales  total_sales  \n",
       "5        69.25       314.14  \n",
       "11       26.15       159.32  \n",
       "0        15.14       257.81  \n",
       "2         5.25        97.68  \n",
       "9         4.60        82.19  \n",
       "7         4.25        53.81  \n",
       "4         3.60       445.57  \n",
       "10        1.52       380.38  \n",
       "8         0.18        95.02  \n",
       "1         0.00        38.73  \n",
       "6         0.00        29.01  \n",
       "3         0.00         0.45  "
      ]
     },
     "execution_count": 28,
     "metadata": {},
     "output_type": "execute_result"
    }
   ],
   "source": [
    "# добавим в таблицу общее число продаж за анализируемые года\n",
    "# отсортируем таблицу по объему общих продаж и объему продаж за 2016 год\n",
    "actual_all_sales['total_sales'] = (actual_all_sales['2011_sales'] \n",
    "                                   + actual_all_sales['2012_sales'] + actual_all_sales['2013_sales'] \n",
    "                                   + actual_all_sales['2014_sales'] + actual_all_sales['2015_sales'] + actual_all_sales['2016_sales'])\n",
    "actual_all_sales = actual_all_sales.sort_values(by='total_sales',ascending=False)\n",
    "actual_all_sales_2016 = actual_all_sales.sort_values(by='2016_sales',ascending=False)\n",
    "actual_all_sales.reset_index(inplace=True)\n",
    "actual_all_sales = actual_all_sales.drop(columns='index')\n",
    "display(actual_all_sales)\n",
    "actual_all_sales_2016"
   ]
  },
  {
   "cell_type": "code",
   "execution_count": 29,
   "metadata": {},
   "outputs": [
    {
     "data": {
      "image/png": "[encoded data removed]",
      "text/plain": [
       "<Figure size 1080x432 with 2 Axes>"
      ]
     },
     "metadata": {
      "needs_background": "light"
     },
     "output_type": "display_data"
    }
   ],
   "source": [
    "plt.figure(figsize = (15, 6))  \n",
    "sns.heatmap(actual_all_sales_2016.drop(columns='total_sales').set_index('platform'), annot = True,fmt = '.5')\n",
    "plt.show()"
   ]
  },
  {
   "cell_type": "markdown",
   "metadata": {},
   "source": [
    "Платформа \"PS4\" занимает 3 место по количеству общих продаж за актуальный период с объемом продаж 314.14 миллионов копий, \"XOne\" на пятом месте общих продаж с 159.32 миллионами проданных копий. \n",
    "\n",
    "В связи с общим снижением объема продаж на рынке, важным фактором для анализа является объем продаж непосредственно на 2016 год. В 2016 году объем продаж платформы \"PS4\" составил 69.25 миллионов проданных копий, это максимальное значение за 2016 год, к тому же следующая платформа по объему продаж за 2016 год \"XOne\" продала 26.15 миллионов копий, это значительно меньше чем у \"PS4\" (разница составляет 43,1 миллионов проданных копий). Следовательно, платформа \"PS4\" первая в списке потенциально прибыльных, далее \"XOne\".\n",
    "\n",
    "Также следует обратить внимание на платформу \"3DS\" по графику распределения суммарных продаж по годам объемы продаж росли в промежутке с 2012 по 2013 год, начиная с 2013 года объем продаж снижается, однако снижение плавное, отсутствуют резкие спады, также объем продаж за 2016 год выше, чем у большинства платформ. Общий объем продаж платформы  \"3DS\"составляет 257.81 миллионов копий это 4 место из анализируемой выборки, продажи за 2016 - 15.14 миллионов копий , третье место по объему из выборки. Следовательно, платформа \"3DS\" также входит в список потенциально прибыльных платформ.\n",
    "\n",
    "Платформы \"PS3\" и \"X360\" лидирующие по объему продаж в период 2011-2013, начиная с 2014 года резко снижали свои показатели. На 2016 год объем продаж данных платформ составил всего 3.60 и 1.52 миллионов проданных копий соответственно. Показатели платформ настолько малы в 2016 году, что несмотря на высокие показатели общего объема продаж, вероятно, не могут являться потенциально прибыльными."
   ]
  },
  {
   "cell_type": "markdown",
   "metadata": {},
   "source": [
    "В следствии определения тенденции общего спада продаж для всего рынка, для возможности более точного прогноза на 2017 год, требуется сократить актуальный период до 3х лет, с 2014 до 2016 года."
   ]
  },
  {
   "cell_type": "code",
   "execution_count": 30,
   "metadata": {},
   "outputs": [
    {
     "data": {
      "text/html": [
       "<div>\n",
       "<style scoped>\n",
       "    .dataframe tbody tr th:only-of-type {\n",
       "        vertical-align: middle;\n",
       "    }\n",
       "\n",
       "    .dataframe tbody tr th {\n",
       "        vertical-align: top;\n",
       "    }\n",
       "\n",
       "    .dataframe thead th {\n",
       "        text-align: right;\n",
       "    }\n",
       "</style>\n",
       "<table border=\"1\" class=\"dataframe\">\n",
       "  <thead>\n",
       "    <tr style=\"text-align: right;\">\n",
       "      <th></th>\n",
       "      <th>name</th>\n",
       "      <th>platform</th>\n",
       "      <th>year_of_release</th>\n",
       "      <th>genre</th>\n",
       "      <th>na_sales</th>\n",
       "      <th>eu_sales</th>\n",
       "      <th>jp_sales</th>\n",
       "      <th>other_sales</th>\n",
       "      <th>critic_score</th>\n",
       "      <th>user_score</th>\n",
       "      <th>rating</th>\n",
       "      <th>all_sales</th>\n",
       "    </tr>\n",
       "  </thead>\n",
       "  <tbody>\n",
       "    <tr>\n",
       "      <th>0</th>\n",
       "      <td>Call of Duty: Black Ops 3</td>\n",
       "      <td>PS4</td>\n",
       "      <td>2015</td>\n",
       "      <td>Shooter</td>\n",
       "      <td>6.03</td>\n",
       "      <td>5.86</td>\n",
       "      <td>0.36</td>\n",
       "      <td>2.38</td>\n",
       "      <td>NaN</td>\n",
       "      <td>NaN</td>\n",
       "      <td>unknow</td>\n",
       "      <td>14.63</td>\n",
       "    </tr>\n",
       "    <tr>\n",
       "      <th>1</th>\n",
       "      <td>Grand Theft Auto V</td>\n",
       "      <td>PS4</td>\n",
       "      <td>2014</td>\n",
       "      <td>Action</td>\n",
       "      <td>3.96</td>\n",
       "      <td>6.31</td>\n",
       "      <td>0.38</td>\n",
       "      <td>1.97</td>\n",
       "      <td>97.0</td>\n",
       "      <td>8.3</td>\n",
       "      <td>M</td>\n",
       "      <td>12.62</td>\n",
       "    </tr>\n",
       "    <tr>\n",
       "      <th>2</th>\n",
       "      <td>Pokemon Omega Ruby/Pokemon Alpha Sapphire</td>\n",
       "      <td>3DS</td>\n",
       "      <td>2014</td>\n",
       "      <td>Role-Playing</td>\n",
       "      <td>4.35</td>\n",
       "      <td>3.49</td>\n",
       "      <td>3.10</td>\n",
       "      <td>0.74</td>\n",
       "      <td>NaN</td>\n",
       "      <td>NaN</td>\n",
       "      <td>unknow</td>\n",
       "      <td>11.68</td>\n",
       "    </tr>\n",
       "    <tr>\n",
       "      <th>3</th>\n",
       "      <td>FIFA 16</td>\n",
       "      <td>PS4</td>\n",
       "      <td>2015</td>\n",
       "      <td>Sports</td>\n",
       "      <td>1.12</td>\n",
       "      <td>6.12</td>\n",
       "      <td>0.06</td>\n",
       "      <td>1.28</td>\n",
       "      <td>82.0</td>\n",
       "      <td>4.3</td>\n",
       "      <td>E</td>\n",
       "      <td>8.58</td>\n",
       "    </tr>\n",
       "    <tr>\n",
       "      <th>4</th>\n",
       "      <td>Star Wars Battlefront (2015)</td>\n",
       "      <td>PS4</td>\n",
       "      <td>2015</td>\n",
       "      <td>Shooter</td>\n",
       "      <td>2.99</td>\n",
       "      <td>3.49</td>\n",
       "      <td>0.22</td>\n",
       "      <td>1.28</td>\n",
       "      <td>NaN</td>\n",
       "      <td>NaN</td>\n",
       "      <td>unknow</td>\n",
       "      <td>7.98</td>\n",
       "    </tr>\n",
       "  </tbody>\n",
       "</table>\n",
       "</div>"
      ],
      "text/plain": [
       "                                        name platform  year_of_release  \\\n",
       "0                  Call of Duty: Black Ops 3      PS4             2015   \n",
       "1                         Grand Theft Auto V      PS4             2014   \n",
       "2  Pokemon Omega Ruby/Pokemon Alpha Sapphire      3DS             2014   \n",
       "3                                    FIFA 16      PS4             2015   \n",
       "4               Star Wars Battlefront (2015)      PS4             2015   \n",
       "\n",
       "          genre  na_sales  eu_sales  jp_sales  other_sales  critic_score  \\\n",
       "0       Shooter      6.03      5.86      0.36         2.38           NaN   \n",
       "1        Action      3.96      6.31      0.38         1.97          97.0   \n",
       "2  Role-Playing      4.35      3.49      3.10         0.74           NaN   \n",
       "3        Sports      1.12      6.12      0.06         1.28          82.0   \n",
       "4       Shooter      2.99      3.49      0.22         1.28           NaN   \n",
       "\n",
       "  user_score  rating  all_sales  \n",
       "0        NaN  unknow      14.63  \n",
       "1        8.3       M      12.62  \n",
       "2        NaN  unknow      11.68  \n",
       "3        4.3       E       8.58  \n",
       "4        NaN  unknow       7.98  "
      ]
     },
     "execution_count": 30,
     "metadata": {},
     "output_type": "execute_result"
    }
   ],
   "source": [
    "df_actual = df_actual.query('year_of_release >= 2014').reset_index(drop=True)\n",
    "df_actual.head()"
   ]
  },
  {
   "cell_type": "markdown",
   "metadata": {},
   "source": [
    "Построим график «ящик с усами» по глобальным продажам игр в разбивке по\n",
    "платформам."
   ]
  },
  {
   "cell_type": "code",
   "execution_count": 31,
   "metadata": {},
   "outputs": [
    {
     "data": {
      "image/png": "[encoded data removed]",
      "text/plain": [
       "<Figure size 864x576 with 1 Axes>"
      ]
     },
     "metadata": {
      "needs_background": "light"
     },
     "output_type": "display_data"
    }
   ],
   "source": [
    "plt.figure(figsize=(12,8))\n",
    "(sns.boxplot(data=df_actual,x='platform',y='all_sales').set(title='Распеределние продаж игр на разных платформах'))\n",
    "plt.show()"
   ]
  },
  {
   "cell_type": "code",
   "execution_count": 32,
   "metadata": {},
   "outputs": [
    {
     "data": {
      "image/png": "[encoded data removed]",
      "text/plain": [
       "<Figure size 864x576 with 1 Axes>"
      ]
     },
     "metadata": {
      "needs_background": "light"
     },
     "output_type": "display_data"
    }
   ],
   "source": [
    "# установим лимиты для возможности детально проанализировать медианы и 75% квантиль\n",
    "plt.figure(figsize=(12,8))\n",
    "(sns.boxplot(data=df_actual,x='platform',y='all_sales').set(title='Распеределние продаж игр на разных платформах'))\n",
    "plt.ylim(0,2)\n",
    "plt.show()"
   ]
  },
  {
   "cell_type": "markdown",
   "metadata": {},
   "source": [
    "В данном случае, выбросы — это очень популярные игры, продажи копий которых превосходят остальные. Так как для рынка игр характерен выпуск дальнейших частей/продолжений, то можно предположить, что продажи продолжений популярных игр за прошлые годы будут также иметь высокие продажи. Следовательно, в данном конкретном случае исключать выбросы нельзя.\n",
    "Медианное значение продаж игры не превышает 205 тысяч копий для всех платформ.\n",
    "В первую очередь проанализируем распределения для потенциально прибыльных платформ:\n",
    "\n",
    "Платформа `XOne` имеет наибольшее медианное значение продаж игры 205 тыс. копий, а ее 75% квантиль равен 630 тыс. копий. Также следует заметить, что выбросы в нашем случае очень популярные игры для данной платформы начинаются после продажи 1,5 миллионов копий. Также, анализируя первое распределение, где отображены все выбросы, можно сделать вывод, что на данной платформе самая популярная игра имела продажи около 8 миллионов проданных копий.\n",
    "\n",
    "Для платформы `PS4` медианное значение равно 185 тыс. проданных копий. 75% квантиль равен 690 тыс. копий, что больше, чем для платформы `XOne`. Анализируя, распределение с выбросами, можно сделать вывод, что на платформе `PS4` располагается наибольшее количество самых популярных игр, отдельно стоит заметить два выброса с количеством продаж 12,5 и 14,5 миллионов копий.\n",
    "\n",
    "Платформа `3DS` имеет медианное значение продаж игр равное 90 тысячам копий, что значительно меньше предыдущих двух анализируемых платформ. Популярными играми для данной платформы считаются игры с продажами свыше 55 тыс. копий. Однако, есть несколько выбросов с высоким количеством продаж один с почти 12 миллионами проданных копий и два с с почти 8 миллионами проданными копий.\n",
    "\n",
    "Также следует отметить платформу `WiiU` с медианным значением в 190 тыс. проданных копий и \"выбросом», точнее популярной игрой с почти 8 миллионами проданных копий."
   ]
  },
  {
   "cell_type": "code",
   "execution_count": 33,
   "metadata": {},
   "outputs": [
    {
     "name": "stdout",
     "output_type": "stream",
     "text": [
      "0.63\n",
      "0.25\n",
      "0.69\n"
     ]
    }
   ],
   "source": [
    "kv_1 = np.quantile(df_actual.query('platform == \"XOne\"').all_sales, 0.75).round(2)\n",
    "kv_2 = np.quantile(df_actual.query('platform == \"3DS\"').all_sales, 0.75)\n",
    "kv_3 = np.quantile(df_actual.query('platform == \"PS4\"').all_sales, 0.75).round(2)\n",
    "print(kv_1)\n",
    "print(kv_2)\n",
    "print(kv_3)"
   ]
  },
  {
   "cell_type": "code",
   "execution_count": 34,
   "metadata": {},
   "outputs": [
    {
     "name": "stdout",
     "output_type": "stream",
     "text": [
      "platform\n",
      "3DS     0.090\n",
      "PC      0.060\n",
      "PS3     0.110\n",
      "PS4     0.185\n",
      "PSP     0.020\n",
      "PSV     0.040\n",
      "Wii     0.180\n",
      "WiiU    0.190\n",
      "X360    0.180\n",
      "XOne    0.205\n",
      "Name: all_sales, dtype: float64\n"
     ]
    }
   ],
   "source": [
    "print(df_actual.groupby('platform')['all_sales'].median())"
   ]
  },
  {
   "cell_type": "markdown",
   "metadata": {},
   "source": [
    "Проанализируем, как влияют на продажи внутри одной популярной платформы\n",
    "отзывы пользователей и критиков. Построим диаграмму рассеяния и\n",
    "посчитаем корреляцию между отзывами и продажами."
   ]
  },
  {
   "cell_type": "code",
   "execution_count": 35,
   "metadata": {},
   "outputs": [],
   "source": [
    "df_actual['user_score'] = df_actual.query('user_score != \"tbd\"')['user_score']\n",
    "df_actual['user_score'] = df_actual['user_score'].astype('float64')"
   ]
  },
  {
   "cell_type": "code",
   "execution_count": 36,
   "metadata": {},
   "outputs": [
    {
     "name": "stdout",
     "output_type": "stream",
     "text": [
      "<class 'pandas.core.frame.DataFrame'>\n",
      "RangeIndex: 1689 entries, 0 to 1688\n",
      "Data columns (total 12 columns):\n",
      " #   Column           Non-Null Count  Dtype  \n",
      "---  ------           --------------  -----  \n",
      " 0   name             1689 non-null   object \n",
      " 1   platform         1689 non-null   object \n",
      " 2   year_of_release  1689 non-null   Int64  \n",
      " 3   genre            1689 non-null   object \n",
      " 4   na_sales         1689 non-null   float64\n",
      " 5   eu_sales         1689 non-null   float64\n",
      " 6   jp_sales         1689 non-null   float64\n",
      " 7   other_sales      1689 non-null   float64\n",
      " 8   critic_score     718 non-null    float64\n",
      " 9   user_score       888 non-null    float64\n",
      " 10  rating           1689 non-null   object \n",
      " 11  all_sales        1689 non-null   float64\n",
      "dtypes: Int64(1), float64(7), object(4)\n",
      "memory usage: 160.1+ KB\n"
     ]
    }
   ],
   "source": [
    "df_actual.info()"
   ]
  },
  {
   "cell_type": "markdown",
   "metadata": {},
   "source": [
    "Построим график корреляции между количеством продаж и отзывами пользователей для платформы \"PS4\", также найдем коэффициент Пирсона."
   ]
  },
  {
   "cell_type": "code",
   "execution_count": 37,
   "metadata": {},
   "outputs": [
    {
     "data": {
      "image/png": "[encoded data removed]",
      "text/plain": [
       "<Figure size 432x288 with 1 Axes>"
      ]
     },
     "metadata": {
      "needs_background": "light"
     },
     "output_type": "display_data"
    },
    {
     "data": {
      "image/png": "[encoded data removed]",
      "text/plain": [
       "<Figure size 576x432 with 2 Axes>"
      ]
     },
     "metadata": {
      "needs_background": "light"
     },
     "output_type": "display_data"
    },
    {
     "name": "stdout",
     "output_type": "stream",
     "text": [
      "Коэффициент пирсона: -0.040131589472697356\n"
     ]
    }
   ],
   "source": [
    "df_actual.query('platform == \"PS4\"').plot(x='all_sales', y='user_score', kind='scatter' ,grid=True , alpha=0.2);\n",
    "plt.xlabel('millions of copies sold')\n",
    "plt.ylabel('user score')\n",
    "# рассмотрим детальнее скопление точек\n",
    "df_actual.query('platform == \"PS4\"').plot(x='all_sales', y='user_score', kind='hexbin',\n",
    "         xlim=(0,3) , ylim=(5,9) ,gridsize=50, figsize=(8, 6), sharex=False, grid=True);\n",
    "plt.xlabel('millions of copies sold')\n",
    "plt.ylabel('user score')\n",
    "plt.show()\n",
    "print('Коэффициент пирсона:',df_actual.query('platform == \"PS4\"')['all_sales'].corr(df_actual.query('platform == \"PS4\"')['user_score']))"
   ]
  },
  {
   "cell_type": "markdown",
   "metadata": {},
   "source": [
    "Построим график корреляции между количеством продаж и отзывами критиков для платформы \"PS4\", также найдем коэффициент Пирсона."
   ]
  },
  {
   "cell_type": "code",
   "execution_count": 38,
   "metadata": {},
   "outputs": [
    {
     "name": "stdout",
     "output_type": "stream",
     "text": [
      "Коэффициент пирсона: 0.40266141068104083\n"
     ]
    },
    {
     "data": {
      "image/png": "[encoded data removed]",
      "text/plain": [
       "<Figure size 432x288 with 1 Axes>"
      ]
     },
     "metadata": {
      "needs_background": "light"
     },
     "output_type": "display_data"
    },
    {
     "data": {
      "image/png": "[encoded data removed]",
      "text/plain": [
       "<Figure size 576x432 with 2 Axes>"
      ]
     },
     "metadata": {
      "needs_background": "light"
     },
     "output_type": "display_data"
    }
   ],
   "source": [
    "df_actual.query('platform == \"PS4\"').plot(x='all_sales', y='critic_score', kind='scatter' ,grid=True , alpha=0.2);\n",
    "plt.xlabel('millions of copies sold')\n",
    "plt.ylabel('critic_score')\n",
    "# рассмотрим детальнее скопление точек\n",
    "df_actual.query('platform == \"PS4\"').plot(x='all_sales', y='critic_score', kind='hexbin',\n",
    "        xlim=(0,3) , ylim=(40,90) , gridsize=50, figsize=(8, 6), sharex=False, grid=True);\n",
    "plt.xlabel('millions of copies sold')\n",
    "plt.ylabel('critic_score')\n",
    "print('Коэффициент пирсона:',df_actual.query('platform == \"PS4\"')['all_sales'].corr(df_actual.query('platform == \"PS4\"')['critic_score']))"
   ]
  },
  {
   "cell_type": "markdown",
   "metadata": {},
   "source": [
    "Между параметрами количество проданных копий и оценками пользователей почти отсутствует корреляция, \n",
    "между параметрами количество проданных копий и оценками критиков существует слабая корреляция. При этом стоит заметить, что самая популярная игра, с более 12 миллионов проданных копий имеет высокую оценку, как и среди критиков, так и среди пользователей. "
   ]
  },
  {
   "cell_type": "markdown",
   "metadata": {},
   "source": [
    "Построим график корреляции между количеством продаж и отзывами критиков и коэффициент Пирсона для оставшихся платформ."
   ]
  },
  {
   "cell_type": "code",
   "execution_count": 39,
   "metadata": {},
   "outputs": [
    {
     "data": {
      "image/png": "[encoded data removed]",
      "text/plain": [
       "<Figure size 432x288 with 1 Axes>"
      ]
     },
     "metadata": {
      "needs_background": "light"
     },
     "output_type": "display_data"
    },
    {
     "name": "stdout",
     "output_type": "stream",
     "text": [
      "Коэффициент Пирсона: 0.31411749286905105\n"
     ]
    },
    {
     "data": {
      "image/png": "[encoded data removed]",
      "text/plain": [
       "<Figure size 432x288 with 1 Axes>"
      ]
     },
     "metadata": {
      "needs_background": "light"
     },
     "output_type": "display_data"
    },
    {
     "name": "stdout",
     "output_type": "stream",
     "text": [
      "Коэффициент Пирсона: 0.42867694370333226\n"
     ]
    },
    {
     "data": {
      "image/png": "[encoded data removed]",
      "text/plain": [
       "<Figure size 432x288 with 1 Axes>"
      ]
     },
     "metadata": {
      "needs_background": "light"
     },
     "output_type": "display_data"
    },
    {
     "name": "stdout",
     "output_type": "stream",
     "text": [
      "Коэффициент Пирсона: 0.370201412480884\n"
     ]
    },
    {
     "data": {
      "image/png": "[encoded data removed]",
      "text/plain": [
       "<Figure size 432x288 with 1 Axes>"
      ]
     },
     "metadata": {
      "needs_background": "light"
     },
     "output_type": "display_data"
    },
    {
     "name": "stdout",
     "output_type": "stream",
     "text": [
      "Коэффициент Пирсона: 0.44657460493190704\n"
     ]
    },
    {
     "data": {
      "image/png": "[encoded data removed]",
      "text/plain": [
       "<Figure size 432x288 with 1 Axes>"
      ]
     },
     "metadata": {
      "needs_background": "light"
     },
     "output_type": "display_data"
    },
    {
     "name": "stdout",
     "output_type": "stream",
     "text": [
      "Коэффициент Пирсона: 0.5257228356581523\n"
     ]
    },
    {
     "data": {
      "image/png": "[encoded data removed]",
      "text/plain": [
       "<Figure size 432x288 with 1 Axes>"
      ]
     },
     "metadata": {
      "needs_background": "light"
     },
     "output_type": "display_data"
    },
    {
     "name": "stdout",
     "output_type": "stream",
     "text": [
      "Коэффициент Пирсона: 0.17463413769350036\n"
     ]
    },
    {
     "data": {
      "image/png": "[encoded data removed]",
      "text/plain": [
       "<Figure size 432x288 with 1 Axes>"
      ]
     },
     "metadata": {
      "needs_background": "light"
     },
     "output_type": "display_data"
    },
    {
     "name": "stdout",
     "output_type": "stream",
     "text": [
      "Коэффициент Пирсона: 0.04266490657009526\n"
     ]
    }
   ],
   "source": [
    "list_platforms = ['3DS', 'XOne', 'WiiU', 'PS3', 'X360', 'PC', 'PSV']\n",
    "for platform_1 in list_platforms:\n",
    "    df_actual.query('platform == @platform_1').plot(x='all_sales', y='critic_score', kind='scatter' ,grid=True , alpha=0.5,title=platform_1);\n",
    "    plt.xlabel('millions of copies sold')\n",
    "    plt.ylabel('critic_score')\n",
    "    plt.show()\n",
    "    print('Коэффициент Пирсона:',df_actual.query('platform == @platform_1')['all_sales'].corr(df_actual.query('platform == @platform_1')['critic_score']))"
   ]
  },
  {
   "cell_type": "markdown",
   "metadata": {},
   "source": [
    "<div class=\"alert alert-block alert-success\">\n",
    "<b>Комментарий ревьюера (✅):</b> Исполнение с помощью цикла - суперское! Меньше рутины в коде 👏"
   ]
  },
  {
   "cell_type": "markdown",
   "metadata": {},
   "source": [
    "В целом можно сказать, что между параметрами количество проданных копий и отзывы критиков существует слабая корреляция, анализируя распределения платформ '3DS', 'XOne', 'WiiU', 'PS3', 'X360' можно отметить,что наиболее популярная игра имеющая гораздо больше проданных копий, чем у прочих игр для каждой взятой платформы имеет высокие рейтинг среди критиков, однако на распределениях для платформ 'PC' и 'PSV' наиболее продаваемые игры для данных площадок имеют средние оценки критиков. Распределения прочих платформ соотносимо с распределением популярной платформы \"PS4\"."
   ]
  },
  {
   "cell_type": "markdown",
   "metadata": {},
   "source": [
    "Построим график корреляции между количеством продаж и отзывами пользователей, коэффициент Пирсона для оставшихся платформ."
   ]
  },
  {
   "cell_type": "code",
   "execution_count": 40,
   "metadata": {},
   "outputs": [
    {
     "data": {
      "image/png": "[encoded data removed]",
      "text/plain": [
       "<Figure size 432x288 with 1 Axes>"
      ]
     },
     "metadata": {
      "needs_background": "light"
     },
     "output_type": "display_data"
    },
    {
     "name": "stdout",
     "output_type": "stream",
     "text": [
      "Коэффициент Пирсона: 0.2151932718527028\n"
     ]
    },
    {
     "data": {
      "image/png": "[encoded data removed]",
      "text/plain": [
       "<Figure size 432x288 with 1 Axes>"
      ]
     },
     "metadata": {
      "needs_background": "light"
     },
     "output_type": "display_data"
    },
    {
     "name": "stdout",
     "output_type": "stream",
     "text": [
      "Коэффициент Пирсона: -0.0703839280647581\n"
     ]
    },
    {
     "data": {
      "image/png": "[encoded data removed]",
      "text/plain": [
       "<Figure size 432x288 with 1 Axes>"
      ]
     },
     "metadata": {
      "needs_background": "light"
     },
     "output_type": "display_data"
    },
    {
     "name": "stdout",
     "output_type": "stream",
     "text": [
      "Коэффициент Пирсона: 0.4079264579217078\n"
     ]
    },
    {
     "data": {
      "image/png": "[encoded data removed]",
      "text/plain": [
       "<Figure size 432x288 with 1 Axes>"
      ]
     },
     "metadata": {
      "needs_background": "light"
     },
     "output_type": "display_data"
    },
    {
     "name": "stdout",
     "output_type": "stream",
     "text": [
      "Коэффициент Пирсона: -0.16676141347662116\n"
     ]
    },
    {
     "data": {
      "image/png": "[encoded data removed]",
      "text/plain": [
       "<Figure size 432x288 with 1 Axes>"
      ]
     },
     "metadata": {
      "needs_background": "light"
     },
     "output_type": "display_data"
    },
    {
     "name": "stdout",
     "output_type": "stream",
     "text": [
      "Коэффициент Пирсона: -0.138444570945665\n"
     ]
    },
    {
     "data": {
      "image/png": "[encoded data removed]",
      "text/plain": [
       "<Figure size 432x288 with 1 Axes>"
      ]
     },
     "metadata": {
      "needs_background": "light"
     },
     "output_type": "display_data"
    },
    {
     "name": "stdout",
     "output_type": "stream",
     "text": [
      "Коэффициент Пирсона: -0.07159665703472452\n"
     ]
    },
    {
     "data": {
      "image/png": "[encoded data removed]",
      "text/plain": [
       "<Figure size 432x288 with 1 Axes>"
      ]
     },
     "metadata": {
      "needs_background": "light"
     },
     "output_type": "display_data"
    },
    {
     "name": "stdout",
     "output_type": "stream",
     "text": [
      "Коэффициент Пирсона: -0.16845504978064446\n"
     ]
    },
    {
     "data": {
      "image/png": "[encoded data removed]",
      "text/plain": [
       "<Figure size 432x288 with 1 Axes>"
      ]
     },
     "metadata": {
      "needs_background": "light"
     },
     "output_type": "display_data"
    },
    {
     "name": "stdout",
     "output_type": "stream",
     "text": [
      "Коэффициент Пирсона: 1.0\n"
     ]
    }
   ],
   "source": [
    "list_platforms = ['3DS', 'XOne', 'WiiU', 'PS3', 'X360', 'PC', 'PSV','Wii']\n",
    "for platform_1 in list_platforms:\n",
    "    df_actual.query('platform == @platform_1').plot(x='all_sales', y='user_score', kind='scatter' ,grid=True , alpha=0.5,title=platform_1);\n",
    "    plt.xlabel('millions of copies sold')\n",
    "    plt.ylabel('user score')\n",
    "    plt.show()\n",
    "    print('Коэффициент Пирсона:',df_actual.query('platform == @platform_1')['all_sales'].corr(df_actual.query('platform == @platform_1')['user_score']))"
   ]
  },
  {
   "cell_type": "markdown",
   "metadata": {},
   "source": [
    "Между параметрами количество проданных копий и отзывы пользователей существует слабая корреляция, граничащая с полным ее отсутствием, закономерность прослеживающаяся на распределении между количеством проданных копий и отзывами критиков, что наиболее продаваемые игры имеют высокие оценки среди критиков, менее выражена для оценок пользователей, так популярные игры на платформах `XOne`, `PS3`, `X360`,`PC` имеют средние оценки пользователей, для платформы `PSV` одна из наиболее популярных игр с продажами в 600 тыс. копий имеет оценку пользователей \"3\" т.е. ниже среднего. Распределения прочих платформ соотносимо с распределением популярной платформы `PS4`."
   ]
  },
  {
   "cell_type": "markdown",
   "metadata": {},
   "source": [
    "Рассмотрим общее распределение игр по жанрам. "
   ]
  },
  {
   "cell_type": "code",
   "execution_count": 41,
   "metadata": {},
   "outputs": [
    {
     "data": {
      "text/plain": [
       "genre\n",
       "Action          0.090\n",
       "Adventure       0.030\n",
       "Fighting        0.125\n",
       "Misc            0.090\n",
       "Platform        0.140\n",
       "Puzzle          0.045\n",
       "Racing          0.090\n",
       "Role-Playing    0.110\n",
       "Shooter         0.515\n",
       "Simulation      0.100\n",
       "Sports          0.180\n",
       "Strategy        0.060\n",
       "Name: all_sales, dtype: float64"
      ]
     },
     "execution_count": 41,
     "metadata": {},
     "output_type": "execute_result"
    }
   ],
   "source": [
    "df_actual[['genre','all_sales']].head(30)\n",
    "df_actual.groupby('genre')['all_sales'].median()"
   ]
  },
  {
   "cell_type": "code",
   "execution_count": 42,
   "metadata": {},
   "outputs": [
    {
     "data": {
      "text/plain": [
       "genre\n",
       "Action          0.645211\n",
       "Adventure       0.226429\n",
       "Fighting        0.454706\n",
       "Misc            0.408947\n",
       "Platform        0.602222\n",
       "Puzzle          0.020000\n",
       "Racing          0.564444\n",
       "Role-Playing    0.568431\n",
       "Shooter         2.064737\n",
       "Simulation      0.205000\n",
       "Sports          1.190714\n",
       "Strategy        0.080000\n",
       "Name: all_sales, dtype: float64"
      ]
     },
     "execution_count": 42,
     "metadata": {},
     "output_type": "execute_result"
    }
   ],
   "source": [
    "df_actual.query('platform == \"PS4\"')[['genre','all_sales']].head(30)\n",
    "df_actual.query('platform == \"PS4\"').groupby('genre')['all_sales'].mean()"
   ]
  },
  {
   "cell_type": "code",
   "execution_count": 43,
   "metadata": {},
   "outputs": [
    {
     "data": {
      "image/png": "[encoded data removed]",
      "text/plain": [
       "<Figure size 864x576 with 1 Axes>"
      ]
     },
     "metadata": {
      "needs_background": "light"
     },
     "output_type": "display_data"
    }
   ],
   "source": [
    "from numpy import median\n",
    "plt.figure(figsize=(12,8))\n",
    "ax = sns.barplot(y=df_actual.all_sales,x=df_actual.genre,estimator=median)\n",
    "plt.title('Общее распределение продаж игр по жанрам')\n",
    "plt.show()"
   ]
  },
  {
   "cell_type": "markdown",
   "metadata": {},
   "source": [
    "Среди всех жанров выделяется жанр \"Shooter\" с медианным значением 515 тыс. проданных копий, жанр с наименьшим медианным значением количества проданных копий \"Adventure\" с  значением 30 тыс. проданных копий."
   ]
  },
  {
   "cell_type": "code",
   "execution_count": 44,
   "metadata": {},
   "outputs": [
    {
     "data": {
      "image/png": "[encoded data removed]",
      "text/plain": [
       "<Figure size 864x576 with 1 Axes>"
      ]
     },
     "metadata": {
      "needs_background": "light"
     },
     "output_type": "display_data"
    }
   ],
   "source": [
    "plt.figure(figsize=(12,8))\n",
    "(sns.boxplot(data=df_actual,x='genre',y='all_sales').set(title='Распеределние продаж игр по жанрам'))\n",
    "plt.show()"
   ]
  },
  {
   "cell_type": "markdown",
   "metadata": {},
   "source": [
    "По граффику `boxplot` видно, что игра с наибольшим количеством проданных копий, более 14 миллионов находится в жанре \"Shooter\" , две наиболее популярные игры с примерно 12 миллионами проданных копий находятся в жанрах 'Action' и 'Role-Playing'. Также успешные игры есть в жанрах 'Sports', 'Fighting','Racing' и 'Misc'. Согласно графику в жанре \"Strategy\" нет ни одной игры с более 1 миллионом проданных копий, также наименее успешные игры в жанрах \"Puzzle\" , \"Adventure\" и \"Simulation\" в данных жанрах продажи не превысили 1,5 миллионов копий."
   ]
  },
  {
   "cell_type": "markdown",
   "metadata": {},
   "source": [
    "Посчитаем сумму общих продаж и количесвтво выпущенных игр c группировкой по жанрам и отсортируем по убыванию количества продаж."
   ]
  },
  {
   "cell_type": "code",
   "execution_count": 45,
   "metadata": {},
   "outputs": [
    {
     "data": {
      "text/html": [
       "<div>\n",
       "<style scoped>\n",
       "    .dataframe tbody tr th:only-of-type {\n",
       "        vertical-align: middle;\n",
       "    }\n",
       "\n",
       "    .dataframe tbody tr th {\n",
       "        vertical-align: top;\n",
       "    }\n",
       "\n",
       "    .dataframe thead th {\n",
       "        text-align: right;\n",
       "    }\n",
       "</style>\n",
       "<table border=\"1\" class=\"dataframe\">\n",
       "  <thead>\n",
       "    <tr style=\"text-align: right;\">\n",
       "      <th></th>\n",
       "      <th>genre</th>\n",
       "      <th>sum</th>\n",
       "      <th>count</th>\n",
       "    </tr>\n",
       "  </thead>\n",
       "  <tbody>\n",
       "    <tr>\n",
       "      <th>0</th>\n",
       "      <td>Action</td>\n",
       "      <td>199.36</td>\n",
       "      <td>619</td>\n",
       "    </tr>\n",
       "    <tr>\n",
       "      <th>1</th>\n",
       "      <td>Shooter</td>\n",
       "      <td>170.94</td>\n",
       "      <td>128</td>\n",
       "    </tr>\n",
       "    <tr>\n",
       "      <th>2</th>\n",
       "      <td>Sports</td>\n",
       "      <td>109.48</td>\n",
       "      <td>161</td>\n",
       "    </tr>\n",
       "    <tr>\n",
       "      <th>3</th>\n",
       "      <td>Role-Playing</td>\n",
       "      <td>101.44</td>\n",
       "      <td>221</td>\n",
       "    </tr>\n",
       "    <tr>\n",
       "      <th>4</th>\n",
       "      <td>Misc</td>\n",
       "      <td>37.55</td>\n",
       "      <td>113</td>\n",
       "    </tr>\n",
       "    <tr>\n",
       "      <th>5</th>\n",
       "      <td>Fighting</td>\n",
       "      <td>28.22</td>\n",
       "      <td>60</td>\n",
       "    </tr>\n",
       "    <tr>\n",
       "      <th>6</th>\n",
       "      <td>Racing</td>\n",
       "      <td>27.52</td>\n",
       "      <td>69</td>\n",
       "    </tr>\n",
       "    <tr>\n",
       "      <th>7</th>\n",
       "      <td>Platform</td>\n",
       "      <td>18.09</td>\n",
       "      <td>38</td>\n",
       "    </tr>\n",
       "    <tr>\n",
       "      <th>8</th>\n",
       "      <td>Adventure</td>\n",
       "      <td>17.55</td>\n",
       "      <td>185</td>\n",
       "    </tr>\n",
       "    <tr>\n",
       "      <th>9</th>\n",
       "      <td>Simulation</td>\n",
       "      <td>13.13</td>\n",
       "      <td>44</td>\n",
       "    </tr>\n",
       "    <tr>\n",
       "      <th>10</th>\n",
       "      <td>Strategy</td>\n",
       "      <td>3.96</td>\n",
       "      <td>37</td>\n",
       "    </tr>\n",
       "    <tr>\n",
       "      <th>11</th>\n",
       "      <td>Puzzle</td>\n",
       "      <td>2.21</td>\n",
       "      <td>14</td>\n",
       "    </tr>\n",
       "  </tbody>\n",
       "</table>\n",
       "</div>"
      ],
      "text/plain": [
       "           genre     sum  count\n",
       "0         Action  199.36    619\n",
       "1        Shooter  170.94    128\n",
       "2         Sports  109.48    161\n",
       "3   Role-Playing  101.44    221\n",
       "4           Misc   37.55    113\n",
       "5       Fighting   28.22     60\n",
       "6         Racing   27.52     69\n",
       "7       Platform   18.09     38\n",
       "8      Adventure   17.55    185\n",
       "9     Simulation   13.13     44\n",
       "10      Strategy    3.96     37\n",
       "11        Puzzle    2.21     14"
      ]
     },
     "execution_count": 45,
     "metadata": {},
     "output_type": "execute_result"
    }
   ],
   "source": [
    "total_sales_genre = df_actual.groupby('genre')['all_sales'].agg({'sum','count'})\n",
    "total_sales_genre = total_sales_genre.reset_index()\n",
    "total_sales_genre = total_sales_genre.sort_values(by='sum',ascending=False)\n",
    "total_sales_genre = total_sales_genre.reset_index(drop=True)\n",
    "total_sales_genre"
   ]
  },
  {
   "cell_type": "markdown",
   "metadata": {},
   "source": [
    "Проанализировав графики `barplot` и `boxplot` , а также рассчитав общее количество продаж можно сделать вывод что наиболее популярным и прибыльным жанром является `Shooter` , он имеет максимальное медианное значение проданных копий, самая популярная игра с 14 миллионами копий также выпущена в данном жанре, к тому же игры в жанре \"Shooter\" располагаются на втором месте по общей сумме проданных копий с  значением 170,94 миллионов копий, при этом количество выпущенных игр 128 штук для сравнения на первом месте по количеству проданных копий игры в жанре \"Action\" с значением продаж 199.36 миллионов копий, а количеством выпущенных игр 619 шт. это почти в 5 раз больше выпущенных игр.\n",
    "\n",
    "Принимая во внимание, большое количество выпущенных игр, а также, что вторая по количеству проданных копий игра с более 12 миллионами продаж выпущена в жанре \"Action\", данный жанр также является популярным. \n",
    "\n",
    "Наиболее популярные и прибыльные игры в жанрах: \"Shooter\" , \"Action\" , \"Role-Playing\" , \"Sports\".\n",
    "\n",
    "Наименее популярные и прибыльные игры в жанрах: \"Puzzle\" , \"Strategy\" , \"Adventure\"."
   ]
  },
  {
   "cell_type": "markdown",
   "metadata": {},
   "source": [
    "<a id=\"step_3\"></a> \n",
    "## Портрет пользователя каждого региона"
   ]
  },
  {
   "cell_type": "markdown",
   "metadata": {},
   "source": [
    "Определим для ползователя каждого региона (NA, EU, JP) самые популярные платформы."
   ]
  },
  {
   "cell_type": "code",
   "execution_count": 46,
   "metadata": {},
   "outputs": [
    {
     "name": "stdout",
     "output_type": "stream",
     "text": [
      "  platform  na_sales\n",
      "0      PS4     98.61\n",
      "1     XOne     81.27\n",
      "2     X360     28.30\n",
      "3      3DS     22.64\n",
      "4      PS3     22.05\n"
     ]
    },
    {
     "data": {
      "image/png": "[encoded data removed]",
      "text/plain": [
       "<Figure size 432x288 with 1 Axes>"
      ]
     },
     "metadata": {
      "needs_background": "light"
     },
     "output_type": "display_data"
    }
   ],
   "source": [
    "top_5_na = df_actual.groupby('platform')['na_sales'].sum().sort_values(ascending=False).head(5).reset_index()\n",
    "print(top_5_na)\n",
    "top_5_na.plot.bar(x='platform',y='na_sales')\n",
    "plt.show()"
   ]
  },
  {
   "cell_type": "code",
   "execution_count": 47,
   "metadata": {},
   "outputs": [
    {
     "name": "stdout",
     "output_type": "stream",
     "text": [
      "  platform  eu_sales\n",
      "0      PS4    130.04\n",
      "1     XOne     46.25\n",
      "2      PS3     25.54\n",
      "3       PC     17.97\n",
      "4      3DS     16.12\n"
     ]
    },
    {
     "data": {
      "image/png": "[encoded data removed]",
      "text/plain": [
       "<Figure size 432x288 with 1 Axes>"
      ]
     },
     "metadata": {
      "needs_background": "light"
     },
     "output_type": "display_data"
    }
   ],
   "source": [
    "top_5_eu = df_actual.groupby('platform')['eu_sales'].sum().sort_values(ascending=False).head(5).reset_index()\n",
    "print(top_5_eu)\n",
    "top_5_eu.plot.bar(x='platform',y='eu_sales')\n",
    "plt.show()"
   ]
  },
  {
   "cell_type": "code",
   "execution_count": 48,
   "metadata": {},
   "outputs": [
    {
     "name": "stdout",
     "output_type": "stream",
     "text": [
      "  platform  jp_sales\n",
      "0      3DS     44.24\n",
      "1      PS4     15.02\n",
      "2      PSV     14.54\n",
      "3      PS3     11.22\n",
      "4     WiiU      7.31\n"
     ]
    },
    {
     "data": {
      "image/png": "[encoded data removed]",
      "text/plain": [
       "<Figure size 432x288 with 1 Axes>"
      ]
     },
     "metadata": {
      "needs_background": "light"
     },
     "output_type": "display_data"
    }
   ],
   "source": [
    "top_5_jp =  df_actual.groupby('platform')['jp_sales'].sum().sort_values(ascending=False).head(5).reset_index()\n",
    "print(top_5_jp)\n",
    "top_5_jp.plot.bar(x='platform',y='jp_sales')\n",
    "plt.show()"
   ]
  },
  {
   "cell_type": "markdown",
   "metadata": {},
   "source": [
    "Первые две самые популярные платформы в Северной Америке и Европе совпадают, это платформы \"PS4\" и \"XOne\", при этом на Европу приходится больше продаж, чем на Северную Америку, так в наиболее популярной платформе \"PS4\" в Европе и Северной Америке, к тому же занимающей второе место по количеству продаж на рынке Японии, на рынок Европы приходится 130,04 миллионов проданных копий, на рынок Северной Америки приходится  98.61 миллионов проданных копий, это на 24% меньше, чем Европе, на рынок Японии - 15,02 миллионов проданных копий это в 8,5 раз меньше чем в Европе или в 6,5 раз меньше, чем в Северной Америке.\n",
    "\n",
    "У платформы \"XOne\" в Северной Америке почти в два раза больше продаж, чем на рынке Европы, 81.27 и 46.25 миллионов проданных копий соответственно. Платформа \"XOne\" не вошла в топ 5 платформ на рынке Японии.\n",
    "\n",
    "\n",
    "Платформа \"3DS\" занимает первое место по количеству проданных копий в Японии с значением 44.24 миллионами проданных копий, на рынке Северной Америке данная платформа занимает 4 место с 22.64 миллионами проданных копий , на рынке Европы 5 место с 16.12 миллионами проданных копий."
   ]
  },
  {
   "cell_type": "markdown",
   "metadata": {},
   "source": [
    "Определим для ползователя каждого региона (NA, EU, JP) самые популярные жанры игр."
   ]
  },
  {
   "cell_type": "code",
   "execution_count": 49,
   "metadata": {},
   "outputs": [
    {
     "name": "stdout",
     "output_type": "stream",
     "text": [
      "          genre  na_sales\n",
      "0       Shooter     79.02\n",
      "1        Action     72.53\n",
      "2        Sports     46.13\n",
      "3  Role-Playing     33.47\n",
      "4          Misc     15.05\n"
     ]
    },
    {
     "data": {
      "image/png": "[encoded data removed]",
      "text/plain": [
       "<Figure size 432x288 with 1 Axes>"
      ]
     },
     "metadata": {
      "needs_background": "light"
     },
     "output_type": "display_data"
    }
   ],
   "source": [
    "top_5_genre_na = df_actual.groupby('genre')['na_sales'].sum().sort_values(ascending=False).head(5).reset_index()\n",
    "print(top_5_genre_na)\n",
    "top_5_genre_na.plot.bar(x='genre',y='na_sales')\n",
    "plt.show()"
   ]
  },
  {
   "cell_type": "code",
   "execution_count": 50,
   "metadata": {},
   "outputs": [
    {
     "name": "stdout",
     "output_type": "stream",
     "text": [
      "          genre  eu_sales\n",
      "0        Action     74.68\n",
      "1       Shooter     65.52\n",
      "2        Sports     45.73\n",
      "3  Role-Playing     28.17\n",
      "4        Racing     14.13\n"
     ]
    },
    {
     "data": {
      "image/png": "[encoded data removed]",
      "text/plain": [
       "<Figure size 432x288 with 1 Axes>"
      ]
     },
     "metadata": {
      "needs_background": "light"
     },
     "output_type": "display_data"
    }
   ],
   "source": [
    "top_5_genre_eu = df_actual.groupby('genre')['eu_sales'].sum().sort_values(ascending=False).head(5).reset_index()\n",
    "print(top_5_genre_eu)\n",
    "top_5_genre_eu.plot.bar(x='genre',y='eu_sales')\n",
    "plt.show()"
   ]
  },
  {
   "cell_type": "code",
   "execution_count": 51,
   "metadata": {},
   "outputs": [
    {
     "name": "stdout",
     "output_type": "stream",
     "text": [
      "          genre  jp_sales\n",
      "0  Role-Playing     31.16\n",
      "1        Action     29.58\n",
      "2      Fighting      6.37\n",
      "3          Misc      5.61\n",
      "4       Shooter      4.87\n"
     ]
    },
    {
     "data": {
      "image/png": "[encoded data removed]",
      "text/plain": [
       "<Figure size 432x288 with 1 Axes>"
      ]
     },
     "metadata": {
      "needs_background": "light"
     },
     "output_type": "display_data"
    }
   ],
   "source": [
    "top_5_genre_jp = df_actual.groupby('genre')['jp_sales'].sum().sort_values(ascending=False).head(5).reset_index()\n",
    "print(top_5_genre_jp)\n",
    "top_5_genre_jp.plot.bar(x='genre',y='jp_sales')\n",
    "plt.show()"
   ]
  },
  {
   "cell_type": "markdown",
   "metadata": {},
   "source": [
    "В Европе и Северной Америке примерно одинаковое количество продаж игр жанра \"Action\", 74.68 и 72.53 миллионов копий соответственно, при этом данный жанр самый популярный в Европе, в Северной Америке он занимает лишь второе место, также данный жанр популярен в Японии в ней он занимает второе место по количеству продаж с значением в 29.58 миллионов копий.\n",
    "\n",
    "На первом месте по продажам в Северной Америке жанр \"Shooter\", он также популярен в Европе в ней он на втором месте, в Японии данный жанр замыкает том пять жанров.\n",
    "\n",
    "Жанр \"Sports\" занимает третье место в Северной Америке и Европе и к тому же имеет примерно равное количество продаж в данных регионах 46.13 и 45.73 миллионов копий соответственно. \n",
    "\n",
    "Жанр \"Role-Playing\" занимает первое место по количеству продаж в Японии и четвертое в Европе и Северной Америке.\n",
    "\n",
    "Из данный следует, что в регионах Северная Америка и Европа более схожи пользовательские предпочтения, с регионом Япония они имеют существенные различия. "
   ]
  },
  {
   "cell_type": "markdown",
   "metadata": {},
   "source": [
    "Распределение продаж по категориям рейтинга ESRB."
   ]
  },
  {
   "cell_type": "code",
   "execution_count": 52,
   "metadata": {},
   "outputs": [
    {
     "name": "stdout",
     "output_type": "stream",
     "text": [
      "   rating  na_sales\n",
      "0       M     96.42\n",
      "1  unknow     64.72\n",
      "2       E     50.74\n",
      "3       T     38.95\n",
      "4    E10+     33.23\n"
     ]
    },
    {
     "data": {
      "image/png": "[encoded data removed]",
      "text/plain": [
       "<Figure size 432x288 with 1 Axes>"
      ]
     },
     "metadata": {
      "needs_background": "light"
     },
     "output_type": "display_data"
    }
   ],
   "source": [
    "rating_na = df_actual.groupby('rating')['na_sales'].sum().sort_values(ascending=False).reset_index()\n",
    "print(rating_na)\n",
    "rating_na.plot.bar(x='rating',y='na_sales')\n",
    "plt.show()"
   ]
  },
  {
   "cell_type": "code",
   "execution_count": 53,
   "metadata": {},
   "outputs": [
    {
     "name": "stdout",
     "output_type": "stream",
     "text": [
      "   rating  eu_sales\n",
      "0       M     93.44\n",
      "1  unknow     58.95\n",
      "2       E     58.06\n",
      "3       T     34.07\n",
      "4    E10+     26.16\n"
     ]
    },
    {
     "data": {
      "image/png": "[encoded data removed]",
      "text/plain": [
       "<Figure size 432x288 with 1 Axes>"
      ]
     },
     "metadata": {
      "needs_background": "light"
     },
     "output_type": "display_data"
    }
   ],
   "source": [
    "rating_eu = df_actual.groupby('rating')['eu_sales'].sum().sort_values(ascending=False).reset_index()\n",
    "print(rating_eu)\n",
    "rating_eu.plot.bar(x='rating',y='eu_sales')\n",
    "plt.show()"
   ]
  },
  {
   "cell_type": "code",
   "execution_count": 54,
   "metadata": {},
   "outputs": [
    {
     "name": "stdout",
     "output_type": "stream",
     "text": [
      "   rating  jp_sales\n",
      "0  unknow     56.90\n",
      "1       T     14.78\n",
      "2       E      8.94\n",
      "3       M      8.01\n",
      "4    E10+      4.46\n"
     ]
    },
    {
     "data": {
      "image/png": "[encoded data removed]",
      "text/plain": [
       "<Figure size 432x288 with 1 Axes>"
      ]
     },
     "metadata": {
      "needs_background": "light"
     },
     "output_type": "display_data"
    }
   ],
   "source": [
    "rating_jp = df_actual.groupby('rating')['jp_sales'].sum().sort_values(ascending=False).reset_index()\n",
    "print(rating_jp)\n",
    "rating_jp.plot.bar(x='rating',y='jp_sales')\n",
    "plt.show()"
   ]
  },
  {
   "cell_type": "markdown",
   "metadata": {},
   "source": [
    "Добавим расшифровку к буквенному обозначению категории рейтинга ESRB:\n",
    "\n",
    "* «E» («Everyone») — «Для всех»\n",
    "* «E10+» («Everyone 10 and older») — «Для всех от 10 лет и старше»\n",
    "* «T» («Teen») — «Подросткам»\n",
    "* «M» («Mature») — «Для взрослых»\n",
    "\n",
    "\"Unknown\" - неизвестные, пропущенные значения, которые могли принадлежать к любой категории.\n",
    "\n",
    "Распределения проданных копий игр по рейтингу ESRB для рынков Северной Америки и Европы почти идентичны, в них преобладают игры категории «M» («Mature») — «Для взрослых, большую долю занимают игры без данных о рейтинге, далее располагается категория «E» — «Для всех», далее «T» — «Подросткам» и наименее распространённая «E10+» — «Для всех от 10 лет и старше».\n",
    "\n",
    "Распределение рынка Японии выглядит совершенно иначе. Наибольшее и в разы превосходящие остальные данные занимают неизвестные данные (61% от всех данных рынка Японии). Наиболее популярная в других регионах категория «M», занимает лишь 8,6% рынка Японии, можно предположить, что такое распределение связано с законодательством Японии.\n"
   ]
  },
  {
   "cell_type": "markdown",
   "metadata": {},
   "source": [
    "<a id=\"step_4\"></a> \n",
    "## Проверка Гипотез"
   ]
  },
  {
   "cell_type": "markdown",
   "metadata": {},
   "source": [
    "<a id=\"step_4.1\"></a> \n",
    "### Проверка гипотезы: Средние пользовательские рейтинги платформ Xbox One и PC одинаковые."
   ]
  },
  {
   "cell_type": "markdown",
   "metadata": {},
   "source": [
    "Чтобы проверить гипотезу выбран метод `scipy.stats.ttest_ind` так как он позволяет проверить гипотезы о равенстве среднего двух генеральных совокупностей по взятым из них выборкам. Нулевая гипотеза в данных случаях всегда о равенстве средних, альтернативная противоположная о неравенстве.\n",
    "\n",
    "Сформулируем нулевую гипотезу:\n",
    "\n",
    "Средние пользовательские рейтинги платформ Xbox One и PC одинаковые.\n",
    "\n",
    "Сформируем альтернативную гипотезу:\n",
    "\n",
    "Средние пользовательские рейтинги платформ Xbox One и PC различны."
   ]
  },
  {
   "cell_type": "code",
   "execution_count": 55,
   "metadata": {},
   "outputs": [
    {
     "name": "stdout",
     "output_type": "stream",
     "text": [
      "p-значение: 0.10450507919348415\n",
      "Не получилось отвергнуть нулевую гипотезу, средние пользовательские рейтинги платформ Xbox One и PC одинаковые \n"
     ]
    }
   ],
   "source": [
    "from scipy import stats as st\n",
    "user_rating_xone = df_actual.query('platform == \"XOne\"')['user_score'].dropna()\n",
    "user_rating_pc = df_actual.query('platform == \"PC\"')['user_score'].dropna()\n",
    "alpha = 0.05\n",
    "results = st.ttest_ind(\n",
    "user_rating_xone,\n",
    "user_rating_pc\n",
    ")\n",
    "\n",
    "print('p-значение:', results.pvalue)\n",
    "\n",
    "if results.pvalue < alpha:\n",
    "    print(\"Отвергаем нулевую гипотезу, cредние пользовательские рейтинги платформ Xbox One и PC различны\")\n",
    "else:\n",
    "    print(\"Не получилось отвергнуть нулевую гипотезу, средние пользовательские рейтинги платформ Xbox One и PC одинаковые \")"
   ]
  },
  {
   "cell_type": "markdown",
   "metadata": {},
   "source": [
    "<a id=\"step_4.2\"></a> \n",
    "### Проверка гипотезы: Средние пользовательские рейтинги жанров Action и Sports  разные."
   ]
  },
  {
   "cell_type": "markdown",
   "metadata": {},
   "source": [
    "В данном случае также выбран метод `scipy.stats.ttest_ind` .\n",
    "\n",
    "Сформулируем нулевую гипотезу:\n",
    "\n",
    "Средние пользовательские рейтинги жанров Action и Sports одинаковые.\n",
    "\n",
    "Сформируем альтернативную гипотезу:\n",
    "\n",
    "Средние пользовательские рейтинги жанров Action и Sports различаются."
   ]
  },
  {
   "cell_type": "code",
   "execution_count": 56,
   "metadata": {},
   "outputs": [
    {
     "name": "stdout",
     "output_type": "stream",
     "text": [
      "p-значение: 2.8711147985105864e-19\n",
      "Отвергаем нулевую гипотезу, Средние пользовательские рейтинги жанров Action и Sports различны\n"
     ]
    }
   ],
   "source": [
    "user_rating_action = df_actual.query('genre == \"Action\"')['user_score'].dropna()\n",
    "user_rating_sports = df_actual.query('genre == \"Sports\"')['user_score'].dropna()\n",
    "alpha = 0.05\n",
    "results = st.ttest_ind(\n",
    "user_rating_action,\n",
    "user_rating_sports\n",
    ")\n",
    "\n",
    "print('p-значение:', results.pvalue)\n",
    "\n",
    "if results.pvalue < alpha:\n",
    "    print(\"Отвергаем нулевую гипотезу, Средние пользовательские рейтинги жанров Action и Sports различны\")\n",
    "else:\n",
    "    print(\"Не получилось отвергнуть нулевую гипотезу, Средние пользовательские рейтинги жанров Action и Sports одинаковые \")"
   ]
  },
  {
   "cell_type": "markdown",
   "metadata": {},
   "source": [
    "<a id=\"step_5\"></a> \n",
    "## Общий вывод"
   ]
  },
  {
   "cell_type": "markdown",
   "metadata": {},
   "source": [
    "Мы провели исследование данных о продажах игр, оценках пользователей и экспертов, жанрах и платформах.\n",
    "\n",
    "На этапе исследовательского анализа данных мы:\n",
    "\n",
    "* построили график выпуска игр по годам и определили актуальный период для исследования.\n",
    "* определили платформы с наибольшими суммарными продажами и построили распределения по годам.\n",
    "* построили распределение продаж на платформах по годам, рассчитали продажи на различных платформах по годам и выделили платформы `PS4` , `XOne` и `3DS` как потенциально прибыльные.\n",
    "* построили диаграмму размаха по глобальным продажам игр в разбивке по платформам и определили на каких платформах есть выбросы, а точнее самые популярные игры, продажи которых многократно превышают продажи остальных игр, так обнаружили, что на платформе `PS4` сразу две очень популярные игры с количеством продаж 12,5 и 14,5 миллионов копий.\n",
    "* проанализировали влияние отзывов пользователей и критиков на продажи игр, так между параметрами отзывы критиков и продажи существует слабая корреляция, а между параметрами отзывы пользователей существует очень слабая корреляция, граничащая с полным ее отсутствием.\n",
    "* построили графики распределения общих продаж по жанрам, а также рассчитали сумму общих продаж и количество выпущенных игр c группировкой по жанрам и определили наиболее и наименее популярные жанры:\n",
    "\n",
    "    * Наиболее популярные и прибыльные игры в жанрах: \"Shooter\" , \"Action\" , \"Role-Playing\" , \"Sports\".\n",
    "\n",
    "    * Наименее популярные и прибыльные игры в жанрах: \"Puzzle\" , \"Strategy\" , \"Adventure\".\n",
    "    \n",
    "Далее мы определили портрет пользователя каждого региона.\n",
    "\n",
    "На данном этапе мы определили, что рынки игр в Северной Америке и Европе имеют схожие пользовательские предпочтения, в то время как рынок игр Японии имеет существенные различия.\n",
    "\n",
    "На четвертом этапе мы проверяли гипотезы.\n",
    "* гипотеза о равенстве средних пользовательских рейтингов платформ Xbox One и PC оказалась верна, нулевую гипотезу не удалось отвергнуть.\n",
    "* гипотеза о неравенстве средних пользовательских рейтингов жанров Action и Sports оказалась верна, нулевая гипотеза о равенстве отвергнута.\n",
    "\n",
    "Целью данного исследования было выявление определяющих успешность игры закономерностей, для возможности построения прогноза на 2017 год.\n",
    "\n",
    "Закономерности, определяющие успешность игры:\n",
    "\n",
    "Наиболее популярные и прибыльные игры в жанрах: \"Shooter\" и \"Action\", самый прибыльный жанр \"Shooter\", в нем есть сверхприбыльные игры с десятками миллионов проданных копий, также он лидирует на рынках Северной Америки и Европы, в которых наибольшее количество пользователей.\n",
    "\n",
    "Рынок игр имеет тенденцию снижения объема продаж за последние несколько лет, однако платформы `PS4` , `XOne` и `3DS` не так стремительно, как остальные снижают объемы продаж и все еще имеют большое количество проданных копий. Самая потенциально прибыльная платформа `PS4` она имеет наибольший объем продаж за 2016 год, а также именно на ней расположено наибольшее количество популярных и  сверхпопулярных игр с десятками миллионов проданных копий.\n",
    "\n",
    "Для наибольшей успешности игры она должна иметь рейтинг «M» («Mature») — «Для взрослых» по категориям рейтинга ESRB, так как данная категория наиболее популярна среди пользователей двух масштабных ранках Северной Америки и Европы."
   ]
  },
  {
   "cell_type": "code",
   "execution_count": null,
   "metadata": {},
   "outputs": [],
   "source": []
  }
 ],
 "metadata": {
  "ExecuteTimeLog": [
   {
    "duration": 1302,
    "start_time": "2022-04-18T13:55:04.515Z"
   },
   {
    "duration": 22,
    "start_time": "2022-04-18T13:55:05.820Z"
   },
   {
    "duration": 22,
    "start_time": "2022-04-18T13:55:06.520Z"
   },
   {
    "duration": 27,
    "start_time": "2022-04-18T13:55:06.984Z"
   },
   {
    "duration": 30,
    "start_time": "2022-04-18T13:55:07.809Z"
   },
   {
    "duration": 22,
    "start_time": "2022-04-18T13:55:08.840Z"
   },
   {
    "duration": 20,
    "start_time": "2022-04-18T13:55:09.369Z"
   },
   {
    "duration": 7,
    "start_time": "2022-04-18T13:55:09.805Z"
   },
   {
    "duration": 11,
    "start_time": "2022-04-18T13:55:10.257Z"
   },
   {
    "duration": 25,
    "start_time": "2022-04-18T13:55:11.305Z"
   },
   {
    "duration": 264,
    "start_time": "2022-04-18T13:55:12.849Z"
   },
   {
    "duration": 8,
    "start_time": "2022-04-18T13:55:14.313Z"
   },
   {
    "duration": 16,
    "start_time": "2022-04-18T13:55:14.769Z"
   },
   {
    "duration": 38,
    "start_time": "2022-04-18T13:55:15.233Z"
   },
   {
    "duration": 308,
    "start_time": "2022-04-18T13:55:15.706Z"
   },
   {
    "duration": 37,
    "start_time": "2022-04-18T13:55:16.171Z"
   },
   {
    "duration": 17,
    "start_time": "2022-04-18T13:55:16.753Z"
   },
   {
    "duration": 8,
    "start_time": "2022-04-18T13:55:17.242Z"
   },
   {
    "duration": 31,
    "start_time": "2022-04-18T13:55:17.746Z"
   },
   {
    "duration": 637,
    "start_time": "2022-04-18T13:55:18.681Z"
   },
   {
    "duration": 32,
    "start_time": "2022-04-18T13:55:19.320Z"
   },
   {
    "duration": 5,
    "start_time": "2022-04-18T13:55:20.033Z"
   },
   {
    "duration": 53,
    "start_time": "2022-04-18T13:55:20.477Z"
   },
   {
    "duration": 32,
    "start_time": "2022-04-18T13:55:21.889Z"
   },
   {
    "duration": 1076,
    "start_time": "2022-04-18T13:55:22.785Z"
   },
   {
    "duration": 447,
    "start_time": "2022-04-18T13:55:23.864Z"
   },
   {
    "duration": 18,
    "start_time": "2022-04-18T13:55:24.314Z"
   },
   {
    "duration": 8,
    "start_time": "2022-04-18T13:55:24.722Z"
   },
   {
    "duration": 10,
    "start_time": "2022-04-18T13:55:25.721Z"
   },
   {
    "duration": 16,
    "start_time": "2022-04-18T13:55:26.242Z"
   },
   {
    "duration": 739,
    "start_time": "2022-04-18T13:55:26.715Z"
   },
   {
    "duration": 620,
    "start_time": "2022-04-18T13:55:27.456Z"
   },
   {
    "duration": 1798,
    "start_time": "2022-04-18T13:55:28.157Z"
   },
   {
    "duration": 2155,
    "start_time": "2022-04-18T13:55:29.957Z"
   },
   {
    "duration": 11,
    "start_time": "2022-04-18T13:55:32.115Z"
   },
   {
    "duration": 21,
    "start_time": "2022-04-18T13:55:32.128Z"
   },
   {
    "duration": 1392,
    "start_time": "2022-04-18T13:55:32.152Z"
   },
   {
    "duration": 511,
    "start_time": "2022-04-18T13:55:33.548Z"
   },
   {
    "duration": 41,
    "start_time": "2022-04-18T13:55:34.062Z"
   },
   {
    "duration": 216,
    "start_time": "2022-04-18T13:55:35.026Z"
   },
   {
    "duration": 198,
    "start_time": "2022-04-18T13:55:35.508Z"
   },
   {
    "duration": 203,
    "start_time": "2022-04-18T13:55:36.018Z"
   },
   {
    "duration": 330,
    "start_time": "2022-04-18T13:55:45.460Z"
   },
   {
    "duration": 231,
    "start_time": "2022-04-18T13:55:47.407Z"
   },
   {
    "duration": 228,
    "start_time": "2022-04-18T13:55:47.917Z"
   },
   {
    "duration": 228,
    "start_time": "2022-04-18T13:55:48.388Z"
   },
   {
    "duration": 205,
    "start_time": "2022-04-18T13:55:49.764Z"
   },
   {
    "duration": 209,
    "start_time": "2022-04-18T13:55:50.268Z"
   },
   {
    "duration": 219,
    "start_time": "2022-04-18T13:55:50.789Z"
   },
   {
    "duration": 13,
    "start_time": "2022-04-18T13:55:53.317Z"
   },
   {
    "duration": 14,
    "start_time": "2022-04-18T13:55:54.829Z"
   },
   {
    "duration": 1226,
    "start_time": "2022-04-26T19:27:29.963Z"
   },
   {
    "duration": 16,
    "start_time": "2022-04-26T19:27:31.192Z"
   },
   {
    "duration": 31,
    "start_time": "2022-04-26T19:27:31.209Z"
   },
   {
    "duration": 13,
    "start_time": "2022-04-26T19:27:31.242Z"
   },
   {
    "duration": 25,
    "start_time": "2022-04-26T19:27:31.258Z"
   },
   {
    "duration": 21,
    "start_time": "2022-04-26T19:27:31.285Z"
   },
   {
    "duration": 27,
    "start_time": "2022-04-26T19:27:31.309Z"
   },
   {
    "duration": 6,
    "start_time": "2022-04-26T19:27:31.338Z"
   },
   {
    "duration": 26,
    "start_time": "2022-04-26T19:27:31.346Z"
   },
   {
    "duration": 25,
    "start_time": "2022-04-26T19:27:31.374Z"
   },
   {
    "duration": 191,
    "start_time": "2022-04-26T19:27:31.401Z"
   },
   {
    "duration": 7,
    "start_time": "2022-04-26T19:27:31.594Z"
   },
   {
    "duration": 31,
    "start_time": "2022-04-26T19:27:31.603Z"
   },
   {
    "duration": 36,
    "start_time": "2022-04-26T19:27:31.638Z"
   },
   {
    "duration": 289,
    "start_time": "2022-04-26T19:27:31.676Z"
   },
   {
    "duration": 22,
    "start_time": "2022-04-26T19:27:31.968Z"
   },
   {
    "duration": 11,
    "start_time": "2022-04-26T19:27:31.991Z"
   },
   {
    "duration": 7,
    "start_time": "2022-04-26T19:27:32.024Z"
   },
   {
    "duration": 31,
    "start_time": "2022-04-26T19:27:32.033Z"
   },
   {
    "duration": 439,
    "start_time": "2022-04-26T19:27:32.066Z"
   },
   {
    "duration": 34,
    "start_time": "2022-04-26T19:27:32.507Z"
   },
   {
    "duration": 2,
    "start_time": "2022-04-26T19:27:32.543Z"
   },
   {
    "duration": 34,
    "start_time": "2022-04-26T19:27:32.547Z"
   },
   {
    "duration": 43,
    "start_time": "2022-04-26T19:27:32.582Z"
   },
   {
    "duration": 721,
    "start_time": "2022-04-26T19:27:32.627Z"
   },
   {
    "duration": 252,
    "start_time": "2022-04-26T19:27:33.349Z"
   },
   {
    "duration": 22,
    "start_time": "2022-04-26T19:27:33.603Z"
   },
   {
    "duration": 8,
    "start_time": "2022-04-26T19:27:33.627Z"
   },
   {
    "duration": 8,
    "start_time": "2022-04-26T19:27:33.636Z"
   },
   {
    "duration": 13,
    "start_time": "2022-04-26T19:27:33.645Z"
   },
   {
    "duration": 442,
    "start_time": "2022-04-26T19:27:33.659Z"
   },
   {
    "duration": 368,
    "start_time": "2022-04-26T19:27:34.103Z"
   },
   {
    "duration": 1375,
    "start_time": "2022-04-26T19:27:34.473Z"
   },
   {
    "duration": 1193,
    "start_time": "2022-04-26T19:27:35.850Z"
   },
   {
    "duration": 9,
    "start_time": "2022-04-26T19:27:37.045Z"
   },
   {
    "duration": 37,
    "start_time": "2022-04-26T19:27:37.056Z"
   },
   {
    "duration": 695,
    "start_time": "2022-04-26T19:27:37.094Z"
   },
   {
    "duration": 273,
    "start_time": "2022-04-26T19:27:37.791Z"
   },
   {
    "duration": 14,
    "start_time": "2022-04-26T19:27:38.066Z"
   },
   {
    "duration": 141,
    "start_time": "2022-04-26T19:27:38.082Z"
   },
   {
    "duration": 132,
    "start_time": "2022-04-26T19:27:38.228Z"
   },
   {
    "duration": 214,
    "start_time": "2022-04-26T19:27:38.362Z"
   },
   {
    "duration": 213,
    "start_time": "2022-04-26T19:27:38.578Z"
   },
   {
    "duration": 144,
    "start_time": "2022-04-26T19:27:38.793Z"
   },
   {
    "duration": 141,
    "start_time": "2022-04-26T19:27:38.940Z"
   },
   {
    "duration": 140,
    "start_time": "2022-04-26T19:27:39.083Z"
   },
   {
    "duration": 184,
    "start_time": "2022-04-26T19:27:39.225Z"
   },
   {
    "duration": 136,
    "start_time": "2022-04-26T19:27:39.411Z"
   },
   {
    "duration": 10,
    "start_time": "2022-04-26T19:27:39.549Z"
   },
   {
    "duration": 11,
    "start_time": "2022-04-26T19:27:39.562Z"
   },
   {
    "duration": 4,
    "start_time": "2022-04-26T19:32:30.982Z"
   },
   {
    "duration": 6,
    "start_time": "2022-04-26T19:37:10.591Z"
   },
   {
    "duration": 1132,
    "start_time": "2022-04-27T10:35:20.229Z"
   },
   {
    "duration": 14,
    "start_time": "2022-04-27T10:35:22.078Z"
   },
   {
    "duration": 86,
    "start_time": "2022-04-27T10:35:58.263Z"
   },
   {
    "duration": 17,
    "start_time": "2022-04-27T10:37:54.125Z"
   },
   {
    "duration": 190,
    "start_time": "2022-04-27T10:39:42.420Z"
   },
   {
    "duration": 14,
    "start_time": "2022-04-27T10:41:08.750Z"
   },
   {
    "duration": 24,
    "start_time": "2022-04-27T10:41:09.566Z"
   },
   {
    "duration": 20,
    "start_time": "2022-04-27T10:41:10.420Z"
   },
   {
    "duration": 15,
    "start_time": "2022-04-27T10:41:24.575Z"
   },
   {
    "duration": 16,
    "start_time": "2022-04-27T11:02:44.306Z"
   },
   {
    "duration": 10,
    "start_time": "2022-04-27T11:13:02.219Z"
   },
   {
    "duration": 65,
    "start_time": "2022-04-27T11:13:18.511Z"
   },
   {
    "duration": 15,
    "start_time": "2022-04-27T11:13:18.852Z"
   },
   {
    "duration": 15,
    "start_time": "2022-04-27T11:13:19.164Z"
   },
   {
    "duration": 14,
    "start_time": "2022-04-27T11:13:20.158Z"
   },
   {
    "duration": 20,
    "start_time": "2022-04-27T11:13:20.802Z"
   },
   {
    "duration": 15,
    "start_time": "2022-04-27T11:13:21.499Z"
   },
   {
    "duration": 7,
    "start_time": "2022-04-27T11:13:21.840Z"
   },
   {
    "duration": 15,
    "start_time": "2022-04-27T11:13:22.539Z"
   },
   {
    "duration": 5,
    "start_time": "2022-04-27T11:13:22.893Z"
   },
   {
    "duration": 9,
    "start_time": "2022-04-27T11:13:23.257Z"
   },
   {
    "duration": 313,
    "start_time": "2022-04-27T11:13:24.392Z"
   },
   {
    "duration": 14,
    "start_time": "2022-04-27T11:13:24.806Z"
   },
   {
    "duration": 13,
    "start_time": "2022-04-27T11:13:38.988Z"
   },
   {
    "duration": 160,
    "start_time": "2022-04-27T11:13:40.703Z"
   },
   {
    "duration": 6,
    "start_time": "2022-04-27T11:13:42.168Z"
   },
   {
    "duration": 13,
    "start_time": "2022-04-27T11:13:42.528Z"
   },
   {
    "duration": 29,
    "start_time": "2022-04-27T11:13:42.918Z"
   },
   {
    "duration": 196,
    "start_time": "2022-04-27T11:13:43.326Z"
   },
   {
    "duration": 200,
    "start_time": "2022-04-27T11:13:51.277Z"
   },
   {
    "duration": 220,
    "start_time": "2022-04-27T11:14:02.387Z"
   },
   {
    "duration": 465,
    "start_time": "2022-04-27T11:15:43.237Z"
   },
   {
    "duration": 20,
    "start_time": "2022-04-27T11:16:22.397Z"
   },
   {
    "duration": 11,
    "start_time": "2022-04-27T11:16:22.986Z"
   },
   {
    "duration": 7,
    "start_time": "2022-04-27T11:16:24.132Z"
   },
   {
    "duration": 76,
    "start_time": "2022-04-27T11:16:24.733Z"
   },
   {
    "duration": 276,
    "start_time": "2022-04-27T11:16:26.408Z"
   },
   {
    "duration": 22,
    "start_time": "2022-04-27T11:16:27.131Z"
   },
   {
    "duration": 3,
    "start_time": "2022-04-27T11:16:27.668Z"
   },
   {
    "duration": 32,
    "start_time": "2022-04-27T11:16:28.089Z"
   },
   {
    "duration": 557,
    "start_time": "2022-04-27T11:19:17.535Z"
   },
   {
    "duration": 383,
    "start_time": "2022-04-27T11:20:11.541Z"
   },
   {
    "duration": 11,
    "start_time": "2022-04-27T11:21:29.786Z"
   },
   {
    "duration": 3,
    "start_time": "2022-04-27T11:28:24.171Z"
   },
   {
    "duration": 54,
    "start_time": "2022-04-27T11:28:24.560Z"
   },
   {
    "duration": 13,
    "start_time": "2022-04-27T11:28:24.991Z"
   },
   {
    "duration": 14,
    "start_time": "2022-04-27T11:28:25.414Z"
   },
   {
    "duration": 14,
    "start_time": "2022-04-27T11:28:36.258Z"
   },
   {
    "duration": 18,
    "start_time": "2022-04-27T11:28:56.695Z"
   },
   {
    "duration": 16,
    "start_time": "2022-04-27T11:28:58.148Z"
   },
   {
    "duration": 6,
    "start_time": "2022-04-27T11:29:01.681Z"
   },
   {
    "duration": 11,
    "start_time": "2022-04-27T11:35:27.403Z"
   },
   {
    "duration": 14,
    "start_time": "2022-04-27T11:42:35.514Z"
   },
   {
    "duration": 4,
    "start_time": "2022-04-27T11:42:35.967Z"
   },
   {
    "duration": 7,
    "start_time": "2022-04-27T11:42:36.368Z"
   },
   {
    "duration": 16,
    "start_time": "2022-04-27T11:42:46.778Z"
   },
   {
    "duration": 147,
    "start_time": "2022-04-27T11:42:48.720Z"
   },
   {
    "duration": 11,
    "start_time": "2022-04-27T11:46:55.498Z"
   },
   {
    "duration": 1097,
    "start_time": "2022-04-27T11:47:11.102Z"
   },
   {
    "duration": 1010,
    "start_time": "2022-04-27T11:48:17.691Z"
   },
   {
    "duration": 716,
    "start_time": "2022-04-27T11:50:47.573Z"
   },
   {
    "duration": 389,
    "start_time": "2022-04-27T11:50:59.717Z"
   },
   {
    "duration": 262,
    "start_time": "2022-04-27T11:51:35.981Z"
   },
   {
    "duration": 991,
    "start_time": "2022-04-27T11:51:52.649Z"
   },
   {
    "duration": 258,
    "start_time": "2022-04-27T11:53:22.307Z"
   },
   {
    "duration": 20,
    "start_time": "2022-04-27T11:53:51.752Z"
   },
   {
    "duration": 245,
    "start_time": "2022-04-27T11:54:28.073Z"
   },
   {
    "duration": 965,
    "start_time": "2022-04-27T11:54:47.916Z"
   },
   {
    "duration": 962,
    "start_time": "2022-04-27T11:55:44.983Z"
   },
   {
    "duration": 1065,
    "start_time": "2022-04-27T11:56:08.121Z"
   },
   {
    "duration": 1116,
    "start_time": "2022-04-27T11:56:47.437Z"
   },
   {
    "duration": 1027,
    "start_time": "2022-04-27T11:57:04.158Z"
   },
   {
    "duration": 1040,
    "start_time": "2022-04-27T11:57:20.954Z"
   },
   {
    "duration": 958,
    "start_time": "2022-04-27T11:57:56.509Z"
   },
   {
    "duration": 1764,
    "start_time": "2022-04-27T11:58:03.208Z"
   },
   {
    "duration": 8,
    "start_time": "2022-04-27T11:58:16.106Z"
   },
   {
    "duration": 12,
    "start_time": "2022-04-27T11:58:16.449Z"
   },
   {
    "duration": 25,
    "start_time": "2022-04-27T11:58:16.739Z"
   },
   {
    "duration": 191,
    "start_time": "2022-04-27T11:58:17.082Z"
   },
   {
    "duration": 313,
    "start_time": "2022-04-27T11:58:17.737Z"
   },
   {
    "duration": 22,
    "start_time": "2022-04-27T11:58:18.378Z"
   },
   {
    "duration": 19,
    "start_time": "2022-04-27T11:58:18.734Z"
   },
   {
    "duration": 7,
    "start_time": "2022-04-27T11:58:19.090Z"
   },
   {
    "duration": 21,
    "start_time": "2022-04-27T11:58:19.430Z"
   },
   {
    "duration": 430,
    "start_time": "2022-04-27T11:58:20.048Z"
   },
   {
    "duration": 26,
    "start_time": "2022-04-27T11:58:20.481Z"
   },
   {
    "duration": 4,
    "start_time": "2022-04-27T11:58:20.744Z"
   },
   {
    "duration": 39,
    "start_time": "2022-04-27T11:58:21.111Z"
   },
   {
    "duration": 19,
    "start_time": "2022-04-27T11:58:22.965Z"
   },
   {
    "duration": 355,
    "start_time": "2022-04-27T11:58:24.238Z"
   },
   {
    "duration": 384,
    "start_time": "2022-04-27T11:58:25.020Z"
   },
   {
    "duration": 21,
    "start_time": "2022-04-27T11:58:26.249Z"
   },
   {
    "duration": 6,
    "start_time": "2022-04-27T11:58:26.650Z"
   },
   {
    "duration": 7,
    "start_time": "2022-04-27T11:58:27.478Z"
   },
   {
    "duration": 12,
    "start_time": "2022-04-27T11:58:27.873Z"
   },
   {
    "duration": 370,
    "start_time": "2022-04-27T11:58:28.302Z"
   },
   {
    "duration": 369,
    "start_time": "2022-04-27T11:58:29.107Z"
   },
   {
    "duration": 1643,
    "start_time": "2022-04-27T11:58:30.051Z"
   },
   {
    "duration": 1264,
    "start_time": "2022-04-27T11:58:31.696Z"
   },
   {
    "duration": 9,
    "start_time": "2022-04-27T11:58:34.284Z"
   },
   {
    "duration": 16,
    "start_time": "2022-04-27T11:58:34.726Z"
   },
   {
    "duration": 1377,
    "start_time": "2022-04-27T11:59:13.524Z"
   },
   {
    "duration": 717,
    "start_time": "2022-04-27T11:59:23.818Z"
   },
   {
    "duration": 14,
    "start_time": "2022-04-27T13:14:43.543Z"
   },
   {
    "duration": 14,
    "start_time": "2022-04-27T13:15:36.786Z"
   },
   {
    "duration": 328,
    "start_time": "2022-04-27T13:17:31.212Z"
   },
   {
    "duration": 3,
    "start_time": "2022-04-27T13:18:28.459Z"
   },
   {
    "duration": 2006,
    "start_time": "2022-04-27T13:18:28.856Z"
   },
   {
    "duration": 13,
    "start_time": "2022-04-27T13:18:30.864Z"
   },
   {
    "duration": 14,
    "start_time": "2022-04-27T13:18:30.879Z"
   },
   {
    "duration": 29,
    "start_time": "2022-04-27T13:18:30.895Z"
   },
   {
    "duration": 23,
    "start_time": "2022-04-27T13:18:31.720Z"
   },
   {
    "duration": 15,
    "start_time": "2022-04-27T13:18:32.445Z"
   },
   {
    "duration": 7,
    "start_time": "2022-04-27T13:18:32.859Z"
   },
   {
    "duration": 9,
    "start_time": "2022-04-27T13:18:33.603Z"
   },
   {
    "duration": 14,
    "start_time": "2022-04-27T13:18:34.403Z"
   },
   {
    "duration": 5,
    "start_time": "2022-04-27T13:18:34.798Z"
   },
   {
    "duration": 8,
    "start_time": "2022-04-27T13:18:35.194Z"
   },
   {
    "duration": 15,
    "start_time": "2022-04-27T13:18:36.385Z"
   },
   {
    "duration": 157,
    "start_time": "2022-04-27T13:18:38.799Z"
   },
   {
    "duration": 7,
    "start_time": "2022-04-27T13:18:45.722Z"
   },
   {
    "duration": 16,
    "start_time": "2022-04-27T13:18:45.732Z"
   },
   {
    "duration": 21,
    "start_time": "2022-04-27T13:18:45.749Z"
   },
   {
    "duration": 190,
    "start_time": "2022-04-27T13:18:45.771Z"
   },
   {
    "duration": 181,
    "start_time": "2022-04-27T13:18:46.383Z"
   },
   {
    "duration": 21,
    "start_time": "2022-04-27T13:18:47.212Z"
   },
   {
    "duration": 11,
    "start_time": "2022-04-27T13:18:47.663Z"
   },
   {
    "duration": 5,
    "start_time": "2022-04-27T13:18:48.070Z"
   },
   {
    "duration": 19,
    "start_time": "2022-04-27T13:18:48.466Z"
   },
   {
    "duration": 272,
    "start_time": "2022-04-27T13:18:49.373Z"
   },
   {
    "duration": 24,
    "start_time": "2022-04-27T13:18:49.804Z"
   },
   {
    "duration": 4,
    "start_time": "2022-04-27T13:18:50.223Z"
   },
   {
    "duration": 28,
    "start_time": "2022-04-27T13:18:50.706Z"
   },
   {
    "duration": 19,
    "start_time": "2022-04-27T13:18:52.809Z"
   },
   {
    "duration": 232,
    "start_time": "2022-04-27T13:18:53.651Z"
   },
   {
    "duration": 354,
    "start_time": "2022-04-27T13:18:54.970Z"
   },
   {
    "duration": 13,
    "start_time": "2022-04-27T13:18:56.313Z"
   },
   {
    "duration": 7,
    "start_time": "2022-04-27T13:18:56.835Z"
   },
   {
    "duration": 9,
    "start_time": "2022-04-27T13:18:57.736Z"
   },
   {
    "duration": 11,
    "start_time": "2022-04-27T13:18:58.153Z"
   },
   {
    "duration": 338,
    "start_time": "2022-04-27T13:18:58.594Z"
   },
   {
    "duration": 309,
    "start_time": "2022-04-27T13:18:59.510Z"
   },
   {
    "duration": 952,
    "start_time": "2022-04-27T13:19:00.343Z"
   },
   {
    "duration": 1165,
    "start_time": "2022-04-27T13:19:01.661Z"
   },
   {
    "duration": 8,
    "start_time": "2022-04-27T13:19:03.495Z"
   },
   {
    "duration": 12,
    "start_time": "2022-04-27T13:19:03.938Z"
   },
   {
    "duration": 781,
    "start_time": "2022-04-27T13:19:04.394Z"
   },
   {
    "duration": 258,
    "start_time": "2022-04-27T13:19:05.686Z"
   },
   {
    "duration": 15,
    "start_time": "2022-04-27T13:19:06.536Z"
   },
   {
    "duration": 225,
    "start_time": "2022-04-27T13:19:08.691Z"
   },
   {
    "duration": 146,
    "start_time": "2022-04-27T13:19:09.099Z"
   },
   {
    "duration": 126,
    "start_time": "2022-04-27T13:19:09.543Z"
   },
   {
    "duration": 161,
    "start_time": "2022-04-27T13:19:11.224Z"
   },
   {
    "duration": 165,
    "start_time": "2022-04-27T13:19:11.739Z"
   },
   {
    "duration": 150,
    "start_time": "2022-04-27T13:19:12.211Z"
   },
   {
    "duration": 163,
    "start_time": "2022-04-27T13:19:13.928Z"
   },
   {
    "duration": 189,
    "start_time": "2022-04-27T13:19:14.345Z"
   },
   {
    "duration": 143,
    "start_time": "2022-04-27T13:19:14.790Z"
   },
   {
    "duration": 11,
    "start_time": "2022-04-27T13:19:17.511Z"
   },
   {
    "duration": 11,
    "start_time": "2022-04-27T13:19:19.009Z"
   },
   {
    "duration": 1389,
    "start_time": "2022-04-27T17:01:44.518Z"
   },
   {
    "duration": 75,
    "start_time": "2022-04-27T17:01:45.909Z"
   },
   {
    "duration": 18,
    "start_time": "2022-04-27T17:01:45.986Z"
   },
   {
    "duration": 36,
    "start_time": "2022-04-27T17:01:46.007Z"
   },
   {
    "duration": 17,
    "start_time": "2022-04-27T17:01:46.045Z"
   },
   {
    "duration": 35,
    "start_time": "2022-04-27T17:01:46.064Z"
   },
   {
    "duration": 48,
    "start_time": "2022-04-27T17:01:46.101Z"
   },
   {
    "duration": 8,
    "start_time": "2022-04-27T17:01:46.151Z"
   },
   {
    "duration": 14,
    "start_time": "2022-04-27T17:01:46.161Z"
   },
   {
    "duration": 17,
    "start_time": "2022-04-27T17:01:46.178Z"
   },
   {
    "duration": 41,
    "start_time": "2022-04-27T17:01:46.197Z"
   },
   {
    "duration": 15,
    "start_time": "2022-04-27T17:01:46.239Z"
   },
   {
    "duration": 24,
    "start_time": "2022-04-27T17:01:46.256Z"
   },
   {
    "duration": 228,
    "start_time": "2022-04-27T17:01:46.283Z"
   },
   {
    "duration": 7,
    "start_time": "2022-04-27T17:01:46.513Z"
   },
   {
    "duration": 15,
    "start_time": "2022-04-27T17:01:46.536Z"
   },
   {
    "duration": 46,
    "start_time": "2022-04-27T17:01:46.552Z"
   },
   {
    "duration": 240,
    "start_time": "2022-04-27T17:01:46.600Z"
   },
   {
    "duration": 275,
    "start_time": "2022-04-27T17:01:46.842Z"
   },
   {
    "duration": 26,
    "start_time": "2022-04-27T17:01:47.119Z"
   },
   {
    "duration": 25,
    "start_time": "2022-04-27T17:01:47.148Z"
   },
   {
    "duration": 16,
    "start_time": "2022-04-27T17:01:47.175Z"
   },
   {
    "duration": 59,
    "start_time": "2022-04-27T17:01:47.192Z"
   },
   {
    "duration": 354,
    "start_time": "2022-04-27T17:01:47.255Z"
   },
   {
    "duration": 45,
    "start_time": "2022-04-27T17:01:47.611Z"
   },
   {
    "duration": 4,
    "start_time": "2022-04-27T17:01:47.658Z"
   },
   {
    "duration": 73,
    "start_time": "2022-04-27T17:01:47.664Z"
   },
   {
    "duration": 25,
    "start_time": "2022-04-27T17:01:47.743Z"
   },
   {
    "duration": 313,
    "start_time": "2022-04-27T17:01:47.770Z"
   },
   {
    "duration": 304,
    "start_time": "2022-04-27T17:01:48.085Z"
   },
   {
    "duration": 15,
    "start_time": "2022-04-27T17:01:48.391Z"
   },
   {
    "duration": 26,
    "start_time": "2022-04-27T17:01:48.408Z"
   },
   {
    "duration": 18,
    "start_time": "2022-04-27T17:01:48.437Z"
   },
   {
    "duration": 16,
    "start_time": "2022-04-27T17:01:48.457Z"
   },
   {
    "duration": 503,
    "start_time": "2022-04-27T17:01:48.474Z"
   },
   {
    "duration": 434,
    "start_time": "2022-04-27T17:01:48.979Z"
   },
   {
    "duration": 1275,
    "start_time": "2022-04-27T17:01:49.415Z"
   },
   {
    "duration": 1490,
    "start_time": "2022-04-27T17:01:50.692Z"
   },
   {
    "duration": 9,
    "start_time": "2022-04-27T17:01:52.184Z"
   },
   {
    "duration": 45,
    "start_time": "2022-04-27T17:01:52.195Z"
   },
   {
    "duration": 877,
    "start_time": "2022-04-27T17:01:52.242Z"
   },
   {
    "duration": 362,
    "start_time": "2022-04-27T17:01:53.122Z"
   },
   {
    "duration": 15,
    "start_time": "2022-04-27T17:01:53.486Z"
   },
   {
    "duration": 267,
    "start_time": "2022-04-27T17:01:53.503Z"
   },
   {
    "duration": 157,
    "start_time": "2022-04-27T17:01:53.772Z"
   },
   {
    "duration": 155,
    "start_time": "2022-04-27T17:01:53.931Z"
   },
   {
    "duration": 178,
    "start_time": "2022-04-27T17:01:54.088Z"
   },
   {
    "duration": 176,
    "start_time": "2022-04-27T17:01:54.268Z"
   },
   {
    "duration": 181,
    "start_time": "2022-04-27T17:01:54.448Z"
   },
   {
    "duration": 168,
    "start_time": "2022-04-27T17:01:54.631Z"
   },
   {
    "duration": 165,
    "start_time": "2022-04-27T17:01:54.801Z"
   },
   {
    "duration": 174,
    "start_time": "2022-04-27T17:01:54.969Z"
   },
   {
    "duration": 13,
    "start_time": "2022-04-27T17:01:55.145Z"
   },
   {
    "duration": 11,
    "start_time": "2022-04-27T17:01:55.159Z"
   },
   {
    "duration": 139,
    "start_time": "2022-05-17T02:11:57.306Z"
   },
   {
    "duration": 1304,
    "start_time": "2022-05-17T23:59:14.449Z"
   },
   {
    "duration": 110,
    "start_time": "2022-05-17T23:59:17.017Z"
   },
   {
    "duration": 67,
    "start_time": "2022-05-17T23:59:25.756Z"
   },
   {
    "duration": 74,
    "start_time": "2022-05-18T00:00:18.588Z"
   },
   {
    "duration": 70,
    "start_time": "2022-05-18T00:00:25.353Z"
   },
   {
    "duration": 8,
    "start_time": "2022-05-18T00:01:56.336Z"
   },
   {
    "duration": 1451,
    "start_time": "2022-05-18T18:26:41.873Z"
   },
   {
    "duration": 101,
    "start_time": "2022-05-18T18:26:43.325Z"
   },
   {
    "duration": 8,
    "start_time": "2022-05-18T18:27:19.887Z"
   },
   {
    "duration": 15,
    "start_time": "2022-05-18T18:32:34.507Z"
   },
   {
    "duration": 15,
    "start_time": "2022-05-18T18:33:34.199Z"
   },
   {
    "duration": 18,
    "start_time": "2022-05-18T18:33:48.365Z"
   },
   {
    "duration": 24,
    "start_time": "2022-05-18T18:34:24.899Z"
   },
   {
    "duration": 32,
    "start_time": "2022-05-18T18:34:52.683Z"
   },
   {
    "duration": 20,
    "start_time": "2022-05-18T18:34:58.786Z"
   },
   {
    "duration": 23,
    "start_time": "2022-05-18T18:35:22.911Z"
   },
   {
    "duration": 3,
    "start_time": "2022-05-18T18:37:43.727Z"
   },
   {
    "duration": 99,
    "start_time": "2022-05-18T18:37:45.080Z"
   },
   {
    "duration": 17,
    "start_time": "2022-05-18T18:38:03.411Z"
   },
   {
    "duration": 15,
    "start_time": "2022-05-18T18:38:30.065Z"
   },
   {
    "duration": 23,
    "start_time": "2022-05-18T18:38:30.504Z"
   },
   {
    "duration": 35,
    "start_time": "2022-05-18T18:38:32.102Z"
   },
   {
    "duration": 11,
    "start_time": "2022-05-18T18:42:19.079Z"
   },
   {
    "duration": 122,
    "start_time": "2022-05-18T18:42:54.518Z"
   },
   {
    "duration": 22,
    "start_time": "2022-05-18T18:43:09.201Z"
   },
   {
    "duration": 17,
    "start_time": "2022-05-18T18:44:47.840Z"
   },
   {
    "duration": 17,
    "start_time": "2022-05-18T18:44:53.901Z"
   },
   {
    "duration": 7,
    "start_time": "2022-05-18T18:45:01.248Z"
   },
   {
    "duration": 11,
    "start_time": "2022-05-18T18:45:07.611Z"
   },
   {
    "duration": 146,
    "start_time": "2022-05-18T18:46:02.486Z"
   },
   {
    "duration": 144,
    "start_time": "2022-05-18T18:46:23.418Z"
   },
   {
    "duration": 11,
    "start_time": "2022-05-18T18:48:04.177Z"
   },
   {
    "duration": 163,
    "start_time": "2022-05-18T18:53:09.241Z"
   },
   {
    "duration": 45,
    "start_time": "2022-05-18T18:54:21.777Z"
   },
   {
    "duration": 13,
    "start_time": "2022-05-18T18:54:35.537Z"
   },
   {
    "duration": 10,
    "start_time": "2022-05-18T18:55:45.360Z"
   },
   {
    "duration": 3,
    "start_time": "2022-05-18T18:58:42.704Z"
   },
   {
    "duration": 70,
    "start_time": "2022-05-18T18:58:43.075Z"
   },
   {
    "duration": 16,
    "start_time": "2022-05-18T18:58:43.401Z"
   },
   {
    "duration": 23,
    "start_time": "2022-05-18T18:58:43.771Z"
   },
   {
    "duration": 27,
    "start_time": "2022-05-18T18:58:44.212Z"
   },
   {
    "duration": 14,
    "start_time": "2022-05-18T18:58:46.186Z"
   },
   {
    "duration": 709,
    "start_time": "2022-05-18T18:58:51.106Z"
   },
   {
    "duration": 19,
    "start_time": "2022-05-18T19:05:49.228Z"
   },
   {
    "duration": 175,
    "start_time": "2022-05-18T19:06:51.841Z"
   },
   {
    "duration": 17,
    "start_time": "2022-05-18T19:06:56.685Z"
   },
   {
    "duration": 184,
    "start_time": "2022-05-18T19:07:02.085Z"
   },
   {
    "duration": 198,
    "start_time": "2022-05-18T19:07:25.121Z"
   },
   {
    "duration": 493,
    "start_time": "2022-05-18T19:08:31.050Z"
   },
   {
    "duration": 88,
    "start_time": "2022-05-18T19:08:31.545Z"
   },
   {
    "duration": 16,
    "start_time": "2022-05-18T19:08:31.750Z"
   },
   {
    "duration": 29,
    "start_time": "2022-05-18T19:08:32.109Z"
   },
   {
    "duration": 28,
    "start_time": "2022-05-18T19:08:32.449Z"
   },
   {
    "duration": 13,
    "start_time": "2022-05-18T19:08:33.748Z"
   },
   {
    "duration": 171,
    "start_time": "2022-05-18T19:08:34.171Z"
   },
   {
    "duration": 439,
    "start_time": "2022-05-18T19:10:15.829Z"
   },
   {
    "duration": 48,
    "start_time": "2022-05-18T19:12:30.730Z"
   },
   {
    "duration": 68,
    "start_time": "2022-05-18T19:15:06.284Z"
   },
   {
    "duration": 72,
    "start_time": "2022-05-18T19:15:15.418Z"
   },
   {
    "duration": 70,
    "start_time": "2022-05-18T19:20:25.774Z"
   },
   {
    "duration": 61,
    "start_time": "2022-05-18T19:20:44.811Z"
   },
   {
    "duration": 56,
    "start_time": "2022-05-18T19:20:54.024Z"
   },
   {
    "duration": 15,
    "start_time": "2022-05-18T20:23:01.866Z"
   },
   {
    "duration": 14,
    "start_time": "2022-05-18T20:23:22.554Z"
   },
   {
    "duration": 39,
    "start_time": "2022-05-18T20:23:29.273Z"
   },
   {
    "duration": 15,
    "start_time": "2022-05-18T20:28:30.955Z"
   },
   {
    "duration": 10,
    "start_time": "2022-05-18T20:30:21.408Z"
   },
   {
    "duration": 11,
    "start_time": "2022-05-18T20:30:27.557Z"
   },
   {
    "duration": 73,
    "start_time": "2022-05-18T20:34:44.286Z"
   },
   {
    "duration": 154,
    "start_time": "2022-05-18T20:36:02.080Z"
   },
   {
    "duration": 151,
    "start_time": "2022-05-18T20:36:39.473Z"
   },
   {
    "duration": 167,
    "start_time": "2022-05-18T20:37:56.272Z"
   },
   {
    "duration": 143,
    "start_time": "2022-05-18T20:38:27.944Z"
   },
   {
    "duration": 124,
    "start_time": "2022-05-18T20:40:22.077Z"
   },
   {
    "duration": 163,
    "start_time": "2022-05-18T20:40:39.312Z"
   },
   {
    "duration": 154,
    "start_time": "2022-05-18T20:41:19.006Z"
   },
   {
    "duration": 120,
    "start_time": "2022-05-18T20:42:09.401Z"
   },
   {
    "duration": 221,
    "start_time": "2022-05-18T20:44:16.173Z"
   },
   {
    "duration": 265,
    "start_time": "2022-05-18T20:47:48.897Z"
   },
   {
    "duration": 349,
    "start_time": "2022-05-18T20:48:00.296Z"
   },
   {
    "duration": 243,
    "start_time": "2022-05-18T20:48:25.188Z"
   },
   {
    "duration": 257,
    "start_time": "2022-05-18T20:48:32.162Z"
   },
   {
    "duration": 24,
    "start_time": "2022-05-18T20:48:53.493Z"
   },
   {
    "duration": 230,
    "start_time": "2022-05-18T20:49:06.427Z"
   },
   {
    "duration": 512,
    "start_time": "2022-05-18T20:50:44.904Z"
   },
   {
    "duration": 468,
    "start_time": "2022-05-18T20:51:05.307Z"
   },
   {
    "duration": 700,
    "start_time": "2022-05-18T20:51:15.199Z"
   },
   {
    "duration": 495,
    "start_time": "2022-05-18T20:51:23.886Z"
   },
   {
    "duration": 223,
    "start_time": "2022-05-18T20:51:43.444Z"
   },
   {
    "duration": 235,
    "start_time": "2022-05-18T20:52:42.432Z"
   },
   {
    "duration": 189,
    "start_time": "2022-05-18T20:55:11.941Z"
   },
   {
    "duration": 233,
    "start_time": "2022-05-18T20:55:34.131Z"
   },
   {
    "duration": 19,
    "start_time": "2022-05-18T20:55:50.994Z"
   },
   {
    "duration": 223,
    "start_time": "2022-05-18T20:56:04.940Z"
   },
   {
    "duration": 249,
    "start_time": "2022-05-18T20:56:55.779Z"
   },
   {
    "duration": 318,
    "start_time": "2022-05-18T20:57:08.776Z"
   },
   {
    "duration": 403,
    "start_time": "2022-05-18T20:58:37.098Z"
   },
   {
    "duration": 253,
    "start_time": "2022-05-18T20:59:36.714Z"
   },
   {
    "duration": 217,
    "start_time": "2022-05-18T21:00:13.360Z"
   },
   {
    "duration": 262,
    "start_time": "2022-05-18T21:00:55.245Z"
   },
   {
    "duration": 252,
    "start_time": "2022-05-18T21:01:04.170Z"
   },
   {
    "duration": 287,
    "start_time": "2022-05-18T21:01:12.044Z"
   },
   {
    "duration": 266,
    "start_time": "2022-05-18T21:01:26.198Z"
   },
   {
    "duration": 308,
    "start_time": "2022-05-18T21:01:40.582Z"
   },
   {
    "duration": 281,
    "start_time": "2022-05-18T21:01:51.445Z"
   },
   {
    "duration": 316,
    "start_time": "2022-05-18T21:01:58.544Z"
   },
   {
    "duration": 309,
    "start_time": "2022-05-18T21:02:03.585Z"
   },
   {
    "duration": 419,
    "start_time": "2022-05-18T21:02:16.655Z"
   },
   {
    "duration": 257,
    "start_time": "2022-05-18T21:08:46.966Z"
   },
   {
    "duration": 264,
    "start_time": "2022-05-18T21:09:18.646Z"
   },
   {
    "duration": 135,
    "start_time": "2022-05-18T21:09:45.217Z"
   },
   {
    "duration": 41,
    "start_time": "2022-05-18T21:09:56.902Z"
   },
   {
    "duration": 14,
    "start_time": "2022-05-18T21:11:12.083Z"
   },
   {
    "duration": 217,
    "start_time": "2022-05-18T21:12:29.502Z"
   },
   {
    "duration": 181,
    "start_time": "2022-05-18T21:12:45.992Z"
   },
   {
    "duration": 195,
    "start_time": "2022-05-18T21:12:58.158Z"
   },
   {
    "duration": 180,
    "start_time": "2022-05-18T21:13:44.922Z"
   },
   {
    "duration": 206,
    "start_time": "2022-05-18T21:13:56.252Z"
   },
   {
    "duration": 207,
    "start_time": "2022-05-18T21:14:11.752Z"
   },
   {
    "duration": 190,
    "start_time": "2022-05-18T21:14:35.934Z"
   },
   {
    "duration": 205,
    "start_time": "2022-05-18T21:15:38.095Z"
   },
   {
    "duration": 190,
    "start_time": "2022-05-18T21:15:44.326Z"
   },
   {
    "duration": 185,
    "start_time": "2022-05-18T21:16:04.185Z"
   },
   {
    "duration": 326,
    "start_time": "2022-05-18T21:17:00.213Z"
   },
   {
    "duration": 214,
    "start_time": "2022-05-18T21:17:17.893Z"
   },
   {
    "duration": 184,
    "start_time": "2022-05-18T21:17:44.293Z"
   },
   {
    "duration": 189,
    "start_time": "2022-05-18T21:17:54.760Z"
   },
   {
    "duration": 186,
    "start_time": "2022-05-18T21:18:00.268Z"
   },
   {
    "duration": 188,
    "start_time": "2022-05-18T21:18:06.736Z"
   },
   {
    "duration": 187,
    "start_time": "2022-05-18T21:18:14.723Z"
   },
   {
    "duration": 205,
    "start_time": "2022-05-18T21:18:32.756Z"
   },
   {
    "duration": 187,
    "start_time": "2022-05-18T21:18:44.512Z"
   },
   {
    "duration": 179,
    "start_time": "2022-05-18T21:18:53.672Z"
   },
   {
    "duration": 177,
    "start_time": "2022-05-18T21:19:05.345Z"
   },
   {
    "duration": 184,
    "start_time": "2022-05-18T21:19:36.318Z"
   },
   {
    "duration": 179,
    "start_time": "2022-05-18T21:21:58.099Z"
   },
   {
    "duration": 199,
    "start_time": "2022-05-18T21:22:16.545Z"
   },
   {
    "duration": 275,
    "start_time": "2022-05-18T21:22:26.961Z"
   },
   {
    "duration": 3,
    "start_time": "2022-05-18T21:22:42.928Z"
   },
   {
    "duration": 67,
    "start_time": "2022-05-18T21:22:46.284Z"
   },
   {
    "duration": 16,
    "start_time": "2022-05-18T21:22:46.651Z"
   },
   {
    "duration": 35,
    "start_time": "2022-05-18T21:22:46.998Z"
   },
   {
    "duration": 24,
    "start_time": "2022-05-18T21:22:47.333Z"
   },
   {
    "duration": 13,
    "start_time": "2022-05-18T21:22:48.284Z"
   },
   {
    "duration": 173,
    "start_time": "2022-05-18T21:22:48.606Z"
   },
   {
    "duration": 188,
    "start_time": "2022-05-18T21:22:52.191Z"
   },
   {
    "duration": 23,
    "start_time": "2022-05-18T21:22:53.679Z"
   },
   {
    "duration": 247,
    "start_time": "2022-05-18T21:22:54.357Z"
   },
   {
    "duration": 170,
    "start_time": "2022-05-18T21:24:34.857Z"
   },
   {
    "duration": 171,
    "start_time": "2022-05-18T21:24:40.325Z"
   },
   {
    "duration": 178,
    "start_time": "2022-05-18T21:24:48.067Z"
   },
   {
    "duration": 197,
    "start_time": "2022-05-18T21:25:28.568Z"
   },
   {
    "duration": 177,
    "start_time": "2022-05-18T21:25:42.905Z"
   },
   {
    "duration": 171,
    "start_time": "2022-05-18T21:25:48.567Z"
   },
   {
    "duration": 3,
    "start_time": "2022-05-18T21:26:00.517Z"
   },
   {
    "duration": 163,
    "start_time": "2022-05-18T21:26:04.084Z"
   },
   {
    "duration": 168,
    "start_time": "2022-05-18T21:26:07.830Z"
   },
   {
    "duration": 173,
    "start_time": "2022-05-18T21:26:10.993Z"
   },
   {
    "duration": 3,
    "start_time": "2022-05-18T21:26:20.049Z"
   },
   {
    "duration": 78,
    "start_time": "2022-05-18T21:26:20.743Z"
   },
   {
    "duration": 15,
    "start_time": "2022-05-18T21:26:21.140Z"
   },
   {
    "duration": 26,
    "start_time": "2022-05-18T21:26:21.510Z"
   },
   {
    "duration": 25,
    "start_time": "2022-05-18T21:26:21.848Z"
   },
   {
    "duration": 18,
    "start_time": "2022-05-18T21:26:23.088Z"
   },
   {
    "duration": 194,
    "start_time": "2022-05-18T21:26:23.447Z"
   },
   {
    "duration": 246,
    "start_time": "2022-05-18T21:26:36.734Z"
   },
   {
    "duration": 3,
    "start_time": "2022-05-18T21:27:11.139Z"
   },
   {
    "duration": 205,
    "start_time": "2022-05-18T21:27:14.248Z"
   },
   {
    "duration": 2,
    "start_time": "2022-05-18T21:27:34.825Z"
   },
   {
    "duration": 188,
    "start_time": "2022-05-18T21:27:38.237Z"
   },
   {
    "duration": 3,
    "start_time": "2022-05-18T21:27:44.641Z"
   },
   {
    "duration": 348,
    "start_time": "2022-05-18T21:27:48.789Z"
   },
   {
    "duration": 187,
    "start_time": "2022-05-18T21:27:55.717Z"
   },
   {
    "duration": 179,
    "start_time": "2022-05-18T21:28:15.200Z"
   },
   {
    "duration": 195,
    "start_time": "2022-05-18T21:30:00.994Z"
   },
   {
    "duration": 183,
    "start_time": "2022-05-18T21:30:14.978Z"
   },
   {
    "duration": 184,
    "start_time": "2022-05-18T21:30:25.045Z"
   },
   {
    "duration": 208,
    "start_time": "2022-05-18T21:33:58.015Z"
   },
   {
    "duration": 180,
    "start_time": "2022-05-18T21:34:09.272Z"
   },
   {
    "duration": 187,
    "start_time": "2022-05-18T21:34:24.180Z"
   },
   {
    "duration": 13,
    "start_time": "2022-05-18T21:34:48.181Z"
   },
   {
    "duration": 188,
    "start_time": "2022-05-18T21:34:49.979Z"
   },
   {
    "duration": 20,
    "start_time": "2022-05-18T21:35:06.805Z"
   },
   {
    "duration": 16,
    "start_time": "2022-05-18T21:39:11.643Z"
   },
   {
    "duration": 66,
    "start_time": "2022-05-18T21:39:12.308Z"
   },
   {
    "duration": 17,
    "start_time": "2022-05-18T21:39:12.816Z"
   },
   {
    "duration": 22,
    "start_time": "2022-05-18T21:39:13.467Z"
   },
   {
    "duration": 24,
    "start_time": "2022-05-18T21:39:13.968Z"
   },
   {
    "duration": 13,
    "start_time": "2022-05-18T21:39:16.747Z"
   },
   {
    "duration": 338,
    "start_time": "2022-05-18T21:39:19.190Z"
   },
   {
    "duration": 18,
    "start_time": "2022-05-18T21:39:29.708Z"
   },
   {
    "duration": 446,
    "start_time": "2022-05-18T21:39:30.251Z"
   },
   {
    "duration": 492,
    "start_time": "2022-05-18T21:42:12.330Z"
   },
   {
    "duration": 489,
    "start_time": "2022-05-18T21:42:19.623Z"
   },
   {
    "duration": 10,
    "start_time": "2022-05-18T21:43:58.500Z"
   },
   {
    "duration": 11,
    "start_time": "2022-05-18T21:44:14.421Z"
   },
   {
    "duration": 16,
    "start_time": "2022-05-18T21:44:17.497Z"
   },
   {
    "duration": 16,
    "start_time": "2022-05-18T21:44:52.743Z"
   },
   {
    "duration": 10,
    "start_time": "2022-05-18T21:45:07.163Z"
   },
   {
    "duration": 9,
    "start_time": "2022-05-18T21:45:59.048Z"
   },
   {
    "duration": 16,
    "start_time": "2022-05-18T21:46:02.853Z"
   },
   {
    "duration": 10,
    "start_time": "2022-05-18T21:46:12.011Z"
   },
   {
    "duration": 17,
    "start_time": "2022-05-18T21:46:34.196Z"
   },
   {
    "duration": 149,
    "start_time": "2022-05-18T21:46:43.728Z"
   },
   {
    "duration": 18,
    "start_time": "2022-05-18T21:46:52.577Z"
   },
   {
    "duration": 440,
    "start_time": "2022-05-18T21:46:58.347Z"
   },
   {
    "duration": 13,
    "start_time": "2022-05-18T21:48:22.845Z"
   },
   {
    "duration": 24,
    "start_time": "2022-05-18T21:48:31.541Z"
   },
   {
    "duration": 10,
    "start_time": "2022-05-18T21:48:42.691Z"
   },
   {
    "duration": 10,
    "start_time": "2022-05-18T21:48:47.251Z"
   },
   {
    "duration": 13,
    "start_time": "2022-05-18T21:48:52.816Z"
   },
   {
    "duration": 8,
    "start_time": "2022-05-18T21:50:27.835Z"
   },
   {
    "duration": 11,
    "start_time": "2022-05-18T21:50:34.760Z"
   },
   {
    "duration": 440,
    "start_time": "2022-05-18T21:52:09.147Z"
   },
   {
    "duration": 220,
    "start_time": "2022-05-18T21:52:23.977Z"
   },
   {
    "duration": 184,
    "start_time": "2022-05-18T21:52:35.176Z"
   },
   {
    "duration": 184,
    "start_time": "2022-05-18T21:53:47.795Z"
   },
   {
    "duration": 47,
    "start_time": "2022-05-18T21:58:14.803Z"
   },
   {
    "duration": 445,
    "start_time": "2022-05-18T22:08:20.621Z"
   },
   {
    "duration": 9,
    "start_time": "2022-05-18T22:26:14.147Z"
   },
   {
    "duration": 11,
    "start_time": "2022-05-18T22:30:11.553Z"
   },
   {
    "duration": 8,
    "start_time": "2022-05-18T22:31:06.712Z"
   },
   {
    "duration": 12,
    "start_time": "2022-05-18T22:32:18.693Z"
   },
   {
    "duration": 12,
    "start_time": "2022-05-18T22:33:13.224Z"
   },
   {
    "duration": 14,
    "start_time": "2022-05-18T22:33:26.693Z"
   },
   {
    "duration": 1744,
    "start_time": "2022-05-19T10:31:00.854Z"
   },
   {
    "duration": 274,
    "start_time": "2022-05-19T10:31:04.060Z"
   },
   {
    "duration": 17,
    "start_time": "2022-05-19T10:31:05.330Z"
   },
   {
    "duration": 24,
    "start_time": "2022-05-19T10:31:05.884Z"
   },
   {
    "duration": 29,
    "start_time": "2022-05-19T10:31:06.282Z"
   },
   {
    "duration": 21,
    "start_time": "2022-05-19T10:31:08.009Z"
   },
   {
    "duration": 451,
    "start_time": "2022-05-19T10:31:09.574Z"
   },
   {
    "duration": 373,
    "start_time": "2022-05-19T10:31:21.707Z"
   },
   {
    "duration": 363,
    "start_time": "2022-05-19T10:32:36.504Z"
   },
   {
    "duration": 381,
    "start_time": "2022-05-19T10:32:57.394Z"
   },
   {
    "duration": 368,
    "start_time": "2022-05-19T10:33:15.304Z"
   },
   {
    "duration": 365,
    "start_time": "2022-05-19T10:33:36.760Z"
   },
   {
    "duration": 367,
    "start_time": "2022-05-19T10:33:45.672Z"
   },
   {
    "duration": 306,
    "start_time": "2022-05-19T10:36:15.455Z"
   },
   {
    "duration": 287,
    "start_time": "2022-05-19T10:38:36.566Z"
   },
   {
    "duration": 292,
    "start_time": "2022-05-19T10:39:01.672Z"
   },
   {
    "duration": 270,
    "start_time": "2022-05-19T10:39:12.173Z"
   },
   {
    "duration": 299,
    "start_time": "2022-05-19T10:39:20.947Z"
   },
   {
    "duration": 376,
    "start_time": "2022-05-19T10:39:31.168Z"
   },
   {
    "duration": 269,
    "start_time": "2022-05-19T10:39:36.673Z"
   },
   {
    "duration": 280,
    "start_time": "2022-05-19T10:39:41.794Z"
   },
   {
    "duration": 14,
    "start_time": "2022-05-19T10:40:50.506Z"
   },
   {
    "duration": 207,
    "start_time": "2022-05-19T10:41:40.736Z"
   },
   {
    "duration": 20,
    "start_time": "2022-05-19T10:43:26.954Z"
   },
   {
    "duration": 514,
    "start_time": "2022-05-19T10:43:28.194Z"
   },
   {
    "duration": 246,
    "start_time": "2022-05-19T10:44:02.109Z"
   },
   {
    "duration": 235,
    "start_time": "2022-05-19T10:44:09.355Z"
   },
   {
    "duration": 492,
    "start_time": "2022-05-19T10:44:24.968Z"
   },
   {
    "duration": 16,
    "start_time": "2022-05-19T10:45:45.577Z"
   },
   {
    "duration": 15,
    "start_time": "2022-05-19T10:45:54.916Z"
   },
   {
    "duration": 17,
    "start_time": "2022-05-19T10:48:22.163Z"
   },
   {
    "duration": 16,
    "start_time": "2022-05-19T10:48:46.814Z"
   },
   {
    "duration": 19,
    "start_time": "2022-05-19T10:50:11.494Z"
   },
   {
    "duration": 18,
    "start_time": "2022-05-19T10:50:20.653Z"
   },
   {
    "duration": 20,
    "start_time": "2022-05-19T10:50:56.079Z"
   },
   {
    "duration": 295,
    "start_time": "2022-05-19T10:51:41.938Z"
   },
   {
    "duration": 461,
    "start_time": "2022-05-19T10:52:03.120Z"
   },
   {
    "duration": 372,
    "start_time": "2022-05-19T10:52:43.721Z"
   },
   {
    "duration": 346,
    "start_time": "2022-05-19T10:52:53.093Z"
   },
   {
    "duration": 370,
    "start_time": "2022-05-19T10:53:11.681Z"
   },
   {
    "duration": 393,
    "start_time": "2022-05-19T10:55:00.369Z"
   },
   {
    "duration": 410,
    "start_time": "2022-05-19T10:56:19.813Z"
   },
   {
    "duration": 542,
    "start_time": "2022-05-19T10:59:31.876Z"
   },
   {
    "duration": 20,
    "start_time": "2022-05-19T11:05:30.590Z"
   },
   {
    "duration": 9,
    "start_time": "2022-05-19T11:13:09.608Z"
   },
   {
    "duration": 415,
    "start_time": "2022-05-19T11:14:02.569Z"
   },
   {
    "duration": 397,
    "start_time": "2022-05-19T11:14:26.646Z"
   },
   {
    "duration": 446,
    "start_time": "2022-05-19T11:14:34.536Z"
   },
   {
    "duration": 449,
    "start_time": "2022-05-19T11:14:52.100Z"
   },
   {
    "duration": 14,
    "start_time": "2022-05-19T11:15:15.542Z"
   },
   {
    "duration": 9,
    "start_time": "2022-05-19T11:15:49.274Z"
   },
   {
    "duration": 451,
    "start_time": "2022-05-19T11:15:57.225Z"
   },
   {
    "duration": 22,
    "start_time": "2022-05-19T11:17:56.797Z"
   },
   {
    "duration": 22,
    "start_time": "2022-05-19T11:18:31.845Z"
   },
   {
    "duration": 16,
    "start_time": "2022-05-19T11:20:04.521Z"
   },
   {
    "duration": 6566,
    "start_time": "2022-05-19T11:20:18.503Z"
   },
   {
    "duration": 11,
    "start_time": "2022-05-19T11:21:38.250Z"
   },
   {
    "duration": 16,
    "start_time": "2022-05-19T11:22:20.688Z"
   },
   {
    "duration": 29,
    "start_time": "2022-05-19T11:24:01.147Z"
   },
   {
    "duration": 14,
    "start_time": "2022-05-19T11:24:05.980Z"
   },
   {
    "duration": 23,
    "start_time": "2022-05-19T11:24:27.494Z"
   },
   {
    "duration": 16,
    "start_time": "2022-05-19T11:24:30.194Z"
   },
   {
    "duration": 18,
    "start_time": "2022-05-19T11:41:04.260Z"
   },
   {
    "duration": 11,
    "start_time": "2022-05-19T11:42:41.174Z"
   },
   {
    "duration": 15,
    "start_time": "2022-05-19T11:43:25.068Z"
   },
   {
    "duration": 10,
    "start_time": "2022-05-19T11:43:48.657Z"
   },
   {
    "duration": 13,
    "start_time": "2022-05-19T11:44:08.223Z"
   },
   {
    "duration": 11,
    "start_time": "2022-05-19T11:44:22.147Z"
   },
   {
    "duration": 45,
    "start_time": "2022-05-19T11:44:57.217Z"
   },
   {
    "duration": 45,
    "start_time": "2022-05-19T11:45:06.141Z"
   },
   {
    "duration": 17,
    "start_time": "2022-05-19T11:45:12.740Z"
   },
   {
    "duration": 11,
    "start_time": "2022-05-19T11:45:19.349Z"
   },
   {
    "duration": 14,
    "start_time": "2022-05-19T11:45:34.655Z"
   },
   {
    "duration": 1489,
    "start_time": "2022-05-20T11:31:13.707Z"
   },
   {
    "duration": 829,
    "start_time": "2022-05-20T11:31:15.197Z"
   },
   {
    "duration": 214,
    "start_time": "2022-05-20T11:33:07.735Z"
   },
   {
    "duration": 8,
    "start_time": "2022-05-20T11:35:23.782Z"
   },
   {
    "duration": 10,
    "start_time": "2022-05-20T11:41:54.902Z"
   },
   {
    "duration": 10,
    "start_time": "2022-05-20T11:47:32.830Z"
   },
   {
    "duration": 116,
    "start_time": "2022-05-20T11:47:43.790Z"
   },
   {
    "duration": 13,
    "start_time": "2022-05-20T11:47:49.853Z"
   },
   {
    "duration": 187,
    "start_time": "2022-05-20T11:47:50.253Z"
   },
   {
    "duration": 13,
    "start_time": "2022-05-20T11:47:50.630Z"
   },
   {
    "duration": 13,
    "start_time": "2022-05-20T11:47:52.398Z"
   },
   {
    "duration": 10,
    "start_time": "2022-05-20T11:51:20.258Z"
   },
   {
    "duration": 180,
    "start_time": "2022-05-20T11:51:20.739Z"
   },
   {
    "duration": 13,
    "start_time": "2022-05-20T11:51:21.236Z"
   },
   {
    "duration": 14,
    "start_time": "2022-05-20T11:51:22.353Z"
   },
   {
    "duration": 75,
    "start_time": "2022-05-20T11:51:23.011Z"
   },
   {
    "duration": 12,
    "start_time": "2022-05-20T11:51:33.865Z"
   },
   {
    "duration": 77,
    "start_time": "2022-05-20T11:52:04.110Z"
   },
   {
    "duration": 18,
    "start_time": "2022-05-20T11:55:10.370Z"
   },
   {
    "duration": 20,
    "start_time": "2022-05-20T11:55:10.876Z"
   },
   {
    "duration": 79,
    "start_time": "2022-05-20T11:55:11.615Z"
   },
   {
    "duration": 30,
    "start_time": "2022-05-20T11:59:13.862Z"
   },
   {
    "duration": 46,
    "start_time": "2022-05-20T12:00:25.710Z"
   },
   {
    "duration": 42,
    "start_time": "2022-05-20T12:04:00.426Z"
   },
   {
    "duration": 19,
    "start_time": "2022-05-20T12:06:08.589Z"
   },
   {
    "duration": 17,
    "start_time": "2022-05-20T12:06:09.108Z"
   },
   {
    "duration": 19,
    "start_time": "2022-05-20T12:06:17.059Z"
   },
   {
    "duration": 22,
    "start_time": "2022-05-20T12:06:23.178Z"
   },
   {
    "duration": 19,
    "start_time": "2022-05-20T12:06:35.565Z"
   },
   {
    "duration": 18,
    "start_time": "2022-05-20T12:06:36.081Z"
   },
   {
    "duration": 79,
    "start_time": "2022-05-20T12:06:36.620Z"
   },
   {
    "duration": 8,
    "start_time": "2022-05-20T12:07:14.540Z"
   },
   {
    "duration": 18,
    "start_time": "2022-05-20T12:10:04.102Z"
   },
   {
    "duration": 22,
    "start_time": "2022-05-20T12:10:08.035Z"
   },
   {
    "duration": 47,
    "start_time": "2022-05-20T12:12:05.411Z"
   },
   {
    "duration": 25,
    "start_time": "2022-05-20T12:12:18.046Z"
   },
   {
    "duration": 19,
    "start_time": "2022-05-20T12:12:56.708Z"
   },
   {
    "duration": 21,
    "start_time": "2022-05-20T12:13:04.196Z"
   },
   {
    "duration": 20,
    "start_time": "2022-05-20T12:14:09.737Z"
   },
   {
    "duration": 33,
    "start_time": "2022-05-20T12:17:21.980Z"
   },
   {
    "duration": 35,
    "start_time": "2022-05-20T12:17:34.146Z"
   },
   {
    "duration": 45,
    "start_time": "2022-05-20T12:17:37.769Z"
   },
   {
    "duration": 23,
    "start_time": "2022-05-20T12:18:05.039Z"
   },
   {
    "duration": 26,
    "start_time": "2022-05-20T12:18:26.824Z"
   },
   {
    "duration": 27,
    "start_time": "2022-05-20T12:18:37.820Z"
   },
   {
    "duration": 21,
    "start_time": "2022-05-20T12:18:44.820Z"
   },
   {
    "duration": 22,
    "start_time": "2022-05-20T12:18:51.054Z"
   },
   {
    "duration": 13,
    "start_time": "2022-05-20T12:20:08.607Z"
   },
   {
    "duration": 176,
    "start_time": "2022-05-20T12:20:09.177Z"
   },
   {
    "duration": 12,
    "start_time": "2022-05-20T12:20:09.582Z"
   },
   {
    "duration": 14,
    "start_time": "2022-05-20T12:20:10.076Z"
   },
   {
    "duration": 77,
    "start_time": "2022-05-20T12:20:10.764Z"
   },
   {
    "duration": 50,
    "start_time": "2022-05-20T12:20:15.275Z"
   },
   {
    "duration": 7,
    "start_time": "2022-05-20T12:20:17.066Z"
   },
   {
    "duration": 21,
    "start_time": "2022-05-20T12:20:18.214Z"
   },
   {
    "duration": 21,
    "start_time": "2022-05-20T12:20:19.848Z"
   },
   {
    "duration": 43,
    "start_time": "2022-05-20T12:20:41.324Z"
   },
   {
    "duration": 29,
    "start_time": "2022-05-20T12:20:45.343Z"
   },
   {
    "duration": 29,
    "start_time": "2022-05-20T12:20:56.315Z"
   },
   {
    "duration": 34,
    "start_time": "2022-05-20T12:21:04.452Z"
   },
   {
    "duration": 97,
    "start_time": "2022-05-20T12:22:06.598Z"
   },
   {
    "duration": 79,
    "start_time": "2022-05-20T12:22:39.392Z"
   },
   {
    "duration": 94,
    "start_time": "2022-05-20T12:22:45.950Z"
   },
   {
    "duration": 126,
    "start_time": "2022-05-20T12:24:36.319Z"
   },
   {
    "duration": 118,
    "start_time": "2022-05-20T12:24:49.427Z"
   },
   {
    "duration": 55,
    "start_time": "2022-05-20T12:24:51.522Z"
   },
   {
    "duration": 6,
    "start_time": "2022-05-20T12:24:52.625Z"
   },
   {
    "duration": 21,
    "start_time": "2022-05-20T12:24:53.733Z"
   },
   {
    "duration": 6,
    "start_time": "2022-05-20T12:25:09.505Z"
   },
   {
    "duration": 6,
    "start_time": "2022-05-20T12:25:13.467Z"
   },
   {
    "duration": 9,
    "start_time": "2022-05-20T12:27:20.863Z"
   },
   {
    "duration": 33,
    "start_time": "2022-05-20T12:28:05.586Z"
   },
   {
    "duration": 15,
    "start_time": "2022-05-20T12:29:01.389Z"
   },
   {
    "duration": 193,
    "start_time": "2022-05-20T12:29:01.826Z"
   },
   {
    "duration": 13,
    "start_time": "2022-05-20T12:29:02.212Z"
   },
   {
    "duration": 13,
    "start_time": "2022-05-20T12:29:02.714Z"
   },
   {
    "duration": 85,
    "start_time": "2022-05-20T12:29:03.715Z"
   },
   {
    "duration": 87,
    "start_time": "2022-05-20T12:29:27.957Z"
   },
   {
    "duration": 89,
    "start_time": "2022-05-20T12:29:36.570Z"
   },
   {
    "duration": 84,
    "start_time": "2022-05-20T12:29:48.883Z"
   },
   {
    "duration": 91,
    "start_time": "2022-05-20T12:32:18.494Z"
   },
   {
    "duration": 68,
    "start_time": "2022-05-20T12:32:21.445Z"
   },
   {
    "duration": 6,
    "start_time": "2022-05-20T12:32:22.195Z"
   },
   {
    "duration": 23,
    "start_time": "2022-05-20T12:32:22.931Z"
   },
   {
    "duration": 36,
    "start_time": "2022-05-20T12:32:24.759Z"
   },
   {
    "duration": 14,
    "start_time": "2022-05-20T12:32:41.453Z"
   },
   {
    "duration": 120,
    "start_time": "2022-05-20T12:36:29.211Z"
   },
   {
    "duration": 11,
    "start_time": "2022-05-20T12:38:04.128Z"
   },
   {
    "duration": 5,
    "start_time": "2022-05-20T12:38:10.120Z"
   },
   {
    "duration": 123,
    "start_time": "2022-05-20T12:39:15.823Z"
   },
   {
    "duration": 20,
    "start_time": "2022-05-20T12:39:37.859Z"
   },
   {
    "duration": 6,
    "start_time": "2022-05-20T12:39:45.981Z"
   },
   {
    "duration": 5,
    "start_time": "2022-05-20T12:40:22.025Z"
   },
   {
    "duration": 5,
    "start_time": "2022-05-20T12:40:42.226Z"
   },
   {
    "duration": 132,
    "start_time": "2022-05-20T12:41:29.690Z"
   },
   {
    "duration": 55,
    "start_time": "2022-05-20T12:41:31.295Z"
   },
   {
    "duration": 7,
    "start_time": "2022-05-20T12:41:32.762Z"
   },
   {
    "duration": 21,
    "start_time": "2022-05-20T12:41:33.600Z"
   },
   {
    "duration": 97,
    "start_time": "2022-05-20T12:41:42.464Z"
   },
   {
    "duration": 43,
    "start_time": "2022-05-20T12:41:44.885Z"
   },
   {
    "duration": 8,
    "start_time": "2022-05-20T12:41:45.805Z"
   },
   {
    "duration": 22,
    "start_time": "2022-05-20T12:41:46.535Z"
   },
   {
    "duration": 27,
    "start_time": "2022-05-20T12:41:46.911Z"
   },
   {
    "duration": 24,
    "start_time": "2022-05-20T12:41:47.787Z"
   },
   {
    "duration": 17,
    "start_time": "2022-05-20T12:41:58.515Z"
   },
   {
    "duration": 10,
    "start_time": "2022-05-20T12:42:54.576Z"
   },
   {
    "duration": 186,
    "start_time": "2022-05-20T12:42:55.048Z"
   },
   {
    "duration": 10,
    "start_time": "2022-05-20T12:42:55.391Z"
   },
   {
    "duration": 13,
    "start_time": "2022-05-20T12:42:55.930Z"
   },
   {
    "duration": 122,
    "start_time": "2022-05-20T12:42:56.296Z"
   },
   {
    "duration": 47,
    "start_time": "2022-05-20T12:42:57.437Z"
   },
   {
    "duration": 7,
    "start_time": "2022-05-20T12:42:58.291Z"
   },
   {
    "duration": 22,
    "start_time": "2022-05-20T12:42:59.082Z"
   },
   {
    "duration": 11,
    "start_time": "2022-05-20T12:43:01.051Z"
   },
   {
    "duration": 7,
    "start_time": "2022-05-20T12:43:15.393Z"
   },
   {
    "duration": 5,
    "start_time": "2022-05-20T12:43:25.105Z"
   },
   {
    "duration": 6,
    "start_time": "2022-05-20T12:43:33.582Z"
   },
   {
    "duration": 7,
    "start_time": "2022-05-20T12:44:04.722Z"
   },
   {
    "duration": 8,
    "start_time": "2022-05-20T12:44:15.282Z"
   },
   {
    "duration": 6,
    "start_time": "2022-05-20T12:44:31.462Z"
   },
   {
    "duration": 779,
    "start_time": "2022-05-20T12:47:10.045Z"
   },
   {
    "duration": 336,
    "start_time": "2022-05-20T12:47:20.956Z"
   },
   {
    "duration": 282,
    "start_time": "2022-05-20T12:47:31.418Z"
   },
   {
    "duration": 317,
    "start_time": "2022-05-20T12:47:38.003Z"
   },
   {
    "duration": 296,
    "start_time": "2022-05-20T12:47:43.778Z"
   },
   {
    "duration": 400,
    "start_time": "2022-05-20T12:47:48.610Z"
   },
   {
    "duration": 324,
    "start_time": "2022-05-20T12:47:55.298Z"
   },
   {
    "duration": 352,
    "start_time": "2022-05-20T12:51:52.097Z"
   },
   {
    "duration": 363,
    "start_time": "2022-05-20T12:52:26.873Z"
   },
   {
    "duration": 16,
    "start_time": "2022-05-20T13:01:26.428Z"
   },
   {
    "duration": 16,
    "start_time": "2022-05-20T13:01:58.418Z"
   },
   {
    "duration": 7,
    "start_time": "2022-05-20T13:02:28.194Z"
   },
   {
    "duration": 10,
    "start_time": "2022-05-20T13:02:33.001Z"
   },
   {
    "duration": 184,
    "start_time": "2022-05-20T13:02:33.417Z"
   },
   {
    "duration": 13,
    "start_time": "2022-05-20T13:02:33.777Z"
   },
   {
    "duration": 17,
    "start_time": "2022-05-20T13:02:34.254Z"
   },
   {
    "duration": 114,
    "start_time": "2022-05-20T13:02:34.725Z"
   },
   {
    "duration": 48,
    "start_time": "2022-05-20T13:02:38.944Z"
   },
   {
    "duration": 9,
    "start_time": "2022-05-20T13:02:41.351Z"
   },
   {
    "duration": 26,
    "start_time": "2022-05-20T13:02:42.276Z"
   },
   {
    "duration": 6,
    "start_time": "2022-05-20T13:02:43.579Z"
   },
   {
    "duration": 373,
    "start_time": "2022-05-20T13:02:46.886Z"
   },
   {
    "duration": 15,
    "start_time": "2022-05-20T13:02:47.931Z"
   },
   {
    "duration": 18,
    "start_time": "2022-05-20T13:03:00.821Z"
   },
   {
    "duration": 14,
    "start_time": "2022-05-20T13:03:08.154Z"
   },
   {
    "duration": 11,
    "start_time": "2022-05-20T13:05:11.276Z"
   },
   {
    "duration": 55,
    "start_time": "2022-05-20T13:07:57.929Z"
   },
   {
    "duration": 10,
    "start_time": "2022-05-20T15:00:59.303Z"
   },
   {
    "duration": 190,
    "start_time": "2022-05-20T15:00:59.729Z"
   },
   {
    "duration": 12,
    "start_time": "2022-05-20T15:01:00.121Z"
   },
   {
    "duration": 13,
    "start_time": "2022-05-20T15:01:00.532Z"
   },
   {
    "duration": 128,
    "start_time": "2022-05-20T15:01:00.893Z"
   },
   {
    "duration": 63,
    "start_time": "2022-05-20T15:01:03.770Z"
   },
   {
    "duration": 9,
    "start_time": "2022-05-20T15:01:13.627Z"
   },
   {
    "duration": 23,
    "start_time": "2022-05-20T15:01:14.665Z"
   },
   {
    "duration": 7,
    "start_time": "2022-05-20T15:01:15.965Z"
   },
   {
    "duration": 368,
    "start_time": "2022-05-20T15:01:16.502Z"
   },
   {
    "duration": 17,
    "start_time": "2022-05-20T15:01:21.785Z"
   },
   {
    "duration": 8,
    "start_time": "2022-05-20T15:03:48.903Z"
   },
   {
    "duration": 12,
    "start_time": "2022-05-20T15:10:24.338Z"
   },
   {
    "duration": 10,
    "start_time": "2022-05-20T15:10:35.358Z"
   },
   {
    "duration": 179,
    "start_time": "2022-05-20T15:10:35.783Z"
   },
   {
    "duration": 12,
    "start_time": "2022-05-20T15:10:36.217Z"
   },
   {
    "duration": 17,
    "start_time": "2022-05-20T15:10:36.776Z"
   },
   {
    "duration": 107,
    "start_time": "2022-05-20T15:10:37.210Z"
   },
   {
    "duration": 55,
    "start_time": "2022-05-20T15:10:40.095Z"
   },
   {
    "duration": 11,
    "start_time": "2022-05-20T15:10:44.923Z"
   },
   {
    "duration": 7,
    "start_time": "2022-05-20T15:11:21.672Z"
   },
   {
    "duration": 19,
    "start_time": "2022-05-20T15:11:25.645Z"
   },
   {
    "duration": 7,
    "start_time": "2022-05-20T15:11:26.590Z"
   },
   {
    "duration": 347,
    "start_time": "2022-05-20T15:11:30.498Z"
   },
   {
    "duration": 15,
    "start_time": "2022-05-20T15:11:32.737Z"
   },
   {
    "duration": 53,
    "start_time": "2022-05-20T15:11:34.362Z"
   },
   {
    "duration": 9,
    "start_time": "2022-05-20T15:14:22.716Z"
   },
   {
    "duration": 183,
    "start_time": "2022-05-20T15:14:23.262Z"
   },
   {
    "duration": 12,
    "start_time": "2022-05-20T15:14:23.718Z"
   },
   {
    "duration": 15,
    "start_time": "2022-05-20T15:14:24.559Z"
   },
   {
    "duration": 116,
    "start_time": "2022-05-20T15:14:25.046Z"
   },
   {
    "duration": 56,
    "start_time": "2022-05-20T15:15:24.082Z"
   },
   {
    "duration": 8,
    "start_time": "2022-05-20T15:15:25.330Z"
   },
   {
    "duration": 20,
    "start_time": "2022-05-20T15:15:26.404Z"
   },
   {
    "duration": 6,
    "start_time": "2022-05-20T15:15:27.458Z"
   },
   {
    "duration": 358,
    "start_time": "2022-05-20T15:15:28.107Z"
   },
   {
    "duration": 15,
    "start_time": "2022-05-20T15:15:30.425Z"
   },
   {
    "duration": 13,
    "start_time": "2022-05-20T15:15:57.677Z"
   },
   {
    "duration": 8,
    "start_time": "2022-05-20T15:16:04.536Z"
   },
   {
    "duration": 9,
    "start_time": "2022-05-20T15:16:39.306Z"
   },
   {
    "duration": 49,
    "start_time": "2022-05-20T15:18:31.142Z"
   },
   {
    "duration": 10,
    "start_time": "2022-05-20T15:18:39.425Z"
   },
   {
    "duration": 34,
    "start_time": "2022-05-20T15:19:01.735Z"
   },
   {
    "duration": 10,
    "start_time": "2022-05-20T15:19:18.589Z"
   },
   {
    "duration": 11,
    "start_time": "2022-05-20T15:19:23.806Z"
   },
   {
    "duration": 10,
    "start_time": "2022-05-20T15:19:45.237Z"
   },
   {
    "duration": 186,
    "start_time": "2022-05-20T15:19:45.681Z"
   },
   {
    "duration": 12,
    "start_time": "2022-05-20T15:19:46.531Z"
   },
   {
    "duration": 12,
    "start_time": "2022-05-20T15:19:47.088Z"
   },
   {
    "duration": 112,
    "start_time": "2022-05-20T15:19:48.816Z"
   },
   {
    "duration": 70,
    "start_time": "2022-05-20T15:19:51.262Z"
   },
   {
    "duration": 9,
    "start_time": "2022-05-20T15:20:43.633Z"
   },
   {
    "duration": 8,
    "start_time": "2022-05-20T15:21:29.920Z"
   },
   {
    "duration": 9,
    "start_time": "2022-05-20T15:21:38.714Z"
   },
   {
    "duration": 8,
    "start_time": "2022-05-20T15:21:50.353Z"
   },
   {
    "duration": 19,
    "start_time": "2022-05-20T15:21:51.509Z"
   },
   {
    "duration": 6,
    "start_time": "2022-05-20T15:21:52.400Z"
   },
   {
    "duration": 350,
    "start_time": "2022-05-20T15:21:52.835Z"
   },
   {
    "duration": 14,
    "start_time": "2022-05-20T15:21:53.661Z"
   },
   {
    "duration": 11,
    "start_time": "2022-05-20T15:21:54.153Z"
   },
   {
    "duration": 9,
    "start_time": "2022-05-20T15:26:50.447Z"
   },
   {
    "duration": 11,
    "start_time": "2022-05-20T15:38:10.283Z"
   },
   {
    "duration": 13,
    "start_time": "2022-05-20T15:38:22.139Z"
   },
   {
    "duration": 44,
    "start_time": "2022-05-20T15:39:16.582Z"
   },
   {
    "duration": 38,
    "start_time": "2022-05-20T15:39:37.377Z"
   },
   {
    "duration": 36,
    "start_time": "2022-05-20T15:40:25.368Z"
   },
   {
    "duration": 35,
    "start_time": "2022-05-20T15:40:55.628Z"
   },
   {
    "duration": 10,
    "start_time": "2022-05-20T15:50:49.492Z"
   },
   {
    "duration": 19,
    "start_time": "2022-05-20T15:52:45.009Z"
   },
   {
    "duration": 27,
    "start_time": "2022-05-20T15:55:54.298Z"
   },
   {
    "duration": 65,
    "start_time": "2022-05-20T16:01:29.073Z"
   },
   {
    "duration": 32,
    "start_time": "2022-05-20T16:01:34.948Z"
   },
   {
    "duration": 58,
    "start_time": "2022-05-20T16:02:21.112Z"
   },
   {
    "duration": 26,
    "start_time": "2022-05-20T16:02:39.820Z"
   },
   {
    "duration": 26,
    "start_time": "2022-05-20T16:03:08.324Z"
   },
   {
    "duration": 26,
    "start_time": "2022-05-20T16:03:31.321Z"
   },
   {
    "duration": 25,
    "start_time": "2022-05-20T16:03:36.589Z"
   },
   {
    "duration": 246,
    "start_time": "2022-05-20T16:09:00.325Z"
   },
   {
    "duration": 293,
    "start_time": "2022-05-20T16:10:39.313Z"
   },
   {
    "duration": 391,
    "start_time": "2022-05-20T16:11:12.673Z"
   },
   {
    "duration": 242,
    "start_time": "2022-05-20T16:11:20.203Z"
   },
   {
    "duration": 225,
    "start_time": "2022-05-20T16:11:24.917Z"
   },
   {
    "duration": 245,
    "start_time": "2022-05-20T16:13:27.121Z"
   },
   {
    "duration": 248,
    "start_time": "2022-05-20T16:13:42.221Z"
   },
   {
    "duration": 205,
    "start_time": "2022-05-20T16:14:00.965Z"
   },
   {
    "duration": 228,
    "start_time": "2022-05-20T16:14:16.753Z"
   },
   {
    "duration": 45,
    "start_time": "2022-05-20T16:15:24.628Z"
   },
   {
    "duration": 61,
    "start_time": "2022-05-20T16:25:07.092Z"
   },
   {
    "duration": 6,
    "start_time": "2022-05-20T16:44:22.205Z"
   },
   {
    "duration": 353,
    "start_time": "2022-05-20T16:51:45.001Z"
   },
   {
    "duration": 9,
    "start_time": "2022-05-20T16:57:32.356Z"
   },
   {
    "duration": 235,
    "start_time": "2022-05-20T16:59:43.839Z"
   },
   {
    "duration": 9,
    "start_time": "2022-05-20T17:02:26.030Z"
   },
   {
    "duration": 57,
    "start_time": "2022-05-20T17:02:36.587Z"
   },
   {
    "duration": 11,
    "start_time": "2022-05-20T17:02:37.304Z"
   },
   {
    "duration": 9,
    "start_time": "2022-05-20T17:06:26.925Z"
   },
   {
    "duration": 177,
    "start_time": "2022-05-20T17:06:27.497Z"
   },
   {
    "duration": 11,
    "start_time": "2022-05-20T17:06:28.489Z"
   },
   {
    "duration": 13,
    "start_time": "2022-05-20T17:06:29.819Z"
   },
   {
    "duration": 140,
    "start_time": "2022-05-20T17:06:30.675Z"
   },
   {
    "duration": 21,
    "start_time": "2022-05-20T17:06:34.122Z"
   },
   {
    "duration": 9,
    "start_time": "2022-05-20T17:06:35.921Z"
   },
   {
    "duration": 20,
    "start_time": "2022-05-20T17:06:46.254Z"
   },
   {
    "duration": 6,
    "start_time": "2022-05-20T17:06:47.809Z"
   },
   {
    "duration": 339,
    "start_time": "2022-05-20T17:06:49.109Z"
   },
   {
    "duration": 15,
    "start_time": "2022-05-20T17:07:10.454Z"
   },
   {
    "duration": 11,
    "start_time": "2022-05-20T17:07:12.935Z"
   },
   {
    "duration": 10,
    "start_time": "2022-05-20T17:07:17.232Z"
   },
   {
    "duration": 44,
    "start_time": "2022-05-20T17:07:37.564Z"
   },
   {
    "duration": 46,
    "start_time": "2022-05-20T17:07:44.377Z"
   },
   {
    "duration": 25,
    "start_time": "2022-05-20T17:07:52.398Z"
   },
   {
    "duration": 243,
    "start_time": "2022-05-20T17:07:56.205Z"
   },
   {
    "duration": 56,
    "start_time": "2022-05-20T17:08:00.465Z"
   },
   {
    "duration": 9,
    "start_time": "2022-05-20T17:08:01.365Z"
   },
   {
    "duration": 9,
    "start_time": "2022-05-20T17:34:30.830Z"
   },
   {
    "duration": 3,
    "start_time": "2022-05-20T17:35:51.514Z"
   },
   {
    "duration": 4,
    "start_time": "2022-05-20T17:35:57.253Z"
   },
   {
    "duration": 63,
    "start_time": "2022-05-20T17:36:31.674Z"
   },
   {
    "duration": 54,
    "start_time": "2022-05-20T17:39:02.169Z"
   },
   {
    "duration": 71,
    "start_time": "2022-05-20T17:39:29.265Z"
   },
   {
    "duration": 58,
    "start_time": "2022-05-20T17:41:40.527Z"
   },
   {
    "duration": 48,
    "start_time": "2022-05-20T17:44:12.641Z"
   },
   {
    "duration": 78,
    "start_time": "2022-05-20T17:44:37.959Z"
   },
   {
    "duration": 68,
    "start_time": "2022-05-20T17:45:21.682Z"
   },
   {
    "duration": 55,
    "start_time": "2022-05-20T17:45:57.107Z"
   },
   {
    "duration": 67,
    "start_time": "2022-05-20T17:48:10.500Z"
   },
   {
    "duration": 81,
    "start_time": "2022-05-20T17:48:55.837Z"
   },
   {
    "duration": 73,
    "start_time": "2022-05-20T17:49:47.221Z"
   },
   {
    "duration": 98,
    "start_time": "2022-05-20T17:51:55.173Z"
   },
   {
    "duration": 80,
    "start_time": "2022-05-20T17:52:21.409Z"
   },
   {
    "duration": 82,
    "start_time": "2022-05-20T17:52:58.700Z"
   },
   {
    "duration": 83,
    "start_time": "2022-05-20T17:53:10.665Z"
   },
   {
    "duration": 102,
    "start_time": "2022-05-20T17:53:33.501Z"
   },
   {
    "duration": 105,
    "start_time": "2022-05-20T17:55:12.640Z"
   },
   {
    "duration": 11,
    "start_time": "2022-05-20T19:55:17.197Z"
   },
   {
    "duration": 9,
    "start_time": "2022-05-20T19:57:00.725Z"
   },
   {
    "duration": 39,
    "start_time": "2022-05-20T19:58:34.446Z"
   },
   {
    "duration": 4,
    "start_time": "2022-05-20T19:58:38.321Z"
   },
   {
    "duration": 5,
    "start_time": "2022-05-20T19:59:04.213Z"
   },
   {
    "duration": 4,
    "start_time": "2022-05-20T19:59:24.917Z"
   },
   {
    "duration": 541,
    "start_time": "2022-05-20T20:02:24.430Z"
   },
   {
    "duration": 21,
    "start_time": "2022-05-20T20:04:08.298Z"
   },
   {
    "duration": 9,
    "start_time": "2022-05-20T20:04:17.237Z"
   },
   {
    "duration": 8,
    "start_time": "2022-05-20T20:04:24.146Z"
   },
   {
    "duration": 11,
    "start_time": "2022-05-20T20:04:55.958Z"
   },
   {
    "duration": 16,
    "start_time": "2022-05-20T20:13:33.427Z"
   },
   {
    "duration": 12,
    "start_time": "2022-05-20T20:14:11.153Z"
   },
   {
    "duration": 9,
    "start_time": "2022-05-20T20:32:41.304Z"
   },
   {
    "duration": 3,
    "start_time": "2022-05-20T20:36:15.947Z"
   },
   {
    "duration": 10,
    "start_time": "2022-05-20T20:36:51.887Z"
   },
   {
    "duration": 4,
    "start_time": "2022-05-20T20:36:56.139Z"
   },
   {
    "duration": 9,
    "start_time": "2022-05-20T20:37:03.942Z"
   },
   {
    "duration": 5,
    "start_time": "2022-05-20T20:37:06.563Z"
   },
   {
    "duration": 5,
    "start_time": "2022-05-20T20:37:34.417Z"
   },
   {
    "duration": 4,
    "start_time": "2022-05-20T20:37:48.083Z"
   },
   {
    "duration": 4,
    "start_time": "2022-05-20T20:41:04.042Z"
   },
   {
    "duration": 5,
    "start_time": "2022-05-20T20:41:04.917Z"
   },
   {
    "duration": 8,
    "start_time": "2022-05-20T20:44:17.768Z"
   },
   {
    "duration": 10,
    "start_time": "2022-05-20T20:45:57.242Z"
   },
   {
    "duration": 13,
    "start_time": "2022-05-20T20:46:07.830Z"
   },
   {
    "duration": 9,
    "start_time": "2022-05-20T20:46:19.575Z"
   },
   {
    "duration": 13,
    "start_time": "2022-05-20T20:47:20.140Z"
   },
   {
    "duration": 10,
    "start_time": "2022-05-20T20:48:37.719Z"
   },
   {
    "duration": 10,
    "start_time": "2022-05-20T20:50:26.316Z"
   },
   {
    "duration": 9,
    "start_time": "2022-05-20T20:50:38.260Z"
   },
   {
    "duration": 9,
    "start_time": "2022-05-20T20:50:54.859Z"
   },
   {
    "duration": 9,
    "start_time": "2022-05-20T20:51:06.864Z"
   },
   {
    "duration": 9,
    "start_time": "2022-05-20T20:51:37.622Z"
   },
   {
    "duration": 5,
    "start_time": "2022-05-20T20:52:06.830Z"
   },
   {
    "duration": 5,
    "start_time": "2022-05-20T20:52:23.771Z"
   },
   {
    "duration": 9,
    "start_time": "2022-05-20T20:52:41.991Z"
   },
   {
    "duration": 17,
    "start_time": "2022-05-20T20:53:53.993Z"
   },
   {
    "duration": 10,
    "start_time": "2022-05-20T20:53:57.524Z"
   },
   {
    "duration": 10,
    "start_time": "2022-05-20T20:58:50.677Z"
   },
   {
    "duration": 10,
    "start_time": "2022-05-20T21:02:40.362Z"
   },
   {
    "duration": 10,
    "start_time": "2022-05-20T21:03:27.859Z"
   },
   {
    "duration": 33,
    "start_time": "2022-05-20T21:44:14.005Z"
   },
   {
    "duration": 4,
    "start_time": "2022-05-20T22:04:16.263Z"
   },
   {
    "duration": 4,
    "start_time": "2022-05-20T22:04:45.045Z"
   },
   {
    "duration": 4,
    "start_time": "2022-05-20T22:06:52.103Z"
   },
   {
    "duration": 73,
    "start_time": "2022-05-20T22:19:27.729Z"
   },
   {
    "duration": 4,
    "start_time": "2022-05-20T22:21:08.899Z"
   },
   {
    "duration": 4,
    "start_time": "2022-05-20T22:28:48.608Z"
   },
   {
    "duration": 9,
    "start_time": "2022-05-20T23:07:02.949Z"
   },
   {
    "duration": 32,
    "start_time": "2022-05-20T23:10:04.728Z"
   },
   {
    "duration": 35,
    "start_time": "2022-05-20T23:12:23.080Z"
   },
   {
    "duration": 31,
    "start_time": "2022-05-20T23:12:49.383Z"
   },
   {
    "duration": 32,
    "start_time": "2022-05-20T23:12:55.304Z"
   },
   {
    "duration": 46,
    "start_time": "2022-05-20T23:14:36.385Z"
   },
   {
    "duration": 42,
    "start_time": "2022-05-20T23:14:47.294Z"
   },
   {
    "duration": 8,
    "start_time": "2022-05-20T23:34:02.649Z"
   },
   {
    "duration": 29,
    "start_time": "2022-05-20T23:42:37.148Z"
   },
   {
    "duration": 32,
    "start_time": "2022-05-20T23:42:42.770Z"
   },
   {
    "duration": 6,
    "start_time": "2022-05-20T23:46:22.093Z"
   },
   {
    "duration": 230,
    "start_time": "2022-05-20T23:51:34.607Z"
   },
   {
    "duration": 59,
    "start_time": "2022-05-20T23:52:12.225Z"
   },
   {
    "duration": 59,
    "start_time": "2022-05-20T23:53:15.586Z"
   },
   {
    "duration": 66,
    "start_time": "2022-05-20T23:56:13.209Z"
   },
   {
    "duration": 71,
    "start_time": "2022-05-20T23:56:29.951Z"
   },
   {
    "duration": 63,
    "start_time": "2022-05-20T23:57:01.752Z"
   },
   {
    "duration": 71,
    "start_time": "2022-05-20T23:57:26.298Z"
   },
   {
    "duration": 74,
    "start_time": "2022-05-20T23:59:42.181Z"
   },
   {
    "duration": 75,
    "start_time": "2022-05-21T00:02:32.387Z"
   },
   {
    "duration": 74,
    "start_time": "2022-05-21T00:02:49.076Z"
   },
   {
    "duration": 85,
    "start_time": "2022-05-21T00:03:31.385Z"
   },
   {
    "duration": 74,
    "start_time": "2022-05-21T00:04:00.599Z"
   },
   {
    "duration": 71,
    "start_time": "2022-05-21T00:04:10.897Z"
   },
   {
    "duration": 78,
    "start_time": "2022-05-21T00:04:40.872Z"
   },
   {
    "duration": 74,
    "start_time": "2022-05-21T00:05:00.530Z"
   },
   {
    "duration": 71,
    "start_time": "2022-05-21T00:05:37.910Z"
   },
   {
    "duration": 73,
    "start_time": "2022-05-21T00:05:49.052Z"
   },
   {
    "duration": 78,
    "start_time": "2022-05-21T00:07:11.425Z"
   },
   {
    "duration": 73,
    "start_time": "2022-05-21T00:07:33.431Z"
   },
   {
    "duration": 78,
    "start_time": "2022-05-21T00:07:59.821Z"
   },
   {
    "duration": 72,
    "start_time": "2022-05-21T00:08:23.490Z"
   },
   {
    "duration": 68,
    "start_time": "2022-05-21T00:09:45.869Z"
   },
   {
    "duration": 73,
    "start_time": "2022-05-21T00:09:53.350Z"
   },
   {
    "duration": 11,
    "start_time": "2022-05-21T00:27:00.587Z"
   },
   {
    "duration": 8,
    "start_time": "2022-05-21T00:28:10.821Z"
   },
   {
    "duration": 5,
    "start_time": "2022-05-21T00:29:09.964Z"
   },
   {
    "duration": 48,
    "start_time": "2022-05-21T00:29:57.488Z"
   },
   {
    "duration": 72,
    "start_time": "2022-05-21T00:30:02.806Z"
   },
   {
    "duration": 5,
    "start_time": "2022-05-21T00:30:06.221Z"
   },
   {
    "duration": 8,
    "start_time": "2022-05-21T00:30:19.051Z"
   },
   {
    "duration": 6,
    "start_time": "2022-05-21T00:31:13.078Z"
   },
   {
    "duration": 4,
    "start_time": "2022-05-21T00:32:59.727Z"
   },
   {
    "duration": 7,
    "start_time": "2022-05-21T00:33:08.546Z"
   },
   {
    "duration": 683,
    "start_time": "2022-05-21T00:34:20.418Z"
   },
   {
    "duration": 7,
    "start_time": "2022-05-21T00:35:32.302Z"
   },
   {
    "duration": 8,
    "start_time": "2022-05-21T00:35:51.418Z"
   },
   {
    "duration": 7,
    "start_time": "2022-05-21T00:36:06.670Z"
   },
   {
    "duration": 35,
    "start_time": "2022-05-21T00:36:14.406Z"
   },
   {
    "duration": 8,
    "start_time": "2022-05-21T00:36:17.775Z"
   },
   {
    "duration": 834,
    "start_time": "2022-05-21T00:36:25.018Z"
   },
   {
    "duration": 8,
    "start_time": "2022-05-21T00:36:45.928Z"
   },
   {
    "duration": 611,
    "start_time": "2022-05-21T00:37:22.491Z"
   },
   {
    "duration": 605,
    "start_time": "2022-05-21T00:37:30.478Z"
   },
   {
    "duration": 7,
    "start_time": "2022-05-21T00:38:13.971Z"
   },
   {
    "duration": 6,
    "start_time": "2022-05-21T00:44:06.510Z"
   },
   {
    "duration": 10,
    "start_time": "2022-05-21T00:44:46.667Z"
   },
   {
    "duration": 10,
    "start_time": "2022-05-21T00:45:00.656Z"
   },
   {
    "duration": 6,
    "start_time": "2022-05-21T00:45:14.885Z"
   },
   {
    "duration": 33,
    "start_time": "2022-05-21T00:45:22.188Z"
   },
   {
    "duration": 6,
    "start_time": "2022-05-21T00:45:26.230Z"
   },
   {
    "duration": 545,
    "start_time": "2022-05-21T00:45:41.586Z"
   },
   {
    "duration": 8,
    "start_time": "2022-05-21T00:45:52.345Z"
   },
   {
    "duration": 586,
    "start_time": "2022-05-21T00:46:23.586Z"
   },
   {
    "duration": 7,
    "start_time": "2022-05-21T00:46:35.321Z"
   },
   {
    "duration": 610,
    "start_time": "2022-05-21T00:46:44.197Z"
   },
   {
    "duration": 7,
    "start_time": "2022-05-21T00:46:52.547Z"
   },
   {
    "duration": 668,
    "start_time": "2022-05-21T00:47:05.047Z"
   },
   {
    "duration": 7,
    "start_time": "2022-05-21T00:47:30.948Z"
   },
   {
    "duration": 6,
    "start_time": "2022-05-21T00:48:10.446Z"
   },
   {
    "duration": 8,
    "start_time": "2022-05-21T00:48:21.277Z"
   },
   {
    "duration": 9,
    "start_time": "2022-05-21T00:48:52.162Z"
   },
   {
    "duration": 11,
    "start_time": "2022-05-21T00:49:34.370Z"
   },
   {
    "duration": 11,
    "start_time": "2022-05-21T00:49:46.627Z"
   },
   {
    "duration": 10,
    "start_time": "2022-05-21T00:51:08.257Z"
   },
   {
    "duration": 6,
    "start_time": "2022-05-21T01:07:59.428Z"
   },
   {
    "duration": 9,
    "start_time": "2022-05-21T01:10:46.369Z"
   },
   {
    "duration": 7,
    "start_time": "2022-05-21T01:11:13.946Z"
   },
   {
    "duration": 10,
    "start_time": "2022-05-21T01:11:58.866Z"
   },
   {
    "duration": 6,
    "start_time": "2022-05-21T01:12:41.582Z"
   },
   {
    "duration": 10,
    "start_time": "2022-05-21T01:25:47.978Z"
   },
   {
    "duration": 9,
    "start_time": "2022-05-21T01:32:54.107Z"
   },
   {
    "duration": 12,
    "start_time": "2022-05-21T01:33:17.616Z"
   },
   {
    "duration": 5,
    "start_time": "2022-05-21T01:58:45.154Z"
   },
   {
    "duration": 6,
    "start_time": "2022-05-21T01:58:47.160Z"
   },
   {
    "duration": 5,
    "start_time": "2022-05-21T01:58:51.256Z"
   },
   {
    "duration": 6,
    "start_time": "2022-05-21T01:58:58.184Z"
   },
   {
    "duration": 6,
    "start_time": "2022-05-21T01:59:02.497Z"
   },
   {
    "duration": 11,
    "start_time": "2022-05-21T02:06:35.220Z"
   },
   {
    "duration": 7,
    "start_time": "2022-05-21T02:10:51.272Z"
   },
   {
    "duration": 8,
    "start_time": "2022-05-21T02:21:55.777Z"
   },
   {
    "duration": 7,
    "start_time": "2022-05-21T02:21:59.273Z"
   },
   {
    "duration": 6,
    "start_time": "2022-05-21T02:23:14.406Z"
   },
   {
    "duration": 6,
    "start_time": "2022-05-21T03:38:38.983Z"
   },
   {
    "duration": 5,
    "start_time": "2022-05-21T03:38:43.416Z"
   },
   {
    "duration": 5,
    "start_time": "2022-05-21T03:38:46.962Z"
   },
   {
    "duration": 5,
    "start_time": "2022-05-21T03:38:49.250Z"
   },
   {
    "duration": 6,
    "start_time": "2022-05-21T03:38:53.751Z"
   },
   {
    "duration": 6,
    "start_time": "2022-05-21T03:53:01.183Z"
   },
   {
    "duration": 5,
    "start_time": "2022-05-21T03:53:03.656Z"
   },
   {
    "duration": 6,
    "start_time": "2022-05-21T03:53:09.358Z"
   },
   {
    "duration": 6,
    "start_time": "2022-05-21T03:53:15.586Z"
   },
   {
    "duration": 5,
    "start_time": "2022-05-21T03:53:18.992Z"
   },
   {
    "duration": 5,
    "start_time": "2022-05-21T03:53:22.007Z"
   },
   {
    "duration": 6,
    "start_time": "2022-05-21T03:53:24.729Z"
   },
   {
    "duration": 6,
    "start_time": "2022-05-21T03:53:32.285Z"
   },
   {
    "duration": 5,
    "start_time": "2022-05-21T03:53:38.922Z"
   },
   {
    "duration": 5,
    "start_time": "2022-05-21T03:53:47.467Z"
   },
   {
    "duration": 8,
    "start_time": "2022-05-21T03:58:26.454Z"
   },
   {
    "duration": 8,
    "start_time": "2022-05-21T03:58:46.376Z"
   },
   {
    "duration": 7,
    "start_time": "2022-05-21T03:58:55.811Z"
   },
   {
    "duration": 6,
    "start_time": "2022-05-21T03:59:03.150Z"
   },
   {
    "duration": 6,
    "start_time": "2022-05-21T03:59:07.624Z"
   },
   {
    "duration": 5,
    "start_time": "2022-05-21T03:59:09.996Z"
   },
   {
    "duration": 6,
    "start_time": "2022-05-21T03:59:12.254Z"
   },
   {
    "duration": 6,
    "start_time": "2022-05-21T03:59:13.456Z"
   },
   {
    "duration": 6,
    "start_time": "2022-05-21T04:10:02.713Z"
   },
   {
    "duration": 6,
    "start_time": "2022-05-21T04:10:03.600Z"
   },
   {
    "duration": 6,
    "start_time": "2022-05-21T04:10:04.381Z"
   },
   {
    "duration": 6,
    "start_time": "2022-05-21T04:10:05.107Z"
   },
   {
    "duration": 5,
    "start_time": "2022-05-21T04:10:05.919Z"
   },
   {
    "duration": 60,
    "start_time": "2022-05-21T17:16:11.718Z"
   },
   {
    "duration": 1469,
    "start_time": "2022-07-20T17:16:43.671Z"
   },
   {
    "duration": 209,
    "start_time": "2022-07-20T17:16:45.159Z"
   },
   {
    "duration": 82,
    "start_time": "2022-07-20T17:16:58.658Z"
   },
   {
    "duration": 19,
    "start_time": "2022-07-20T17:17:03.394Z"
   },
   {
    "duration": 17,
    "start_time": "2022-07-20T17:17:06.953Z"
   },
   {
    "duration": 16,
    "start_time": "2022-07-20T17:17:31.314Z"
   },
   {
    "duration": 23,
    "start_time": "2022-07-20T17:17:35.711Z"
   },
   {
    "duration": 14,
    "start_time": "2022-07-20T17:17:43.291Z"
   },
   {
    "duration": 10,
    "start_time": "2022-07-20T17:19:15.006Z"
   },
   {
    "duration": 3,
    "start_time": "2022-07-20T17:19:24.312Z"
   },
   {
    "duration": 74,
    "start_time": "2022-07-20T17:19:24.738Z"
   },
   {
    "duration": 15,
    "start_time": "2022-07-20T17:19:25.144Z"
   },
   {
    "duration": 16,
    "start_time": "2022-07-20T17:19:25.598Z"
   },
   {
    "duration": 15,
    "start_time": "2022-07-20T17:19:26.019Z"
   },
   {
    "duration": 20,
    "start_time": "2022-07-20T17:19:27.050Z"
   },
   {
    "duration": 17,
    "start_time": "2022-07-20T17:19:28.041Z"
   },
   {
    "duration": 7,
    "start_time": "2022-07-20T17:19:28.549Z"
   },
   {
    "duration": 11,
    "start_time": "2022-07-20T17:19:30.738Z"
   },
   {
    "duration": 25,
    "start_time": "2022-07-20T17:19:35.371Z"
   },
   {
    "duration": 6,
    "start_time": "2022-07-20T17:19:36.264Z"
   },
   {
    "duration": 8,
    "start_time": "2022-07-20T17:19:38.366Z"
   },
   {
    "duration": 17,
    "start_time": "2022-07-20T17:19:54.830Z"
   },
   {
    "duration": 22,
    "start_time": "2022-07-20T17:20:12.761Z"
   },
   {
    "duration": 100,
    "start_time": "2022-07-20T17:21:54.297Z"
   },
   {
    "duration": 11,
    "start_time": "2022-07-20T17:28:43.433Z"
   },
   {
    "duration": 29,
    "start_time": "2022-07-20T17:29:12.485Z"
   },
   {
    "duration": 20,
    "start_time": "2022-07-20T17:29:36.951Z"
   },
   {
    "duration": 22,
    "start_time": "2022-07-20T17:30:08.973Z"
   },
   {
    "duration": 14,
    "start_time": "2022-07-20T17:33:28.315Z"
   },
   {
    "duration": 12,
    "start_time": "2022-07-20T17:33:36.756Z"
   },
   {
    "duration": 350,
    "start_time": "2022-07-20T17:34:35.632Z"
   },
   {
    "duration": 333,
    "start_time": "2022-07-20T17:35:13.557Z"
   },
   {
    "duration": 26,
    "start_time": "2022-07-20T17:38:15.490Z"
   },
   {
    "duration": 15,
    "start_time": "2022-07-20T17:38:52.765Z"
   },
   {
    "duration": 435,
    "start_time": "2022-07-20T17:38:53.782Z"
   },
   {
    "duration": 1110,
    "start_time": "2022-07-25T14:46:53.183Z"
   },
   {
    "duration": 217,
    "start_time": "2022-07-25T14:46:54.984Z"
   },
   {
    "duration": 12,
    "start_time": "2022-07-25T14:46:55.913Z"
   },
   {
    "duration": 14,
    "start_time": "2022-07-25T14:46:56.724Z"
   },
   {
    "duration": 19,
    "start_time": "2022-07-25T14:46:57.638Z"
   },
   {
    "duration": 18,
    "start_time": "2022-07-25T14:46:59.502Z"
   },
   {
    "duration": 13,
    "start_time": "2022-07-25T14:47:00.842Z"
   },
   {
    "duration": 6,
    "start_time": "2022-07-25T14:47:01.317Z"
   },
   {
    "duration": 8,
    "start_time": "2022-07-25T14:47:05.503Z"
   },
   {
    "duration": 13,
    "start_time": "2022-07-25T14:47:06.752Z"
   },
   {
    "duration": 5,
    "start_time": "2022-07-25T14:47:07.836Z"
   },
   {
    "duration": 7,
    "start_time": "2022-07-25T14:47:08.374Z"
   },
   {
    "duration": 19,
    "start_time": "2022-07-25T14:47:09.884Z"
   },
   {
    "duration": 10,
    "start_time": "2022-07-25T14:47:12.336Z"
   },
   {
    "duration": 304,
    "start_time": "2022-07-25T14:47:13.460Z"
   },
   {
    "duration": 5,
    "start_time": "2022-07-25T14:47:55.519Z"
   },
   {
    "duration": 10,
    "start_time": "2022-07-25T14:47:56.217Z"
   },
   {
    "duration": 21,
    "start_time": "2022-07-25T14:47:57.173Z"
   },
   {
    "duration": 167,
    "start_time": "2022-07-25T14:47:58.107Z"
   },
   {
    "duration": 193,
    "start_time": "2022-07-25T14:48:07.064Z"
   },
   {
    "duration": 18,
    "start_time": "2022-07-25T14:48:39.653Z"
   },
   {
    "duration": 19,
    "start_time": "2022-07-25T14:49:23.096Z"
   },
   {
    "duration": 9,
    "start_time": "2022-07-25T14:49:23.603Z"
   },
   {
    "duration": 5,
    "start_time": "2022-07-25T14:49:24.865Z"
   },
   {
    "duration": 23,
    "start_time": "2022-07-25T14:49:36.654Z"
   },
   {
    "duration": 252,
    "start_time": "2022-07-25T14:49:38.528Z"
   },
   {
    "duration": 21,
    "start_time": "2022-07-25T14:49:39.354Z"
   },
   {
    "duration": 4,
    "start_time": "2022-07-25T14:49:39.982Z"
   },
   {
    "duration": 29,
    "start_time": "2022-07-25T14:49:40.496Z"
   },
   {
    "duration": 110,
    "start_time": "2022-07-25T14:51:37.526Z"
   },
   {
    "duration": 834,
    "start_time": "2022-07-25T14:53:06.580Z"
   },
   {
    "duration": 764,
    "start_time": "2022-07-25T14:53:56.337Z"
   },
   {
    "duration": 594,
    "start_time": "2022-07-25T14:54:19.142Z"
   },
   {
    "duration": 621,
    "start_time": "2022-07-25T14:54:51.848Z"
   },
   {
    "duration": 647,
    "start_time": "2022-07-25T14:55:01.159Z"
   },
   {
    "duration": 652,
    "start_time": "2022-07-25T14:55:09.442Z"
   },
   {
    "duration": 668,
    "start_time": "2022-07-25T14:55:43.555Z"
   },
   {
    "duration": 3,
    "start_time": "2022-07-25T14:57:01.572Z"
   },
   {
    "duration": 588,
    "start_time": "2022-07-25T14:57:03.338Z"
   },
   {
    "duration": 342,
    "start_time": "2022-07-25T14:58:04.719Z"
   },
   {
    "duration": 674,
    "start_time": "2022-07-25T14:58:08.309Z"
   },
   {
    "duration": 649,
    "start_time": "2022-07-25T14:58:13.308Z"
   },
   {
    "duration": 648,
    "start_time": "2022-07-25T14:58:18.044Z"
   },
   {
    "duration": 691,
    "start_time": "2022-07-25T14:58:32.254Z"
   },
   {
    "duration": 711,
    "start_time": "2022-07-25T14:58:42.259Z"
   },
   {
    "duration": 643,
    "start_time": "2022-07-25T14:59:01.984Z"
   },
   {
    "duration": 632,
    "start_time": "2022-07-25T14:59:12.290Z"
   },
   {
    "duration": 313,
    "start_time": "2022-07-25T14:59:17.183Z"
   },
   {
    "duration": 746,
    "start_time": "2022-07-25T14:59:21.417Z"
   },
   {
    "duration": 672,
    "start_time": "2022-07-25T14:59:27.865Z"
   },
   {
    "duration": 638,
    "start_time": "2022-07-25T15:00:00.474Z"
   },
   {
    "duration": 631,
    "start_time": "2022-07-25T15:00:04.364Z"
   },
   {
    "duration": 622,
    "start_time": "2022-07-25T15:00:11.953Z"
   },
   {
    "duration": 663,
    "start_time": "2022-07-25T15:00:27.185Z"
   },
   {
    "duration": 720,
    "start_time": "2022-07-25T15:00:36.789Z"
   },
   {
    "duration": 748,
    "start_time": "2022-07-25T15:00:46.292Z"
   },
   {
    "duration": 706,
    "start_time": "2022-07-25T15:02:02.894Z"
   },
   {
    "duration": 647,
    "start_time": "2022-07-25T15:04:47.547Z"
   },
   {
    "duration": 625,
    "start_time": "2022-07-25T15:09:24.650Z"
   },
   {
    "duration": 1308,
    "start_time": "2022-07-26T13:15:14.225Z"
   },
   {
    "duration": 114,
    "start_time": "2022-07-26T13:15:16.179Z"
   },
   {
    "duration": 15,
    "start_time": "2022-07-26T13:15:17.042Z"
   },
   {
    "duration": 14,
    "start_time": "2022-07-26T13:15:18.006Z"
   },
   {
    "duration": 13,
    "start_time": "2022-07-26T13:15:18.859Z"
   },
   {
    "duration": 21,
    "start_time": "2022-07-26T13:15:21.149Z"
   },
   {
    "duration": 15,
    "start_time": "2022-07-26T13:15:49.810Z"
   },
   {
    "duration": 6,
    "start_time": "2022-07-26T13:15:50.763Z"
   },
   {
    "duration": 10,
    "start_time": "2022-07-26T13:15:51.607Z"
   },
   {
    "duration": 22,
    "start_time": "2022-07-26T13:15:52.458Z"
   },
   {
    "duration": 5,
    "start_time": "2022-07-26T13:15:53.218Z"
   },
   {
    "duration": 8,
    "start_time": "2022-07-26T13:15:53.962Z"
   },
   {
    "duration": 17,
    "start_time": "2022-07-26T13:15:55.081Z"
   },
   {
    "duration": 11,
    "start_time": "2022-07-26T13:15:56.407Z"
   },
   {
    "duration": 337,
    "start_time": "2022-07-26T13:15:56.803Z"
   },
   {
    "duration": 7,
    "start_time": "2022-07-26T13:15:58.512Z"
   },
   {
    "duration": 12,
    "start_time": "2022-07-26T13:15:59.528Z"
   },
   {
    "duration": 24,
    "start_time": "2022-07-26T13:15:59.973Z"
   },
   {
    "duration": 220,
    "start_time": "2022-07-26T13:16:00.394Z"
   },
   {
    "duration": 228,
    "start_time": "2022-07-26T13:16:00.793Z"
   },
   {
    "duration": 20,
    "start_time": "2022-07-26T13:16:01.175Z"
   },
   {
    "duration": 11,
    "start_time": "2022-07-26T13:16:01.579Z"
   },
   {
    "duration": 6,
    "start_time": "2022-07-26T13:16:01.968Z"
   },
   {
    "duration": 21,
    "start_time": "2022-07-26T13:16:02.361Z"
   },
   {
    "duration": 285,
    "start_time": "2022-07-26T13:16:03.182Z"
   },
   {
    "duration": 22,
    "start_time": "2022-07-26T13:16:03.990Z"
   },
   {
    "duration": 4,
    "start_time": "2022-07-26T13:16:04.376Z"
   },
   {
    "duration": 31,
    "start_time": "2022-07-26T13:16:04.760Z"
   },
   {
    "duration": 758,
    "start_time": "2022-07-26T13:16:05.209Z"
   },
   {
    "duration": 17,
    "start_time": "2022-07-26T13:16:06.488Z"
   },
   {
    "duration": 390,
    "start_time": "2022-07-26T13:16:07.340Z"
   },
   {
    "duration": 271,
    "start_time": "2022-07-26T13:16:07.765Z"
   },
   {
    "duration": 12,
    "start_time": "2022-07-26T13:16:08.597Z"
   },
   {
    "duration": 6,
    "start_time": "2022-07-26T13:16:08.970Z"
   },
   {
    "duration": 8,
    "start_time": "2022-07-26T13:16:09.808Z"
   },
   {
    "duration": 12,
    "start_time": "2022-07-26T13:16:10.244Z"
   },
   {
    "duration": 363,
    "start_time": "2022-07-26T13:16:11.437Z"
   },
   {
    "duration": 358,
    "start_time": "2022-07-26T13:16:12.466Z"
   },
   {
    "duration": 1130,
    "start_time": "2022-07-26T13:16:13.871Z"
   },
   {
    "duration": 1092,
    "start_time": "2022-07-26T13:16:16.025Z"
   },
   {
    "duration": 7,
    "start_time": "2022-07-26T13:16:17.559Z"
   },
   {
    "duration": 12,
    "start_time": "2022-07-26T13:16:18.021Z"
   },
   {
    "duration": 680,
    "start_time": "2022-07-26T13:16:18.506Z"
   },
   {
    "duration": 357,
    "start_time": "2022-07-26T13:16:19.781Z"
   },
   {
    "duration": 13,
    "start_time": "2022-07-26T13:16:21.712Z"
   },
   {
    "duration": 116,
    "start_time": "2022-07-26T13:16:23.289Z"
   },
   {
    "duration": 121,
    "start_time": "2022-07-26T13:16:23.663Z"
   },
   {
    "duration": 115,
    "start_time": "2022-07-26T13:16:24.054Z"
   },
   {
    "duration": 131,
    "start_time": "2022-07-26T13:16:25.760Z"
   },
   {
    "duration": 136,
    "start_time": "2022-07-26T13:16:26.206Z"
   },
   {
    "duration": 135,
    "start_time": "2022-07-26T13:16:26.603Z"
   },
   {
    "duration": 118,
    "start_time": "2022-07-26T13:16:27.916Z"
   },
   {
    "duration": 120,
    "start_time": "2022-07-26T13:16:28.333Z"
   },
   {
    "duration": 118,
    "start_time": "2022-07-26T13:16:28.798Z"
   },
   {
    "duration": 12,
    "start_time": "2022-07-26T13:16:31.504Z"
   },
   {
    "duration": 10,
    "start_time": "2022-07-26T13:16:32.837Z"
   }
  ],
  "kernelspec": {
   "display_name": "Python 3 (ipykernel)",
   "language": "python",
   "name": "python3"
  },
  "language_info": {
   "codemirror_mode": {
    "name": "ipython",
    "version": 3
   },
   "file_extension": ".py",
   "mimetype": "text/x-python",
   "name": "python",
   "nbconvert_exporter": "python",
   "pygments_lexer": "ipython3",
   "version": "3.9.5"
  },
  "toc": {
   "base_numbering": 1,
   "nav_menu": {},
   "number_sections": true,
   "sideBar": true,
   "skip_h1_title": true,
   "title_cell": "Table of Contents",
   "title_sidebar": "Contents",
   "toc_cell": false,
   "toc_position": {},
   "toc_section_display": true,
   "toc_window_display": true
  }
 },
 "nbformat": 4,
 "nbformat_minor": 2
}
