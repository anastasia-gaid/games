{
 "cells": [
  {
   "cell_type": "markdown",
   "metadata": {},
   "source": [
    "<b> Проект: \"Выделение групп пользователей на основе поведения в мобильном приложении.</b>\n",
    "\n",
    "<b> Оглавление проекта:</b>\n",
    "\n",
    "[1. Загрузка и изучение данных.](#step_1)\n",
    "\n",
    "[2. Предобработка данных.](#step_2)\n",
    "\n",
    "[3. Исследовательский анализ данных (EDA).](#step_3)\n",
    "\n",
    "[3.1. Расчет количества событий и пользователей в логе.](#step_3.1)\n",
    "\n",
    "[3.2. Расчет среднего количества событий, приходящегося на одного пользователя.](#step_3.2)\n",
    "\n",
    "[3.3. Выделение пользовательских сессий.](#step_3.3)\n",
    "\n",
    "[3.4. Расчет количества сессий на одного пользователи и количества совершенных событий пользователем за одну сессию.](#step_3.4)\n",
    "\n",
    "[3.5. Расчет длительности пользовательской сесиии.](#step_3.5)\n",
    "\n",
    "[3.6. Создание пользовательских профилей.](#step_3.6)\n",
    "\n",
    "[4. Сегментация пользователей на основе действий.](#step_4)\n",
    "\n",
    "[4.1. Кластеризация пользователей на основании алгоритма K-Means по данным из пользовательских профилей.](#step_4.1)\n",
    "\n",
    "[4.2. Построение графиков распределения признаков для кластеров и характеристика для каждого кластера.](#step_4.2)\n",
    "\n",
    "[5. Расчет и сравнение метрик пользователей из различных кластеров.](#step_5)\n",
    "\n",
    "[5.1. Расчет и сравнение retention rate.](#step_5.1)\n",
    "\n",
    "[5.2. Расчет и сравнение времени, проведенного пользователем в приложении.](#step_5.2)\n",
    "\n",
    "[5.3. Расчет и сравнение среднего количества действий, совершенных пользователем.](#step_5.3)\n",
    "\n",
    "[5.4. Расчет и сравнение конверсии в целевое действие — просмотр контактов.](#step_5.4)\n",
    "\n",
    "[6. Проверка статистических гипотез.](#step_6)\n",
    "\n",
    "[6.1. Гипотеза №1 : Конверсии в просмотры контактов для пользователей, установивших приложение по ссылке из yandex, и пользователей, установивших приложение по ссылке из google, различаются.](#step_6.1)\n",
    "\n",
    "[6.2. Гипотеза №2 : Конверсии в просмотры контактов для пользователей, просмотревших рекомендованные объявления, и пользователей, не просмотревших рекомендованные объявления, различаются.](#step_6.2)\n",
    "\n",
    "[7. Общие выводы и рекомендации.](#step_7)\n",
    "\n",
    "[8. Презентация.](#step_8)"
   ]
  },
  {
   "cell_type": "markdown",
   "metadata": {},
   "source": [
    "<a id=\"step_1\"></a> \n",
    "## Загрузка и изучение данных"
   ]
  },
  {
   "cell_type": "code",
   "execution_count": 1,
   "metadata": {},
   "outputs": [],
   "source": [
    "# импорт библиотек \n",
    "import pandas as pd\n",
    "import numpy as np\n",
    "import scipy.stats as stats\n",
    "from scipy import stats as st\n",
    "import matplotlib.pyplot as plt\n",
    "import seaborn as sns\n",
    "import math as mth\n",
    "from datetime import datetime, timedelta\n",
    "# библиотеки необходимые для кластеризации\n",
    "from sklearn.model_selection import train_test_split\n",
    "from sklearn.preprocessing import StandardScaler\n",
    "from scipy.cluster.hierarchy import dendrogram, linkage\n",
    "from sklearn.cluster import KMeans\n",
    "\n",
    "import warnings\n",
    "warnings.filterwarnings('ignore')"
   ]
  },
  {
   "cell_type": "code",
   "execution_count": 3,
   "metadata": {},
   "outputs": [
    {
     "data": {
      "text/html": [
       "<div>\n",
       "<style scoped>\n",
       "    .dataframe tbody tr th:only-of-type {\n",
       "        vertical-align: middle;\n",
       "    }\n",
       "\n",
       "    .dataframe tbody tr th {\n",
       "        vertical-align: top;\n",
       "    }\n",
       "\n",
       "    .dataframe thead th {\n",
       "        text-align: right;\n",
       "    }\n",
       "</style>\n",
       "<table border=\"1\" class=\"dataframe\">\n",
       "  <thead>\n",
       "    <tr style=\"text-align: right;\">\n",
       "      <th></th>\n",
       "      <th>event.time</th>\n",
       "      <th>event.name</th>\n",
       "      <th>user.id</th>\n",
       "    </tr>\n",
       "  </thead>\n",
       "  <tbody>\n",
       "    <tr>\n",
       "      <th>0</th>\n",
       "      <td>2019-10-07 00:00:00.431357</td>\n",
       "      <td>advert_open</td>\n",
       "      <td>020292ab-89bc-4156-9acf-68bc2783f894</td>\n",
       "    </tr>\n",
       "    <tr>\n",
       "      <th>1</th>\n",
       "      <td>2019-10-07 00:00:01.236320</td>\n",
       "      <td>tips_show</td>\n",
       "      <td>020292ab-89bc-4156-9acf-68bc2783f894</td>\n",
       "    </tr>\n",
       "    <tr>\n",
       "      <th>2</th>\n",
       "      <td>2019-10-07 00:00:02.245341</td>\n",
       "      <td>tips_show</td>\n",
       "      <td>cf7eda61-9349-469f-ac27-e5b6f5ec475c</td>\n",
       "    </tr>\n",
       "    <tr>\n",
       "      <th>3</th>\n",
       "      <td>2019-10-07 00:00:07.039334</td>\n",
       "      <td>tips_show</td>\n",
       "      <td>020292ab-89bc-4156-9acf-68bc2783f894</td>\n",
       "    </tr>\n",
       "    <tr>\n",
       "      <th>4</th>\n",
       "      <td>2019-10-07 00:00:56.319813</td>\n",
       "      <td>advert_open</td>\n",
       "      <td>cf7eda61-9349-469f-ac27-e5b6f5ec475c</td>\n",
       "    </tr>\n",
       "    <tr>\n",
       "      <th>...</th>\n",
       "      <td>...</td>\n",
       "      <td>...</td>\n",
       "      <td>...</td>\n",
       "    </tr>\n",
       "    <tr>\n",
       "      <th>74192</th>\n",
       "      <td>2019-11-03 23:53:29.534986</td>\n",
       "      <td>tips_show</td>\n",
       "      <td>28fccdf4-7b9e-42f5-bc73-439a265f20e9</td>\n",
       "    </tr>\n",
       "    <tr>\n",
       "      <th>74193</th>\n",
       "      <td>2019-11-03 23:54:00.407086</td>\n",
       "      <td>tips_show</td>\n",
       "      <td>28fccdf4-7b9e-42f5-bc73-439a265f20e9</td>\n",
       "    </tr>\n",
       "    <tr>\n",
       "      <th>74194</th>\n",
       "      <td>2019-11-03 23:56:57.041825</td>\n",
       "      <td>search_1</td>\n",
       "      <td>20850c8f-4135-4059-b13b-198d3ac59902</td>\n",
       "    </tr>\n",
       "    <tr>\n",
       "      <th>74195</th>\n",
       "      <td>2019-11-03 23:57:06.232189</td>\n",
       "      <td>tips_show</td>\n",
       "      <td>28fccdf4-7b9e-42f5-bc73-439a265f20e9</td>\n",
       "    </tr>\n",
       "    <tr>\n",
       "      <th>74196</th>\n",
       "      <td>2019-11-03 23:58:12.532487</td>\n",
       "      <td>tips_show</td>\n",
       "      <td>28fccdf4-7b9e-42f5-bc73-439a265f20e9</td>\n",
       "    </tr>\n",
       "  </tbody>\n",
       "</table>\n",
       "<p>74197 rows × 3 columns</p>\n",
       "</div>"
      ],
      "text/plain": [
       "                       event.time   event.name  \\\n",
       "0      2019-10-07 00:00:00.431357  advert_open   \n",
       "1      2019-10-07 00:00:01.236320    tips_show   \n",
       "2      2019-10-07 00:00:02.245341    tips_show   \n",
       "3      2019-10-07 00:00:07.039334    tips_show   \n",
       "4      2019-10-07 00:00:56.319813  advert_open   \n",
       "...                           ...          ...   \n",
       "74192  2019-11-03 23:53:29.534986    tips_show   \n",
       "74193  2019-11-03 23:54:00.407086    tips_show   \n",
       "74194  2019-11-03 23:56:57.041825     search_1   \n",
       "74195  2019-11-03 23:57:06.232189    tips_show   \n",
       "74196  2019-11-03 23:58:12.532487    tips_show   \n",
       "\n",
       "                                    user.id  \n",
       "0      020292ab-89bc-4156-9acf-68bc2783f894  \n",
       "1      020292ab-89bc-4156-9acf-68bc2783f894  \n",
       "2      cf7eda61-9349-469f-ac27-e5b6f5ec475c  \n",
       "3      020292ab-89bc-4156-9acf-68bc2783f894  \n",
       "4      cf7eda61-9349-469f-ac27-e5b6f5ec475c  \n",
       "...                                     ...  \n",
       "74192  28fccdf4-7b9e-42f5-bc73-439a265f20e9  \n",
       "74193  28fccdf4-7b9e-42f5-bc73-439a265f20e9  \n",
       "74194  20850c8f-4135-4059-b13b-198d3ac59902  \n",
       "74195  28fccdf4-7b9e-42f5-bc73-439a265f20e9  \n",
       "74196  28fccdf4-7b9e-42f5-bc73-439a265f20e9  \n",
       "\n",
       "[74197 rows x 3 columns]"
      ]
     },
     "execution_count": 3,
     "metadata": {},
     "output_type": "execute_result"
    }
   ],
   "source": [
    "df_event = pd.read_csv('https://code.s3.yandex.net/datasets/mobile_dataset.csv')\n",
    "df_event"
   ]
  },
  {
   "cell_type": "code",
   "execution_count": 4,
   "metadata": {},
   "outputs": [
    {
     "name": "stdout",
     "output_type": "stream",
     "text": [
      "<class 'pandas.core.frame.DataFrame'>\n",
      "RangeIndex: 74197 entries, 0 to 74196\n",
      "Data columns (total 3 columns):\n",
      " #   Column      Non-Null Count  Dtype \n",
      "---  ------      --------------  ----- \n",
      " 0   event.time  74197 non-null  object\n",
      " 1   event.name  74197 non-null  object\n",
      " 2   user.id     74197 non-null  object\n",
      "dtypes: object(3)\n",
      "memory usage: 1.7+ MB\n"
     ]
    }
   ],
   "source": [
    "df_event.info()"
   ]
  },
  {
   "cell_type": "code",
   "execution_count": 5,
   "metadata": {},
   "outputs": [
    {
     "data": {
      "text/html": [
       "<div>\n",
       "<style scoped>\n",
       "    .dataframe tbody tr th:only-of-type {\n",
       "        vertical-align: middle;\n",
       "    }\n",
       "\n",
       "    .dataframe tbody tr th {\n",
       "        vertical-align: top;\n",
       "    }\n",
       "\n",
       "    .dataframe thead th {\n",
       "        text-align: right;\n",
       "    }\n",
       "</style>\n",
       "<table border=\"1\" class=\"dataframe\">\n",
       "  <thead>\n",
       "    <tr style=\"text-align: right;\">\n",
       "      <th></th>\n",
       "      <th>userId</th>\n",
       "      <th>source</th>\n",
       "    </tr>\n",
       "  </thead>\n",
       "  <tbody>\n",
       "    <tr>\n",
       "      <th>0</th>\n",
       "      <td>020292ab-89bc-4156-9acf-68bc2783f894</td>\n",
       "      <td>other</td>\n",
       "    </tr>\n",
       "    <tr>\n",
       "      <th>1</th>\n",
       "      <td>cf7eda61-9349-469f-ac27-e5b6f5ec475c</td>\n",
       "      <td>yandex</td>\n",
       "    </tr>\n",
       "    <tr>\n",
       "      <th>2</th>\n",
       "      <td>8c356c42-3ba9-4cb6-80b8-3f868d0192c3</td>\n",
       "      <td>yandex</td>\n",
       "    </tr>\n",
       "    <tr>\n",
       "      <th>3</th>\n",
       "      <td>d9b06b47-0f36-419b-bbb0-3533e582a6cb</td>\n",
       "      <td>other</td>\n",
       "    </tr>\n",
       "    <tr>\n",
       "      <th>4</th>\n",
       "      <td>f32e1e2a-3027-4693-b793-b7b3ff274439</td>\n",
       "      <td>google</td>\n",
       "    </tr>\n",
       "    <tr>\n",
       "      <th>...</th>\n",
       "      <td>...</td>\n",
       "      <td>...</td>\n",
       "    </tr>\n",
       "    <tr>\n",
       "      <th>4288</th>\n",
       "      <td>b86fe56e-f2de-4f8a-b192-cd89a37ecd41</td>\n",
       "      <td>yandex</td>\n",
       "    </tr>\n",
       "    <tr>\n",
       "      <th>4289</th>\n",
       "      <td>424c0ae1-3ea3-4f1e-a814-6bac73e48ab1</td>\n",
       "      <td>yandex</td>\n",
       "    </tr>\n",
       "    <tr>\n",
       "      <th>4290</th>\n",
       "      <td>437a4cd4-9ba9-457f-8614-d142bc48fbeb</td>\n",
       "      <td>yandex</td>\n",
       "    </tr>\n",
       "    <tr>\n",
       "      <th>4291</th>\n",
       "      <td>c10055f0-0b47-477a-869e-d391b31fdf8f</td>\n",
       "      <td>yandex</td>\n",
       "    </tr>\n",
       "    <tr>\n",
       "      <th>4292</th>\n",
       "      <td>d157bffc-264d-4464-8220-1cc0c42f43a9</td>\n",
       "      <td>google</td>\n",
       "    </tr>\n",
       "  </tbody>\n",
       "</table>\n",
       "<p>4293 rows × 2 columns</p>\n",
       "</div>"
      ],
      "text/plain": [
       "                                    userId  source\n",
       "0     020292ab-89bc-4156-9acf-68bc2783f894   other\n",
       "1     cf7eda61-9349-469f-ac27-e5b6f5ec475c  yandex\n",
       "2     8c356c42-3ba9-4cb6-80b8-3f868d0192c3  yandex\n",
       "3     d9b06b47-0f36-419b-bbb0-3533e582a6cb   other\n",
       "4     f32e1e2a-3027-4693-b793-b7b3ff274439  google\n",
       "...                                    ...     ...\n",
       "4288  b86fe56e-f2de-4f8a-b192-cd89a37ecd41  yandex\n",
       "4289  424c0ae1-3ea3-4f1e-a814-6bac73e48ab1  yandex\n",
       "4290  437a4cd4-9ba9-457f-8614-d142bc48fbeb  yandex\n",
       "4291  c10055f0-0b47-477a-869e-d391b31fdf8f  yandex\n",
       "4292  d157bffc-264d-4464-8220-1cc0c42f43a9  google\n",
       "\n",
       "[4293 rows x 2 columns]"
      ]
     },
     "execution_count": 5,
     "metadata": {},
     "output_type": "execute_result"
    }
   ],
   "source": [
    "df_sourсes = pd.read_csv('https://code.s3.yandex.net/datasets/mobile_soures.csv')\n",
    "df_sourсes"
   ]
  },
  {
   "cell_type": "code",
   "execution_count": 6,
   "metadata": {},
   "outputs": [
    {
     "name": "stdout",
     "output_type": "stream",
     "text": [
      "<class 'pandas.core.frame.DataFrame'>\n",
      "RangeIndex: 4293 entries, 0 to 4292\n",
      "Data columns (total 2 columns):\n",
      " #   Column  Non-Null Count  Dtype \n",
      "---  ------  --------------  ----- \n",
      " 0   userId  4293 non-null   object\n",
      " 1   source  4293 non-null   object\n",
      "dtypes: object(2)\n",
      "memory usage: 67.2+ KB\n"
     ]
    }
   ],
   "source": [
    "df_sourсes.info()"
   ]
  },
  {
   "cell_type": "markdown",
   "metadata": {},
   "source": [
    "В таблице `df_event` 74197 записей, пропусков в данных нет. В столбце \"event.time\", хранящего время совершения события, следует заменить тип данных.\n",
    "\n",
    "В таблице `df_sourсes` 4293  записей, пропуски в данных также отсутствуют.\n",
    "\n",
    "Для удобства в обеих таблицах следует заменить названия столбцов."
   ]
  },
  {
   "cell_type": "markdown",
   "metadata": {},
   "source": [
    "<a id=\"step_2\"></a> \n",
    "## Предобработка данных"
   ]
  },
  {
   "cell_type": "markdown",
   "metadata": {},
   "source": [
    "Изменим названия столбцов."
   ]
  },
  {
   "cell_type": "code",
   "execution_count": 7,
   "metadata": {},
   "outputs": [
    {
     "data": {
      "text/plain": [
       "Index(['event_time', 'event_name', 'user_id'], dtype='object')"
      ]
     },
     "execution_count": 7,
     "metadata": {},
     "output_type": "execute_result"
    }
   ],
   "source": [
    "df_event.columns = df_event.columns.str.replace('.','_')\n",
    "df_event.columns"
   ]
  },
  {
   "cell_type": "code",
   "execution_count": 8,
   "metadata": {},
   "outputs": [
    {
     "data": {
      "text/plain": [
       "Index(['user_id', 'source'], dtype='object')"
      ]
     },
     "execution_count": 8,
     "metadata": {},
     "output_type": "execute_result"
    }
   ],
   "source": [
    "df_sourсes = df_sourсes.rename(columns={'userId':'user_id'})\n",
    "df_sourсes.columns"
   ]
  },
  {
   "cell_type": "markdown",
   "metadata": {},
   "source": [
    "Проверим датасеты на наличие дубликатов."
   ]
  },
  {
   "cell_type": "code",
   "execution_count": 9,
   "metadata": {},
   "outputs": [
    {
     "data": {
      "text/plain": [
       "0"
      ]
     },
     "execution_count": 9,
     "metadata": {},
     "output_type": "execute_result"
    }
   ],
   "source": [
    "df_event.duplicated().sum()"
   ]
  },
  {
   "cell_type": "code",
   "execution_count": 10,
   "metadata": {},
   "outputs": [
    {
     "data": {
      "text/plain": [
       "0"
      ]
     },
     "execution_count": 10,
     "metadata": {},
     "output_type": "execute_result"
    }
   ],
   "source": [
    "df_event.duplicated().sum()"
   ]
  },
  {
   "cell_type": "markdown",
   "metadata": {},
   "source": [
    "В данных отсутствуют дубликаты."
   ]
  },
  {
   "cell_type": "markdown",
   "metadata": {},
   "source": [
    "Изменим тип данных столбца `event_time` "
   ]
  },
  {
   "cell_type": "code",
   "execution_count": 11,
   "metadata": {},
   "outputs": [
    {
     "name": "stdout",
     "output_type": "stream",
     "text": [
      "<class 'pandas.core.frame.DataFrame'>\n",
      "RangeIndex: 74197 entries, 0 to 74196\n",
      "Data columns (total 3 columns):\n",
      " #   Column      Non-Null Count  Dtype         \n",
      "---  ------      --------------  -----         \n",
      " 0   event_time  74197 non-null  datetime64[ns]\n",
      " 1   event_name  74197 non-null  object        \n",
      " 2   user_id     74197 non-null  object        \n",
      "dtypes: datetime64[ns](1), object(2)\n",
      "memory usage: 1.7+ MB\n",
      "None\n"
     ]
    },
    {
     "data": {
      "text/html": [
       "<div>\n",
       "<style scoped>\n",
       "    .dataframe tbody tr th:only-of-type {\n",
       "        vertical-align: middle;\n",
       "    }\n",
       "\n",
       "    .dataframe tbody tr th {\n",
       "        vertical-align: top;\n",
       "    }\n",
       "\n",
       "    .dataframe thead th {\n",
       "        text-align: right;\n",
       "    }\n",
       "</style>\n",
       "<table border=\"1\" class=\"dataframe\">\n",
       "  <thead>\n",
       "    <tr style=\"text-align: right;\">\n",
       "      <th></th>\n",
       "      <th>event_time</th>\n",
       "      <th>event_name</th>\n",
       "      <th>user_id</th>\n",
       "    </tr>\n",
       "  </thead>\n",
       "  <tbody>\n",
       "    <tr>\n",
       "      <th>0</th>\n",
       "      <td>2019-10-07 00:00:00</td>\n",
       "      <td>advert_open</td>\n",
       "      <td>020292ab-89bc-4156-9acf-68bc2783f894</td>\n",
       "    </tr>\n",
       "    <tr>\n",
       "      <th>1</th>\n",
       "      <td>2019-10-07 00:00:01</td>\n",
       "      <td>tips_show</td>\n",
       "      <td>020292ab-89bc-4156-9acf-68bc2783f894</td>\n",
       "    </tr>\n",
       "    <tr>\n",
       "      <th>2</th>\n",
       "      <td>2019-10-07 00:00:02</td>\n",
       "      <td>tips_show</td>\n",
       "      <td>cf7eda61-9349-469f-ac27-e5b6f5ec475c</td>\n",
       "    </tr>\n",
       "    <tr>\n",
       "      <th>3</th>\n",
       "      <td>2019-10-07 00:00:07</td>\n",
       "      <td>tips_show</td>\n",
       "      <td>020292ab-89bc-4156-9acf-68bc2783f894</td>\n",
       "    </tr>\n",
       "    <tr>\n",
       "      <th>4</th>\n",
       "      <td>2019-10-07 00:00:56</td>\n",
       "      <td>advert_open</td>\n",
       "      <td>cf7eda61-9349-469f-ac27-e5b6f5ec475c</td>\n",
       "    </tr>\n",
       "  </tbody>\n",
       "</table>\n",
       "</div>"
      ],
      "text/plain": [
       "           event_time   event_name                               user_id\n",
       "0 2019-10-07 00:00:00  advert_open  020292ab-89bc-4156-9acf-68bc2783f894\n",
       "1 2019-10-07 00:00:01    tips_show  020292ab-89bc-4156-9acf-68bc2783f894\n",
       "2 2019-10-07 00:00:02    tips_show  cf7eda61-9349-469f-ac27-e5b6f5ec475c\n",
       "3 2019-10-07 00:00:07    tips_show  020292ab-89bc-4156-9acf-68bc2783f894\n",
       "4 2019-10-07 00:00:56  advert_open  cf7eda61-9349-469f-ac27-e5b6f5ec475c"
      ]
     },
     "execution_count": 11,
     "metadata": {},
     "output_type": "execute_result"
    }
   ],
   "source": [
    "df_event['event_time'] = pd.to_datetime(df_event['event_time']).dt.floor('s')\n",
    "print(df_event.info())\n",
    "df_event.head()"
   ]
  },
  {
   "cell_type": "markdown",
   "metadata": {},
   "source": [
    "Выделим отдельно столбец с датами событий"
   ]
  },
  {
   "cell_type": "code",
   "execution_count": 12,
   "metadata": {},
   "outputs": [],
   "source": [
    "df_event['event_date'] = df_event['event_time'].dt.date"
   ]
  },
  {
   "cell_type": "code",
   "execution_count": 13,
   "metadata": {},
   "outputs": [
    {
     "data": {
      "text/html": [
       "<div>\n",
       "<style scoped>\n",
       "    .dataframe tbody tr th:only-of-type {\n",
       "        vertical-align: middle;\n",
       "    }\n",
       "\n",
       "    .dataframe tbody tr th {\n",
       "        vertical-align: top;\n",
       "    }\n",
       "\n",
       "    .dataframe thead th {\n",
       "        text-align: right;\n",
       "    }\n",
       "</style>\n",
       "<table border=\"1\" class=\"dataframe\">\n",
       "  <thead>\n",
       "    <tr style=\"text-align: right;\">\n",
       "      <th></th>\n",
       "      <th>event_time</th>\n",
       "      <th>event_name</th>\n",
       "      <th>user_id</th>\n",
       "      <th>event_date</th>\n",
       "    </tr>\n",
       "  </thead>\n",
       "  <tbody>\n",
       "    <tr>\n",
       "      <th>0</th>\n",
       "      <td>2019-10-07 00:00:00</td>\n",
       "      <td>advert_open</td>\n",
       "      <td>020292ab-89bc-4156-9acf-68bc2783f894</td>\n",
       "      <td>2019-10-07</td>\n",
       "    </tr>\n",
       "    <tr>\n",
       "      <th>1</th>\n",
       "      <td>2019-10-07 00:00:01</td>\n",
       "      <td>tips_show</td>\n",
       "      <td>020292ab-89bc-4156-9acf-68bc2783f894</td>\n",
       "      <td>2019-10-07</td>\n",
       "    </tr>\n",
       "    <tr>\n",
       "      <th>2</th>\n",
       "      <td>2019-10-07 00:00:02</td>\n",
       "      <td>tips_show</td>\n",
       "      <td>cf7eda61-9349-469f-ac27-e5b6f5ec475c</td>\n",
       "      <td>2019-10-07</td>\n",
       "    </tr>\n",
       "    <tr>\n",
       "      <th>3</th>\n",
       "      <td>2019-10-07 00:00:07</td>\n",
       "      <td>tips_show</td>\n",
       "      <td>020292ab-89bc-4156-9acf-68bc2783f894</td>\n",
       "      <td>2019-10-07</td>\n",
       "    </tr>\n",
       "    <tr>\n",
       "      <th>4</th>\n",
       "      <td>2019-10-07 00:00:56</td>\n",
       "      <td>advert_open</td>\n",
       "      <td>cf7eda61-9349-469f-ac27-e5b6f5ec475c</td>\n",
       "      <td>2019-10-07</td>\n",
       "    </tr>\n",
       "  </tbody>\n",
       "</table>\n",
       "</div>"
      ],
      "text/plain": [
       "           event_time   event_name                               user_id  \\\n",
       "0 2019-10-07 00:00:00  advert_open  020292ab-89bc-4156-9acf-68bc2783f894   \n",
       "1 2019-10-07 00:00:01    tips_show  020292ab-89bc-4156-9acf-68bc2783f894   \n",
       "2 2019-10-07 00:00:02    tips_show  cf7eda61-9349-469f-ac27-e5b6f5ec475c   \n",
       "3 2019-10-07 00:00:07    tips_show  020292ab-89bc-4156-9acf-68bc2783f894   \n",
       "4 2019-10-07 00:00:56  advert_open  cf7eda61-9349-469f-ac27-e5b6f5ec475c   \n",
       "\n",
       "  event_date  \n",
       "0 2019-10-07  \n",
       "1 2019-10-07  \n",
       "2 2019-10-07  \n",
       "3 2019-10-07  \n",
       "4 2019-10-07  "
      ]
     },
     "execution_count": 13,
     "metadata": {},
     "output_type": "execute_result"
    }
   ],
   "source": [
    "df_event['event_date'] = pd.to_datetime(df_event['event_date'])\n",
    "df_event.head()"
   ]
  },
  {
   "cell_type": "markdown",
   "metadata": {},
   "source": [
    "Объединим события `contacts_show` и `show_contacts` в столбце \"event_name\" таблицы df_event"
   ]
  },
  {
   "cell_type": "code",
   "execution_count": 14,
   "metadata": {},
   "outputs": [
    {
     "data": {
      "text/plain": [
       "array(['advert_open', 'tips_show', 'map', 'contacts_show', 'search_4',\n",
       "       'search_5', 'tips_click', 'photos_show', 'search_1', 'search_2',\n",
       "       'search_3', 'favorites_add', 'contacts_call', 'search_6',\n",
       "       'search_7', 'show_contacts'], dtype=object)"
      ]
     },
     "execution_count": 14,
     "metadata": {},
     "output_type": "execute_result"
    }
   ],
   "source": [
    "df_event['event_name'].unique()"
   ]
  },
  {
   "cell_type": "code",
   "execution_count": 15,
   "metadata": {},
   "outputs": [],
   "source": [
    "df_event['event_name'] = df_event['event_name'].replace('show_contacts','contacts_show')"
   ]
  },
  {
   "cell_type": "code",
   "execution_count": 16,
   "metadata": {},
   "outputs": [
    {
     "data": {
      "text/plain": [
       "array(['advert_open', 'tips_show', 'map', 'contacts_show', 'search_4',\n",
       "       'search_5', 'tips_click', 'photos_show', 'search_1', 'search_2',\n",
       "       'search_3', 'favorites_add', 'contacts_call', 'search_6',\n",
       "       'search_7'], dtype=object)"
      ]
     },
     "execution_count": 16,
     "metadata": {},
     "output_type": "execute_result"
    }
   ],
   "source": [
    "df_event['event_name'].unique()"
   ]
  },
  {
   "cell_type": "markdown",
   "metadata": {},
   "source": [
    "Для удобства объединим датафреймы `df_event` и `df_sourсes`"
   ]
  },
  {
   "cell_type": "code",
   "execution_count": 17,
   "metadata": {
    "scrolled": true
   },
   "outputs": [
    {
     "data": {
      "text/html": [
       "<div>\n",
       "<style scoped>\n",
       "    .dataframe tbody tr th:only-of-type {\n",
       "        vertical-align: middle;\n",
       "    }\n",
       "\n",
       "    .dataframe tbody tr th {\n",
       "        vertical-align: top;\n",
       "    }\n",
       "\n",
       "    .dataframe thead th {\n",
       "        text-align: right;\n",
       "    }\n",
       "</style>\n",
       "<table border=\"1\" class=\"dataframe\">\n",
       "  <thead>\n",
       "    <tr style=\"text-align: right;\">\n",
       "      <th></th>\n",
       "      <th>event_time</th>\n",
       "      <th>event_name</th>\n",
       "      <th>user_id</th>\n",
       "      <th>event_date</th>\n",
       "      <th>source</th>\n",
       "    </tr>\n",
       "  </thead>\n",
       "  <tbody>\n",
       "    <tr>\n",
       "      <th>0</th>\n",
       "      <td>2019-10-07 00:00:00</td>\n",
       "      <td>advert_open</td>\n",
       "      <td>020292ab-89bc-4156-9acf-68bc2783f894</td>\n",
       "      <td>2019-10-07</td>\n",
       "      <td>other</td>\n",
       "    </tr>\n",
       "    <tr>\n",
       "      <th>1</th>\n",
       "      <td>2019-10-07 00:00:01</td>\n",
       "      <td>tips_show</td>\n",
       "      <td>020292ab-89bc-4156-9acf-68bc2783f894</td>\n",
       "      <td>2019-10-07</td>\n",
       "      <td>other</td>\n",
       "    </tr>\n",
       "    <tr>\n",
       "      <th>2</th>\n",
       "      <td>2019-10-07 00:00:02</td>\n",
       "      <td>tips_show</td>\n",
       "      <td>cf7eda61-9349-469f-ac27-e5b6f5ec475c</td>\n",
       "      <td>2019-10-07</td>\n",
       "      <td>yandex</td>\n",
       "    </tr>\n",
       "    <tr>\n",
       "      <th>3</th>\n",
       "      <td>2019-10-07 00:00:07</td>\n",
       "      <td>tips_show</td>\n",
       "      <td>020292ab-89bc-4156-9acf-68bc2783f894</td>\n",
       "      <td>2019-10-07</td>\n",
       "      <td>other</td>\n",
       "    </tr>\n",
       "    <tr>\n",
       "      <th>4</th>\n",
       "      <td>2019-10-07 00:00:56</td>\n",
       "      <td>advert_open</td>\n",
       "      <td>cf7eda61-9349-469f-ac27-e5b6f5ec475c</td>\n",
       "      <td>2019-10-07</td>\n",
       "      <td>yandex</td>\n",
       "    </tr>\n",
       "    <tr>\n",
       "      <th>...</th>\n",
       "      <td>...</td>\n",
       "      <td>...</td>\n",
       "      <td>...</td>\n",
       "      <td>...</td>\n",
       "      <td>...</td>\n",
       "    </tr>\n",
       "    <tr>\n",
       "      <th>74192</th>\n",
       "      <td>2019-11-03 23:53:29</td>\n",
       "      <td>tips_show</td>\n",
       "      <td>28fccdf4-7b9e-42f5-bc73-439a265f20e9</td>\n",
       "      <td>2019-11-03</td>\n",
       "      <td>google</td>\n",
       "    </tr>\n",
       "    <tr>\n",
       "      <th>74193</th>\n",
       "      <td>2019-11-03 23:54:00</td>\n",
       "      <td>tips_show</td>\n",
       "      <td>28fccdf4-7b9e-42f5-bc73-439a265f20e9</td>\n",
       "      <td>2019-11-03</td>\n",
       "      <td>google</td>\n",
       "    </tr>\n",
       "    <tr>\n",
       "      <th>74194</th>\n",
       "      <td>2019-11-03 23:56:57</td>\n",
       "      <td>search_1</td>\n",
       "      <td>20850c8f-4135-4059-b13b-198d3ac59902</td>\n",
       "      <td>2019-11-03</td>\n",
       "      <td>google</td>\n",
       "    </tr>\n",
       "    <tr>\n",
       "      <th>74195</th>\n",
       "      <td>2019-11-03 23:57:06</td>\n",
       "      <td>tips_show</td>\n",
       "      <td>28fccdf4-7b9e-42f5-bc73-439a265f20e9</td>\n",
       "      <td>2019-11-03</td>\n",
       "      <td>google</td>\n",
       "    </tr>\n",
       "    <tr>\n",
       "      <th>74196</th>\n",
       "      <td>2019-11-03 23:58:12</td>\n",
       "      <td>tips_show</td>\n",
       "      <td>28fccdf4-7b9e-42f5-bc73-439a265f20e9</td>\n",
       "      <td>2019-11-03</td>\n",
       "      <td>google</td>\n",
       "    </tr>\n",
       "  </tbody>\n",
       "</table>\n",
       "<p>74197 rows × 5 columns</p>\n",
       "</div>"
      ],
      "text/plain": [
       "               event_time   event_name                               user_id  \\\n",
       "0     2019-10-07 00:00:00  advert_open  020292ab-89bc-4156-9acf-68bc2783f894   \n",
       "1     2019-10-07 00:00:01    tips_show  020292ab-89bc-4156-9acf-68bc2783f894   \n",
       "2     2019-10-07 00:00:02    tips_show  cf7eda61-9349-469f-ac27-e5b6f5ec475c   \n",
       "3     2019-10-07 00:00:07    tips_show  020292ab-89bc-4156-9acf-68bc2783f894   \n",
       "4     2019-10-07 00:00:56  advert_open  cf7eda61-9349-469f-ac27-e5b6f5ec475c   \n",
       "...                   ...          ...                                   ...   \n",
       "74192 2019-11-03 23:53:29    tips_show  28fccdf4-7b9e-42f5-bc73-439a265f20e9   \n",
       "74193 2019-11-03 23:54:00    tips_show  28fccdf4-7b9e-42f5-bc73-439a265f20e9   \n",
       "74194 2019-11-03 23:56:57     search_1  20850c8f-4135-4059-b13b-198d3ac59902   \n",
       "74195 2019-11-03 23:57:06    tips_show  28fccdf4-7b9e-42f5-bc73-439a265f20e9   \n",
       "74196 2019-11-03 23:58:12    tips_show  28fccdf4-7b9e-42f5-bc73-439a265f20e9   \n",
       "\n",
       "      event_date  source  \n",
       "0     2019-10-07   other  \n",
       "1     2019-10-07   other  \n",
       "2     2019-10-07  yandex  \n",
       "3     2019-10-07   other  \n",
       "4     2019-10-07  yandex  \n",
       "...          ...     ...  \n",
       "74192 2019-11-03  google  \n",
       "74193 2019-11-03  google  \n",
       "74194 2019-11-03  google  \n",
       "74195 2019-11-03  google  \n",
       "74196 2019-11-03  google  \n",
       "\n",
       "[74197 rows x 5 columns]"
      ]
     },
     "execution_count": 17,
     "metadata": {},
     "output_type": "execute_result"
    }
   ],
   "source": [
    "df_mobile = pd.merge(df_event,df_sourсes,how='left',on='user_id')\n",
    "df_mobile"
   ]
  },
  {
   "cell_type": "markdown",
   "metadata": {},
   "source": [
    "<a id=\"step_3\"></a> \n",
    "## Исследовательский анализ данных (EDA)"
   ]
  },
  {
   "cell_type": "markdown",
   "metadata": {},
   "source": [
    "Изучим временной период располагаемых данных."
   ]
  },
  {
   "cell_type": "code",
   "execution_count": 18,
   "metadata": {},
   "outputs": [
    {
     "name": "stdout",
     "output_type": "stream",
     "text": [
      "Минимальная дата: 2019-10-07\n",
      "Максимальная дата: 2019-11-03\n"
     ]
    }
   ],
   "source": [
    "min_date = df_mobile['event_date'].min().date()\n",
    "max_date = df_mobile['event_date'].max().date()\n",
    "print(\"Минимальная дата:\",min_date)\n",
    "print(\"Максимальная дата:\",max_date)"
   ]
  },
  {
   "cell_type": "markdown",
   "metadata": {},
   "source": [
    "<a id=\"step_3.1\"></a> \n",
    "### Расчет количества событий и пользователей в логе"
   ]
  },
  {
   "cell_type": "code",
   "execution_count": 19,
   "metadata": {},
   "outputs": [
    {
     "name": "stdout",
     "output_type": "stream",
     "text": [
      "Общее количество событий в логе: 74197\n"
     ]
    }
   ],
   "source": [
    "events_number = df_mobile['event_name'].count()\n",
    "print('Общее количество событий в логе:', events_number)"
   ]
  },
  {
   "cell_type": "code",
   "execution_count": 20,
   "metadata": {},
   "outputs": [
    {
     "name": "stdout",
     "output_type": "stream",
     "text": [
      "Количество уникальных пользователей в логе: 4293\n"
     ]
    }
   ],
   "source": [
    "users_number = df_mobile['user_id'].nunique()\n",
    "print('Количество уникальных пользователей в логе:', users_number)"
   ]
  },
  {
   "cell_type": "markdown",
   "metadata": {},
   "source": [
    "<a id=\"step_3_2\"></a> \n",
    "### Расчет среднего количества событий, приходящегося на одного пользователя."
   ]
  },
  {
   "cell_type": "code",
   "execution_count": 21,
   "metadata": {},
   "outputs": [
    {
     "name": "stdout",
     "output_type": "stream",
     "text": [
      "Среднее количество событий, приходящееся на одного пользователя: 17\n",
      "Медианное количество событий, приходящееся на одного пользователя: 9\n"
     ]
    }
   ],
   "source": [
    "events_mean = (\n",
    "    df_mobile.groupby('user_id')\n",
    "    .agg({'event_name':'count'})\n",
    "    .reset_index()\n",
    "    .rename(columns={'event_name':'event_amount'})\n",
    ")\n",
    "events_mean_value = int(events_mean['event_amount'].mean())\n",
    "events_median_value = int(events_mean['event_amount'].median())\n",
    "print('Среднее количество событий, приходящееся на одного пользователя:',events_mean_value)\n",
    "print('Медианное количество событий, приходящееся на одного пользователя:',events_median_value)"
   ]
  },
  {
   "cell_type": "markdown",
   "metadata": {},
   "source": [
    "Построим гистограмму распределения количества событий на одного пользователя"
   ]
  },
  {
   "cell_type": "code",
   "execution_count": 22,
   "metadata": {},
   "outputs": [
    {
     "data": {
      "image/png": "[encoded data removed]",
      "text/plain": [
       "<Figure size 432x288 with 1 Axes>"
      ]
     },
     "metadata": {
      "needs_background": "light"
     },
     "output_type": "display_data"
    },
    {
     "data": {
      "text/plain": [
       "count    4293.000000\n",
       "mean       17.283252\n",
       "std        29.130677\n",
       "min         1.000000\n",
       "25%         5.000000\n",
       "50%         9.000000\n",
       "75%        17.000000\n",
       "max       478.000000\n",
       "Name: event_amount, dtype: float64"
      ]
     },
     "execution_count": 22,
     "metadata": {},
     "output_type": "execute_result"
    }
   ],
   "source": [
    "events_mean['event_amount'].hist(bins=20,range=(1,100))\n",
    "plt.title('Распределение количества событий на одного пользователя')\n",
    "plt.xlabel('Количество событий')\n",
    "plt.ylabel('Объем данных')\n",
    "plt.show()\n",
    "events_mean['event_amount'].describe()"
   ]
  },
  {
   "cell_type": "markdown",
   "metadata": {},
   "source": [
    "Медианное количество событий, приходящееся на одного пользователя равно 9.\n",
    "\n",
    "Значение 75 квантиля равно 17, как и значение среднего количесва событий, приходящегося на пользователя, следовательно, только 25% выборки превышает данное значение количества событий.\n",
    "\n",
    "Согласно распределению наиболее часто встречающееся количество событий на пользователя, находится в диапозоне от 5 до 10."
   ]
  },
  {
   "cell_type": "markdown",
   "metadata": {},
   "source": [
    "Рассмотрим какие события есть в логе и как часто они встречаются"
   ]
  },
  {
   "cell_type": "code",
   "execution_count": 23,
   "metadata": {},
   "outputs": [
    {
     "data": {
      "text/html": [
       "<div>\n",
       "<style scoped>\n",
       "    .dataframe tbody tr th:only-of-type {\n",
       "        vertical-align: middle;\n",
       "    }\n",
       "\n",
       "    .dataframe tbody tr th {\n",
       "        vertical-align: top;\n",
       "    }\n",
       "\n",
       "    .dataframe thead th {\n",
       "        text-align: right;\n",
       "    }\n",
       "</style>\n",
       "<table border=\"1\" class=\"dataframe\">\n",
       "  <thead>\n",
       "    <tr style=\"text-align: right;\">\n",
       "      <th></th>\n",
       "      <th>event_name</th>\n",
       "      <th>event_unique</th>\n",
       "      <th>event_amount</th>\n",
       "    </tr>\n",
       "  </thead>\n",
       "  <tbody>\n",
       "    <tr>\n",
       "      <th>14</th>\n",
       "      <td>tips_show</td>\n",
       "      <td>2801</td>\n",
       "      <td>40055</td>\n",
       "    </tr>\n",
       "    <tr>\n",
       "      <th>4</th>\n",
       "      <td>map</td>\n",
       "      <td>1456</td>\n",
       "      <td>3881</td>\n",
       "    </tr>\n",
       "    <tr>\n",
       "      <th>5</th>\n",
       "      <td>photos_show</td>\n",
       "      <td>1095</td>\n",
       "      <td>10012</td>\n",
       "    </tr>\n",
       "    <tr>\n",
       "      <th>2</th>\n",
       "      <td>contacts_show</td>\n",
       "      <td>981</td>\n",
       "      <td>4529</td>\n",
       "    </tr>\n",
       "    <tr>\n",
       "      <th>6</th>\n",
       "      <td>search_1</td>\n",
       "      <td>787</td>\n",
       "      <td>3506</td>\n",
       "    </tr>\n",
       "    <tr>\n",
       "      <th>0</th>\n",
       "      <td>advert_open</td>\n",
       "      <td>751</td>\n",
       "      <td>6164</td>\n",
       "    </tr>\n",
       "    <tr>\n",
       "      <th>10</th>\n",
       "      <td>search_5</td>\n",
       "      <td>663</td>\n",
       "      <td>1049</td>\n",
       "    </tr>\n",
       "    <tr>\n",
       "      <th>9</th>\n",
       "      <td>search_4</td>\n",
       "      <td>474</td>\n",
       "      <td>701</td>\n",
       "    </tr>\n",
       "    <tr>\n",
       "      <th>3</th>\n",
       "      <td>favorites_add</td>\n",
       "      <td>351</td>\n",
       "      <td>1417</td>\n",
       "    </tr>\n",
       "    <tr>\n",
       "      <th>11</th>\n",
       "      <td>search_6</td>\n",
       "      <td>330</td>\n",
       "      <td>460</td>\n",
       "    </tr>\n",
       "    <tr>\n",
       "      <th>13</th>\n",
       "      <td>tips_click</td>\n",
       "      <td>322</td>\n",
       "      <td>814</td>\n",
       "    </tr>\n",
       "    <tr>\n",
       "      <th>7</th>\n",
       "      <td>search_2</td>\n",
       "      <td>242</td>\n",
       "      <td>324</td>\n",
       "    </tr>\n",
       "    <tr>\n",
       "      <th>1</th>\n",
       "      <td>contacts_call</td>\n",
       "      <td>213</td>\n",
       "      <td>541</td>\n",
       "    </tr>\n",
       "    <tr>\n",
       "      <th>8</th>\n",
       "      <td>search_3</td>\n",
       "      <td>208</td>\n",
       "      <td>522</td>\n",
       "    </tr>\n",
       "    <tr>\n",
       "      <th>12</th>\n",
       "      <td>search_7</td>\n",
       "      <td>157</td>\n",
       "      <td>222</td>\n",
       "    </tr>\n",
       "  </tbody>\n",
       "</table>\n",
       "</div>"
      ],
      "text/plain": [
       "       event_name  event_unique  event_amount\n",
       "14      tips_show          2801         40055\n",
       "4             map          1456          3881\n",
       "5     photos_show          1095         10012\n",
       "2   contacts_show           981          4529\n",
       "6        search_1           787          3506\n",
       "0     advert_open           751          6164\n",
       "10       search_5           663          1049\n",
       "9        search_4           474           701\n",
       "3   favorites_add           351          1417\n",
       "11       search_6           330           460\n",
       "13     tips_click           322           814\n",
       "7        search_2           242           324\n",
       "1   contacts_call           213           541\n",
       "8        search_3           208           522\n",
       "12       search_7           157           222"
      ]
     },
     "execution_count": 23,
     "metadata": {},
     "output_type": "execute_result"
    }
   ],
   "source": [
    "df_event = df_mobile.groupby('event_name').agg({'user_id':['nunique','count']}).reset_index()\n",
    "df_event.columns = ['event_name','event_unique','event_amount']\n",
    "df_event = df_event.sort_values(by='event_unique',ascending=False)\n",
    "df_event"
   ]
  },
  {
   "cell_type": "markdown",
   "metadata": {},
   "source": [
    "Самое распростроненное и по колиечству охваченных пользователей и по частоте встречаемости событие - просмотр рекомендаций."
   ]
  },
  {
   "cell_type": "markdown",
   "metadata": {},
   "source": [
    "<a id=\"step_3.3\"></a> \n",
    "### Выделение пользовательских сессий"
   ]
  },
  {
   "cell_type": "markdown",
   "metadata": {},
   "source": [
    "Критерием новой пользовательской сессии будем считать - если между ней и предыдущим совершенным событием пользователя временной промежуток более 30 минут, если промежуток менее 30 минут - данные события в рамках одной пользовательской сессии."
   ]
  },
  {
   "cell_type": "markdown",
   "metadata": {},
   "source": [
    "Отсортируем датафрем по `user_id` и `event_time`, чтобы события каждого пользователя шли последовательно в хронологическом порядке."
   ]
  },
  {
   "cell_type": "code",
   "execution_count": 24,
   "metadata": {},
   "outputs": [
    {
     "data": {
      "text/html": [
       "<div>\n",
       "<style scoped>\n",
       "    .dataframe tbody tr th:only-of-type {\n",
       "        vertical-align: middle;\n",
       "    }\n",
       "\n",
       "    .dataframe tbody tr th {\n",
       "        vertical-align: top;\n",
       "    }\n",
       "\n",
       "    .dataframe thead th {\n",
       "        text-align: right;\n",
       "    }\n",
       "</style>\n",
       "<table border=\"1\" class=\"dataframe\">\n",
       "  <thead>\n",
       "    <tr style=\"text-align: right;\">\n",
       "      <th></th>\n",
       "      <th>user_id</th>\n",
       "      <th>event_time</th>\n",
       "      <th>event_name</th>\n",
       "      <th>event_date</th>\n",
       "      <th>source</th>\n",
       "    </tr>\n",
       "  </thead>\n",
       "  <tbody>\n",
       "    <tr>\n",
       "      <th>0</th>\n",
       "      <td>0001b1d5-b74a-4cbf-aeb0-7df5947bf349</td>\n",
       "      <td>2019-10-07 13:39:45</td>\n",
       "      <td>tips_show</td>\n",
       "      <td>2019-10-07</td>\n",
       "      <td>other</td>\n",
       "    </tr>\n",
       "    <tr>\n",
       "      <th>1</th>\n",
       "      <td>0001b1d5-b74a-4cbf-aeb0-7df5947bf349</td>\n",
       "      <td>2019-10-07 13:40:31</td>\n",
       "      <td>tips_show</td>\n",
       "      <td>2019-10-07</td>\n",
       "      <td>other</td>\n",
       "    </tr>\n",
       "    <tr>\n",
       "      <th>2</th>\n",
       "      <td>0001b1d5-b74a-4cbf-aeb0-7df5947bf349</td>\n",
       "      <td>2019-10-07 13:41:05</td>\n",
       "      <td>tips_show</td>\n",
       "      <td>2019-10-07</td>\n",
       "      <td>other</td>\n",
       "    </tr>\n",
       "    <tr>\n",
       "      <th>3</th>\n",
       "      <td>0001b1d5-b74a-4cbf-aeb0-7df5947bf349</td>\n",
       "      <td>2019-10-07 13:43:20</td>\n",
       "      <td>tips_show</td>\n",
       "      <td>2019-10-07</td>\n",
       "      <td>other</td>\n",
       "    </tr>\n",
       "    <tr>\n",
       "      <th>4</th>\n",
       "      <td>0001b1d5-b74a-4cbf-aeb0-7df5947bf349</td>\n",
       "      <td>2019-10-07 13:45:30</td>\n",
       "      <td>tips_show</td>\n",
       "      <td>2019-10-07</td>\n",
       "      <td>other</td>\n",
       "    </tr>\n",
       "  </tbody>\n",
       "</table>\n",
       "</div>"
      ],
      "text/plain": [
       "                                user_id          event_time event_name  \\\n",
       "0  0001b1d5-b74a-4cbf-aeb0-7df5947bf349 2019-10-07 13:39:45  tips_show   \n",
       "1  0001b1d5-b74a-4cbf-aeb0-7df5947bf349 2019-10-07 13:40:31  tips_show   \n",
       "2  0001b1d5-b74a-4cbf-aeb0-7df5947bf349 2019-10-07 13:41:05  tips_show   \n",
       "3  0001b1d5-b74a-4cbf-aeb0-7df5947bf349 2019-10-07 13:43:20  tips_show   \n",
       "4  0001b1d5-b74a-4cbf-aeb0-7df5947bf349 2019-10-07 13:45:30  tips_show   \n",
       "\n",
       "  event_date source  \n",
       "0 2019-10-07  other  \n",
       "1 2019-10-07  other  \n",
       "2 2019-10-07  other  \n",
       "3 2019-10-07  other  \n",
       "4 2019-10-07  other  "
      ]
     },
     "execution_count": 24,
     "metadata": {},
     "output_type": "execute_result"
    }
   ],
   "source": [
    "df_mobile = df_mobile.sort_values(['user_id','event_time']).set_index('user_id').reset_index()\n",
    "df_mobile.head()"
   ]
  },
  {
   "cell_type": "markdown",
   "metadata": {},
   "source": [
    "В столбце `diff` для каждого события отдельного пользователя расчитаем разницу между временем совершения события и временем совершения предыдущего события.\n",
    "\n",
    "Значение \"NaT\" в столбце `diff` означает, что событие было первым для пользователя."
   ]
  },
  {
   "cell_type": "code",
   "execution_count": 25,
   "metadata": {},
   "outputs": [
    {
     "data": {
      "text/html": [
       "<div>\n",
       "<style scoped>\n",
       "    .dataframe tbody tr th:only-of-type {\n",
       "        vertical-align: middle;\n",
       "    }\n",
       "\n",
       "    .dataframe tbody tr th {\n",
       "        vertical-align: top;\n",
       "    }\n",
       "\n",
       "    .dataframe thead th {\n",
       "        text-align: right;\n",
       "    }\n",
       "</style>\n",
       "<table border=\"1\" class=\"dataframe\">\n",
       "  <thead>\n",
       "    <tr style=\"text-align: right;\">\n",
       "      <th></th>\n",
       "      <th>user_id</th>\n",
       "      <th>event_time</th>\n",
       "      <th>event_name</th>\n",
       "      <th>event_date</th>\n",
       "      <th>source</th>\n",
       "      <th>diff</th>\n",
       "    </tr>\n",
       "  </thead>\n",
       "  <tbody>\n",
       "    <tr>\n",
       "      <th>0</th>\n",
       "      <td>0001b1d5-b74a-4cbf-aeb0-7df5947bf349</td>\n",
       "      <td>2019-10-07 13:39:45</td>\n",
       "      <td>tips_show</td>\n",
       "      <td>2019-10-07</td>\n",
       "      <td>other</td>\n",
       "      <td>NaT</td>\n",
       "    </tr>\n",
       "    <tr>\n",
       "      <th>1</th>\n",
       "      <td>0001b1d5-b74a-4cbf-aeb0-7df5947bf349</td>\n",
       "      <td>2019-10-07 13:40:31</td>\n",
       "      <td>tips_show</td>\n",
       "      <td>2019-10-07</td>\n",
       "      <td>other</td>\n",
       "      <td>0 days 00:00:46</td>\n",
       "    </tr>\n",
       "    <tr>\n",
       "      <th>2</th>\n",
       "      <td>0001b1d5-b74a-4cbf-aeb0-7df5947bf349</td>\n",
       "      <td>2019-10-07 13:41:05</td>\n",
       "      <td>tips_show</td>\n",
       "      <td>2019-10-07</td>\n",
       "      <td>other</td>\n",
       "      <td>0 days 00:00:34</td>\n",
       "    </tr>\n",
       "    <tr>\n",
       "      <th>3</th>\n",
       "      <td>0001b1d5-b74a-4cbf-aeb0-7df5947bf349</td>\n",
       "      <td>2019-10-07 13:43:20</td>\n",
       "      <td>tips_show</td>\n",
       "      <td>2019-10-07</td>\n",
       "      <td>other</td>\n",
       "      <td>0 days 00:02:15</td>\n",
       "    </tr>\n",
       "    <tr>\n",
       "      <th>4</th>\n",
       "      <td>0001b1d5-b74a-4cbf-aeb0-7df5947bf349</td>\n",
       "      <td>2019-10-07 13:45:30</td>\n",
       "      <td>tips_show</td>\n",
       "      <td>2019-10-07</td>\n",
       "      <td>other</td>\n",
       "      <td>0 days 00:02:10</td>\n",
       "    </tr>\n",
       "  </tbody>\n",
       "</table>\n",
       "</div>"
      ],
      "text/plain": [
       "                                user_id          event_time event_name  \\\n",
       "0  0001b1d5-b74a-4cbf-aeb0-7df5947bf349 2019-10-07 13:39:45  tips_show   \n",
       "1  0001b1d5-b74a-4cbf-aeb0-7df5947bf349 2019-10-07 13:40:31  tips_show   \n",
       "2  0001b1d5-b74a-4cbf-aeb0-7df5947bf349 2019-10-07 13:41:05  tips_show   \n",
       "3  0001b1d5-b74a-4cbf-aeb0-7df5947bf349 2019-10-07 13:43:20  tips_show   \n",
       "4  0001b1d5-b74a-4cbf-aeb0-7df5947bf349 2019-10-07 13:45:30  tips_show   \n",
       "\n",
       "  event_date source            diff  \n",
       "0 2019-10-07  other             NaT  \n",
       "1 2019-10-07  other 0 days 00:00:46  \n",
       "2 2019-10-07  other 0 days 00:00:34  \n",
       "3 2019-10-07  other 0 days 00:02:15  \n",
       "4 2019-10-07  other 0 days 00:02:10  "
      ]
     },
     "execution_count": 25,
     "metadata": {},
     "output_type": "execute_result"
    }
   ],
   "source": [
    "df_mobile['diff'] = df_mobile.groupby('user_id')['event_time'].diff(1)\n",
    "df_mobile.head()"
   ]
  },
  {
   "cell_type": "markdown",
   "metadata": {},
   "source": [
    "Добавим столбец `id` ,содержащий порядковый номер события в логе."
   ]
  },
  {
   "cell_type": "code",
   "execution_count": 26,
   "metadata": {},
   "outputs": [
    {
     "data": {
      "text/html": [
       "<div>\n",
       "<style scoped>\n",
       "    .dataframe tbody tr th:only-of-type {\n",
       "        vertical-align: middle;\n",
       "    }\n",
       "\n",
       "    .dataframe tbody tr th {\n",
       "        vertical-align: top;\n",
       "    }\n",
       "\n",
       "    .dataframe thead th {\n",
       "        text-align: right;\n",
       "    }\n",
       "</style>\n",
       "<table border=\"1\" class=\"dataframe\">\n",
       "  <thead>\n",
       "    <tr style=\"text-align: right;\">\n",
       "      <th></th>\n",
       "      <th>index</th>\n",
       "      <th>user_id</th>\n",
       "      <th>event_time</th>\n",
       "      <th>event_name</th>\n",
       "      <th>event_date</th>\n",
       "      <th>source</th>\n",
       "      <th>diff</th>\n",
       "    </tr>\n",
       "  </thead>\n",
       "  <tbody>\n",
       "    <tr>\n",
       "      <th>0</th>\n",
       "      <td>0</td>\n",
       "      <td>0001b1d5-b74a-4cbf-aeb0-7df5947bf349</td>\n",
       "      <td>2019-10-07 13:39:45</td>\n",
       "      <td>tips_show</td>\n",
       "      <td>2019-10-07</td>\n",
       "      <td>other</td>\n",
       "      <td>NaT</td>\n",
       "    </tr>\n",
       "    <tr>\n",
       "      <th>1</th>\n",
       "      <td>1</td>\n",
       "      <td>0001b1d5-b74a-4cbf-aeb0-7df5947bf349</td>\n",
       "      <td>2019-10-07 13:40:31</td>\n",
       "      <td>tips_show</td>\n",
       "      <td>2019-10-07</td>\n",
       "      <td>other</td>\n",
       "      <td>0 days 00:00:46</td>\n",
       "    </tr>\n",
       "    <tr>\n",
       "      <th>2</th>\n",
       "      <td>2</td>\n",
       "      <td>0001b1d5-b74a-4cbf-aeb0-7df5947bf349</td>\n",
       "      <td>2019-10-07 13:41:05</td>\n",
       "      <td>tips_show</td>\n",
       "      <td>2019-10-07</td>\n",
       "      <td>other</td>\n",
       "      <td>0 days 00:00:34</td>\n",
       "    </tr>\n",
       "    <tr>\n",
       "      <th>3</th>\n",
       "      <td>3</td>\n",
       "      <td>0001b1d5-b74a-4cbf-aeb0-7df5947bf349</td>\n",
       "      <td>2019-10-07 13:43:20</td>\n",
       "      <td>tips_show</td>\n",
       "      <td>2019-10-07</td>\n",
       "      <td>other</td>\n",
       "      <td>0 days 00:02:15</td>\n",
       "    </tr>\n",
       "    <tr>\n",
       "      <th>4</th>\n",
       "      <td>4</td>\n",
       "      <td>0001b1d5-b74a-4cbf-aeb0-7df5947bf349</td>\n",
       "      <td>2019-10-07 13:45:30</td>\n",
       "      <td>tips_show</td>\n",
       "      <td>2019-10-07</td>\n",
       "      <td>other</td>\n",
       "      <td>0 days 00:02:10</td>\n",
       "    </tr>\n",
       "  </tbody>\n",
       "</table>\n",
       "</div>"
      ],
      "text/plain": [
       "   index                               user_id          event_time event_name  \\\n",
       "0      0  0001b1d5-b74a-4cbf-aeb0-7df5947bf349 2019-10-07 13:39:45  tips_show   \n",
       "1      1  0001b1d5-b74a-4cbf-aeb0-7df5947bf349 2019-10-07 13:40:31  tips_show   \n",
       "2      2  0001b1d5-b74a-4cbf-aeb0-7df5947bf349 2019-10-07 13:41:05  tips_show   \n",
       "3      3  0001b1d5-b74a-4cbf-aeb0-7df5947bf349 2019-10-07 13:43:20  tips_show   \n",
       "4      4  0001b1d5-b74a-4cbf-aeb0-7df5947bf349 2019-10-07 13:45:30  tips_show   \n",
       "\n",
       "  event_date source            diff  \n",
       "0 2019-10-07  other             NaT  \n",
       "1 2019-10-07  other 0 days 00:00:46  \n",
       "2 2019-10-07  other 0 days 00:00:34  \n",
       "3 2019-10-07  other 0 days 00:02:15  \n",
       "4 2019-10-07  other 0 days 00:02:10  "
      ]
     },
     "execution_count": 26,
     "metadata": {},
     "output_type": "execute_result"
    }
   ],
   "source": [
    "df_mobile = df_mobile.reset_index()\n",
    "df_mobile.head()"
   ]
  },
  {
   "cell_type": "code",
   "execution_count": 27,
   "metadata": {},
   "outputs": [
    {
     "data": {
      "text/html": [
       "<div>\n",
       "<style scoped>\n",
       "    .dataframe tbody tr th:only-of-type {\n",
       "        vertical-align: middle;\n",
       "    }\n",
       "\n",
       "    .dataframe tbody tr th {\n",
       "        vertical-align: top;\n",
       "    }\n",
       "\n",
       "    .dataframe thead th {\n",
       "        text-align: right;\n",
       "    }\n",
       "</style>\n",
       "<table border=\"1\" class=\"dataframe\">\n",
       "  <thead>\n",
       "    <tr style=\"text-align: right;\">\n",
       "      <th></th>\n",
       "      <th>id</th>\n",
       "      <th>user_id</th>\n",
       "      <th>event_time</th>\n",
       "      <th>event_name</th>\n",
       "      <th>event_date</th>\n",
       "      <th>source</th>\n",
       "      <th>diff</th>\n",
       "    </tr>\n",
       "  </thead>\n",
       "  <tbody>\n",
       "    <tr>\n",
       "      <th>0</th>\n",
       "      <td>0</td>\n",
       "      <td>0001b1d5-b74a-4cbf-aeb0-7df5947bf349</td>\n",
       "      <td>2019-10-07 13:39:45</td>\n",
       "      <td>tips_show</td>\n",
       "      <td>2019-10-07</td>\n",
       "      <td>other</td>\n",
       "      <td>NaT</td>\n",
       "    </tr>\n",
       "    <tr>\n",
       "      <th>1</th>\n",
       "      <td>1</td>\n",
       "      <td>0001b1d5-b74a-4cbf-aeb0-7df5947bf349</td>\n",
       "      <td>2019-10-07 13:40:31</td>\n",
       "      <td>tips_show</td>\n",
       "      <td>2019-10-07</td>\n",
       "      <td>other</td>\n",
       "      <td>0 days 00:00:46</td>\n",
       "    </tr>\n",
       "    <tr>\n",
       "      <th>2</th>\n",
       "      <td>2</td>\n",
       "      <td>0001b1d5-b74a-4cbf-aeb0-7df5947bf349</td>\n",
       "      <td>2019-10-07 13:41:05</td>\n",
       "      <td>tips_show</td>\n",
       "      <td>2019-10-07</td>\n",
       "      <td>other</td>\n",
       "      <td>0 days 00:00:34</td>\n",
       "    </tr>\n",
       "    <tr>\n",
       "      <th>3</th>\n",
       "      <td>3</td>\n",
       "      <td>0001b1d5-b74a-4cbf-aeb0-7df5947bf349</td>\n",
       "      <td>2019-10-07 13:43:20</td>\n",
       "      <td>tips_show</td>\n",
       "      <td>2019-10-07</td>\n",
       "      <td>other</td>\n",
       "      <td>0 days 00:02:15</td>\n",
       "    </tr>\n",
       "    <tr>\n",
       "      <th>4</th>\n",
       "      <td>4</td>\n",
       "      <td>0001b1d5-b74a-4cbf-aeb0-7df5947bf349</td>\n",
       "      <td>2019-10-07 13:45:30</td>\n",
       "      <td>tips_show</td>\n",
       "      <td>2019-10-07</td>\n",
       "      <td>other</td>\n",
       "      <td>0 days 00:02:10</td>\n",
       "    </tr>\n",
       "  </tbody>\n",
       "</table>\n",
       "</div>"
      ],
      "text/plain": [
       "   id                               user_id          event_time event_name  \\\n",
       "0   0  0001b1d5-b74a-4cbf-aeb0-7df5947bf349 2019-10-07 13:39:45  tips_show   \n",
       "1   1  0001b1d5-b74a-4cbf-aeb0-7df5947bf349 2019-10-07 13:40:31  tips_show   \n",
       "2   2  0001b1d5-b74a-4cbf-aeb0-7df5947bf349 2019-10-07 13:41:05  tips_show   \n",
       "3   3  0001b1d5-b74a-4cbf-aeb0-7df5947bf349 2019-10-07 13:43:20  tips_show   \n",
       "4   4  0001b1d5-b74a-4cbf-aeb0-7df5947bf349 2019-10-07 13:45:30  tips_show   \n",
       "\n",
       "  event_date source            diff  \n",
       "0 2019-10-07  other             NaT  \n",
       "1 2019-10-07  other 0 days 00:00:46  \n",
       "2 2019-10-07  other 0 days 00:00:34  \n",
       "3 2019-10-07  other 0 days 00:02:15  \n",
       "4 2019-10-07  other 0 days 00:02:10  "
      ]
     },
     "execution_count": 27,
     "metadata": {},
     "output_type": "execute_result"
    }
   ],
   "source": [
    "df_mobile = df_mobile.rename(columns={'index': 'id'})\n",
    "df_mobile.head()"
   ]
  },
  {
   "cell_type": "markdown",
   "metadata": {},
   "source": [
    "Создадим датафрейм, содержащий события, являющиеся первыми событиями пользовательской сессии (первое событие пользователя или событие с временным промежутком от предыдущего более 30 минут). \n",
    "\n",
    "30 минут - стандартное время между сессиями, которое используется во многих системах аналитики (Google Analytics, Яндекс.Метрика)."
   ]
  },
  {
   "cell_type": "code",
   "execution_count": 28,
   "metadata": {},
   "outputs": [
    {
     "data": {
      "text/html": [
       "<div>\n",
       "<style scoped>\n",
       "    .dataframe tbody tr th:only-of-type {\n",
       "        vertical-align: middle;\n",
       "    }\n",
       "\n",
       "    .dataframe tbody tr th {\n",
       "        vertical-align: top;\n",
       "    }\n",
       "\n",
       "    .dataframe thead th {\n",
       "        text-align: right;\n",
       "    }\n",
       "</style>\n",
       "<table border=\"1\" class=\"dataframe\">\n",
       "  <thead>\n",
       "    <tr style=\"text-align: right;\">\n",
       "      <th></th>\n",
       "      <th>id</th>\n",
       "      <th>user_id</th>\n",
       "      <th>event_time</th>\n",
       "      <th>event_name</th>\n",
       "      <th>event_date</th>\n",
       "      <th>source</th>\n",
       "      <th>diff</th>\n",
       "      <th>session_id</th>\n",
       "    </tr>\n",
       "  </thead>\n",
       "  <tbody>\n",
       "    <tr>\n",
       "      <th>0</th>\n",
       "      <td>0</td>\n",
       "      <td>0001b1d5-b74a-4cbf-aeb0-7df5947bf349</td>\n",
       "      <td>2019-10-07 13:39:45</td>\n",
       "      <td>tips_show</td>\n",
       "      <td>2019-10-07</td>\n",
       "      <td>other</td>\n",
       "      <td>NaT</td>\n",
       "      <td>0</td>\n",
       "    </tr>\n",
       "    <tr>\n",
       "      <th>9</th>\n",
       "      <td>9</td>\n",
       "      <td>0001b1d5-b74a-4cbf-aeb0-7df5947bf349</td>\n",
       "      <td>2019-10-09 18:33:55</td>\n",
       "      <td>map</td>\n",
       "      <td>2019-10-09</td>\n",
       "      <td>other</td>\n",
       "      <td>2 days 04:44:14</td>\n",
       "      <td>9</td>\n",
       "    </tr>\n",
       "    <tr>\n",
       "      <th>13</th>\n",
       "      <td>13</td>\n",
       "      <td>0001b1d5-b74a-4cbf-aeb0-7df5947bf349</td>\n",
       "      <td>2019-10-21 19:52:30</td>\n",
       "      <td>tips_show</td>\n",
       "      <td>2019-10-21</td>\n",
       "      <td>other</td>\n",
       "      <td>12 days 01:10:08</td>\n",
       "      <td>13</td>\n",
       "    </tr>\n",
       "    <tr>\n",
       "      <th>27</th>\n",
       "      <td>27</td>\n",
       "      <td>0001b1d5-b74a-4cbf-aeb0-7df5947bf349</td>\n",
       "      <td>2019-10-22 11:18:14</td>\n",
       "      <td>map</td>\n",
       "      <td>2019-10-22</td>\n",
       "      <td>other</td>\n",
       "      <td>0 days 15:10:44</td>\n",
       "      <td>27</td>\n",
       "    </tr>\n",
       "    <tr>\n",
       "      <th>35</th>\n",
       "      <td>35</td>\n",
       "      <td>00157779-810c-4498-9e05-a1e9e3cedf93</td>\n",
       "      <td>2019-10-19 21:34:33</td>\n",
       "      <td>search_1</td>\n",
       "      <td>2019-10-19</td>\n",
       "      <td>yandex</td>\n",
       "      <td>NaT</td>\n",
       "      <td>35</td>\n",
       "    </tr>\n",
       "  </tbody>\n",
       "</table>\n",
       "</div>"
      ],
      "text/plain": [
       "    id                               user_id          event_time event_name  \\\n",
       "0    0  0001b1d5-b74a-4cbf-aeb0-7df5947bf349 2019-10-07 13:39:45  tips_show   \n",
       "9    9  0001b1d5-b74a-4cbf-aeb0-7df5947bf349 2019-10-09 18:33:55        map   \n",
       "13  13  0001b1d5-b74a-4cbf-aeb0-7df5947bf349 2019-10-21 19:52:30  tips_show   \n",
       "27  27  0001b1d5-b74a-4cbf-aeb0-7df5947bf349 2019-10-22 11:18:14        map   \n",
       "35  35  00157779-810c-4498-9e05-a1e9e3cedf93 2019-10-19 21:34:33   search_1   \n",
       "\n",
       "   event_date  source             diff  session_id  \n",
       "0  2019-10-07   other              NaT           0  \n",
       "9  2019-10-09   other  2 days 04:44:14           9  \n",
       "13 2019-10-21   other 12 days 01:10:08          13  \n",
       "27 2019-10-22   other  0 days 15:10:44          27  \n",
       "35 2019-10-19  yandex              NaT          35  "
      ]
     },
     "execution_count": 28,
     "metadata": {},
     "output_type": "execute_result"
    }
   ],
   "source": [
    "sessions_start_df = df_mobile[(df_mobile['diff'].isnull()) | (df_mobile['diff'] > '1800 seconds')]\n",
    "sessions_start_df['session_id'] = sessions_start_df['id']\n",
    "sessions_start_df.head()"
   ]
  },
  {
   "cell_type": "markdown",
   "metadata": {},
   "source": [
    "Объединим исходный датафрейм с датафреймом первых сессий."
   ]
  },
  {
   "cell_type": "code",
   "execution_count": 29,
   "metadata": {},
   "outputs": [
    {
     "data": {
      "text/html": [
       "<div>\n",
       "<style scoped>\n",
       "    .dataframe tbody tr th:only-of-type {\n",
       "        vertical-align: middle;\n",
       "    }\n",
       "\n",
       "    .dataframe tbody tr th {\n",
       "        vertical-align: top;\n",
       "    }\n",
       "\n",
       "    .dataframe thead th {\n",
       "        text-align: right;\n",
       "    }\n",
       "</style>\n",
       "<table border=\"1\" class=\"dataframe\">\n",
       "  <thead>\n",
       "    <tr style=\"text-align: right;\">\n",
       "      <th></th>\n",
       "      <th>id</th>\n",
       "      <th>user_id</th>\n",
       "      <th>event_time</th>\n",
       "      <th>event_name</th>\n",
       "      <th>event_date</th>\n",
       "      <th>source</th>\n",
       "      <th>diff</th>\n",
       "      <th>session_id</th>\n",
       "    </tr>\n",
       "  </thead>\n",
       "  <tbody>\n",
       "    <tr>\n",
       "      <th>0</th>\n",
       "      <td>0</td>\n",
       "      <td>0001b1d5-b74a-4cbf-aeb0-7df5947bf349</td>\n",
       "      <td>2019-10-07 13:39:45</td>\n",
       "      <td>tips_show</td>\n",
       "      <td>2019-10-07</td>\n",
       "      <td>other</td>\n",
       "      <td>NaT</td>\n",
       "      <td>0</td>\n",
       "    </tr>\n",
       "    <tr>\n",
       "      <th>1</th>\n",
       "      <td>1</td>\n",
       "      <td>0001b1d5-b74a-4cbf-aeb0-7df5947bf349</td>\n",
       "      <td>2019-10-07 13:40:31</td>\n",
       "      <td>tips_show</td>\n",
       "      <td>2019-10-07</td>\n",
       "      <td>other</td>\n",
       "      <td>0 days 00:00:46</td>\n",
       "      <td>0</td>\n",
       "    </tr>\n",
       "    <tr>\n",
       "      <th>2</th>\n",
       "      <td>2</td>\n",
       "      <td>0001b1d5-b74a-4cbf-aeb0-7df5947bf349</td>\n",
       "      <td>2019-10-07 13:41:05</td>\n",
       "      <td>tips_show</td>\n",
       "      <td>2019-10-07</td>\n",
       "      <td>other</td>\n",
       "      <td>0 days 00:00:34</td>\n",
       "      <td>0</td>\n",
       "    </tr>\n",
       "    <tr>\n",
       "      <th>3</th>\n",
       "      <td>3</td>\n",
       "      <td>0001b1d5-b74a-4cbf-aeb0-7df5947bf349</td>\n",
       "      <td>2019-10-07 13:43:20</td>\n",
       "      <td>tips_show</td>\n",
       "      <td>2019-10-07</td>\n",
       "      <td>other</td>\n",
       "      <td>0 days 00:02:15</td>\n",
       "      <td>0</td>\n",
       "    </tr>\n",
       "    <tr>\n",
       "      <th>4</th>\n",
       "      <td>4</td>\n",
       "      <td>0001b1d5-b74a-4cbf-aeb0-7df5947bf349</td>\n",
       "      <td>2019-10-07 13:45:30</td>\n",
       "      <td>tips_show</td>\n",
       "      <td>2019-10-07</td>\n",
       "      <td>other</td>\n",
       "      <td>0 days 00:02:10</td>\n",
       "      <td>0</td>\n",
       "    </tr>\n",
       "  </tbody>\n",
       "</table>\n",
       "</div>"
      ],
      "text/plain": [
       "   id                               user_id          event_time event_name  \\\n",
       "0   0  0001b1d5-b74a-4cbf-aeb0-7df5947bf349 2019-10-07 13:39:45  tips_show   \n",
       "1   1  0001b1d5-b74a-4cbf-aeb0-7df5947bf349 2019-10-07 13:40:31  tips_show   \n",
       "2   2  0001b1d5-b74a-4cbf-aeb0-7df5947bf349 2019-10-07 13:41:05  tips_show   \n",
       "3   3  0001b1d5-b74a-4cbf-aeb0-7df5947bf349 2019-10-07 13:43:20  tips_show   \n",
       "4   4  0001b1d5-b74a-4cbf-aeb0-7df5947bf349 2019-10-07 13:45:30  tips_show   \n",
       "\n",
       "  event_date source            diff  session_id  \n",
       "0 2019-10-07  other             NaT           0  \n",
       "1 2019-10-07  other 0 days 00:00:46           0  \n",
       "2 2019-10-07  other 0 days 00:00:34           0  \n",
       "3 2019-10-07  other 0 days 00:02:15           0  \n",
       "4 2019-10-07  other 0 days 00:02:10           0  "
      ]
     },
     "execution_count": 29,
     "metadata": {},
     "output_type": "execute_result"
    }
   ],
   "source": [
    "df_mobile = df_mobile.sort_values('id')\n",
    "sessions_start_df = sessions_start_df.sort_values('id')\n",
    "df_mobile = pd.merge_asof(\n",
    "    df_mobile,sessions_start_df[['id','user_id','session_id']],on='id',by='user_id')\n",
    "df_mobile.head()"
   ]
  },
  {
   "cell_type": "markdown",
   "metadata": {},
   "source": [
    "В столбце `session_id` содержится уникальный идентификатор сессии."
   ]
  },
  {
   "cell_type": "code",
   "execution_count": 30,
   "metadata": {},
   "outputs": [
    {
     "data": {
      "text/html": [
       "<div>\n",
       "<style scoped>\n",
       "    .dataframe tbody tr th:only-of-type {\n",
       "        vertical-align: middle;\n",
       "    }\n",
       "\n",
       "    .dataframe tbody tr th {\n",
       "        vertical-align: top;\n",
       "    }\n",
       "\n",
       "    .dataframe thead th {\n",
       "        text-align: right;\n",
       "    }\n",
       "</style>\n",
       "<table border=\"1\" class=\"dataframe\">\n",
       "  <thead>\n",
       "    <tr style=\"text-align: right;\">\n",
       "      <th></th>\n",
       "      <th>user_id</th>\n",
       "      <th>event_time</th>\n",
       "      <th>event_name</th>\n",
       "      <th>event_date</th>\n",
       "      <th>source</th>\n",
       "      <th>diff</th>\n",
       "      <th>session_id</th>\n",
       "    </tr>\n",
       "  </thead>\n",
       "  <tbody>\n",
       "    <tr>\n",
       "      <th>0</th>\n",
       "      <td>0001b1d5-b74a-4cbf-aeb0-7df5947bf349</td>\n",
       "      <td>2019-10-07 13:39:45</td>\n",
       "      <td>tips_show</td>\n",
       "      <td>2019-10-07</td>\n",
       "      <td>other</td>\n",
       "      <td>NaT</td>\n",
       "      <td>0</td>\n",
       "    </tr>\n",
       "    <tr>\n",
       "      <th>1</th>\n",
       "      <td>0001b1d5-b74a-4cbf-aeb0-7df5947bf349</td>\n",
       "      <td>2019-10-07 13:40:31</td>\n",
       "      <td>tips_show</td>\n",
       "      <td>2019-10-07</td>\n",
       "      <td>other</td>\n",
       "      <td>0 days 00:00:46</td>\n",
       "      <td>0</td>\n",
       "    </tr>\n",
       "    <tr>\n",
       "      <th>2</th>\n",
       "      <td>0001b1d5-b74a-4cbf-aeb0-7df5947bf349</td>\n",
       "      <td>2019-10-07 13:41:05</td>\n",
       "      <td>tips_show</td>\n",
       "      <td>2019-10-07</td>\n",
       "      <td>other</td>\n",
       "      <td>0 days 00:00:34</td>\n",
       "      <td>0</td>\n",
       "    </tr>\n",
       "    <tr>\n",
       "      <th>3</th>\n",
       "      <td>0001b1d5-b74a-4cbf-aeb0-7df5947bf349</td>\n",
       "      <td>2019-10-07 13:43:20</td>\n",
       "      <td>tips_show</td>\n",
       "      <td>2019-10-07</td>\n",
       "      <td>other</td>\n",
       "      <td>0 days 00:02:15</td>\n",
       "      <td>0</td>\n",
       "    </tr>\n",
       "    <tr>\n",
       "      <th>4</th>\n",
       "      <td>0001b1d5-b74a-4cbf-aeb0-7df5947bf349</td>\n",
       "      <td>2019-10-07 13:45:30</td>\n",
       "      <td>tips_show</td>\n",
       "      <td>2019-10-07</td>\n",
       "      <td>other</td>\n",
       "      <td>0 days 00:02:10</td>\n",
       "      <td>0</td>\n",
       "    </tr>\n",
       "    <tr>\n",
       "      <th>...</th>\n",
       "      <td>...</td>\n",
       "      <td>...</td>\n",
       "      <td>...</td>\n",
       "      <td>...</td>\n",
       "      <td>...</td>\n",
       "      <td>...</td>\n",
       "      <td>...</td>\n",
       "    </tr>\n",
       "    <tr>\n",
       "      <th>74192</th>\n",
       "      <td>fffb9e79-b927-4dbb-9b48-7fd09b23a62b</td>\n",
       "      <td>2019-11-03 15:51:23</td>\n",
       "      <td>tips_show</td>\n",
       "      <td>2019-11-03</td>\n",
       "      <td>google</td>\n",
       "      <td>0 days 00:00:27</td>\n",
       "      <td>74183</td>\n",
       "    </tr>\n",
       "    <tr>\n",
       "      <th>74193</th>\n",
       "      <td>fffb9e79-b927-4dbb-9b48-7fd09b23a62b</td>\n",
       "      <td>2019-11-03 15:51:57</td>\n",
       "      <td>contacts_show</td>\n",
       "      <td>2019-11-03</td>\n",
       "      <td>google</td>\n",
       "      <td>0 days 00:00:34</td>\n",
       "      <td>74183</td>\n",
       "    </tr>\n",
       "    <tr>\n",
       "      <th>74194</th>\n",
       "      <td>fffb9e79-b927-4dbb-9b48-7fd09b23a62b</td>\n",
       "      <td>2019-11-03 16:07:40</td>\n",
       "      <td>tips_show</td>\n",
       "      <td>2019-11-03</td>\n",
       "      <td>google</td>\n",
       "      <td>0 days 00:15:43</td>\n",
       "      <td>74183</td>\n",
       "    </tr>\n",
       "    <tr>\n",
       "      <th>74195</th>\n",
       "      <td>fffb9e79-b927-4dbb-9b48-7fd09b23a62b</td>\n",
       "      <td>2019-11-03 16:08:18</td>\n",
       "      <td>tips_show</td>\n",
       "      <td>2019-11-03</td>\n",
       "      <td>google</td>\n",
       "      <td>0 days 00:00:38</td>\n",
       "      <td>74183</td>\n",
       "    </tr>\n",
       "    <tr>\n",
       "      <th>74196</th>\n",
       "      <td>fffb9e79-b927-4dbb-9b48-7fd09b23a62b</td>\n",
       "      <td>2019-11-03 16:08:25</td>\n",
       "      <td>tips_show</td>\n",
       "      <td>2019-11-03</td>\n",
       "      <td>google</td>\n",
       "      <td>0 days 00:00:07</td>\n",
       "      <td>74183</td>\n",
       "    </tr>\n",
       "  </tbody>\n",
       "</table>\n",
       "<p>74197 rows × 7 columns</p>\n",
       "</div>"
      ],
      "text/plain": [
       "                                    user_id          event_time  \\\n",
       "0      0001b1d5-b74a-4cbf-aeb0-7df5947bf349 2019-10-07 13:39:45   \n",
       "1      0001b1d5-b74a-4cbf-aeb0-7df5947bf349 2019-10-07 13:40:31   \n",
       "2      0001b1d5-b74a-4cbf-aeb0-7df5947bf349 2019-10-07 13:41:05   \n",
       "3      0001b1d5-b74a-4cbf-aeb0-7df5947bf349 2019-10-07 13:43:20   \n",
       "4      0001b1d5-b74a-4cbf-aeb0-7df5947bf349 2019-10-07 13:45:30   \n",
       "...                                     ...                 ...   \n",
       "74192  fffb9e79-b927-4dbb-9b48-7fd09b23a62b 2019-11-03 15:51:23   \n",
       "74193  fffb9e79-b927-4dbb-9b48-7fd09b23a62b 2019-11-03 15:51:57   \n",
       "74194  fffb9e79-b927-4dbb-9b48-7fd09b23a62b 2019-11-03 16:07:40   \n",
       "74195  fffb9e79-b927-4dbb-9b48-7fd09b23a62b 2019-11-03 16:08:18   \n",
       "74196  fffb9e79-b927-4dbb-9b48-7fd09b23a62b 2019-11-03 16:08:25   \n",
       "\n",
       "          event_name event_date  source            diff  session_id  \n",
       "0          tips_show 2019-10-07   other             NaT           0  \n",
       "1          tips_show 2019-10-07   other 0 days 00:00:46           0  \n",
       "2          tips_show 2019-10-07   other 0 days 00:00:34           0  \n",
       "3          tips_show 2019-10-07   other 0 days 00:02:15           0  \n",
       "4          tips_show 2019-10-07   other 0 days 00:02:10           0  \n",
       "...              ...        ...     ...             ...         ...  \n",
       "74192      tips_show 2019-11-03  google 0 days 00:00:27       74183  \n",
       "74193  contacts_show 2019-11-03  google 0 days 00:00:34       74183  \n",
       "74194      tips_show 2019-11-03  google 0 days 00:15:43       74183  \n",
       "74195      tips_show 2019-11-03  google 0 days 00:00:38       74183  \n",
       "74196      tips_show 2019-11-03  google 0 days 00:00:07       74183  \n",
       "\n",
       "[74197 rows x 7 columns]"
      ]
     },
     "execution_count": 30,
     "metadata": {},
     "output_type": "execute_result"
    }
   ],
   "source": [
    "df_mobile = df_mobile.sort_values(['user_id','event_time'])\n",
    "df_mobile = df_mobile.drop(['id'], axis=1)\n",
    "df_mobile"
   ]
  },
  {
   "cell_type": "markdown",
   "metadata": {},
   "source": [
    "Расчитаем полученное количество сессий."
   ]
  },
  {
   "cell_type": "code",
   "execution_count": 31,
   "metadata": {},
   "outputs": [
    {
     "data": {
      "text/plain": [
       "10368"
      ]
     },
     "execution_count": 31,
     "metadata": {},
     "output_type": "execute_result"
    }
   ],
   "source": [
    "df_mobile['session_id'].nunique()"
   ]
  },
  {
   "cell_type": "markdown",
   "metadata": {},
   "source": [
    "<a id=\"step_3.4\"></a> \n",
    "### Расчет количества сессий на одного пользователи и количества совершенных событий пользователем за одну сессию."
   ]
  },
  {
   "cell_type": "code",
   "execution_count": 32,
   "metadata": {},
   "outputs": [
    {
     "data": {
      "text/html": [
       "<div>\n",
       "<style scoped>\n",
       "    .dataframe tbody tr th:only-of-type {\n",
       "        vertical-align: middle;\n",
       "    }\n",
       "\n",
       "    .dataframe tbody tr th {\n",
       "        vertical-align: top;\n",
       "    }\n",
       "\n",
       "    .dataframe thead th {\n",
       "        text-align: right;\n",
       "    }\n",
       "</style>\n",
       "<table border=\"1\" class=\"dataframe\">\n",
       "  <thead>\n",
       "    <tr style=\"text-align: right;\">\n",
       "      <th></th>\n",
       "      <th>user_id</th>\n",
       "      <th>session_id</th>\n",
       "      <th>event_count</th>\n",
       "    </tr>\n",
       "  </thead>\n",
       "  <tbody>\n",
       "    <tr>\n",
       "      <th>0</th>\n",
       "      <td>0001b1d5-b74a-4cbf-aeb0-7df5947bf349</td>\n",
       "      <td>0</td>\n",
       "      <td>9</td>\n",
       "    </tr>\n",
       "    <tr>\n",
       "      <th>1</th>\n",
       "      <td>0001b1d5-b74a-4cbf-aeb0-7df5947bf349</td>\n",
       "      <td>9</td>\n",
       "      <td>4</td>\n",
       "    </tr>\n",
       "    <tr>\n",
       "      <th>2</th>\n",
       "      <td>0001b1d5-b74a-4cbf-aeb0-7df5947bf349</td>\n",
       "      <td>13</td>\n",
       "      <td>14</td>\n",
       "    </tr>\n",
       "    <tr>\n",
       "      <th>3</th>\n",
       "      <td>0001b1d5-b74a-4cbf-aeb0-7df5947bf349</td>\n",
       "      <td>27</td>\n",
       "      <td>8</td>\n",
       "    </tr>\n",
       "    <tr>\n",
       "      <th>4</th>\n",
       "      <td>00157779-810c-4498-9e05-a1e9e3cedf93</td>\n",
       "      <td>35</td>\n",
       "      <td>9</td>\n",
       "    </tr>\n",
       "    <tr>\n",
       "      <th>...</th>\n",
       "      <td>...</td>\n",
       "      <td>...</td>\n",
       "      <td>...</td>\n",
       "    </tr>\n",
       "    <tr>\n",
       "      <th>10363</th>\n",
       "      <td>fffb9e79-b927-4dbb-9b48-7fd09b23a62b</td>\n",
       "      <td>74161</td>\n",
       "      <td>1</td>\n",
       "    </tr>\n",
       "    <tr>\n",
       "      <th>10364</th>\n",
       "      <td>fffb9e79-b927-4dbb-9b48-7fd09b23a62b</td>\n",
       "      <td>74162</td>\n",
       "      <td>2</td>\n",
       "    </tr>\n",
       "    <tr>\n",
       "      <th>10365</th>\n",
       "      <td>fffb9e79-b927-4dbb-9b48-7fd09b23a62b</td>\n",
       "      <td>74164</td>\n",
       "      <td>4</td>\n",
       "    </tr>\n",
       "    <tr>\n",
       "      <th>10366</th>\n",
       "      <td>fffb9e79-b927-4dbb-9b48-7fd09b23a62b</td>\n",
       "      <td>74168</td>\n",
       "      <td>15</td>\n",
       "    </tr>\n",
       "    <tr>\n",
       "      <th>10367</th>\n",
       "      <td>fffb9e79-b927-4dbb-9b48-7fd09b23a62b</td>\n",
       "      <td>74183</td>\n",
       "      <td>14</td>\n",
       "    </tr>\n",
       "  </tbody>\n",
       "</table>\n",
       "<p>10368 rows × 3 columns</p>\n",
       "</div>"
      ],
      "text/plain": [
       "                                    user_id  session_id  event_count\n",
       "0      0001b1d5-b74a-4cbf-aeb0-7df5947bf349           0            9\n",
       "1      0001b1d5-b74a-4cbf-aeb0-7df5947bf349           9            4\n",
       "2      0001b1d5-b74a-4cbf-aeb0-7df5947bf349          13           14\n",
       "3      0001b1d5-b74a-4cbf-aeb0-7df5947bf349          27            8\n",
       "4      00157779-810c-4498-9e05-a1e9e3cedf93          35            9\n",
       "...                                     ...         ...          ...\n",
       "10363  fffb9e79-b927-4dbb-9b48-7fd09b23a62b       74161            1\n",
       "10364  fffb9e79-b927-4dbb-9b48-7fd09b23a62b       74162            2\n",
       "10365  fffb9e79-b927-4dbb-9b48-7fd09b23a62b       74164            4\n",
       "10366  fffb9e79-b927-4dbb-9b48-7fd09b23a62b       74168           15\n",
       "10367  fffb9e79-b927-4dbb-9b48-7fd09b23a62b       74183           14\n",
       "\n",
       "[10368 rows x 3 columns]"
      ]
     },
     "execution_count": 32,
     "metadata": {},
     "output_type": "execute_result"
    }
   ],
   "source": [
    "events_number = df_mobile.groupby(['user_id','session_id'])['event_name'].count().reset_index()\n",
    "events_number = events_number.rename(columns={'event_name':'event_count'})\n",
    "events_number"
   ]
  },
  {
   "cell_type": "markdown",
   "metadata": {},
   "source": [
    "Построим распределение количества сессий на одного пользователя."
   ]
  },
  {
   "cell_type": "code",
   "execution_count": 33,
   "metadata": {},
   "outputs": [
    {
     "data": {
      "text/html": [
       "<div>\n",
       "<style scoped>\n",
       "    .dataframe tbody tr th:only-of-type {\n",
       "        vertical-align: middle;\n",
       "    }\n",
       "\n",
       "    .dataframe tbody tr th {\n",
       "        vertical-align: top;\n",
       "    }\n",
       "\n",
       "    .dataframe thead th {\n",
       "        text-align: right;\n",
       "    }\n",
       "</style>\n",
       "<table border=\"1\" class=\"dataframe\">\n",
       "  <thead>\n",
       "    <tr style=\"text-align: right;\">\n",
       "      <th></th>\n",
       "      <th>user_id</th>\n",
       "      <th>session_count</th>\n",
       "    </tr>\n",
       "  </thead>\n",
       "  <tbody>\n",
       "    <tr>\n",
       "      <th>0</th>\n",
       "      <td>0001b1d5-b74a-4cbf-aeb0-7df5947bf349</td>\n",
       "      <td>4</td>\n",
       "    </tr>\n",
       "    <tr>\n",
       "      <th>1</th>\n",
       "      <td>00157779-810c-4498-9e05-a1e9e3cedf93</td>\n",
       "      <td>6</td>\n",
       "    </tr>\n",
       "    <tr>\n",
       "      <th>2</th>\n",
       "      <td>00463033-5717-4bf1-91b4-09183923b9df</td>\n",
       "      <td>1</td>\n",
       "    </tr>\n",
       "    <tr>\n",
       "      <th>3</th>\n",
       "      <td>004690c3-5a84-4bb7-a8af-e0c8f8fca64e</td>\n",
       "      <td>6</td>\n",
       "    </tr>\n",
       "    <tr>\n",
       "      <th>4</th>\n",
       "      <td>00551e79-152e-4441-9cf7-565d7eb04090</td>\n",
       "      <td>3</td>\n",
       "    </tr>\n",
       "  </tbody>\n",
       "</table>\n",
       "</div>"
      ],
      "text/plain": [
       "                                user_id  session_count\n",
       "0  0001b1d5-b74a-4cbf-aeb0-7df5947bf349              4\n",
       "1  00157779-810c-4498-9e05-a1e9e3cedf93              6\n",
       "2  00463033-5717-4bf1-91b4-09183923b9df              1\n",
       "3  004690c3-5a84-4bb7-a8af-e0c8f8fca64e              6\n",
       "4  00551e79-152e-4441-9cf7-565d7eb04090              3"
      ]
     },
     "execution_count": 33,
     "metadata": {},
     "output_type": "execute_result"
    }
   ],
   "source": [
    "ses_count = events_number.groupby('user_id').agg({'session_id':'count'}).reset_index()\n",
    "ses_count = ses_count.rename(columns={'session_id':'session_count'})\n",
    "ses_count.head()"
   ]
  },
  {
   "cell_type": "code",
   "execution_count": 34,
   "metadata": {},
   "outputs": [
    {
     "data": {
      "image/png": "[encoded data removed]",
      "text/plain": [
       "<Figure size 432x288 with 1 Axes>"
      ]
     },
     "metadata": {
      "needs_background": "light"
     },
     "output_type": "display_data"
    },
    {
     "data": {
      "text/plain": [
       "count    4293.000000\n",
       "mean        2.415094\n",
       "std         3.536466\n",
       "min         1.000000\n",
       "25%         1.000000\n",
       "50%         1.000000\n",
       "75%         3.000000\n",
       "max        99.000000\n",
       "Name: session_count, dtype: float64"
      ]
     },
     "execution_count": 34,
     "metadata": {},
     "output_type": "execute_result"
    }
   ],
   "source": [
    "ses_count.hist(bins=20)\n",
    "plt.xlabel('Количество сессий')\n",
    "plt.ylabel('Объем данных')\n",
    "plt.title('Распределение количества сессий на одного пользователя')\n",
    "plt.show()\n",
    "ses_count['session_count'].describe()"
   ]
  },
  {
   "cell_type": "markdown",
   "metadata": {},
   "source": [
    "Абсолютное большинство пользователей совершает всего одну пользовательскую сессию в приложении."
   ]
  },
  {
   "cell_type": "markdown",
   "metadata": {},
   "source": [
    "Построим распределение количества событий за одну сессию"
   ]
  },
  {
   "cell_type": "code",
   "execution_count": 35,
   "metadata": {},
   "outputs": [
    {
     "data": {
      "image/png": "[encoded data removed]",
      "text/plain": [
       "<Figure size 432x288 with 1 Axes>"
      ]
     },
     "metadata": {
      "needs_background": "light"
     },
     "output_type": "display_data"
    },
    {
     "data": {
      "text/plain": [
       "count    10368.000000\n",
       "mean         7.156346\n",
       "std          9.581106\n",
       "min          1.000000\n",
       "25%          2.000000\n",
       "50%          4.000000\n",
       "75%          9.000000\n",
       "max        149.000000\n",
       "Name: event_count, dtype: float64"
      ]
     },
     "execution_count": 35,
     "metadata": {},
     "output_type": "execute_result"
    }
   ],
   "source": [
    "events_number['event_count'].hist(bins=50)\n",
    "plt.xlabel('Количество событий за одну сессию')\n",
    "plt.ylabel('Количество сессий')\n",
    "plt.title('Распределение количества событий за одну сессию')\n",
    "plt.show()\n",
    "events_number['event_count'].describe()"
   ]
  },
  {
   "cell_type": "markdown",
   "metadata": {},
   "source": [
    "Рассмотрим распределение подробнее."
   ]
  },
  {
   "cell_type": "code",
   "execution_count": 36,
   "metadata": {},
   "outputs": [
    {
     "data": {
      "image/png": "[encoded data removed]",
      "text/plain": [
       "<Figure size 432x288 with 1 Axes>"
      ]
     },
     "metadata": {
      "needs_background": "light"
     },
     "output_type": "display_data"
    }
   ],
   "source": [
    "events_number['event_count'].hist(bins=8,range=(0,20))\n",
    "plt.xlabel('Количество событий за одну сессию')\n",
    "plt.ylabel('Количество сессий')\n",
    "plt.title('Распределение количества событий за одну сессию')\n",
    "plt.show()"
   ]
  },
  {
   "cell_type": "code",
   "execution_count": 37,
   "metadata": {},
   "outputs": [
    {
     "name": "stdout",
     "output_type": "stream",
     "text": [
      "Среднее количество сессий на одного пользователя: 2.0\n",
      "Среднее количество событий за одну пользовательскую сессию: 7.0\n"
     ]
    }
   ],
   "source": [
    "print('Среднее количество сессий на одного пользователя:',ses_count['session_count'].mean().round())\n",
    "print('Среднее количество событий за одну пользовательскую сессию:',events_number['event_count'].mean().round())"
   ]
  },
  {
   "cell_type": "markdown",
   "metadata": {},
   "source": [
    "<a id=\"step_3.5\"></a> \n",
    "### Расчет длительности пользовательской сесиии."
   ]
  },
  {
   "cell_type": "markdown",
   "metadata": {},
   "source": [
    "Для начала расчитаем время совершения каждого события внутри сессий."
   ]
  },
  {
   "cell_type": "code",
   "execution_count": 38,
   "metadata": {},
   "outputs": [
    {
     "data": {
      "text/html": [
       "<div>\n",
       "<style scoped>\n",
       "    .dataframe tbody tr th:only-of-type {\n",
       "        vertical-align: middle;\n",
       "    }\n",
       "\n",
       "    .dataframe tbody tr th {\n",
       "        vertical-align: top;\n",
       "    }\n",
       "\n",
       "    .dataframe thead th {\n",
       "        text-align: right;\n",
       "    }\n",
       "</style>\n",
       "<table border=\"1\" class=\"dataframe\">\n",
       "  <thead>\n",
       "    <tr style=\"text-align: right;\">\n",
       "      <th></th>\n",
       "      <th>user_id</th>\n",
       "      <th>event_time</th>\n",
       "      <th>event_name</th>\n",
       "      <th>event_date</th>\n",
       "      <th>source</th>\n",
       "      <th>diff</th>\n",
       "      <th>session_id</th>\n",
       "      <th>event_duration</th>\n",
       "    </tr>\n",
       "  </thead>\n",
       "  <tbody>\n",
       "    <tr>\n",
       "      <th>0</th>\n",
       "      <td>0001b1d5-b74a-4cbf-aeb0-7df5947bf349</td>\n",
       "      <td>2019-10-07 13:39:45</td>\n",
       "      <td>tips_show</td>\n",
       "      <td>2019-10-07</td>\n",
       "      <td>other</td>\n",
       "      <td>NaT</td>\n",
       "      <td>0</td>\n",
       "      <td>NaT</td>\n",
       "    </tr>\n",
       "    <tr>\n",
       "      <th>1</th>\n",
       "      <td>0001b1d5-b74a-4cbf-aeb0-7df5947bf349</td>\n",
       "      <td>2019-10-07 13:40:31</td>\n",
       "      <td>tips_show</td>\n",
       "      <td>2019-10-07</td>\n",
       "      <td>other</td>\n",
       "      <td>0 days 00:00:46</td>\n",
       "      <td>0</td>\n",
       "      <td>0 days 00:00:46</td>\n",
       "    </tr>\n",
       "    <tr>\n",
       "      <th>2</th>\n",
       "      <td>0001b1d5-b74a-4cbf-aeb0-7df5947bf349</td>\n",
       "      <td>2019-10-07 13:41:05</td>\n",
       "      <td>tips_show</td>\n",
       "      <td>2019-10-07</td>\n",
       "      <td>other</td>\n",
       "      <td>0 days 00:00:34</td>\n",
       "      <td>0</td>\n",
       "      <td>0 days 00:00:34</td>\n",
       "    </tr>\n",
       "    <tr>\n",
       "      <th>3</th>\n",
       "      <td>0001b1d5-b74a-4cbf-aeb0-7df5947bf349</td>\n",
       "      <td>2019-10-07 13:43:20</td>\n",
       "      <td>tips_show</td>\n",
       "      <td>2019-10-07</td>\n",
       "      <td>other</td>\n",
       "      <td>0 days 00:02:15</td>\n",
       "      <td>0</td>\n",
       "      <td>0 days 00:02:15</td>\n",
       "    </tr>\n",
       "    <tr>\n",
       "      <th>4</th>\n",
       "      <td>0001b1d5-b74a-4cbf-aeb0-7df5947bf349</td>\n",
       "      <td>2019-10-07 13:45:30</td>\n",
       "      <td>tips_show</td>\n",
       "      <td>2019-10-07</td>\n",
       "      <td>other</td>\n",
       "      <td>0 days 00:02:10</td>\n",
       "      <td>0</td>\n",
       "      <td>0 days 00:02:10</td>\n",
       "    </tr>\n",
       "    <tr>\n",
       "      <th>5</th>\n",
       "      <td>0001b1d5-b74a-4cbf-aeb0-7df5947bf349</td>\n",
       "      <td>2019-10-07 13:45:43</td>\n",
       "      <td>tips_show</td>\n",
       "      <td>2019-10-07</td>\n",
       "      <td>other</td>\n",
       "      <td>0 days 00:00:13</td>\n",
       "      <td>0</td>\n",
       "      <td>0 days 00:00:13</td>\n",
       "    </tr>\n",
       "    <tr>\n",
       "      <th>6</th>\n",
       "      <td>0001b1d5-b74a-4cbf-aeb0-7df5947bf349</td>\n",
       "      <td>2019-10-07 13:46:31</td>\n",
       "      <td>tips_show</td>\n",
       "      <td>2019-10-07</td>\n",
       "      <td>other</td>\n",
       "      <td>0 days 00:00:48</td>\n",
       "      <td>0</td>\n",
       "      <td>0 days 00:00:48</td>\n",
       "    </tr>\n",
       "    <tr>\n",
       "      <th>7</th>\n",
       "      <td>0001b1d5-b74a-4cbf-aeb0-7df5947bf349</td>\n",
       "      <td>2019-10-07 13:47:32</td>\n",
       "      <td>tips_show</td>\n",
       "      <td>2019-10-07</td>\n",
       "      <td>other</td>\n",
       "      <td>0 days 00:01:01</td>\n",
       "      <td>0</td>\n",
       "      <td>0 days 00:01:01</td>\n",
       "    </tr>\n",
       "    <tr>\n",
       "      <th>8</th>\n",
       "      <td>0001b1d5-b74a-4cbf-aeb0-7df5947bf349</td>\n",
       "      <td>2019-10-07 13:49:41</td>\n",
       "      <td>tips_show</td>\n",
       "      <td>2019-10-07</td>\n",
       "      <td>other</td>\n",
       "      <td>0 days 00:02:09</td>\n",
       "      <td>0</td>\n",
       "      <td>0 days 00:02:09</td>\n",
       "    </tr>\n",
       "    <tr>\n",
       "      <th>9</th>\n",
       "      <td>0001b1d5-b74a-4cbf-aeb0-7df5947bf349</td>\n",
       "      <td>2019-10-09 18:33:55</td>\n",
       "      <td>map</td>\n",
       "      <td>2019-10-09</td>\n",
       "      <td>other</td>\n",
       "      <td>2 days 04:44:14</td>\n",
       "      <td>9</td>\n",
       "      <td>NaT</td>\n",
       "    </tr>\n",
       "  </tbody>\n",
       "</table>\n",
       "</div>"
      ],
      "text/plain": [
       "                                user_id          event_time event_name  \\\n",
       "0  0001b1d5-b74a-4cbf-aeb0-7df5947bf349 2019-10-07 13:39:45  tips_show   \n",
       "1  0001b1d5-b74a-4cbf-aeb0-7df5947bf349 2019-10-07 13:40:31  tips_show   \n",
       "2  0001b1d5-b74a-4cbf-aeb0-7df5947bf349 2019-10-07 13:41:05  tips_show   \n",
       "3  0001b1d5-b74a-4cbf-aeb0-7df5947bf349 2019-10-07 13:43:20  tips_show   \n",
       "4  0001b1d5-b74a-4cbf-aeb0-7df5947bf349 2019-10-07 13:45:30  tips_show   \n",
       "5  0001b1d5-b74a-4cbf-aeb0-7df5947bf349 2019-10-07 13:45:43  tips_show   \n",
       "6  0001b1d5-b74a-4cbf-aeb0-7df5947bf349 2019-10-07 13:46:31  tips_show   \n",
       "7  0001b1d5-b74a-4cbf-aeb0-7df5947bf349 2019-10-07 13:47:32  tips_show   \n",
       "8  0001b1d5-b74a-4cbf-aeb0-7df5947bf349 2019-10-07 13:49:41  tips_show   \n",
       "9  0001b1d5-b74a-4cbf-aeb0-7df5947bf349 2019-10-09 18:33:55        map   \n",
       "\n",
       "  event_date source            diff  session_id  event_duration  \n",
       "0 2019-10-07  other             NaT           0             NaT  \n",
       "1 2019-10-07  other 0 days 00:00:46           0 0 days 00:00:46  \n",
       "2 2019-10-07  other 0 days 00:00:34           0 0 days 00:00:34  \n",
       "3 2019-10-07  other 0 days 00:02:15           0 0 days 00:02:15  \n",
       "4 2019-10-07  other 0 days 00:02:10           0 0 days 00:02:10  \n",
       "5 2019-10-07  other 0 days 00:00:13           0 0 days 00:00:13  \n",
       "6 2019-10-07  other 0 days 00:00:48           0 0 days 00:00:48  \n",
       "7 2019-10-07  other 0 days 00:01:01           0 0 days 00:01:01  \n",
       "8 2019-10-07  other 0 days 00:02:09           0 0 days 00:02:09  \n",
       "9 2019-10-09  other 2 days 04:44:14           9             NaT  "
      ]
     },
     "execution_count": 38,
     "metadata": {},
     "output_type": "execute_result"
    }
   ],
   "source": [
    "df_mobile['event_duration'] = df_mobile.groupby(['session_id'])['event_time'].diff(1)\n",
    "df_mobile.head(10)"
   ]
  },
  {
   "cell_type": "code",
   "execution_count": 39,
   "metadata": {},
   "outputs": [
    {
     "data": {
      "text/html": [
       "<div>\n",
       "<style scoped>\n",
       "    .dataframe tbody tr th:only-of-type {\n",
       "        vertical-align: middle;\n",
       "    }\n",
       "\n",
       "    .dataframe tbody tr th {\n",
       "        vertical-align: top;\n",
       "    }\n",
       "\n",
       "    .dataframe thead th {\n",
       "        text-align: right;\n",
       "    }\n",
       "</style>\n",
       "<table border=\"1\" class=\"dataframe\">\n",
       "  <thead>\n",
       "    <tr style=\"text-align: right;\">\n",
       "      <th></th>\n",
       "      <th>user_id</th>\n",
       "      <th>event_time</th>\n",
       "      <th>event_name</th>\n",
       "      <th>event_date</th>\n",
       "      <th>source</th>\n",
       "      <th>diff</th>\n",
       "      <th>session_id</th>\n",
       "      <th>event_duration</th>\n",
       "    </tr>\n",
       "  </thead>\n",
       "  <tbody>\n",
       "    <tr>\n",
       "      <th>0</th>\n",
       "      <td>0001b1d5-b74a-4cbf-aeb0-7df5947bf349</td>\n",
       "      <td>2019-10-07 13:39:45</td>\n",
       "      <td>tips_show</td>\n",
       "      <td>2019-10-07</td>\n",
       "      <td>other</td>\n",
       "      <td>NaT</td>\n",
       "      <td>0</td>\n",
       "      <td>0 days 00:00:46</td>\n",
       "    </tr>\n",
       "    <tr>\n",
       "      <th>1</th>\n",
       "      <td>0001b1d5-b74a-4cbf-aeb0-7df5947bf349</td>\n",
       "      <td>2019-10-07 13:40:31</td>\n",
       "      <td>tips_show</td>\n",
       "      <td>2019-10-07</td>\n",
       "      <td>other</td>\n",
       "      <td>0 days 00:00:46</td>\n",
       "      <td>0</td>\n",
       "      <td>0 days 00:00:34</td>\n",
       "    </tr>\n",
       "    <tr>\n",
       "      <th>2</th>\n",
       "      <td>0001b1d5-b74a-4cbf-aeb0-7df5947bf349</td>\n",
       "      <td>2019-10-07 13:41:05</td>\n",
       "      <td>tips_show</td>\n",
       "      <td>2019-10-07</td>\n",
       "      <td>other</td>\n",
       "      <td>0 days 00:00:34</td>\n",
       "      <td>0</td>\n",
       "      <td>0 days 00:02:15</td>\n",
       "    </tr>\n",
       "    <tr>\n",
       "      <th>3</th>\n",
       "      <td>0001b1d5-b74a-4cbf-aeb0-7df5947bf349</td>\n",
       "      <td>2019-10-07 13:43:20</td>\n",
       "      <td>tips_show</td>\n",
       "      <td>2019-10-07</td>\n",
       "      <td>other</td>\n",
       "      <td>0 days 00:02:15</td>\n",
       "      <td>0</td>\n",
       "      <td>0 days 00:02:10</td>\n",
       "    </tr>\n",
       "    <tr>\n",
       "      <th>4</th>\n",
       "      <td>0001b1d5-b74a-4cbf-aeb0-7df5947bf349</td>\n",
       "      <td>2019-10-07 13:45:30</td>\n",
       "      <td>tips_show</td>\n",
       "      <td>2019-10-07</td>\n",
       "      <td>other</td>\n",
       "      <td>0 days 00:02:10</td>\n",
       "      <td>0</td>\n",
       "      <td>0 days 00:00:13</td>\n",
       "    </tr>\n",
       "  </tbody>\n",
       "</table>\n",
       "</div>"
      ],
      "text/plain": [
       "                                user_id          event_time event_name  \\\n",
       "0  0001b1d5-b74a-4cbf-aeb0-7df5947bf349 2019-10-07 13:39:45  tips_show   \n",
       "1  0001b1d5-b74a-4cbf-aeb0-7df5947bf349 2019-10-07 13:40:31  tips_show   \n",
       "2  0001b1d5-b74a-4cbf-aeb0-7df5947bf349 2019-10-07 13:41:05  tips_show   \n",
       "3  0001b1d5-b74a-4cbf-aeb0-7df5947bf349 2019-10-07 13:43:20  tips_show   \n",
       "4  0001b1d5-b74a-4cbf-aeb0-7df5947bf349 2019-10-07 13:45:30  tips_show   \n",
       "\n",
       "  event_date source            diff  session_id  event_duration  \n",
       "0 2019-10-07  other             NaT           0 0 days 00:00:46  \n",
       "1 2019-10-07  other 0 days 00:00:46           0 0 days 00:00:34  \n",
       "2 2019-10-07  other 0 days 00:00:34           0 0 days 00:02:15  \n",
       "3 2019-10-07  other 0 days 00:02:15           0 0 days 00:02:10  \n",
       "4 2019-10-07  other 0 days 00:02:10           0 0 days 00:00:13  "
      ]
     },
     "execution_count": 39,
     "metadata": {},
     "output_type": "execute_result"
    }
   ],
   "source": [
    "df_mobile['event_duration'] = df_mobile.groupby(['session_id'])['event_duration'].shift(-1)\n",
    "df_mobile.head()"
   ]
  },
  {
   "cell_type": "code",
   "execution_count": 40,
   "metadata": {},
   "outputs": [
    {
     "data": {
      "text/html": [
       "<div>\n",
       "<style scoped>\n",
       "    .dataframe tbody tr th:only-of-type {\n",
       "        vertical-align: middle;\n",
       "    }\n",
       "\n",
       "    .dataframe tbody tr th {\n",
       "        vertical-align: top;\n",
       "    }\n",
       "\n",
       "    .dataframe thead th {\n",
       "        text-align: right;\n",
       "    }\n",
       "</style>\n",
       "<table border=\"1\" class=\"dataframe\">\n",
       "  <thead>\n",
       "    <tr style=\"text-align: right;\">\n",
       "      <th></th>\n",
       "      <th>session_id</th>\n",
       "      <th>session_duration</th>\n",
       "    </tr>\n",
       "  </thead>\n",
       "  <tbody>\n",
       "    <tr>\n",
       "      <th>0</th>\n",
       "      <td>0</td>\n",
       "      <td>0 days 00:09:56</td>\n",
       "    </tr>\n",
       "    <tr>\n",
       "      <th>1</th>\n",
       "      <td>9</td>\n",
       "      <td>0 days 00:08:27</td>\n",
       "    </tr>\n",
       "    <tr>\n",
       "      <th>2</th>\n",
       "      <td>13</td>\n",
       "      <td>0 days 00:15:00</td>\n",
       "    </tr>\n",
       "    <tr>\n",
       "      <th>3</th>\n",
       "      <td>27</td>\n",
       "      <td>0 days 00:12:38</td>\n",
       "    </tr>\n",
       "    <tr>\n",
       "      <th>4</th>\n",
       "      <td>35</td>\n",
       "      <td>0 days 00:25:21</td>\n",
       "    </tr>\n",
       "    <tr>\n",
       "      <th>...</th>\n",
       "      <td>...</td>\n",
       "      <td>...</td>\n",
       "    </tr>\n",
       "    <tr>\n",
       "      <th>10363</th>\n",
       "      <td>74161</td>\n",
       "      <td>0 days 00:00:00</td>\n",
       "    </tr>\n",
       "    <tr>\n",
       "      <th>10364</th>\n",
       "      <td>74162</td>\n",
       "      <td>0 days 00:16:14</td>\n",
       "    </tr>\n",
       "    <tr>\n",
       "      <th>10365</th>\n",
       "      <td>74164</td>\n",
       "      <td>0 days 00:04:57</td>\n",
       "    </tr>\n",
       "    <tr>\n",
       "      <th>10366</th>\n",
       "      <td>74168</td>\n",
       "      <td>0 days 00:15:49</td>\n",
       "    </tr>\n",
       "    <tr>\n",
       "      <th>10367</th>\n",
       "      <td>74183</td>\n",
       "      <td>0 days 00:32:24</td>\n",
       "    </tr>\n",
       "  </tbody>\n",
       "</table>\n",
       "<p>10368 rows × 2 columns</p>\n",
       "</div>"
      ],
      "text/plain": [
       "       session_id session_duration\n",
       "0               0  0 days 00:09:56\n",
       "1               9  0 days 00:08:27\n",
       "2              13  0 days 00:15:00\n",
       "3              27  0 days 00:12:38\n",
       "4              35  0 days 00:25:21\n",
       "...           ...              ...\n",
       "10363       74161  0 days 00:00:00\n",
       "10364       74162  0 days 00:16:14\n",
       "10365       74164  0 days 00:04:57\n",
       "10366       74168  0 days 00:15:49\n",
       "10367       74183  0 days 00:32:24\n",
       "\n",
       "[10368 rows x 2 columns]"
      ]
     },
     "execution_count": 40,
     "metadata": {},
     "output_type": "execute_result"
    }
   ],
   "source": [
    "session_time = df_mobile.groupby('session_id').agg({'event_duration':'sum'})\n",
    "session_time = session_time.reset_index().rename(columns={'event_duration':'session_duration'})\n",
    "session_time"
   ]
  },
  {
   "cell_type": "markdown",
   "metadata": {},
   "source": [
    "Совместим продолжительности сессий с id пользователей, совершивших данные сессии."
   ]
  },
  {
   "cell_type": "code",
   "execution_count": 41,
   "metadata": {},
   "outputs": [],
   "source": [
    "session_time = pd.merge(session_time,df_mobile[['user_id','session_id']],how='left',on='session_id')"
   ]
  },
  {
   "cell_type": "code",
   "execution_count": 42,
   "metadata": {},
   "outputs": [
    {
     "data": {
      "text/html": [
       "<div>\n",
       "<style scoped>\n",
       "    .dataframe tbody tr th:only-of-type {\n",
       "        vertical-align: middle;\n",
       "    }\n",
       "\n",
       "    .dataframe tbody tr th {\n",
       "        vertical-align: top;\n",
       "    }\n",
       "\n",
       "    .dataframe thead th {\n",
       "        text-align: right;\n",
       "    }\n",
       "</style>\n",
       "<table border=\"1\" class=\"dataframe\">\n",
       "  <thead>\n",
       "    <tr style=\"text-align: right;\">\n",
       "      <th></th>\n",
       "      <th>session_id</th>\n",
       "      <th>session_duration</th>\n",
       "      <th>user_id</th>\n",
       "    </tr>\n",
       "  </thead>\n",
       "  <tbody>\n",
       "    <tr>\n",
       "      <th>0</th>\n",
       "      <td>0</td>\n",
       "      <td>0 days 00:09:56</td>\n",
       "      <td>0001b1d5-b74a-4cbf-aeb0-7df5947bf349</td>\n",
       "    </tr>\n",
       "    <tr>\n",
       "      <th>1</th>\n",
       "      <td>9</td>\n",
       "      <td>0 days 00:08:27</td>\n",
       "      <td>0001b1d5-b74a-4cbf-aeb0-7df5947bf349</td>\n",
       "    </tr>\n",
       "    <tr>\n",
       "      <th>2</th>\n",
       "      <td>13</td>\n",
       "      <td>0 days 00:15:00</td>\n",
       "      <td>0001b1d5-b74a-4cbf-aeb0-7df5947bf349</td>\n",
       "    </tr>\n",
       "    <tr>\n",
       "      <th>3</th>\n",
       "      <td>27</td>\n",
       "      <td>0 days 00:12:38</td>\n",
       "      <td>0001b1d5-b74a-4cbf-aeb0-7df5947bf349</td>\n",
       "    </tr>\n",
       "    <tr>\n",
       "      <th>4</th>\n",
       "      <td>35</td>\n",
       "      <td>0 days 00:25:21</td>\n",
       "      <td>00157779-810c-4498-9e05-a1e9e3cedf93</td>\n",
       "    </tr>\n",
       "    <tr>\n",
       "      <th>...</th>\n",
       "      <td>...</td>\n",
       "      <td>...</td>\n",
       "      <td>...</td>\n",
       "    </tr>\n",
       "    <tr>\n",
       "      <th>10363</th>\n",
       "      <td>74161</td>\n",
       "      <td>0 days 00:00:00</td>\n",
       "      <td>fffb9e79-b927-4dbb-9b48-7fd09b23a62b</td>\n",
       "    </tr>\n",
       "    <tr>\n",
       "      <th>10364</th>\n",
       "      <td>74162</td>\n",
       "      <td>0 days 00:16:14</td>\n",
       "      <td>fffb9e79-b927-4dbb-9b48-7fd09b23a62b</td>\n",
       "    </tr>\n",
       "    <tr>\n",
       "      <th>10365</th>\n",
       "      <td>74164</td>\n",
       "      <td>0 days 00:04:57</td>\n",
       "      <td>fffb9e79-b927-4dbb-9b48-7fd09b23a62b</td>\n",
       "    </tr>\n",
       "    <tr>\n",
       "      <th>10366</th>\n",
       "      <td>74168</td>\n",
       "      <td>0 days 00:15:49</td>\n",
       "      <td>fffb9e79-b927-4dbb-9b48-7fd09b23a62b</td>\n",
       "    </tr>\n",
       "    <tr>\n",
       "      <th>10367</th>\n",
       "      <td>74183</td>\n",
       "      <td>0 days 00:32:24</td>\n",
       "      <td>fffb9e79-b927-4dbb-9b48-7fd09b23a62b</td>\n",
       "    </tr>\n",
       "  </tbody>\n",
       "</table>\n",
       "<p>10368 rows × 3 columns</p>\n",
       "</div>"
      ],
      "text/plain": [
       "       session_id session_duration                               user_id\n",
       "0               0  0 days 00:09:56  0001b1d5-b74a-4cbf-aeb0-7df5947bf349\n",
       "1               9  0 days 00:08:27  0001b1d5-b74a-4cbf-aeb0-7df5947bf349\n",
       "2              13  0 days 00:15:00  0001b1d5-b74a-4cbf-aeb0-7df5947bf349\n",
       "3              27  0 days 00:12:38  0001b1d5-b74a-4cbf-aeb0-7df5947bf349\n",
       "4              35  0 days 00:25:21  00157779-810c-4498-9e05-a1e9e3cedf93\n",
       "...           ...              ...                                   ...\n",
       "10363       74161  0 days 00:00:00  fffb9e79-b927-4dbb-9b48-7fd09b23a62b\n",
       "10364       74162  0 days 00:16:14  fffb9e79-b927-4dbb-9b48-7fd09b23a62b\n",
       "10365       74164  0 days 00:04:57  fffb9e79-b927-4dbb-9b48-7fd09b23a62b\n",
       "10366       74168  0 days 00:15:49  fffb9e79-b927-4dbb-9b48-7fd09b23a62b\n",
       "10367       74183  0 days 00:32:24  fffb9e79-b927-4dbb-9b48-7fd09b23a62b\n",
       "\n",
       "[10368 rows x 3 columns]"
      ]
     },
     "execution_count": 42,
     "metadata": {},
     "output_type": "execute_result"
    }
   ],
   "source": [
    "session_time = session_time.drop_duplicates().reset_index(drop=True)\n",
    "session_time"
   ]
  },
  {
   "cell_type": "markdown",
   "metadata": {},
   "source": [
    "Проверим наличие нулевых сессий."
   ]
  },
  {
   "cell_type": "code",
   "execution_count": 43,
   "metadata": {},
   "outputs": [
    {
     "data": {
      "text/plain": [
       "2145"
      ]
     },
     "execution_count": 43,
     "metadata": {},
     "output_type": "execute_result"
    }
   ],
   "source": [
    "session_time.query('session_duration == \"0 days 00:00:00\"')['session_duration'].count()"
   ]
  },
  {
   "cell_type": "markdown",
   "metadata": {},
   "source": [
    "Удалим нулевые сессии."
   ]
  },
  {
   "cell_type": "code",
   "execution_count": 44,
   "metadata": {},
   "outputs": [
    {
     "data": {
      "text/html": [
       "<div>\n",
       "<style scoped>\n",
       "    .dataframe tbody tr th:only-of-type {\n",
       "        vertical-align: middle;\n",
       "    }\n",
       "\n",
       "    .dataframe tbody tr th {\n",
       "        vertical-align: top;\n",
       "    }\n",
       "\n",
       "    .dataframe thead th {\n",
       "        text-align: right;\n",
       "    }\n",
       "</style>\n",
       "<table border=\"1\" class=\"dataframe\">\n",
       "  <thead>\n",
       "    <tr style=\"text-align: right;\">\n",
       "      <th></th>\n",
       "      <th>session_id</th>\n",
       "      <th>session_duration</th>\n",
       "      <th>user_id</th>\n",
       "    </tr>\n",
       "  </thead>\n",
       "  <tbody>\n",
       "    <tr>\n",
       "      <th>0</th>\n",
       "      <td>0</td>\n",
       "      <td>0 days 00:09:56</td>\n",
       "      <td>0001b1d5-b74a-4cbf-aeb0-7df5947bf349</td>\n",
       "    </tr>\n",
       "    <tr>\n",
       "      <th>1</th>\n",
       "      <td>9</td>\n",
       "      <td>0 days 00:08:27</td>\n",
       "      <td>0001b1d5-b74a-4cbf-aeb0-7df5947bf349</td>\n",
       "    </tr>\n",
       "    <tr>\n",
       "      <th>2</th>\n",
       "      <td>13</td>\n",
       "      <td>0 days 00:15:00</td>\n",
       "      <td>0001b1d5-b74a-4cbf-aeb0-7df5947bf349</td>\n",
       "    </tr>\n",
       "    <tr>\n",
       "      <th>3</th>\n",
       "      <td>27</td>\n",
       "      <td>0 days 00:12:38</td>\n",
       "      <td>0001b1d5-b74a-4cbf-aeb0-7df5947bf349</td>\n",
       "    </tr>\n",
       "    <tr>\n",
       "      <th>4</th>\n",
       "      <td>35</td>\n",
       "      <td>0 days 00:25:21</td>\n",
       "      <td>00157779-810c-4498-9e05-a1e9e3cedf93</td>\n",
       "    </tr>\n",
       "    <tr>\n",
       "      <th>...</th>\n",
       "      <td>...</td>\n",
       "      <td>...</td>\n",
       "      <td>...</td>\n",
       "    </tr>\n",
       "    <tr>\n",
       "      <th>8218</th>\n",
       "      <td>74159</td>\n",
       "      <td>0 days 00:00:22</td>\n",
       "      <td>fffb9e79-b927-4dbb-9b48-7fd09b23a62b</td>\n",
       "    </tr>\n",
       "    <tr>\n",
       "      <th>8219</th>\n",
       "      <td>74162</td>\n",
       "      <td>0 days 00:16:14</td>\n",
       "      <td>fffb9e79-b927-4dbb-9b48-7fd09b23a62b</td>\n",
       "    </tr>\n",
       "    <tr>\n",
       "      <th>8220</th>\n",
       "      <td>74164</td>\n",
       "      <td>0 days 00:04:57</td>\n",
       "      <td>fffb9e79-b927-4dbb-9b48-7fd09b23a62b</td>\n",
       "    </tr>\n",
       "    <tr>\n",
       "      <th>8221</th>\n",
       "      <td>74168</td>\n",
       "      <td>0 days 00:15:49</td>\n",
       "      <td>fffb9e79-b927-4dbb-9b48-7fd09b23a62b</td>\n",
       "    </tr>\n",
       "    <tr>\n",
       "      <th>8222</th>\n",
       "      <td>74183</td>\n",
       "      <td>0 days 00:32:24</td>\n",
       "      <td>fffb9e79-b927-4dbb-9b48-7fd09b23a62b</td>\n",
       "    </tr>\n",
       "  </tbody>\n",
       "</table>\n",
       "<p>8223 rows × 3 columns</p>\n",
       "</div>"
      ],
      "text/plain": [
       "      session_id session_duration                               user_id\n",
       "0              0  0 days 00:09:56  0001b1d5-b74a-4cbf-aeb0-7df5947bf349\n",
       "1              9  0 days 00:08:27  0001b1d5-b74a-4cbf-aeb0-7df5947bf349\n",
       "2             13  0 days 00:15:00  0001b1d5-b74a-4cbf-aeb0-7df5947bf349\n",
       "3             27  0 days 00:12:38  0001b1d5-b74a-4cbf-aeb0-7df5947bf349\n",
       "4             35  0 days 00:25:21  00157779-810c-4498-9e05-a1e9e3cedf93\n",
       "...          ...              ...                                   ...\n",
       "8218       74159  0 days 00:00:22  fffb9e79-b927-4dbb-9b48-7fd09b23a62b\n",
       "8219       74162  0 days 00:16:14  fffb9e79-b927-4dbb-9b48-7fd09b23a62b\n",
       "8220       74164  0 days 00:04:57  fffb9e79-b927-4dbb-9b48-7fd09b23a62b\n",
       "8221       74168  0 days 00:15:49  fffb9e79-b927-4dbb-9b48-7fd09b23a62b\n",
       "8222       74183  0 days 00:32:24  fffb9e79-b927-4dbb-9b48-7fd09b23a62b\n",
       "\n",
       "[8223 rows x 3 columns]"
      ]
     },
     "execution_count": 44,
     "metadata": {},
     "output_type": "execute_result"
    }
   ],
   "source": [
    "session_time = session_time.query('session_duration != \"0 days 00:00:00\"').reset_index(drop=True)\n",
    "session_time"
   ]
  },
  {
   "cell_type": "markdown",
   "metadata": {},
   "source": [
    "Для удобства дальнейшего анализа переведем `session_duration` в секунды."
   ]
  },
  {
   "cell_type": "code",
   "execution_count": 45,
   "metadata": {},
   "outputs": [
    {
     "data": {
      "text/html": [
       "<div>\n",
       "<style scoped>\n",
       "    .dataframe tbody tr th:only-of-type {\n",
       "        vertical-align: middle;\n",
       "    }\n",
       "\n",
       "    .dataframe tbody tr th {\n",
       "        vertical-align: top;\n",
       "    }\n",
       "\n",
       "    .dataframe thead th {\n",
       "        text-align: right;\n",
       "    }\n",
       "</style>\n",
       "<table border=\"1\" class=\"dataframe\">\n",
       "  <thead>\n",
       "    <tr style=\"text-align: right;\">\n",
       "      <th></th>\n",
       "      <th>session_id</th>\n",
       "      <th>session_duration</th>\n",
       "      <th>user_id</th>\n",
       "    </tr>\n",
       "  </thead>\n",
       "  <tbody>\n",
       "    <tr>\n",
       "      <th>0</th>\n",
       "      <td>0</td>\n",
       "      <td>596.0</td>\n",
       "      <td>0001b1d5-b74a-4cbf-aeb0-7df5947bf349</td>\n",
       "    </tr>\n",
       "    <tr>\n",
       "      <th>1</th>\n",
       "      <td>9</td>\n",
       "      <td>507.0</td>\n",
       "      <td>0001b1d5-b74a-4cbf-aeb0-7df5947bf349</td>\n",
       "    </tr>\n",
       "    <tr>\n",
       "      <th>2</th>\n",
       "      <td>13</td>\n",
       "      <td>900.0</td>\n",
       "      <td>0001b1d5-b74a-4cbf-aeb0-7df5947bf349</td>\n",
       "    </tr>\n",
       "    <tr>\n",
       "      <th>3</th>\n",
       "      <td>27</td>\n",
       "      <td>758.0</td>\n",
       "      <td>0001b1d5-b74a-4cbf-aeb0-7df5947bf349</td>\n",
       "    </tr>\n",
       "    <tr>\n",
       "      <th>4</th>\n",
       "      <td>35</td>\n",
       "      <td>1521.0</td>\n",
       "      <td>00157779-810c-4498-9e05-a1e9e3cedf93</td>\n",
       "    </tr>\n",
       "  </tbody>\n",
       "</table>\n",
       "</div>"
      ],
      "text/plain": [
       "   session_id  session_duration                               user_id\n",
       "0           0             596.0  0001b1d5-b74a-4cbf-aeb0-7df5947bf349\n",
       "1           9             507.0  0001b1d5-b74a-4cbf-aeb0-7df5947bf349\n",
       "2          13             900.0  0001b1d5-b74a-4cbf-aeb0-7df5947bf349\n",
       "3          27             758.0  0001b1d5-b74a-4cbf-aeb0-7df5947bf349\n",
       "4          35            1521.0  00157779-810c-4498-9e05-a1e9e3cedf93"
      ]
     },
     "execution_count": 45,
     "metadata": {},
     "output_type": "execute_result"
    }
   ],
   "source": [
    "session_time['session_duration'] = session_time['session_duration'] / np.timedelta64(1, 's')\n",
    "session_time.head()"
   ]
  },
  {
   "cell_type": "markdown",
   "metadata": {},
   "source": [
    "Построим диаграмму размаха по продолжительности пользовательских сессий"
   ]
  },
  {
   "cell_type": "code",
   "execution_count": 46,
   "metadata": {},
   "outputs": [
    {
     "data": {
      "image/png": "[encoded data removed]",
      "text/plain": [
       "<Figure size 432x288 with 1 Axes>"
      ]
     },
     "metadata": {
      "needs_background": "light"
     },
     "output_type": "display_data"
    }
   ],
   "source": [
    "session_time.boxplot(column='session_duration') \n",
    "plt.title('Диаграмма размаха продолжительности пользовательской сессии')\n",
    "plt.show()"
   ]
  },
  {
   "cell_type": "code",
   "execution_count": 47,
   "metadata": {},
   "outputs": [
    {
     "data": {
      "image/png": "[encoded data removed]",
      "text/plain": [
       "<Figure size 432x288 with 1 Axes>"
      ]
     },
     "metadata": {
      "needs_background": "light"
     },
     "output_type": "display_data"
    }
   ],
   "source": [
    "session_time['session_duration'].hist(bins=30,range=(0,1000))\n",
    "plt.xlabel('Продолжительность сесии в секундах ')\n",
    "plt.ylabel('Объем данных')\n",
    "plt.title('Распределение продолжительности пользовательской сессии')\n",
    "plt.show()"
   ]
  },
  {
   "cell_type": "code",
   "execution_count": 48,
   "metadata": {},
   "outputs": [
    {
     "name": "stdout",
     "output_type": "stream",
     "text": [
      "Средняя продолжительность пользовательской сессии: 974.23 cекунд\n",
      "Медианная продолжительность пользовательской сессии: 559.00 секунд\n"
     ]
    }
   ],
   "source": [
    "print('Средняя продолжительность пользовательской сессии: {:.2f} cекунд'.format(session_time['session_duration'].mean()))\n",
    "print('Медианная продолжительность пользовательской сессии: {:.2f} секунд'.format(session_time['session_duration'].median()))"
   ]
  },
  {
   "cell_type": "markdown",
   "metadata": {},
   "source": [
    "На диаграмме размаха заметен выброс с продолжительностью сессии около 5,5 часов, сильно выбивающийся из общей выборки, а также еще несколько сессий, с продолжительностью в несколько часов.\n",
    "\n",
    "Можно предположить, что данные пользователи могут быть перекупщиками, покупающими вещи в приложении \"ненужные вещи\" и продающими на иных платформах или местах,следовательно, для них характерно долгое пребывание в приложении в поиске новых вещей.Данные пользователи, возможно, в дальнейшем выделятся в отдельный сегмент, следовательно на данном этапе отсортировывать аномальные значения не следует."
   ]
  },
  {
   "cell_type": "markdown",
   "metadata": {},
   "source": [
    "<a id=\"step_3.6\"></a> \n",
    "### Создание пользовательских профилей"
   ]
  },
  {
   "cell_type": "markdown",
   "metadata": {},
   "source": [
    "Объединим датафрейм с данными о продолжительности пользовательских сессий с датафреймом с данными о количестве совершенных событий пользователем за одну сессию. Таким образом, мы получим полные данные и удалим события, имеющие нулевую продолжительность."
   ]
  },
  {
   "cell_type": "code",
   "execution_count": 49,
   "metadata": {},
   "outputs": [
    {
     "data": {
      "text/html": [
       "<div>\n",
       "<style scoped>\n",
       "    .dataframe tbody tr th:only-of-type {\n",
       "        vertical-align: middle;\n",
       "    }\n",
       "\n",
       "    .dataframe tbody tr th {\n",
       "        vertical-align: top;\n",
       "    }\n",
       "\n",
       "    .dataframe thead th {\n",
       "        text-align: right;\n",
       "    }\n",
       "</style>\n",
       "<table border=\"1\" class=\"dataframe\">\n",
       "  <thead>\n",
       "    <tr style=\"text-align: right;\">\n",
       "      <th></th>\n",
       "      <th>session_id</th>\n",
       "      <th>session_duration</th>\n",
       "      <th>user_id</th>\n",
       "      <th>event_count</th>\n",
       "    </tr>\n",
       "  </thead>\n",
       "  <tbody>\n",
       "    <tr>\n",
       "      <th>0</th>\n",
       "      <td>0</td>\n",
       "      <td>596.0</td>\n",
       "      <td>0001b1d5-b74a-4cbf-aeb0-7df5947bf349</td>\n",
       "      <td>9</td>\n",
       "    </tr>\n",
       "    <tr>\n",
       "      <th>1</th>\n",
       "      <td>9</td>\n",
       "      <td>507.0</td>\n",
       "      <td>0001b1d5-b74a-4cbf-aeb0-7df5947bf349</td>\n",
       "      <td>4</td>\n",
       "    </tr>\n",
       "    <tr>\n",
       "      <th>2</th>\n",
       "      <td>13</td>\n",
       "      <td>900.0</td>\n",
       "      <td>0001b1d5-b74a-4cbf-aeb0-7df5947bf349</td>\n",
       "      <td>14</td>\n",
       "    </tr>\n",
       "    <tr>\n",
       "      <th>3</th>\n",
       "      <td>27</td>\n",
       "      <td>758.0</td>\n",
       "      <td>0001b1d5-b74a-4cbf-aeb0-7df5947bf349</td>\n",
       "      <td>8</td>\n",
       "    </tr>\n",
       "    <tr>\n",
       "      <th>4</th>\n",
       "      <td>35</td>\n",
       "      <td>1521.0</td>\n",
       "      <td>00157779-810c-4498-9e05-a1e9e3cedf93</td>\n",
       "      <td>9</td>\n",
       "    </tr>\n",
       "    <tr>\n",
       "      <th>...</th>\n",
       "      <td>...</td>\n",
       "      <td>...</td>\n",
       "      <td>...</td>\n",
       "      <td>...</td>\n",
       "    </tr>\n",
       "    <tr>\n",
       "      <th>8218</th>\n",
       "      <td>74159</td>\n",
       "      <td>22.0</td>\n",
       "      <td>fffb9e79-b927-4dbb-9b48-7fd09b23a62b</td>\n",
       "      <td>2</td>\n",
       "    </tr>\n",
       "    <tr>\n",
       "      <th>8219</th>\n",
       "      <td>74162</td>\n",
       "      <td>974.0</td>\n",
       "      <td>fffb9e79-b927-4dbb-9b48-7fd09b23a62b</td>\n",
       "      <td>2</td>\n",
       "    </tr>\n",
       "    <tr>\n",
       "      <th>8220</th>\n",
       "      <td>74164</td>\n",
       "      <td>297.0</td>\n",
       "      <td>fffb9e79-b927-4dbb-9b48-7fd09b23a62b</td>\n",
       "      <td>4</td>\n",
       "    </tr>\n",
       "    <tr>\n",
       "      <th>8221</th>\n",
       "      <td>74168</td>\n",
       "      <td>949.0</td>\n",
       "      <td>fffb9e79-b927-4dbb-9b48-7fd09b23a62b</td>\n",
       "      <td>15</td>\n",
       "    </tr>\n",
       "    <tr>\n",
       "      <th>8222</th>\n",
       "      <td>74183</td>\n",
       "      <td>1944.0</td>\n",
       "      <td>fffb9e79-b927-4dbb-9b48-7fd09b23a62b</td>\n",
       "      <td>14</td>\n",
       "    </tr>\n",
       "  </tbody>\n",
       "</table>\n",
       "<p>8223 rows × 4 columns</p>\n",
       "</div>"
      ],
      "text/plain": [
       "      session_id  session_duration                               user_id  \\\n",
       "0              0             596.0  0001b1d5-b74a-4cbf-aeb0-7df5947bf349   \n",
       "1              9             507.0  0001b1d5-b74a-4cbf-aeb0-7df5947bf349   \n",
       "2             13             900.0  0001b1d5-b74a-4cbf-aeb0-7df5947bf349   \n",
       "3             27             758.0  0001b1d5-b74a-4cbf-aeb0-7df5947bf349   \n",
       "4             35            1521.0  00157779-810c-4498-9e05-a1e9e3cedf93   \n",
       "...          ...               ...                                   ...   \n",
       "8218       74159              22.0  fffb9e79-b927-4dbb-9b48-7fd09b23a62b   \n",
       "8219       74162             974.0  fffb9e79-b927-4dbb-9b48-7fd09b23a62b   \n",
       "8220       74164             297.0  fffb9e79-b927-4dbb-9b48-7fd09b23a62b   \n",
       "8221       74168             949.0  fffb9e79-b927-4dbb-9b48-7fd09b23a62b   \n",
       "8222       74183            1944.0  fffb9e79-b927-4dbb-9b48-7fd09b23a62b   \n",
       "\n",
       "      event_count  \n",
       "0               9  \n",
       "1               4  \n",
       "2              14  \n",
       "3               8  \n",
       "4               9  \n",
       "...           ...  \n",
       "8218            2  \n",
       "8219            2  \n",
       "8220            4  \n",
       "8221           15  \n",
       "8222           14  \n",
       "\n",
       "[8223 rows x 4 columns]"
      ]
     },
     "execution_count": 49,
     "metadata": {},
     "output_type": "execute_result"
    }
   ],
   "source": [
    "users_profile = pd.merge(session_time,events_number,how='left',on=['session_id','user_id'])\n",
    "users_profile"
   ]
  },
  {
   "cell_type": "markdown",
   "metadata": {},
   "source": [
    "Cоздадим пользовательские профили, расчитаем для каждого пользователя медианное количество совершаемых им действий за одну сессию и медианную длительность сессии."
   ]
  },
  {
   "cell_type": "code",
   "execution_count": 50,
   "metadata": {
    "scrolled": true
   },
   "outputs": [
    {
     "data": {
      "text/html": [
       "<div>\n",
       "<style scoped>\n",
       "    .dataframe tbody tr th:only-of-type {\n",
       "        vertical-align: middle;\n",
       "    }\n",
       "\n",
       "    .dataframe tbody tr th {\n",
       "        vertical-align: top;\n",
       "    }\n",
       "\n",
       "    .dataframe thead th {\n",
       "        text-align: right;\n",
       "    }\n",
       "</style>\n",
       "<table border=\"1\" class=\"dataframe\">\n",
       "  <thead>\n",
       "    <tr style=\"text-align: right;\">\n",
       "      <th></th>\n",
       "      <th>user_id</th>\n",
       "      <th>median_events_count</th>\n",
       "      <th>median_session_duration</th>\n",
       "    </tr>\n",
       "  </thead>\n",
       "  <tbody>\n",
       "    <tr>\n",
       "      <th>0</th>\n",
       "      <td>0001b1d5-b74a-4cbf-aeb0-7df5947bf349</td>\n",
       "      <td>8.5</td>\n",
       "      <td>677.0</td>\n",
       "    </tr>\n",
       "    <tr>\n",
       "      <th>1</th>\n",
       "      <td>00157779-810c-4498-9e05-a1e9e3cedf93</td>\n",
       "      <td>14.0</td>\n",
       "      <td>2168.0</td>\n",
       "    </tr>\n",
       "    <tr>\n",
       "      <th>2</th>\n",
       "      <td>00463033-5717-4bf1-91b4-09183923b9df</td>\n",
       "      <td>10.0</td>\n",
       "      <td>1482.0</td>\n",
       "    </tr>\n",
       "    <tr>\n",
       "      <th>3</th>\n",
       "      <td>004690c3-5a84-4bb7-a8af-e0c8f8fca64e</td>\n",
       "      <td>4.5</td>\n",
       "      <td>957.0</td>\n",
       "    </tr>\n",
       "    <tr>\n",
       "      <th>4</th>\n",
       "      <td>00551e79-152e-4441-9cf7-565d7eb04090</td>\n",
       "      <td>3.5</td>\n",
       "      <td>279.5</td>\n",
       "    </tr>\n",
       "    <tr>\n",
       "      <th>...</th>\n",
       "      <td>...</td>\n",
       "      <td>...</td>\n",
       "      <td>...</td>\n",
       "    </tr>\n",
       "    <tr>\n",
       "      <th>4201</th>\n",
       "      <td>ffab8d8a-30bb-424a-a3ab-0b63ebbf7b07</td>\n",
       "      <td>8.5</td>\n",
       "      <td>1482.5</td>\n",
       "    </tr>\n",
       "    <tr>\n",
       "      <th>4202</th>\n",
       "      <td>ffc01466-fdb1-4460-ae94-e800f52eb136</td>\n",
       "      <td>7.0</td>\n",
       "      <td>53.0</td>\n",
       "    </tr>\n",
       "    <tr>\n",
       "      <th>4203</th>\n",
       "      <td>ffcf50d9-293c-4254-8243-4890b030b238</td>\n",
       "      <td>2.0</td>\n",
       "      <td>80.0</td>\n",
       "    </tr>\n",
       "    <tr>\n",
       "      <th>4204</th>\n",
       "      <td>ffe68f10-e48e-470e-be9b-eeb93128ff1a</td>\n",
       "      <td>3.0</td>\n",
       "      <td>756.0</td>\n",
       "    </tr>\n",
       "    <tr>\n",
       "      <th>4205</th>\n",
       "      <td>fffb9e79-b927-4dbb-9b48-7fd09b23a62b</td>\n",
       "      <td>7.0</td>\n",
       "      <td>1073.0</td>\n",
       "    </tr>\n",
       "  </tbody>\n",
       "</table>\n",
       "<p>4206 rows × 3 columns</p>\n",
       "</div>"
      ],
      "text/plain": [
       "                                   user_id  median_events_count  \\\n",
       "0     0001b1d5-b74a-4cbf-aeb0-7df5947bf349                  8.5   \n",
       "1     00157779-810c-4498-9e05-a1e9e3cedf93                 14.0   \n",
       "2     00463033-5717-4bf1-91b4-09183923b9df                 10.0   \n",
       "3     004690c3-5a84-4bb7-a8af-e0c8f8fca64e                  4.5   \n",
       "4     00551e79-152e-4441-9cf7-565d7eb04090                  3.5   \n",
       "...                                    ...                  ...   \n",
       "4201  ffab8d8a-30bb-424a-a3ab-0b63ebbf7b07                  8.5   \n",
       "4202  ffc01466-fdb1-4460-ae94-e800f52eb136                  7.0   \n",
       "4203  ffcf50d9-293c-4254-8243-4890b030b238                  2.0   \n",
       "4204  ffe68f10-e48e-470e-be9b-eeb93128ff1a                  3.0   \n",
       "4205  fffb9e79-b927-4dbb-9b48-7fd09b23a62b                  7.0   \n",
       "\n",
       "      median_session_duration  \n",
       "0                       677.0  \n",
       "1                      2168.0  \n",
       "2                      1482.0  \n",
       "3                       957.0  \n",
       "4                       279.5  \n",
       "...                       ...  \n",
       "4201                   1482.5  \n",
       "4202                     53.0  \n",
       "4203                     80.0  \n",
       "4204                    756.0  \n",
       "4205                   1073.0  \n",
       "\n",
       "[4206 rows x 3 columns]"
      ]
     },
     "execution_count": 50,
     "metadata": {},
     "output_type": "execute_result"
    }
   ],
   "source": [
    "users_profile = (\n",
    "    users_profile.groupby('user_id')\n",
    "    .agg({'event_count':'median','session_duration':'median'})\n",
    "    .reset_index()\n",
    ")\n",
    "users_profile.columns = ['user_id','median_events_count','median_session_duration']\n",
    "users_profile"
   ]
  },
  {
   "cell_type": "markdown",
   "metadata": {},
   "source": [
    "Таким образом, мы собрали важную информацию о пользовательской аквтивности в приложении:\n",
    "\n",
    "* медианное количество совершаемых действий за одну сессию\n",
    "* медианная длительность сессии\n",
    "\n",
    "Данные метрики достаточно подробно характеризуют поведение пользователя в приложении, на основе них будет проведена сегментация."
   ]
  },
  {
   "cell_type": "markdown",
   "metadata": {},
   "source": [
    "<a id=\"step_4\"></a> \n",
    "## Сегментация пользователей на основе действий"
   ]
  },
  {
   "cell_type": "markdown",
   "metadata": {},
   "source": [
    "<a id=\"step_4.1\"></a> \n",
    "### Кластеризация пользователей на основании алгоритма K-Means по данным из пользовательских профилей"
   ]
  },
  {
   "cell_type": "markdown",
   "metadata": {},
   "source": [
    "При использовании методов кластеризации необходима стандартизация данных. Стандартизируем данные пользовательских профилей."
   ]
  },
  {
   "cell_type": "code",
   "execution_count": 51,
   "metadata": {},
   "outputs": [],
   "source": [
    "scaler = StandardScaler() \n",
    "X_sc = scaler.fit_transform(users_profile.drop(columns = ['user_id']))"
   ]
  },
  {
   "cell_type": "markdown",
   "metadata": {},
   "source": [
    "Построение дендрограммы"
   ]
  },
  {
   "cell_type": "code",
   "execution_count": 446,
   "metadata": {},
   "outputs": [
    {
     "data": {
      "image/png": "[encoded data removed]",
      "text/plain": [
       "<Figure size 1080x720 with 1 Axes>"
      ]
     },
     "metadata": {
      "needs_background": "light"
     },
     "output_type": "display_data"
    }
   ],
   "source": [
    "linked = linkage(X_sc, method = 'ward') \n",
    "plt.figure(figsize=(15, 10))  \n",
    "dendrogram(linked, orientation='top')\n",
    "plt.title('Иерархическая кластеризация пользователей приложения \"Ненужные вещи\"')\n",
    "plt.show() "
   ]
  },
  {
   "cell_type": "markdown",
   "metadata": {},
   "source": [
    "Хоть график иерархической кластеризации пользователей выделил только 2 различных цвета кластеров, в левой части заметны два больших ответвления. Вследствии чего, можно предположить, что следует выделить три кластера пользователей."
   ]
  },
  {
   "cell_type": "code",
   "execution_count": 52,
   "metadata": {},
   "outputs": [
    {
     "data": {
      "text/html": [
       "<div>\n",
       "<style scoped>\n",
       "    .dataframe tbody tr th:only-of-type {\n",
       "        vertical-align: middle;\n",
       "    }\n",
       "\n",
       "    .dataframe tbody tr th {\n",
       "        vertical-align: top;\n",
       "    }\n",
       "\n",
       "    .dataframe thead th {\n",
       "        text-align: right;\n",
       "    }\n",
       "</style>\n",
       "<table border=\"1\" class=\"dataframe\">\n",
       "  <thead>\n",
       "    <tr style=\"text-align: right;\">\n",
       "      <th></th>\n",
       "      <th>user_id</th>\n",
       "      <th>median_events_count</th>\n",
       "      <th>median_session_duration</th>\n",
       "      <th>cluster_km</th>\n",
       "    </tr>\n",
       "  </thead>\n",
       "  <tbody>\n",
       "    <tr>\n",
       "      <th>0</th>\n",
       "      <td>0001b1d5-b74a-4cbf-aeb0-7df5947bf349</td>\n",
       "      <td>8.5</td>\n",
       "      <td>677.0</td>\n",
       "      <td>1</td>\n",
       "    </tr>\n",
       "    <tr>\n",
       "      <th>1</th>\n",
       "      <td>00157779-810c-4498-9e05-a1e9e3cedf93</td>\n",
       "      <td>14.0</td>\n",
       "      <td>2168.0</td>\n",
       "      <td>0</td>\n",
       "    </tr>\n",
       "    <tr>\n",
       "      <th>2</th>\n",
       "      <td>00463033-5717-4bf1-91b4-09183923b9df</td>\n",
       "      <td>10.0</td>\n",
       "      <td>1482.0</td>\n",
       "      <td>0</td>\n",
       "    </tr>\n",
       "    <tr>\n",
       "      <th>3</th>\n",
       "      <td>004690c3-5a84-4bb7-a8af-e0c8f8fca64e</td>\n",
       "      <td>4.5</td>\n",
       "      <td>957.0</td>\n",
       "      <td>1</td>\n",
       "    </tr>\n",
       "    <tr>\n",
       "      <th>4</th>\n",
       "      <td>00551e79-152e-4441-9cf7-565d7eb04090</td>\n",
       "      <td>3.5</td>\n",
       "      <td>279.5</td>\n",
       "      <td>1</td>\n",
       "    </tr>\n",
       "    <tr>\n",
       "      <th>...</th>\n",
       "      <td>...</td>\n",
       "      <td>...</td>\n",
       "      <td>...</td>\n",
       "      <td>...</td>\n",
       "    </tr>\n",
       "    <tr>\n",
       "      <th>4201</th>\n",
       "      <td>ffab8d8a-30bb-424a-a3ab-0b63ebbf7b07</td>\n",
       "      <td>8.5</td>\n",
       "      <td>1482.5</td>\n",
       "      <td>0</td>\n",
       "    </tr>\n",
       "    <tr>\n",
       "      <th>4202</th>\n",
       "      <td>ffc01466-fdb1-4460-ae94-e800f52eb136</td>\n",
       "      <td>7.0</td>\n",
       "      <td>53.0</td>\n",
       "      <td>1</td>\n",
       "    </tr>\n",
       "    <tr>\n",
       "      <th>4203</th>\n",
       "      <td>ffcf50d9-293c-4254-8243-4890b030b238</td>\n",
       "      <td>2.0</td>\n",
       "      <td>80.0</td>\n",
       "      <td>1</td>\n",
       "    </tr>\n",
       "    <tr>\n",
       "      <th>4204</th>\n",
       "      <td>ffe68f10-e48e-470e-be9b-eeb93128ff1a</td>\n",
       "      <td>3.0</td>\n",
       "      <td>756.0</td>\n",
       "      <td>1</td>\n",
       "    </tr>\n",
       "    <tr>\n",
       "      <th>4205</th>\n",
       "      <td>fffb9e79-b927-4dbb-9b48-7fd09b23a62b</td>\n",
       "      <td>7.0</td>\n",
       "      <td>1073.0</td>\n",
       "      <td>1</td>\n",
       "    </tr>\n",
       "  </tbody>\n",
       "</table>\n",
       "<p>4206 rows × 4 columns</p>\n",
       "</div>"
      ],
      "text/plain": [
       "                                   user_id  median_events_count  \\\n",
       "0     0001b1d5-b74a-4cbf-aeb0-7df5947bf349                  8.5   \n",
       "1     00157779-810c-4498-9e05-a1e9e3cedf93                 14.0   \n",
       "2     00463033-5717-4bf1-91b4-09183923b9df                 10.0   \n",
       "3     004690c3-5a84-4bb7-a8af-e0c8f8fca64e                  4.5   \n",
       "4     00551e79-152e-4441-9cf7-565d7eb04090                  3.5   \n",
       "...                                    ...                  ...   \n",
       "4201  ffab8d8a-30bb-424a-a3ab-0b63ebbf7b07                  8.5   \n",
       "4202  ffc01466-fdb1-4460-ae94-e800f52eb136                  7.0   \n",
       "4203  ffcf50d9-293c-4254-8243-4890b030b238                  2.0   \n",
       "4204  ffe68f10-e48e-470e-be9b-eeb93128ff1a                  3.0   \n",
       "4205  fffb9e79-b927-4dbb-9b48-7fd09b23a62b                  7.0   \n",
       "\n",
       "      median_session_duration  cluster_km  \n",
       "0                       677.0           1  \n",
       "1                      2168.0           0  \n",
       "2                      1482.0           0  \n",
       "3                       957.0           1  \n",
       "4                       279.5           1  \n",
       "...                       ...         ...  \n",
       "4201                   1482.5           0  \n",
       "4202                     53.0           1  \n",
       "4203                     80.0           1  \n",
       "4204                    756.0           1  \n",
       "4205                   1073.0           1  \n",
       "\n",
       "[4206 rows x 4 columns]"
      ]
     },
     "execution_count": 52,
     "metadata": {},
     "output_type": "execute_result"
    }
   ],
   "source": [
    "# задаём модель k_means с числом кластеров 3\n",
    "km = KMeans(n_clusters=3, random_state=0)\n",
    "\n",
    "# прогнозируем кластеры для наблюдений\n",
    "labels = km.fit_predict(X_sc)\n",
    "\n",
    "# сохраняем метки кластера в поле датасета\n",
    "users_profile['cluster_km'] = labels\n",
    "\n",
    "users_profile"
   ]
  },
  {
   "cell_type": "markdown",
   "metadata": {},
   "source": [
    "<a id=\"step_4.2\"></a> \n",
    "### Построение графиков распределения признаков для кластеров и характеристика для каждого кластера"
   ]
  },
  {
   "cell_type": "markdown",
   "metadata": {},
   "source": [
    "Выведем статистику по средним значениям признаков по кластеру"
   ]
  },
  {
   "cell_type": "code",
   "execution_count": 53,
   "metadata": {},
   "outputs": [
    {
     "data": {
      "text/html": [
       "<div>\n",
       "<style scoped>\n",
       "    .dataframe tbody tr th:only-of-type {\n",
       "        vertical-align: middle;\n",
       "    }\n",
       "\n",
       "    .dataframe tbody tr th {\n",
       "        vertical-align: top;\n",
       "    }\n",
       "\n",
       "    .dataframe thead th {\n",
       "        text-align: right;\n",
       "    }\n",
       "</style>\n",
       "<table border=\"1\" class=\"dataframe\">\n",
       "  <thead>\n",
       "    <tr style=\"text-align: right;\">\n",
       "      <th></th>\n",
       "      <th>median_events_count</th>\n",
       "      <th>median_session_duration</th>\n",
       "    </tr>\n",
       "    <tr>\n",
       "      <th>cluster_km</th>\n",
       "      <th></th>\n",
       "      <th></th>\n",
       "    </tr>\n",
       "  </thead>\n",
       "  <tbody>\n",
       "    <tr>\n",
       "      <th>0</th>\n",
       "      <td>13.814010</td>\n",
       "      <td>1773.207246</td>\n",
       "    </tr>\n",
       "    <tr>\n",
       "      <th>1</th>\n",
       "      <td>5.419018</td>\n",
       "      <td>474.359442</td>\n",
       "    </tr>\n",
       "    <tr>\n",
       "      <th>2</th>\n",
       "      <td>38.996835</td>\n",
       "      <td>3938.208861</td>\n",
       "    </tr>\n",
       "  </tbody>\n",
       "</table>\n",
       "</div>"
      ],
      "text/plain": [
       "            median_events_count  median_session_duration\n",
       "cluster_km                                              \n",
       "0                     13.814010              1773.207246\n",
       "1                      5.419018               474.359442\n",
       "2                     38.996835              3938.208861"
      ]
     },
     "execution_count": 53,
     "metadata": {},
     "output_type": "execute_result"
    }
   ],
   "source": [
    "users_profile.groupby('cluster_km').mean()"
   ]
  },
  {
   "cell_type": "code",
   "execution_count": 54,
   "metadata": {
    "scrolled": false
   },
   "outputs": [
    {
     "data": {
      "image/png": "[encoded data removed]",
      "text/plain": [
       "<Figure size 432x432 with 1 Axes>"
      ]
     },
     "metadata": {
      "needs_background": "light"
     },
     "output_type": "display_data"
    },
    {
     "data": {
      "image/png": "[encoded data removed]",
      "text/plain": [
       "<Figure size 432x432 with 1 Axes>"
      ]
     },
     "metadata": {
      "needs_background": "light"
     },
     "output_type": "display_data"
    }
   ],
   "source": [
    "for column in users_profile[['median_events_count','median_session_duration']]:\n",
    "    plt.figure(figsize=(6, 6))\n",
    "    sns.boxplot(x='cluster_km', y=users_profile[column], data=users_profile, palette='Set3')\n",
    "    plt.title(f'Диаграмма размаха признака {column} по каждому кластеру')\n",
    "    plt.show()"
   ]
  },
  {
   "cell_type": "code",
   "execution_count": 55,
   "metadata": {},
   "outputs": [
    {
     "data": {
      "text/html": [
       "<div>\n",
       "<style scoped>\n",
       "    .dataframe tbody tr th:only-of-type {\n",
       "        vertical-align: middle;\n",
       "    }\n",
       "\n",
       "    .dataframe tbody tr th {\n",
       "        vertical-align: top;\n",
       "    }\n",
       "\n",
       "    .dataframe thead th {\n",
       "        text-align: right;\n",
       "    }\n",
       "</style>\n",
       "<table border=\"1\" class=\"dataframe\">\n",
       "  <thead>\n",
       "    <tr style=\"text-align: right;\">\n",
       "      <th></th>\n",
       "      <th>median_events_count</th>\n",
       "      <th>median_session_duration</th>\n",
       "    </tr>\n",
       "  </thead>\n",
       "  <tbody>\n",
       "    <tr>\n",
       "      <th>count</th>\n",
       "      <td>1035.000000</td>\n",
       "      <td>1035.000000</td>\n",
       "    </tr>\n",
       "    <tr>\n",
       "      <th>mean</th>\n",
       "      <td>13.814010</td>\n",
       "      <td>1773.207246</td>\n",
       "    </tr>\n",
       "    <tr>\n",
       "      <th>std</th>\n",
       "      <td>6.064287</td>\n",
       "      <td>714.477390</td>\n",
       "    </tr>\n",
       "    <tr>\n",
       "      <th>min</th>\n",
       "      <td>3.000000</td>\n",
       "      <td>132.000000</td>\n",
       "    </tr>\n",
       "    <tr>\n",
       "      <th>25%</th>\n",
       "      <td>9.000000</td>\n",
       "      <td>1285.500000</td>\n",
       "    </tr>\n",
       "    <tr>\n",
       "      <th>50%</th>\n",
       "      <td>13.000000</td>\n",
       "      <td>1665.000000</td>\n",
       "    </tr>\n",
       "    <tr>\n",
       "      <th>75%</th>\n",
       "      <td>17.000000</td>\n",
       "      <td>2138.500000</td>\n",
       "    </tr>\n",
       "    <tr>\n",
       "      <th>max</th>\n",
       "      <td>34.000000</td>\n",
       "      <td>5170.000000</td>\n",
       "    </tr>\n",
       "  </tbody>\n",
       "</table>\n",
       "</div>"
      ],
      "text/plain": [
       "       median_events_count  median_session_duration\n",
       "count          1035.000000              1035.000000\n",
       "mean             13.814010              1773.207246\n",
       "std               6.064287               714.477390\n",
       "min               3.000000               132.000000\n",
       "25%               9.000000              1285.500000\n",
       "50%              13.000000              1665.000000\n",
       "75%              17.000000              2138.500000\n",
       "max              34.000000              5170.000000"
      ]
     },
     "execution_count": 55,
     "metadata": {},
     "output_type": "execute_result"
    }
   ],
   "source": [
    "users_profile.query('cluster_km == 0')[['median_events_count','median_session_duration']].describe()"
   ]
  },
  {
   "cell_type": "code",
   "execution_count": 56,
   "metadata": {},
   "outputs": [
    {
     "data": {
      "text/html": [
       "<div>\n",
       "<style scoped>\n",
       "    .dataframe tbody tr th:only-of-type {\n",
       "        vertical-align: middle;\n",
       "    }\n",
       "\n",
       "    .dataframe tbody tr th {\n",
       "        vertical-align: top;\n",
       "    }\n",
       "\n",
       "    .dataframe thead th {\n",
       "        text-align: right;\n",
       "    }\n",
       "</style>\n",
       "<table border=\"1\" class=\"dataframe\">\n",
       "  <thead>\n",
       "    <tr style=\"text-align: right;\">\n",
       "      <th></th>\n",
       "      <th>median_events_count</th>\n",
       "      <th>median_session_duration</th>\n",
       "    </tr>\n",
       "  </thead>\n",
       "  <tbody>\n",
       "    <tr>\n",
       "      <th>count</th>\n",
       "      <td>3013.000000</td>\n",
       "      <td>3013.000000</td>\n",
       "    </tr>\n",
       "    <tr>\n",
       "      <th>mean</th>\n",
       "      <td>5.419018</td>\n",
       "      <td>474.359442</td>\n",
       "    </tr>\n",
       "    <tr>\n",
       "      <th>std</th>\n",
       "      <td>2.646237</td>\n",
       "      <td>341.791867</td>\n",
       "    </tr>\n",
       "    <tr>\n",
       "      <th>min</th>\n",
       "      <td>2.000000</td>\n",
       "      <td>1.000000</td>\n",
       "    </tr>\n",
       "    <tr>\n",
       "      <th>25%</th>\n",
       "      <td>3.500000</td>\n",
       "      <td>194.000000</td>\n",
       "    </tr>\n",
       "    <tr>\n",
       "      <th>50%</th>\n",
       "      <td>5.000000</td>\n",
       "      <td>407.000000</td>\n",
       "    </tr>\n",
       "    <tr>\n",
       "      <th>75%</th>\n",
       "      <td>7.000000</td>\n",
       "      <td>685.000000</td>\n",
       "    </tr>\n",
       "    <tr>\n",
       "      <th>max</th>\n",
       "      <td>18.000000</td>\n",
       "      <td>1712.000000</td>\n",
       "    </tr>\n",
       "  </tbody>\n",
       "</table>\n",
       "</div>"
      ],
      "text/plain": [
       "       median_events_count  median_session_duration\n",
       "count          3013.000000              3013.000000\n",
       "mean              5.419018               474.359442\n",
       "std               2.646237               341.791867\n",
       "min               2.000000                 1.000000\n",
       "25%               3.500000               194.000000\n",
       "50%               5.000000               407.000000\n",
       "75%               7.000000               685.000000\n",
       "max              18.000000              1712.000000"
      ]
     },
     "execution_count": 56,
     "metadata": {},
     "output_type": "execute_result"
    }
   ],
   "source": [
    "users_profile.query('cluster_km == 1')[['median_events_count','median_session_duration']].describe()"
   ]
  },
  {
   "cell_type": "code",
   "execution_count": 57,
   "metadata": {},
   "outputs": [
    {
     "data": {
      "text/html": [
       "<div>\n",
       "<style scoped>\n",
       "    .dataframe tbody tr th:only-of-type {\n",
       "        vertical-align: middle;\n",
       "    }\n",
       "\n",
       "    .dataframe tbody tr th {\n",
       "        vertical-align: top;\n",
       "    }\n",
       "\n",
       "    .dataframe thead th {\n",
       "        text-align: right;\n",
       "    }\n",
       "</style>\n",
       "<table border=\"1\" class=\"dataframe\">\n",
       "  <thead>\n",
       "    <tr style=\"text-align: right;\">\n",
       "      <th></th>\n",
       "      <th>median_events_count</th>\n",
       "      <th>median_session_duration</th>\n",
       "    </tr>\n",
       "  </thead>\n",
       "  <tbody>\n",
       "    <tr>\n",
       "      <th>count</th>\n",
       "      <td>158.000000</td>\n",
       "      <td>158.000000</td>\n",
       "    </tr>\n",
       "    <tr>\n",
       "      <th>mean</th>\n",
       "      <td>38.996835</td>\n",
       "      <td>3938.208861</td>\n",
       "    </tr>\n",
       "    <tr>\n",
       "      <th>std</th>\n",
       "      <td>16.206323</td>\n",
       "      <td>1865.280208</td>\n",
       "    </tr>\n",
       "    <tr>\n",
       "      <th>min</th>\n",
       "      <td>15.000000</td>\n",
       "      <td>438.000000</td>\n",
       "    </tr>\n",
       "    <tr>\n",
       "      <th>25%</th>\n",
       "      <td>28.500000</td>\n",
       "      <td>2717.750000</td>\n",
       "    </tr>\n",
       "    <tr>\n",
       "      <th>50%</th>\n",
       "      <td>35.000000</td>\n",
       "      <td>3547.500000</td>\n",
       "    </tr>\n",
       "    <tr>\n",
       "      <th>75%</th>\n",
       "      <td>43.875000</td>\n",
       "      <td>4472.000000</td>\n",
       "    </tr>\n",
       "    <tr>\n",
       "      <th>max</th>\n",
       "      <td>104.000000</td>\n",
       "      <td>13050.000000</td>\n",
       "    </tr>\n",
       "  </tbody>\n",
       "</table>\n",
       "</div>"
      ],
      "text/plain": [
       "       median_events_count  median_session_duration\n",
       "count           158.000000               158.000000\n",
       "mean             38.996835              3938.208861\n",
       "std              16.206323              1865.280208\n",
       "min              15.000000               438.000000\n",
       "25%              28.500000              2717.750000\n",
       "50%              35.000000              3547.500000\n",
       "75%              43.875000              4472.000000\n",
       "max             104.000000             13050.000000"
      ]
     },
     "execution_count": 57,
     "metadata": {},
     "output_type": "execute_result"
    }
   ],
   "source": [
    "users_profile.query('cluster_km == 2')[['median_events_count','median_session_duration']].describe()"
   ]
  },
  {
   "cell_type": "markdown",
   "metadata": {},
   "source": [
    "Мы сегментировали пользователей исходя из их пользовательской активности в приложении.\n",
    "\n",
    "Кластер под номером 0: Средне активные пользователи. Распределение нормальных значений медианного количества событий за одну пользовательскую сессию находится в диапазоне от 9 до 17, с мединов в 13 событий, медиана продолжительности сессии для кластера около 30 минут (1665 секунд).\n",
    "\n",
    "Кластер под номером 1: Мало активные пользователи. Распределение нормальных значений медианного количества событий за одну пользовательскую сессию находится в диапазоне  от 3 до 7 событий за одну пользовательскую сессию, медиана 5 событий. Медианная продолжительность пользовательской сессии для кластера около 7 минут (407 секунд)\n",
    "\n",
    "Кластер под номером 2: Высоко активные пользователи. Совершают много действий и проводят длительное время в приложении. Распределение нормальных значений медианного количества событий за одну пользовательскую сессию находится в диапазоне от 29 до 44, медина 35 событий, однако на диаграмме размаха видны выбросы, максимальный из которых в 104 события за одну пользовательскую сесиию. Медианна продолжительности пользовательской сессии для кластера час (3547 секунд), однако и для данной метрики на диаграмме размаха существуют выбросы, максимальный из которых длиной в 3.5 часа, находящийся в отдалении от прочих выбросов."
   ]
  },
  {
   "cell_type": "markdown",
   "metadata": {},
   "source": [
    "<a id=\"step_5\"></a> \n",
    "## Расчет и сравнение метрик пользователей из различных кластеров"
   ]
  },
  {
   "cell_type": "markdown",
   "metadata": {},
   "source": [
    "<a id=\"step_5.1\"></a> \n",
    "### Расчет и сравнение retention rate"
   ]
  },
  {
   "cell_type": "markdown",
   "metadata": {},
   "source": [
    "Присоединяем к датасету с исходными данными информацию с указанием кластера пользователя."
   ]
  },
  {
   "cell_type": "code",
   "execution_count": 58,
   "metadata": {},
   "outputs": [
    {
     "data": {
      "text/html": [
       "<div>\n",
       "<style scoped>\n",
       "    .dataframe tbody tr th:only-of-type {\n",
       "        vertical-align: middle;\n",
       "    }\n",
       "\n",
       "    .dataframe tbody tr th {\n",
       "        vertical-align: top;\n",
       "    }\n",
       "\n",
       "    .dataframe thead th {\n",
       "        text-align: right;\n",
       "    }\n",
       "</style>\n",
       "<table border=\"1\" class=\"dataframe\">\n",
       "  <thead>\n",
       "    <tr style=\"text-align: right;\">\n",
       "      <th></th>\n",
       "      <th>user_id</th>\n",
       "      <th>cluster_km</th>\n",
       "      <th>event_time</th>\n",
       "      <th>event_name</th>\n",
       "      <th>event_date</th>\n",
       "      <th>source</th>\n",
       "      <th>diff</th>\n",
       "      <th>session_id</th>\n",
       "      <th>event_duration</th>\n",
       "    </tr>\n",
       "  </thead>\n",
       "  <tbody>\n",
       "    <tr>\n",
       "      <th>0</th>\n",
       "      <td>0001b1d5-b74a-4cbf-aeb0-7df5947bf349</td>\n",
       "      <td>1</td>\n",
       "      <td>2019-10-07 13:39:45</td>\n",
       "      <td>tips_show</td>\n",
       "      <td>2019-10-07</td>\n",
       "      <td>other</td>\n",
       "      <td>NaT</td>\n",
       "      <td>0</td>\n",
       "      <td>0 days 00:00:46</td>\n",
       "    </tr>\n",
       "    <tr>\n",
       "      <th>1</th>\n",
       "      <td>0001b1d5-b74a-4cbf-aeb0-7df5947bf349</td>\n",
       "      <td>1</td>\n",
       "      <td>2019-10-07 13:40:31</td>\n",
       "      <td>tips_show</td>\n",
       "      <td>2019-10-07</td>\n",
       "      <td>other</td>\n",
       "      <td>0 days 00:00:46</td>\n",
       "      <td>0</td>\n",
       "      <td>0 days 00:00:34</td>\n",
       "    </tr>\n",
       "    <tr>\n",
       "      <th>2</th>\n",
       "      <td>0001b1d5-b74a-4cbf-aeb0-7df5947bf349</td>\n",
       "      <td>1</td>\n",
       "      <td>2019-10-07 13:41:05</td>\n",
       "      <td>tips_show</td>\n",
       "      <td>2019-10-07</td>\n",
       "      <td>other</td>\n",
       "      <td>0 days 00:00:34</td>\n",
       "      <td>0</td>\n",
       "      <td>0 days 00:02:15</td>\n",
       "    </tr>\n",
       "    <tr>\n",
       "      <th>3</th>\n",
       "      <td>0001b1d5-b74a-4cbf-aeb0-7df5947bf349</td>\n",
       "      <td>1</td>\n",
       "      <td>2019-10-07 13:43:20</td>\n",
       "      <td>tips_show</td>\n",
       "      <td>2019-10-07</td>\n",
       "      <td>other</td>\n",
       "      <td>0 days 00:02:15</td>\n",
       "      <td>0</td>\n",
       "      <td>0 days 00:02:10</td>\n",
       "    </tr>\n",
       "    <tr>\n",
       "      <th>4</th>\n",
       "      <td>0001b1d5-b74a-4cbf-aeb0-7df5947bf349</td>\n",
       "      <td>1</td>\n",
       "      <td>2019-10-07 13:45:30</td>\n",
       "      <td>tips_show</td>\n",
       "      <td>2019-10-07</td>\n",
       "      <td>other</td>\n",
       "      <td>0 days 00:02:10</td>\n",
       "      <td>0</td>\n",
       "      <td>0 days 00:00:13</td>\n",
       "    </tr>\n",
       "  </tbody>\n",
       "</table>\n",
       "</div>"
      ],
      "text/plain": [
       "                                user_id  cluster_km          event_time  \\\n",
       "0  0001b1d5-b74a-4cbf-aeb0-7df5947bf349           1 2019-10-07 13:39:45   \n",
       "1  0001b1d5-b74a-4cbf-aeb0-7df5947bf349           1 2019-10-07 13:40:31   \n",
       "2  0001b1d5-b74a-4cbf-aeb0-7df5947bf349           1 2019-10-07 13:41:05   \n",
       "3  0001b1d5-b74a-4cbf-aeb0-7df5947bf349           1 2019-10-07 13:43:20   \n",
       "4  0001b1d5-b74a-4cbf-aeb0-7df5947bf349           1 2019-10-07 13:45:30   \n",
       "\n",
       "  event_name event_date source            diff  session_id  event_duration  \n",
       "0  tips_show 2019-10-07  other             NaT           0 0 days 00:00:46  \n",
       "1  tips_show 2019-10-07  other 0 days 00:00:46           0 0 days 00:00:34  \n",
       "2  tips_show 2019-10-07  other 0 days 00:00:34           0 0 days 00:02:15  \n",
       "3  tips_show 2019-10-07  other 0 days 00:02:15           0 0 days 00:02:10  \n",
       "4  tips_show 2019-10-07  other 0 days 00:02:10           0 0 days 00:00:13  "
      ]
     },
     "execution_count": 58,
     "metadata": {},
     "output_type": "execute_result"
    }
   ],
   "source": [
    "df_result = pd.merge(users_profile[['user_id','cluster_km']],df_mobile,how='left',on='user_id')\n",
    "df_result.head()"
   ]
  },
  {
   "cell_type": "markdown",
   "metadata": {},
   "source": [
    "Задаем функцию для создания пользовательских профилей."
   ]
  },
  {
   "cell_type": "code",
   "execution_count": 59,
   "metadata": {},
   "outputs": [],
   "source": [
    "def get_profiles(sessions):\n",
    "\n",
    "    profiles = (\n",
    "        df_result.sort_values(by=['user_id', 'event_time'])\n",
    "        .groupby('user_id')\n",
    "        .agg({'event_time': 'first'})\n",
    "        .rename(columns={'event_time': 'first_ts'})\n",
    "        .reset_index()  \n",
    "    )\n",
    "\n",
    "    profiles['dt'] = profiles['first_ts'].dt.date\n",
    "    profiles['month'] = profiles['first_ts'].astype('datetime64[M]')\n",
    "\n",
    "    return profiles"
   ]
  },
  {
   "cell_type": "code",
   "execution_count": 60,
   "metadata": {},
   "outputs": [
    {
     "data": {
      "text/html": [
       "<div>\n",
       "<style scoped>\n",
       "    .dataframe tbody tr th:only-of-type {\n",
       "        vertical-align: middle;\n",
       "    }\n",
       "\n",
       "    .dataframe tbody tr th {\n",
       "        vertical-align: top;\n",
       "    }\n",
       "\n",
       "    .dataframe thead th {\n",
       "        text-align: right;\n",
       "    }\n",
       "</style>\n",
       "<table border=\"1\" class=\"dataframe\">\n",
       "  <thead>\n",
       "    <tr style=\"text-align: right;\">\n",
       "      <th></th>\n",
       "      <th>user_id</th>\n",
       "      <th>first_ts</th>\n",
       "      <th>dt</th>\n",
       "      <th>month</th>\n",
       "    </tr>\n",
       "  </thead>\n",
       "  <tbody>\n",
       "    <tr>\n",
       "      <th>0</th>\n",
       "      <td>0001b1d5-b74a-4cbf-aeb0-7df5947bf349</td>\n",
       "      <td>2019-10-07 13:39:45</td>\n",
       "      <td>2019-10-07</td>\n",
       "      <td>2019-10-01</td>\n",
       "    </tr>\n",
       "    <tr>\n",
       "      <th>1</th>\n",
       "      <td>00157779-810c-4498-9e05-a1e9e3cedf93</td>\n",
       "      <td>2019-10-19 21:34:33</td>\n",
       "      <td>2019-10-19</td>\n",
       "      <td>2019-10-01</td>\n",
       "    </tr>\n",
       "    <tr>\n",
       "      <th>2</th>\n",
       "      <td>00463033-5717-4bf1-91b4-09183923b9df</td>\n",
       "      <td>2019-11-01 13:54:35</td>\n",
       "      <td>2019-11-01</td>\n",
       "      <td>2019-11-01</td>\n",
       "    </tr>\n",
       "    <tr>\n",
       "      <th>3</th>\n",
       "      <td>004690c3-5a84-4bb7-a8af-e0c8f8fca64e</td>\n",
       "      <td>2019-10-18 22:14:05</td>\n",
       "      <td>2019-10-18</td>\n",
       "      <td>2019-10-01</td>\n",
       "    </tr>\n",
       "    <tr>\n",
       "      <th>4</th>\n",
       "      <td>00551e79-152e-4441-9cf7-565d7eb04090</td>\n",
       "      <td>2019-10-25 16:44:41</td>\n",
       "      <td>2019-10-25</td>\n",
       "      <td>2019-10-01</td>\n",
       "    </tr>\n",
       "  </tbody>\n",
       "</table>\n",
       "</div>"
      ],
      "text/plain": [
       "                                user_id            first_ts          dt  \\\n",
       "0  0001b1d5-b74a-4cbf-aeb0-7df5947bf349 2019-10-07 13:39:45  2019-10-07   \n",
       "1  00157779-810c-4498-9e05-a1e9e3cedf93 2019-10-19 21:34:33  2019-10-19   \n",
       "2  00463033-5717-4bf1-91b4-09183923b9df 2019-11-01 13:54:35  2019-11-01   \n",
       "3  004690c3-5a84-4bb7-a8af-e0c8f8fca64e 2019-10-18 22:14:05  2019-10-18   \n",
       "4  00551e79-152e-4441-9cf7-565d7eb04090 2019-10-25 16:44:41  2019-10-25   \n",
       "\n",
       "       month  \n",
       "0 2019-10-01  \n",
       "1 2019-10-01  \n",
       "2 2019-11-01  \n",
       "3 2019-10-01  \n",
       "4 2019-10-01  "
      ]
     },
     "execution_count": 60,
     "metadata": {},
     "output_type": "execute_result"
    }
   ],
   "source": [
    "profiles = get_profiles(df_result)\n",
    "profiles.head()"
   ]
  },
  {
   "cell_type": "markdown",
   "metadata": {},
   "source": [
    "В качестве момента анализа выбирем дату за пределом анализируемого периода."
   ]
  },
  {
   "cell_type": "code",
   "execution_count": 61,
   "metadata": {},
   "outputs": [
    {
     "data": {
      "text/plain": [
       "datetime.date(2019, 11, 3)"
      ]
     },
     "execution_count": 61,
     "metadata": {},
     "output_type": "execute_result"
    }
   ],
   "source": [
    "profiles['dt'].max()"
   ]
  },
  {
   "cell_type": "markdown",
   "metadata": {},
   "source": [
    "Задаем функцию для расчета retention rate."
   ]
  },
  {
   "cell_type": "code",
   "execution_count": 62,
   "metadata": {},
   "outputs": [],
   "source": [
    "def get_retention(\n",
    "    profiles,\n",
    "    sessions,\n",
    "    observation_date,\n",
    "    horizon_days,\n",
    "    dimensions=[],  # параметр для группировки таблицы удержания\n",
    "    ignore_horizon=False,\n",
    "):\n",
    "\n",
    "    \n",
    "    dimensions = dimensions\n",
    "\n",
    "    # исключаем пользователей, не «доживших» до горизонта анализа\n",
    "    last_suitable_acquisition_date = observation_date\n",
    "    if not ignore_horizon:\n",
    "        last_suitable_acquisition_date = observation_date - timedelta(\n",
    "            days=horizon_days - 1\n",
    "        )\n",
    "    result_raw = profiles.query('dt <= @last_suitable_acquisition_date')\n",
    "\n",
    "    # собираем «сырые» данные для расчёта удержания\n",
    "    result_raw = result_raw.merge(\n",
    "        sessions, on='user_id', how='left'\n",
    "    )\n",
    "    result_raw['lifetime'] = (\n",
    "        result_raw['event_time'] - result_raw['first_ts']\n",
    "    ).dt.days\n",
    "\n",
    "    # рассчитываем удержание\n",
    "    result_grouped = result_raw.pivot_table(\n",
    "        index=dimensions,\n",
    "        columns='lifetime',\n",
    "        values='user_id',\n",
    "        aggfunc='nunique',\n",
    "    )\n",
    "    cohort_sizes = (\n",
    "        result_raw.groupby(dimensions)\n",
    "        .agg({'user_id': 'nunique'})\n",
    "        .rename(columns={'user_id': 'cohort_size'})\n",
    "    )\n",
    "    result_grouped = cohort_sizes.merge(\n",
    "        result_grouped, on=dimensions, how='left'\n",
    "    ).fillna(0)\n",
    "    result_grouped = result_grouped.div(result_grouped['cohort_size'], axis=0)\n",
    "\n",
    "    # исключаем все лайфтаймы, превышающие горизонт анализа\n",
    "    result_grouped = result_grouped[\n",
    "        ['cohort_size'] + list(range(horizon_days))\n",
    "    ]\n",
    "\n",
    "    # восстанавливаем столбец с размерами когорт\n",
    "    result_grouped['cohort_size'] = cohort_sizes\n",
    "\n",
    "    # возвращаем таблицу удержания и сырые данные\n",
    "    return result_raw, result_grouped"
   ]
  },
  {
   "cell_type": "code",
   "execution_count": 63,
   "metadata": {},
   "outputs": [
    {
     "data": {
      "text/html": [
       "<div>\n",
       "<style scoped>\n",
       "    .dataframe tbody tr th:only-of-type {\n",
       "        vertical-align: middle;\n",
       "    }\n",
       "\n",
       "    .dataframe tbody tr th {\n",
       "        vertical-align: top;\n",
       "    }\n",
       "\n",
       "    .dataframe thead th {\n",
       "        text-align: right;\n",
       "    }\n",
       "</style>\n",
       "<table border=\"1\" class=\"dataframe\">\n",
       "  <thead>\n",
       "    <tr style=\"text-align: right;\">\n",
       "      <th></th>\n",
       "      <th>1</th>\n",
       "      <th>2</th>\n",
       "      <th>3</th>\n",
       "      <th>4</th>\n",
       "      <th>5</th>\n",
       "      <th>6</th>\n",
       "    </tr>\n",
       "    <tr>\n",
       "      <th>cluster_km</th>\n",
       "      <th></th>\n",
       "      <th></th>\n",
       "      <th></th>\n",
       "      <th></th>\n",
       "      <th></th>\n",
       "      <th></th>\n",
       "    </tr>\n",
       "  </thead>\n",
       "  <tbody>\n",
       "    <tr>\n",
       "      <th>0</th>\n",
       "      <td>0.081851</td>\n",
       "      <td>0.060498</td>\n",
       "      <td>0.043891</td>\n",
       "      <td>0.039146</td>\n",
       "      <td>0.033215</td>\n",
       "      <td>0.036773</td>\n",
       "    </tr>\n",
       "    <tr>\n",
       "      <th>1</th>\n",
       "      <td>0.123897</td>\n",
       "      <td>0.107057</td>\n",
       "      <td>0.087811</td>\n",
       "      <td>0.074579</td>\n",
       "      <td>0.074178</td>\n",
       "      <td>0.072173</td>\n",
       "    </tr>\n",
       "    <tr>\n",
       "      <th>2</th>\n",
       "      <td>0.059701</td>\n",
       "      <td>0.052239</td>\n",
       "      <td>0.022388</td>\n",
       "      <td>0.029851</td>\n",
       "      <td>0.029851</td>\n",
       "      <td>0.022388</td>\n",
       "    </tr>\n",
       "  </tbody>\n",
       "</table>\n",
       "</div>"
      ],
      "text/plain": [
       "                   1         2         3         4         5         6\n",
       "cluster_km                                                            \n",
       "0           0.081851  0.060498  0.043891  0.039146  0.033215  0.036773\n",
       "1           0.123897  0.107057  0.087811  0.074579  0.074178  0.072173\n",
       "2           0.059701  0.052239  0.022388  0.029851  0.029851  0.022388"
      ]
     },
     "execution_count": 63,
     "metadata": {},
     "output_type": "execute_result"
    }
   ],
   "source": [
    "# расчёт удержания с разбивкой по совершению покупок и устройствам\n",
    "retention_raw, retention = get_retention(\n",
    "    profiles, df_result, datetime(2019, 11,3).date(), 7, dimensions=['cluster_km']\n",
    ")\n",
    "# исключаем размеры когорт и удержание первого дня\n",
    "report = retention.drop(columns=['cohort_size', 0])\n",
    "\n",
    "report"
   ]
  },
  {
   "cell_type": "markdown",
   "metadata": {},
   "source": [
    "Построим хитмэп удержания с разбивкой по кластерам."
   ]
  },
  {
   "cell_type": "code",
   "execution_count": 64,
   "metadata": {},
   "outputs": [
    {
     "data": {
      "image/png": "[encoded data removed]",
      "text/plain": [
       "<Figure size 1080x432 with 2 Axes>"
      ]
     },
     "metadata": {
      "needs_background": "light"
     },
     "output_type": "display_data"
    }
   ],
   "source": [
    "plt.figure(figsize = (15, 6))  \n",
    "sns.heatmap(report, annot = True,  fmt = '.2%')\n",
    "plt.title('Тепловая карта удержания')  \n",
    "plt.show()"
   ]
  },
  {
   "cell_type": "code",
   "execution_count": 65,
   "metadata": {},
   "outputs": [
    {
     "data": {
      "text/plain": [
       "<Figure size 720x432 with 0 Axes>"
      ]
     },
     "metadata": {},
     "output_type": "display_data"
    },
    {
     "data": {
      "image/png": "[encoded data removed]",
      "text/plain": [
       "<Figure size 432x288 with 1 Axes>"
      ]
     },
     "metadata": {
      "needs_background": "light"
     },
     "output_type": "display_data"
    }
   ],
   "source": [
    "plt.figure(figsize=(10, 6))\n",
    "report.T.plot(\n",
    "        grid=True,\n",
    "        xticks=list(report.columns.values)\n",
    "    )\n",
    "plt.xlabel('Лайфтайм')\n",
    "plt.title('Кривые удержания с разбивкой по кластерам')\n",
    "plt.show()"
   ]
  },
  {
   "cell_type": "markdown",
   "metadata": {},
   "source": [
    "Пользователи из кластера под номером 1 удерживаются лучше прочих. По светлым пятнам на графике видно, что у данных пользователей лучшее удержание на протяжении всех дней лайфтайма. Удержание на седьмой день составляет 7,22%.\n",
    "\n",
    "Пользователи из кластера 2 имеют наихудшее удержание. По графику изменений хорошо видно, что удержание четвертого дня резко упало, однако на 5 день началось восстановление. Удержание четвертого и шестого дня одинаково и составляет 2,24%.\n",
    "\n",
    "Пользователи из кластера 0 удерживаются лучше,чем из кластера 2. На 2,3,4 день удержание стаблильно резко снижается, однако на 5,6 темпы снижения уменьшаются, удержание седьмого дня лучше, чем удержание шестого - 3,68% и 3,32% соответственно\n",
    "\n",
    "В целом приложение показывает низкие результаты удержания пользователей. Однако, низкие значения удержания не всегда несут негативный характер, возможно, пользователи приложения быстро находят то, что искали в \"Ненужных вещах\". Однозначно определить в норме ли на данный момент удержание пользователей и стоил ли стремиться увеличивать или уменьшать данный показатель, можно будет сказать после анализа всех метрик."
   ]
  },
  {
   "cell_type": "markdown",
   "metadata": {},
   "source": [
    "<a id=\"step_5.2\"></a> \n",
    "### Расчет и сравнение времени, проведенного пользователем в приложении"
   ]
  },
  {
   "cell_type": "code",
   "execution_count": 66,
   "metadata": {},
   "outputs": [
    {
     "data": {
      "text/html": [
       "<div>\n",
       "<style scoped>\n",
       "    .dataframe tbody tr th:only-of-type {\n",
       "        vertical-align: middle;\n",
       "    }\n",
       "\n",
       "    .dataframe tbody tr th {\n",
       "        vertical-align: top;\n",
       "    }\n",
       "\n",
       "    .dataframe thead th {\n",
       "        text-align: right;\n",
       "    }\n",
       "</style>\n",
       "<table border=\"1\" class=\"dataframe\">\n",
       "  <thead>\n",
       "    <tr style=\"text-align: right;\">\n",
       "      <th></th>\n",
       "      <th>user_id</th>\n",
       "      <th>cluster_km</th>\n",
       "      <th>session_id</th>\n",
       "      <th>session_duration</th>\n",
       "    </tr>\n",
       "  </thead>\n",
       "  <tbody>\n",
       "    <tr>\n",
       "      <th>0</th>\n",
       "      <td>0001b1d5-b74a-4cbf-aeb0-7df5947bf349</td>\n",
       "      <td>1</td>\n",
       "      <td>0</td>\n",
       "      <td>596.0</td>\n",
       "    </tr>\n",
       "    <tr>\n",
       "      <th>1</th>\n",
       "      <td>0001b1d5-b74a-4cbf-aeb0-7df5947bf349</td>\n",
       "      <td>1</td>\n",
       "      <td>9</td>\n",
       "      <td>507.0</td>\n",
       "    </tr>\n",
       "    <tr>\n",
       "      <th>2</th>\n",
       "      <td>0001b1d5-b74a-4cbf-aeb0-7df5947bf349</td>\n",
       "      <td>1</td>\n",
       "      <td>13</td>\n",
       "      <td>900.0</td>\n",
       "    </tr>\n",
       "    <tr>\n",
       "      <th>3</th>\n",
       "      <td>0001b1d5-b74a-4cbf-aeb0-7df5947bf349</td>\n",
       "      <td>1</td>\n",
       "      <td>27</td>\n",
       "      <td>758.0</td>\n",
       "    </tr>\n",
       "    <tr>\n",
       "      <th>4</th>\n",
       "      <td>00157779-810c-4498-9e05-a1e9e3cedf93</td>\n",
       "      <td>0</td>\n",
       "      <td>35</td>\n",
       "      <td>1521.0</td>\n",
       "    </tr>\n",
       "    <tr>\n",
       "      <th>...</th>\n",
       "      <td>...</td>\n",
       "      <td>...</td>\n",
       "      <td>...</td>\n",
       "      <td>...</td>\n",
       "    </tr>\n",
       "    <tr>\n",
       "      <th>8218</th>\n",
       "      <td>fffb9e79-b927-4dbb-9b48-7fd09b23a62b</td>\n",
       "      <td>1</td>\n",
       "      <td>74159</td>\n",
       "      <td>22.0</td>\n",
       "    </tr>\n",
       "    <tr>\n",
       "      <th>8219</th>\n",
       "      <td>fffb9e79-b927-4dbb-9b48-7fd09b23a62b</td>\n",
       "      <td>1</td>\n",
       "      <td>74162</td>\n",
       "      <td>974.0</td>\n",
       "    </tr>\n",
       "    <tr>\n",
       "      <th>8220</th>\n",
       "      <td>fffb9e79-b927-4dbb-9b48-7fd09b23a62b</td>\n",
       "      <td>1</td>\n",
       "      <td>74164</td>\n",
       "      <td>297.0</td>\n",
       "    </tr>\n",
       "    <tr>\n",
       "      <th>8221</th>\n",
       "      <td>fffb9e79-b927-4dbb-9b48-7fd09b23a62b</td>\n",
       "      <td>1</td>\n",
       "      <td>74168</td>\n",
       "      <td>949.0</td>\n",
       "    </tr>\n",
       "    <tr>\n",
       "      <th>8222</th>\n",
       "      <td>fffb9e79-b927-4dbb-9b48-7fd09b23a62b</td>\n",
       "      <td>1</td>\n",
       "      <td>74183</td>\n",
       "      <td>1944.0</td>\n",
       "    </tr>\n",
       "  </tbody>\n",
       "</table>\n",
       "<p>8223 rows × 4 columns</p>\n",
       "</div>"
      ],
      "text/plain": [
       "                                   user_id  cluster_km  session_id  \\\n",
       "0     0001b1d5-b74a-4cbf-aeb0-7df5947bf349           1           0   \n",
       "1     0001b1d5-b74a-4cbf-aeb0-7df5947bf349           1           9   \n",
       "2     0001b1d5-b74a-4cbf-aeb0-7df5947bf349           1          13   \n",
       "3     0001b1d5-b74a-4cbf-aeb0-7df5947bf349           1          27   \n",
       "4     00157779-810c-4498-9e05-a1e9e3cedf93           0          35   \n",
       "...                                    ...         ...         ...   \n",
       "8218  fffb9e79-b927-4dbb-9b48-7fd09b23a62b           1       74159   \n",
       "8219  fffb9e79-b927-4dbb-9b48-7fd09b23a62b           1       74162   \n",
       "8220  fffb9e79-b927-4dbb-9b48-7fd09b23a62b           1       74164   \n",
       "8221  fffb9e79-b927-4dbb-9b48-7fd09b23a62b           1       74168   \n",
       "8222  fffb9e79-b927-4dbb-9b48-7fd09b23a62b           1       74183   \n",
       "\n",
       "      session_duration  \n",
       "0                596.0  \n",
       "1                507.0  \n",
       "2                900.0  \n",
       "3                758.0  \n",
       "4               1521.0  \n",
       "...                ...  \n",
       "8218              22.0  \n",
       "8219             974.0  \n",
       "8220             297.0  \n",
       "8221             949.0  \n",
       "8222            1944.0  \n",
       "\n",
       "[8223 rows x 4 columns]"
      ]
     },
     "execution_count": 66,
     "metadata": {},
     "output_type": "execute_result"
    }
   ],
   "source": [
    "time_in_app = pd.merge(users_profile[['user_id','cluster_km']],session_time,how='left',on='user_id')\n",
    "time_in_app"
   ]
  },
  {
   "cell_type": "code",
   "execution_count": 67,
   "metadata": {},
   "outputs": [
    {
     "data": {
      "text/html": [
       "<div>\n",
       "<style scoped>\n",
       "    .dataframe tbody tr th:only-of-type {\n",
       "        vertical-align: middle;\n",
       "    }\n",
       "\n",
       "    .dataframe tbody tr th {\n",
       "        vertical-align: top;\n",
       "    }\n",
       "\n",
       "    .dataframe thead th {\n",
       "        text-align: right;\n",
       "    }\n",
       "</style>\n",
       "<table border=\"1\" class=\"dataframe\">\n",
       "  <thead>\n",
       "    <tr style=\"text-align: right;\">\n",
       "      <th></th>\n",
       "      <th>user_id</th>\n",
       "      <th>cluster_km</th>\n",
       "      <th>time_in_app</th>\n",
       "    </tr>\n",
       "  </thead>\n",
       "  <tbody>\n",
       "    <tr>\n",
       "      <th>0</th>\n",
       "      <td>0001b1d5-b74a-4cbf-aeb0-7df5947bf349</td>\n",
       "      <td>1</td>\n",
       "      <td>2761.0</td>\n",
       "    </tr>\n",
       "    <tr>\n",
       "      <th>1</th>\n",
       "      <td>00157779-810c-4498-9e05-a1e9e3cedf93</td>\n",
       "      <td>0</td>\n",
       "      <td>11774.0</td>\n",
       "    </tr>\n",
       "    <tr>\n",
       "      <th>2</th>\n",
       "      <td>00463033-5717-4bf1-91b4-09183923b9df</td>\n",
       "      <td>0</td>\n",
       "      <td>1482.0</td>\n",
       "    </tr>\n",
       "    <tr>\n",
       "      <th>3</th>\n",
       "      <td>004690c3-5a84-4bb7-a8af-e0c8f8fca64e</td>\n",
       "      <td>1</td>\n",
       "      <td>6644.0</td>\n",
       "    </tr>\n",
       "    <tr>\n",
       "      <th>4</th>\n",
       "      <td>00551e79-152e-4441-9cf7-565d7eb04090</td>\n",
       "      <td>1</td>\n",
       "      <td>559.0</td>\n",
       "    </tr>\n",
       "  </tbody>\n",
       "</table>\n",
       "</div>"
      ],
      "text/plain": [
       "                                user_id  cluster_km  time_in_app\n",
       "0  0001b1d5-b74a-4cbf-aeb0-7df5947bf349           1       2761.0\n",
       "1  00157779-810c-4498-9e05-a1e9e3cedf93           0      11774.0\n",
       "2  00463033-5717-4bf1-91b4-09183923b9df           0       1482.0\n",
       "3  004690c3-5a84-4bb7-a8af-e0c8f8fca64e           1       6644.0\n",
       "4  00551e79-152e-4441-9cf7-565d7eb04090           1        559.0"
      ]
     },
     "execution_count": 67,
     "metadata": {},
     "output_type": "execute_result"
    }
   ],
   "source": [
    "time_in_app = time_in_app.groupby(['user_id','cluster_km']).agg({'session_duration':'sum'}).reset_index()\n",
    "time_in_app = time_in_app.rename(columns={'session_duration':'time_in_app'})\n",
    "time_in_app.head()"
   ]
  },
  {
   "cell_type": "markdown",
   "metadata": {},
   "source": [
    "Выведем среднее время ,проведенное пользователем в приложении, по каждому кластеру."
   ]
  },
  {
   "cell_type": "code",
   "execution_count": 68,
   "metadata": {},
   "outputs": [
    {
     "data": {
      "text/plain": [
       "cluster_km\n",
       "0    3211.0\n",
       "1    1268.0\n",
       "2    5481.0\n",
       "Name: time_in_app, dtype: float64"
      ]
     },
     "execution_count": 68,
     "metadata": {},
     "output_type": "execute_result"
    }
   ],
   "source": [
    "time_in_app.groupby('cluster_km')['time_in_app'].mean().round()"
   ]
  },
  {
   "cell_type": "markdown",
   "metadata": {},
   "source": [
    "Сравним медианное время, проведенное в приложении, для пользователей из разных кластеров"
   ]
  },
  {
   "cell_type": "code",
   "execution_count": 69,
   "metadata": {},
   "outputs": [
    {
     "data": {
      "image/png": "[encoded data removed]",
      "text/plain": [
       "<Figure size 504x360 with 1 Axes>"
      ]
     },
     "metadata": {
      "needs_background": "light"
     },
     "output_type": "display_data"
    },
    {
     "data": {
      "text/plain": [
       "cluster_km\n",
       "0    2010.0\n",
       "1     587.0\n",
       "2    4186.0\n",
       "Name: time_in_app, dtype: float64"
      ]
     },
     "execution_count": 69,
     "metadata": {},
     "output_type": "execute_result"
    }
   ],
   "source": [
    "from numpy import median\n",
    "plt.figure(figsize=(7,5))\n",
    "ax = sns.barplot(y=time_in_app.time_in_app,x=time_in_app.cluster_km,estimator=median)\n",
    "plt.title('Распределение медианного времени,проведенного пользователями каждого кластера в приложении')\n",
    "plt.xlabel('Кластер')\n",
    "plt.ylabel('Медиана времени в приложении')\n",
    "plt.show()\n",
    "time_in_app.groupby('cluster_km')['time_in_app'].median().round()"
   ]
  },
  {
   "cell_type": "code",
   "execution_count": 70,
   "metadata": {},
   "outputs": [
    {
     "data": {
      "image/png": "[encoded data removed]",
      "text/plain": [
       "<Figure size 504x360 with 1 Axes>"
      ]
     },
     "metadata": {
      "needs_background": "light"
     },
     "output_type": "display_data"
    }
   ],
   "source": [
    "plt.figure(figsize=(7,5))\n",
    "sns.histplot(data=time_in_app, x='time_in_app', hue='cluster_km', bins=200, stat='density', common_norm=False);\n",
    "plt.xlim(0,5000)\n",
    "plt.xlabel('Время в приложении,секунды')\n",
    "plt.title(\"Распределение времени,проведенного пользователями каждого кластера в приложении\");"
   ]
  },
  {
   "cell_type": "markdown",
   "metadata": {},
   "source": [
    "Пользователи приложения из кластера №2 проводят значительно большее время в приложении, чем пользователи из других кластеров, медианное время пользования приложением составляет больше часа (4186 секунд).\n",
    "\n",
    "Медианное время в приложении для пользователей первого кластера около 10 минут. Пользователи данного кластера проводят в приложении наименьшее количество времени.\n",
    "\n",
    "Медианное время в приложении для пользователей нулевого кластера около 33,5 минут. "
   ]
  },
  {
   "cell_type": "markdown",
   "metadata": {},
   "source": [
    "<a id=\"step_5.3\"></a> \n",
    "### Расчет и сравнение среднего количества действий пользователей разных кластеров"
   ]
  },
  {
   "cell_type": "code",
   "execution_count": 71,
   "metadata": {},
   "outputs": [
    {
     "data": {
      "text/plain": [
       "cluster_km\n",
       "0    25.0\n",
       "1    13.0\n",
       "2    54.0\n",
       "Name: event_amount, dtype: float64"
      ]
     },
     "execution_count": 71,
     "metadata": {},
     "output_type": "execute_result"
    }
   ],
   "source": [
    "cluster_mean_event = (\n",
    "    df_result.groupby(['user_id','cluster_km'])\n",
    "    .agg({'event_name':'count'})\n",
    "    .reset_index()\n",
    "    .rename(columns={'event_name':'event_amount'})\n",
    ")\n",
    "cluster_mean_event.groupby('cluster_km')['event_amount'].mean().round()"
   ]
  },
  {
   "cell_type": "code",
   "execution_count": 72,
   "metadata": {},
   "outputs": [
    {
     "data": {
      "image/png": "[encoded data removed]",
      "text/plain": [
       "<Figure size 504x360 with 1 Axes>"
      ]
     },
     "metadata": {
      "needs_background": "light"
     },
     "output_type": "display_data"
    }
   ],
   "source": [
    "plt.figure(figsize=(7,5))\n",
    "ax = sns.barplot(y=cluster_mean_event.event_amount,x=cluster_mean_event.cluster_km)\n",
    "plt.title('Распределение среднего количества действий, совершенных пользователями различных кластеров')\n",
    "plt.xlabel('Кластер')\n",
    "plt.ylabel('Среднее количество действий')\n",
    "plt.show()"
   ]
  },
  {
   "cell_type": "code",
   "execution_count": 73,
   "metadata": {},
   "outputs": [
    {
     "data": {
      "image/png": "[encoded data removed]",
      "text/plain": [
       "<Figure size 504x360 with 1 Axes>"
      ]
     },
     "metadata": {
      "needs_background": "light"
     },
     "output_type": "display_data"
    }
   ],
   "source": [
    "plt.figure(figsize=(7,5))\n",
    "sns.histplot(data=cluster_mean_event, x='event_amount', hue='cluster_km', bins=100, stat='density', common_norm=False);\n",
    "plt.xlim(0,100)\n",
    "plt.xlabel('Количество действий пользователей')\n",
    "plt.title(\"Распределение количества действий пользователей разных кластеров\");"
   ]
  },
  {
   "cell_type": "code",
   "execution_count": null,
   "metadata": {},
   "outputs": [],
   "source": [
    "# построим график распределения суммарных продаж по годам\n",
    "cluster_mean_event.pivot_table(index='year_of_release',columns='platform',values='all_sales',aggfunc='sum').plot(figsize=(12,6))\n",
    "plt.ylabel('all_sales')\n",
    "plt.xlim(1999,2016)\n",
    "plt.show()"
   ]
  },
  {
   "cell_type": "markdown",
   "metadata": {},
   "source": [
    "Пользователи из второго кластера совершают наибольшее количество действий в приложении, среднее количество действий для пользователей данного кластера составляет 54, согласно графику распределения наибольшая плотность пользователей с количеством действий в диапазоне от 25 до 40.\n",
    "\n",
    "Пользователи из первого кластера совершают наименьшее количество действий в приложении, среднее количество действий для пользователей данного кластера составляет 13, согласно графику распределения наибольшая плотность пользователей с количеством действий в диапазоне от 1 до 5.\n",
    "\n",
    "Пользователю нулевого кластера совершают в среднем 25 действий в приложении, согласно графику распределения наибольшая плотность пользователей с количеством действий в диапазоне от 10 до 15."
   ]
  },
  {
   "cell_type": "markdown",
   "metadata": {},
   "source": [
    "<a id=\"step_3.7\"></a> \n",
    "### Расчет конверсии в целевое действие — просмотр контактов"
   ]
  },
  {
   "cell_type": "code",
   "execution_count": 74,
   "metadata": {},
   "outputs": [
    {
     "data": {
      "text/html": [
       "<div>\n",
       "<style scoped>\n",
       "    .dataframe tbody tr th:only-of-type {\n",
       "        vertical-align: middle;\n",
       "    }\n",
       "\n",
       "    .dataframe tbody tr th {\n",
       "        vertical-align: top;\n",
       "    }\n",
       "\n",
       "    .dataframe thead th {\n",
       "        text-align: right;\n",
       "    }\n",
       "</style>\n",
       "<table border=\"1\" class=\"dataframe\">\n",
       "  <thead>\n",
       "    <tr style=\"text-align: right;\">\n",
       "      <th></th>\n",
       "      <th>user_id</th>\n",
       "      <th>cluster_km</th>\n",
       "      <th>event_time</th>\n",
       "      <th>event_name</th>\n",
       "      <th>event_date</th>\n",
       "      <th>source</th>\n",
       "      <th>diff</th>\n",
       "      <th>session_id</th>\n",
       "      <th>event_duration</th>\n",
       "    </tr>\n",
       "  </thead>\n",
       "  <tbody>\n",
       "    <tr>\n",
       "      <th>0</th>\n",
       "      <td>0001b1d5-b74a-4cbf-aeb0-7df5947bf349</td>\n",
       "      <td>1</td>\n",
       "      <td>2019-10-07 13:39:45</td>\n",
       "      <td>tips_show</td>\n",
       "      <td>2019-10-07</td>\n",
       "      <td>other</td>\n",
       "      <td>NaT</td>\n",
       "      <td>0</td>\n",
       "      <td>0 days 00:00:46</td>\n",
       "    </tr>\n",
       "    <tr>\n",
       "      <th>1</th>\n",
       "      <td>0001b1d5-b74a-4cbf-aeb0-7df5947bf349</td>\n",
       "      <td>1</td>\n",
       "      <td>2019-10-07 13:40:31</td>\n",
       "      <td>tips_show</td>\n",
       "      <td>2019-10-07</td>\n",
       "      <td>other</td>\n",
       "      <td>0 days 00:00:46</td>\n",
       "      <td>0</td>\n",
       "      <td>0 days 00:00:34</td>\n",
       "    </tr>\n",
       "    <tr>\n",
       "      <th>2</th>\n",
       "      <td>0001b1d5-b74a-4cbf-aeb0-7df5947bf349</td>\n",
       "      <td>1</td>\n",
       "      <td>2019-10-07 13:41:05</td>\n",
       "      <td>tips_show</td>\n",
       "      <td>2019-10-07</td>\n",
       "      <td>other</td>\n",
       "      <td>0 days 00:00:34</td>\n",
       "      <td>0</td>\n",
       "      <td>0 days 00:02:15</td>\n",
       "    </tr>\n",
       "    <tr>\n",
       "      <th>3</th>\n",
       "      <td>0001b1d5-b74a-4cbf-aeb0-7df5947bf349</td>\n",
       "      <td>1</td>\n",
       "      <td>2019-10-07 13:43:20</td>\n",
       "      <td>tips_show</td>\n",
       "      <td>2019-10-07</td>\n",
       "      <td>other</td>\n",
       "      <td>0 days 00:02:15</td>\n",
       "      <td>0</td>\n",
       "      <td>0 days 00:02:10</td>\n",
       "    </tr>\n",
       "    <tr>\n",
       "      <th>4</th>\n",
       "      <td>0001b1d5-b74a-4cbf-aeb0-7df5947bf349</td>\n",
       "      <td>1</td>\n",
       "      <td>2019-10-07 13:45:30</td>\n",
       "      <td>tips_show</td>\n",
       "      <td>2019-10-07</td>\n",
       "      <td>other</td>\n",
       "      <td>0 days 00:02:10</td>\n",
       "      <td>0</td>\n",
       "      <td>0 days 00:00:13</td>\n",
       "    </tr>\n",
       "  </tbody>\n",
       "</table>\n",
       "</div>"
      ],
      "text/plain": [
       "                                user_id  cluster_km          event_time  \\\n",
       "0  0001b1d5-b74a-4cbf-aeb0-7df5947bf349           1 2019-10-07 13:39:45   \n",
       "1  0001b1d5-b74a-4cbf-aeb0-7df5947bf349           1 2019-10-07 13:40:31   \n",
       "2  0001b1d5-b74a-4cbf-aeb0-7df5947bf349           1 2019-10-07 13:41:05   \n",
       "3  0001b1d5-b74a-4cbf-aeb0-7df5947bf349           1 2019-10-07 13:43:20   \n",
       "4  0001b1d5-b74a-4cbf-aeb0-7df5947bf349           1 2019-10-07 13:45:30   \n",
       "\n",
       "  event_name event_date source            diff  session_id  event_duration  \n",
       "0  tips_show 2019-10-07  other             NaT           0 0 days 00:00:46  \n",
       "1  tips_show 2019-10-07  other 0 days 00:00:46           0 0 days 00:00:34  \n",
       "2  tips_show 2019-10-07  other 0 days 00:00:34           0 0 days 00:02:15  \n",
       "3  tips_show 2019-10-07  other 0 days 00:02:15           0 0 days 00:02:10  \n",
       "4  tips_show 2019-10-07  other 0 days 00:02:10           0 0 days 00:00:13  "
      ]
     },
     "execution_count": 74,
     "metadata": {},
     "output_type": "execute_result"
    }
   ],
   "source": [
    "df_result.head()"
   ]
  },
  {
   "cell_type": "code",
   "execution_count": 75,
   "metadata": {},
   "outputs": [
    {
     "data": {
      "text/html": [
       "<div>\n",
       "<style scoped>\n",
       "    .dataframe tbody tr th:only-of-type {\n",
       "        vertical-align: middle;\n",
       "    }\n",
       "\n",
       "    .dataframe tbody tr th {\n",
       "        vertical-align: top;\n",
       "    }\n",
       "\n",
       "    .dataframe thead th {\n",
       "        text-align: right;\n",
       "    }\n",
       "</style>\n",
       "<table border=\"1\" class=\"dataframe\">\n",
       "  <thead>\n",
       "    <tr style=\"text-align: right;\">\n",
       "      <th></th>\n",
       "      <th>user_id</th>\n",
       "      <th>cluster_km</th>\n",
       "      <th>event_time</th>\n",
       "    </tr>\n",
       "  </thead>\n",
       "  <tbody>\n",
       "    <tr>\n",
       "      <th>0</th>\n",
       "      <td>00157779-810c-4498-9e05-a1e9e3cedf93</td>\n",
       "      <td>0</td>\n",
       "      <td>2019-10-20 19:17:18</td>\n",
       "    </tr>\n",
       "    <tr>\n",
       "      <th>1</th>\n",
       "      <td>00157779-810c-4498-9e05-a1e9e3cedf93</td>\n",
       "      <td>0</td>\n",
       "      <td>2019-10-20 19:23:11</td>\n",
       "    </tr>\n",
       "    <tr>\n",
       "      <th>2</th>\n",
       "      <td>00157779-810c-4498-9e05-a1e9e3cedf93</td>\n",
       "      <td>0</td>\n",
       "      <td>2019-10-20 19:30:31</td>\n",
       "    </tr>\n",
       "    <tr>\n",
       "      <th>3</th>\n",
       "      <td>00157779-810c-4498-9e05-a1e9e3cedf93</td>\n",
       "      <td>0</td>\n",
       "      <td>2019-10-20 20:04:53</td>\n",
       "    </tr>\n",
       "    <tr>\n",
       "      <th>4</th>\n",
       "      <td>00157779-810c-4498-9e05-a1e9e3cedf93</td>\n",
       "      <td>0</td>\n",
       "      <td>2019-10-29 21:26:40</td>\n",
       "    </tr>\n",
       "    <tr>\n",
       "      <th>...</th>\n",
       "      <td>...</td>\n",
       "      <td>...</td>\n",
       "      <td>...</td>\n",
       "    </tr>\n",
       "    <tr>\n",
       "      <th>4509</th>\n",
       "      <td>fffb9e79-b927-4dbb-9b48-7fd09b23a62b</td>\n",
       "      <td>1</td>\n",
       "      <td>2019-11-03 14:38:51</td>\n",
       "    </tr>\n",
       "    <tr>\n",
       "      <th>4510</th>\n",
       "      <td>fffb9e79-b927-4dbb-9b48-7fd09b23a62b</td>\n",
       "      <td>1</td>\n",
       "      <td>2019-11-03 14:41:24</td>\n",
       "    </tr>\n",
       "    <tr>\n",
       "      <th>4511</th>\n",
       "      <td>fffb9e79-b927-4dbb-9b48-7fd09b23a62b</td>\n",
       "      <td>1</td>\n",
       "      <td>2019-11-03 14:42:26</td>\n",
       "    </tr>\n",
       "    <tr>\n",
       "      <th>4512</th>\n",
       "      <td>fffb9e79-b927-4dbb-9b48-7fd09b23a62b</td>\n",
       "      <td>1</td>\n",
       "      <td>2019-11-03 15:48:05</td>\n",
       "    </tr>\n",
       "    <tr>\n",
       "      <th>4513</th>\n",
       "      <td>fffb9e79-b927-4dbb-9b48-7fd09b23a62b</td>\n",
       "      <td>1</td>\n",
       "      <td>2019-11-03 15:51:57</td>\n",
       "    </tr>\n",
       "  </tbody>\n",
       "</table>\n",
       "<p>4514 rows × 3 columns</p>\n",
       "</div>"
      ],
      "text/plain": [
       "                                   user_id  cluster_km          event_time\n",
       "0     00157779-810c-4498-9e05-a1e9e3cedf93           0 2019-10-20 19:17:18\n",
       "1     00157779-810c-4498-9e05-a1e9e3cedf93           0 2019-10-20 19:23:11\n",
       "2     00157779-810c-4498-9e05-a1e9e3cedf93           0 2019-10-20 19:30:31\n",
       "3     00157779-810c-4498-9e05-a1e9e3cedf93           0 2019-10-20 20:04:53\n",
       "4     00157779-810c-4498-9e05-a1e9e3cedf93           0 2019-10-29 21:26:40\n",
       "...                                    ...         ...                 ...\n",
       "4509  fffb9e79-b927-4dbb-9b48-7fd09b23a62b           1 2019-11-03 14:38:51\n",
       "4510  fffb9e79-b927-4dbb-9b48-7fd09b23a62b           1 2019-11-03 14:41:24\n",
       "4511  fffb9e79-b927-4dbb-9b48-7fd09b23a62b           1 2019-11-03 14:42:26\n",
       "4512  fffb9e79-b927-4dbb-9b48-7fd09b23a62b           1 2019-11-03 15:48:05\n",
       "4513  fffb9e79-b927-4dbb-9b48-7fd09b23a62b           1 2019-11-03 15:51:57\n",
       "\n",
       "[4514 rows x 3 columns]"
      ]
     },
     "execution_count": 75,
     "metadata": {},
     "output_type": "execute_result"
    }
   ],
   "source": [
    "df_contacts_show = df_result.query('event_name == \"contacts_show\"')[['user_id','cluster_km','event_time']] \n",
    "df_contacts_show = df_contacts_show.reset_index(drop=True)\n",
    "df_contacts_show"
   ]
  },
  {
   "cell_type": "code",
   "execution_count": 76,
   "metadata": {},
   "outputs": [
    {
     "data": {
      "text/html": [
       "<div>\n",
       "<style scoped>\n",
       "    .dataframe tbody tr th:only-of-type {\n",
       "        vertical-align: middle;\n",
       "    }\n",
       "\n",
       "    .dataframe tbody tr th {\n",
       "        vertical-align: top;\n",
       "    }\n",
       "\n",
       "    .dataframe thead th {\n",
       "        text-align: right;\n",
       "    }\n",
       "</style>\n",
       "<table border=\"1\" class=\"dataframe\">\n",
       "  <thead>\n",
       "    <tr style=\"text-align: right;\">\n",
       "      <th></th>\n",
       "      <th>user_id</th>\n",
       "      <th>cluster_km</th>\n",
       "      <th>first_ts</th>\n",
       "      <th>dt</th>\n",
       "      <th>month</th>\n",
       "    </tr>\n",
       "  </thead>\n",
       "  <tbody>\n",
       "    <tr>\n",
       "      <th>0</th>\n",
       "      <td>0001b1d5-b74a-4cbf-aeb0-7df5947bf349</td>\n",
       "      <td>1</td>\n",
       "      <td>2019-10-07 13:39:45</td>\n",
       "      <td>2019-10-07</td>\n",
       "      <td>2019-10-01</td>\n",
       "    </tr>\n",
       "    <tr>\n",
       "      <th>1</th>\n",
       "      <td>00157779-810c-4498-9e05-a1e9e3cedf93</td>\n",
       "      <td>0</td>\n",
       "      <td>2019-10-19 21:34:33</td>\n",
       "      <td>2019-10-19</td>\n",
       "      <td>2019-10-01</td>\n",
       "    </tr>\n",
       "    <tr>\n",
       "      <th>2</th>\n",
       "      <td>00463033-5717-4bf1-91b4-09183923b9df</td>\n",
       "      <td>0</td>\n",
       "      <td>2019-11-01 13:54:35</td>\n",
       "      <td>2019-11-01</td>\n",
       "      <td>2019-11-01</td>\n",
       "    </tr>\n",
       "    <tr>\n",
       "      <th>3</th>\n",
       "      <td>004690c3-5a84-4bb7-a8af-e0c8f8fca64e</td>\n",
       "      <td>1</td>\n",
       "      <td>2019-10-18 22:14:05</td>\n",
       "      <td>2019-10-18</td>\n",
       "      <td>2019-10-01</td>\n",
       "    </tr>\n",
       "    <tr>\n",
       "      <th>4</th>\n",
       "      <td>00551e79-152e-4441-9cf7-565d7eb04090</td>\n",
       "      <td>1</td>\n",
       "      <td>2019-10-25 16:44:41</td>\n",
       "      <td>2019-10-25</td>\n",
       "      <td>2019-10-01</td>\n",
       "    </tr>\n",
       "    <tr>\n",
       "      <th>...</th>\n",
       "      <td>...</td>\n",
       "      <td>...</td>\n",
       "      <td>...</td>\n",
       "      <td>...</td>\n",
       "      <td>...</td>\n",
       "    </tr>\n",
       "    <tr>\n",
       "      <th>4201</th>\n",
       "      <td>ffab8d8a-30bb-424a-a3ab-0b63ebbf7b07</td>\n",
       "      <td>0</td>\n",
       "      <td>2019-10-13 16:11:27</td>\n",
       "      <td>2019-10-13</td>\n",
       "      <td>2019-10-01</td>\n",
       "    </tr>\n",
       "    <tr>\n",
       "      <th>4202</th>\n",
       "      <td>ffc01466-fdb1-4460-ae94-e800f52eb136</td>\n",
       "      <td>1</td>\n",
       "      <td>2019-10-07 20:32:49</td>\n",
       "      <td>2019-10-07</td>\n",
       "      <td>2019-10-01</td>\n",
       "    </tr>\n",
       "    <tr>\n",
       "      <th>4203</th>\n",
       "      <td>ffcf50d9-293c-4254-8243-4890b030b238</td>\n",
       "      <td>1</td>\n",
       "      <td>2019-10-23 11:51:35</td>\n",
       "      <td>2019-10-23</td>\n",
       "      <td>2019-10-01</td>\n",
       "    </tr>\n",
       "    <tr>\n",
       "      <th>4204</th>\n",
       "      <td>ffe68f10-e48e-470e-be9b-eeb93128ff1a</td>\n",
       "      <td>1</td>\n",
       "      <td>2019-10-21 16:39:33</td>\n",
       "      <td>2019-10-21</td>\n",
       "      <td>2019-10-01</td>\n",
       "    </tr>\n",
       "    <tr>\n",
       "      <th>4205</th>\n",
       "      <td>fffb9e79-b927-4dbb-9b48-7fd09b23a62b</td>\n",
       "      <td>1</td>\n",
       "      <td>2019-10-12 00:57:21</td>\n",
       "      <td>2019-10-12</td>\n",
       "      <td>2019-10-01</td>\n",
       "    </tr>\n",
       "  </tbody>\n",
       "</table>\n",
       "<p>4206 rows × 5 columns</p>\n",
       "</div>"
      ],
      "text/plain": [
       "                                   user_id  cluster_km            first_ts  \\\n",
       "0     0001b1d5-b74a-4cbf-aeb0-7df5947bf349           1 2019-10-07 13:39:45   \n",
       "1     00157779-810c-4498-9e05-a1e9e3cedf93           0 2019-10-19 21:34:33   \n",
       "2     00463033-5717-4bf1-91b4-09183923b9df           0 2019-11-01 13:54:35   \n",
       "3     004690c3-5a84-4bb7-a8af-e0c8f8fca64e           1 2019-10-18 22:14:05   \n",
       "4     00551e79-152e-4441-9cf7-565d7eb04090           1 2019-10-25 16:44:41   \n",
       "...                                    ...         ...                 ...   \n",
       "4201  ffab8d8a-30bb-424a-a3ab-0b63ebbf7b07           0 2019-10-13 16:11:27   \n",
       "4202  ffc01466-fdb1-4460-ae94-e800f52eb136           1 2019-10-07 20:32:49   \n",
       "4203  ffcf50d9-293c-4254-8243-4890b030b238           1 2019-10-23 11:51:35   \n",
       "4204  ffe68f10-e48e-470e-be9b-eeb93128ff1a           1 2019-10-21 16:39:33   \n",
       "4205  fffb9e79-b927-4dbb-9b48-7fd09b23a62b           1 2019-10-12 00:57:21   \n",
       "\n",
       "              dt      month  \n",
       "0     2019-10-07 2019-10-01  \n",
       "1     2019-10-19 2019-10-01  \n",
       "2     2019-11-01 2019-11-01  \n",
       "3     2019-10-18 2019-10-01  \n",
       "4     2019-10-25 2019-10-01  \n",
       "...          ...        ...  \n",
       "4201  2019-10-13 2019-10-01  \n",
       "4202  2019-10-07 2019-10-01  \n",
       "4203  2019-10-23 2019-10-01  \n",
       "4204  2019-10-21 2019-10-01  \n",
       "4205  2019-10-12 2019-10-01  \n",
       "\n",
       "[4206 rows x 5 columns]"
      ]
     },
     "execution_count": 76,
     "metadata": {},
     "output_type": "execute_result"
    }
   ],
   "source": [
    "profiles = pd.merge(df_result[['user_id','cluster_km']],profiles,how='right',on='user_id')\n",
    "profiles = profiles.drop_duplicates().reset_index(drop=True)\n",
    "profiles"
   ]
  },
  {
   "cell_type": "code",
   "execution_count": 77,
   "metadata": {},
   "outputs": [],
   "source": [
    "# функция для расчёта конверсии\n",
    "\n",
    "def get_conversion(\n",
    "    profiles,\n",
    "    contacts_show,\n",
    "    observation_date,\n",
    "    horizon_days,\n",
    "    dimensions=[],\n",
    "    ignore_horizon=False,\n",
    "):\n",
    "\n",
    "    # исключаем пользователей, не «доживших» до горизонта анализа\n",
    "    last_suitable_acquisition_date = observation_date\n",
    "    if not ignore_horizon:\n",
    "        last_suitable_acquisition_date = observation_date - timedelta(\n",
    "            days=horizon_days - 1\n",
    "        )\n",
    "    result_raw = profiles.query('dt <= @last_suitable_acquisition_date')\n",
    "\n",
    "    # определяем дату и время первого просмотра контактов для каждого пользователя\n",
    "    first_contacts_show = (\n",
    "        df_contacts_show.sort_values(by=['user_id', 'event_time'])\n",
    "        .groupby('user_id')\n",
    "        .agg({'event_time': 'first'})\n",
    "        .reset_index()\n",
    "    )\n",
    "    \n",
    "\n",
    "    # добавляем данные о целевом действии в профили\n",
    "    result_raw = result_raw.merge(\n",
    "        first_contacts_show[['user_id', 'event_time']], on='user_id', how='left'\n",
    "    )\n",
    "\n",
    "    # рассчитываем лайфтайм \n",
    "    result_raw['lifetime'] = (\n",
    "        result_raw['event_time'] - result_raw['first_ts']\n",
    "    ).dt.days\n",
    "\n",
    "    # функция для группировки таблицы по желаемым признакам\n",
    "    def group_by_dimensions(df, dims, horizon_days):\n",
    "        result = df.pivot_table(\n",
    "            index=dims, columns='lifetime', values='user_id', aggfunc='nunique'\n",
    "        )\n",
    "        result = result.fillna(0).cumsum(axis = 1)\n",
    "        cohort_sizes = (\n",
    "            df.groupby(dims)\n",
    "            .agg({'user_id': 'nunique'})\n",
    "            .rename(columns={'user_id': 'cohort_size'})\n",
    "        )\n",
    "        result = cohort_sizes.merge(result, on=dims, how='left').fillna(0)\n",
    "        # делим каждую «ячейку» в строке на размер когорты\n",
    "        # и получаем conversion rate\n",
    "        result = result.div(result['cohort_size'], axis=0)\n",
    "        result = result[['cohort_size'] + list(range(horizon_days))]\n",
    "        result['cohort_size'] = cohort_sizes\n",
    "        return result\n",
    "\n",
    "    # получаем таблицу конверсии\n",
    "    result_grouped = group_by_dimensions(result_raw, dimensions, horizon_days)\n",
    "    \n",
    "    # получаем таблицу динамики конверсии\n",
    "    result_in_time = group_by_dimensions(\n",
    "        result_raw, dimensions + ['dt'], horizon_days\n",
    "    )\n",
    "\n",
    "    # возвращаем обе таблицы и сырые данные\n",
    "    return result_raw, result_grouped, result_in_time "
   ]
  },
  {
   "cell_type": "code",
   "execution_count": 78,
   "metadata": {},
   "outputs": [
    {
     "data": {
      "image/png": "[encoded data removed]",
      "text/plain": [
       "<Figure size 1440x360 with 3 Axes>"
      ]
     },
     "metadata": {
      "needs_background": "light"
     },
     "output_type": "display_data"
    }
   ],
   "source": [
    "conversion_raw, conversion, conversion_history = get_conversion(\n",
    "    profiles, df_contacts_show, datetime(2019, 11,4).date(), 7, dimensions=['cluster_km']\n",
    ")\n",
    "\n",
    "plt.figure(figsize = (20, 5)) \n",
    "\n",
    "report = conversion.drop(columns = ['cohort_size'])\n",
    "\n",
    "sns.heatmap(\n",
    "    report, annot=True, fmt='.2%',ax=plt.subplot(1, 2, 1)\n",
    ")  \n",
    "plt.title('Тепловая карта конверсии в целевое действие \"просмотр контактов\" по кластерам')\n",
    "\n",
    "report.T.plot(\n",
    "    grid=True, xticks=list(report.columns.values), ax=plt.subplot(1, 2, 2)\n",
    ")  \n",
    "plt.title('Кривые конверсии в целевое действие \"просмотр контактов\" по кластерам')\n",
    "\n",
    "plt.show()"
   ]
  },
  {
   "cell_type": "markdown",
   "metadata": {},
   "source": [
    "По графику можно сделать следующие выводы:\n",
    "\n",
    "Выше всего конверсия у посетителей из второго кластера: более 23% пользователей просматривают контакты в день первого посещения, а к седьмому дню  доля просмотревших контакты - 24,46%. \n",
    "\n",
    "Хуже всего конвертируются в целевое действие пользователи из первого кластера: конверсия первого дня - 17,29%. К седьмому дню конверсия данных пользователей отстаёт от конверсии пользователей второго кластера на 3,08% и на 1,03% от конверсии пользователей нулевого кластера.\n",
    "\n",
    "Как видно из графика кривых конверсии, в целом конверсия пользователей из всех кластеров постепенно растёт на протяжении всех семи дней."
   ]
  },
  {
   "cell_type": "markdown",
   "metadata": {},
   "source": [
    "<a id=\"step_5\"></a> \n",
    "## Проверка статистических гипотез"
   ]
  },
  {
   "cell_type": "markdown",
   "metadata": {},
   "source": [
    "Выделим группы пользователей необходимые для проверки гипотез."
   ]
  },
  {
   "cell_type": "markdown",
   "metadata": {},
   "source": [
    "Разделим пользователей на группы по источнику установки приложения и рассчитаем количество пользователей, совершивших целевое действие в каждой из групп."
   ]
  },
  {
   "cell_type": "code",
   "execution_count": 79,
   "metadata": {},
   "outputs": [],
   "source": [
    "source_yandex = df_result.query('source == \"yandex\"')\n",
    "source_google = df_result.query('source == \"google\"')"
   ]
  },
  {
   "cell_type": "code",
   "execution_count": 80,
   "metadata": {},
   "outputs": [],
   "source": [
    "yandex_users = source_yandex['user_id'].nunique()\n",
    "yandex_users_cs = source_yandex.query('event_name == \"contacts_show\"')['user_id'].nunique()\n",
    "\n",
    "google_users = source_google['user_id'].nunique()\n",
    "google_users_cs = source_google.query('event_name == \"contacts_show\"')['user_id'].nunique()"
   ]
  },
  {
   "cell_type": "code",
   "execution_count": 81,
   "metadata": {},
   "outputs": [
    {
     "data": {
      "text/html": [
       "<div>\n",
       "<style scoped>\n",
       "    .dataframe tbody tr th:only-of-type {\n",
       "        vertical-align: middle;\n",
       "    }\n",
       "\n",
       "    .dataframe tbody tr th {\n",
       "        vertical-align: top;\n",
       "    }\n",
       "\n",
       "    .dataframe thead th {\n",
       "        text-align: right;\n",
       "    }\n",
       "</style>\n",
       "<table border=\"1\" class=\"dataframe\">\n",
       "  <thead>\n",
       "    <tr style=\"text-align: right;\">\n",
       "      <th>source</th>\n",
       "      <th>yandex</th>\n",
       "      <th>google</th>\n",
       "    </tr>\n",
       "  </thead>\n",
       "  <tbody>\n",
       "    <tr>\n",
       "      <th>all_users</th>\n",
       "      <td>1896.00</td>\n",
       "      <td>1114.00</td>\n",
       "    </tr>\n",
       "    <tr>\n",
       "      <th>contacts_show</th>\n",
       "      <td>475.00</td>\n",
       "      <td>273.00</td>\n",
       "    </tr>\n",
       "    <tr>\n",
       "      <th>conversion</th>\n",
       "      <td>25.05</td>\n",
       "      <td>24.51</td>\n",
       "    </tr>\n",
       "  </tbody>\n",
       "</table>\n",
       "</div>"
      ],
      "text/plain": [
       "source          yandex   google\n",
       "all_users      1896.00  1114.00\n",
       "contacts_show   475.00   273.00\n",
       "conversion       25.05    24.51"
      ]
     },
     "execution_count": 81,
     "metadata": {},
     "output_type": "execute_result"
    }
   ],
   "source": [
    "source_users = pd.DataFrame({\n",
    "    'source': ['yandex','google'],\n",
    "    'all_users' : [yandex_users,google_users],\n",
    "    'contacts_show' : [yandex_users_cs,google_users_cs]\n",
    "})\n",
    "source_users['conversion'] = round(source_users['contacts_show'] / source_users['all_users'] * 100,2)\n",
    "source_users.set_index(['source'],inplace=True)\n",
    "source_users = source_users.T\n",
    "source_users"
   ]
  },
  {
   "cell_type": "markdown",
   "metadata": {},
   "source": [
    "Разделим пользователей на группы по характеристике просмотр рекомендаций в приложении и рассчитаем количество пользователей, совершивших целевое действие в каждой из групп."
   ]
  },
  {
   "cell_type": "markdown",
   "metadata": {},
   "source": [
    "Выделим пользователей, которые хоть раз просматривали рекомендации в приложении."
   ]
  },
  {
   "cell_type": "code",
   "execution_count": 82,
   "metadata": {},
   "outputs": [
    {
     "data": {
      "text/html": [
       "<div>\n",
       "<style scoped>\n",
       "    .dataframe tbody tr th:only-of-type {\n",
       "        vertical-align: middle;\n",
       "    }\n",
       "\n",
       "    .dataframe tbody tr th {\n",
       "        vertical-align: top;\n",
       "    }\n",
       "\n",
       "    .dataframe thead th {\n",
       "        text-align: right;\n",
       "    }\n",
       "</style>\n",
       "<table border=\"1\" class=\"dataframe\">\n",
       "  <thead>\n",
       "    <tr style=\"text-align: right;\">\n",
       "      <th></th>\n",
       "      <th>user_id</th>\n",
       "      <th>cluster_km</th>\n",
       "      <th>event_time</th>\n",
       "      <th>event_name</th>\n",
       "      <th>event_date</th>\n",
       "      <th>source</th>\n",
       "      <th>diff</th>\n",
       "      <th>session_id</th>\n",
       "      <th>event_duration</th>\n",
       "      <th>tips_show</th>\n",
       "    </tr>\n",
       "  </thead>\n",
       "  <tbody>\n",
       "    <tr>\n",
       "      <th>0</th>\n",
       "      <td>0001b1d5-b74a-4cbf-aeb0-7df5947bf349</td>\n",
       "      <td>1</td>\n",
       "      <td>2019-10-07 13:39:45</td>\n",
       "      <td>tips_show</td>\n",
       "      <td>2019-10-07</td>\n",
       "      <td>other</td>\n",
       "      <td>NaT</td>\n",
       "      <td>0</td>\n",
       "      <td>0 days 00:00:46</td>\n",
       "      <td>1</td>\n",
       "    </tr>\n",
       "    <tr>\n",
       "      <th>1</th>\n",
       "      <td>0001b1d5-b74a-4cbf-aeb0-7df5947bf349</td>\n",
       "      <td>1</td>\n",
       "      <td>2019-10-07 13:40:31</td>\n",
       "      <td>tips_show</td>\n",
       "      <td>2019-10-07</td>\n",
       "      <td>other</td>\n",
       "      <td>0 days 00:00:46</td>\n",
       "      <td>0</td>\n",
       "      <td>0 days 00:00:34</td>\n",
       "      <td>1</td>\n",
       "    </tr>\n",
       "    <tr>\n",
       "      <th>2</th>\n",
       "      <td>0001b1d5-b74a-4cbf-aeb0-7df5947bf349</td>\n",
       "      <td>1</td>\n",
       "      <td>2019-10-07 13:41:05</td>\n",
       "      <td>tips_show</td>\n",
       "      <td>2019-10-07</td>\n",
       "      <td>other</td>\n",
       "      <td>0 days 00:00:34</td>\n",
       "      <td>0</td>\n",
       "      <td>0 days 00:02:15</td>\n",
       "      <td>1</td>\n",
       "    </tr>\n",
       "    <tr>\n",
       "      <th>3</th>\n",
       "      <td>0001b1d5-b74a-4cbf-aeb0-7df5947bf349</td>\n",
       "      <td>1</td>\n",
       "      <td>2019-10-07 13:43:20</td>\n",
       "      <td>tips_show</td>\n",
       "      <td>2019-10-07</td>\n",
       "      <td>other</td>\n",
       "      <td>0 days 00:02:15</td>\n",
       "      <td>0</td>\n",
       "      <td>0 days 00:02:10</td>\n",
       "      <td>1</td>\n",
       "    </tr>\n",
       "    <tr>\n",
       "      <th>4</th>\n",
       "      <td>0001b1d5-b74a-4cbf-aeb0-7df5947bf349</td>\n",
       "      <td>1</td>\n",
       "      <td>2019-10-07 13:45:30</td>\n",
       "      <td>tips_show</td>\n",
       "      <td>2019-10-07</td>\n",
       "      <td>other</td>\n",
       "      <td>0 days 00:02:10</td>\n",
       "      <td>0</td>\n",
       "      <td>0 days 00:00:13</td>\n",
       "      <td>1</td>\n",
       "    </tr>\n",
       "  </tbody>\n",
       "</table>\n",
       "</div>"
      ],
      "text/plain": [
       "                                user_id  cluster_km          event_time  \\\n",
       "0  0001b1d5-b74a-4cbf-aeb0-7df5947bf349           1 2019-10-07 13:39:45   \n",
       "1  0001b1d5-b74a-4cbf-aeb0-7df5947bf349           1 2019-10-07 13:40:31   \n",
       "2  0001b1d5-b74a-4cbf-aeb0-7df5947bf349           1 2019-10-07 13:41:05   \n",
       "3  0001b1d5-b74a-4cbf-aeb0-7df5947bf349           1 2019-10-07 13:43:20   \n",
       "4  0001b1d5-b74a-4cbf-aeb0-7df5947bf349           1 2019-10-07 13:45:30   \n",
       "\n",
       "  event_name event_date source            diff  session_id  event_duration  \\\n",
       "0  tips_show 2019-10-07  other             NaT           0 0 days 00:00:46   \n",
       "1  tips_show 2019-10-07  other 0 days 00:00:46           0 0 days 00:00:34   \n",
       "2  tips_show 2019-10-07  other 0 days 00:00:34           0 0 days 00:02:15   \n",
       "3  tips_show 2019-10-07  other 0 days 00:02:15           0 0 days 00:02:10   \n",
       "4  tips_show 2019-10-07  other 0 days 00:02:10           0 0 days 00:00:13   \n",
       "\n",
       "  tips_show  \n",
       "0         1  \n",
       "1         1  \n",
       "2         1  \n",
       "3         1  \n",
       "4         1  "
      ]
     },
     "execution_count": 82,
     "metadata": {},
     "output_type": "execute_result"
    }
   ],
   "source": [
    "df_result['tips_show'] = \"\"\n",
    "for i in range(len(df_result['event_name'])):\n",
    "    if df_result['event_name'][i] == 'tips_show':\n",
    "        df_result['tips_show'][i] = 1\n",
    "    else:\n",
    "        df_result['tips_show'][i] = 0\n",
    "df_result.head()"
   ]
  },
  {
   "cell_type": "code",
   "execution_count": 83,
   "metadata": {},
   "outputs": [],
   "source": [
    "with_tips_show = df_result.query('tips_show == 1')\n",
    "users_with_tips_show_list = list(with_tips_show['user_id'].unique())\n",
    "with_tips_show = df_result.query('user_id in @users_with_tips_show_list') \n",
    "without_tips_show = df_result.query('user_id not in @users_with_tips_show_list') "
   ]
  },
  {
   "cell_type": "code",
   "execution_count": 84,
   "metadata": {},
   "outputs": [],
   "source": [
    "users_with_tips_show = with_tips_show['user_id'].nunique()\n",
    "users_with_tips_show_cs = with_tips_show.query('event_name == \"contacts_show\"')['user_id'].nunique()\n",
    "\n",
    "users_without_tips_show = without_tips_show['user_id'].nunique()\n",
    "users_without_tips_show_cs = without_tips_show.query('event_name == \"contacts_show\"')['user_id'].nunique()"
   ]
  },
  {
   "cell_type": "code",
   "execution_count": 85,
   "metadata": {},
   "outputs": [
    {
     "data": {
      "text/html": [
       "<div>\n",
       "<style scoped>\n",
       "    .dataframe tbody tr th:only-of-type {\n",
       "        vertical-align: middle;\n",
       "    }\n",
       "\n",
       "    .dataframe tbody tr th {\n",
       "        vertical-align: top;\n",
       "    }\n",
       "\n",
       "    .dataframe thead th {\n",
       "        text-align: right;\n",
       "    }\n",
       "</style>\n",
       "<table border=\"1\" class=\"dataframe\">\n",
       "  <thead>\n",
       "    <tr style=\"text-align: right;\">\n",
       "      <th>tips_show</th>\n",
       "      <th>with_tips_show</th>\n",
       "      <th>without_tips_show</th>\n",
       "    </tr>\n",
       "  </thead>\n",
       "  <tbody>\n",
       "    <tr>\n",
       "      <th>all_users</th>\n",
       "      <td>2760.0</td>\n",
       "      <td>1446.00</td>\n",
       "    </tr>\n",
       "    <tr>\n",
       "      <th>contacts_show</th>\n",
       "      <td>516.0</td>\n",
       "      <td>456.00</td>\n",
       "    </tr>\n",
       "    <tr>\n",
       "      <th>conversion</th>\n",
       "      <td>18.7</td>\n",
       "      <td>31.54</td>\n",
       "    </tr>\n",
       "  </tbody>\n",
       "</table>\n",
       "</div>"
      ],
      "text/plain": [
       "tips_show      with_tips_show  without_tips_show\n",
       "all_users              2760.0            1446.00\n",
       "contacts_show           516.0             456.00\n",
       "conversion               18.7              31.54"
      ]
     },
     "execution_count": 85,
     "metadata": {},
     "output_type": "execute_result"
    }
   ],
   "source": [
    "tips_show_users = pd.DataFrame({\n",
    "    'tips_show': ['with_tips_show','without_tips_show'],\n",
    "    'all_users' : [users_with_tips_show,users_without_tips_show],\n",
    "    'contacts_show' : [users_with_tips_show_cs,users_without_tips_show_cs]\n",
    "})\n",
    "tips_show_users['conversion'] = round(tips_show_users['contacts_show'] / tips_show_users['all_users'] * 100,2)\n",
    "tips_show_users.set_index(['tips_show'],inplace=True)\n",
    "tips_show_users = tips_show_users.T\n",
    "tips_show_users"
   ]
  },
  {
   "cell_type": "markdown",
   "metadata": {},
   "source": [
    "<a id=\"step_5.1\"></a> \n",
    "### Гипотеза №1 : Конверсии в просмотры контактов для пользователей, установивших приложение по ссылке из yandex, и пользователей, установивших приложение по ссылке из google, различаются."
   ]
  },
  {
   "cell_type": "markdown",
   "metadata": {},
   "source": [
    "Нулевая гипотеза: Между конверсиями в просмотры контактов для пользователей, установивших приложение по ссылке из yandex, и пользователей, установивших приложение по ссылке из google,  нет статистически значимой разницы.\n",
    "\n",
    "Альтернативная гипотеза: Между конверсиями в просмотры контактов для пользователей, установивших приложение по ссылке из yandex, и пользователей, установивших приложение по ссылке из google, существует статистически значимая разница, конверсии данных групп различны.\n",
    "\n",
    "Критический уровень статистической значимости: 0.05"
   ]
  },
  {
   "cell_type": "markdown",
   "metadata": {},
   "source": [
    "Задаем функцию для z_test"
   ]
  },
  {
   "cell_type": "code",
   "execution_count": 481,
   "metadata": {},
   "outputs": [],
   "source": [
    "def z_test (df,gr1,gr2, target_event, alpha):\n",
    "\n",
    "    successes_1 = df.loc[target_event, gr1]\n",
    "    successes_2 = df.loc[target_event, gr2]\n",
    "    trials_1 = df.loc['all_users', gr1]\n",
    "    trials_2 = df.loc['all_users', gr2]\n",
    " \n",
    "    \n",
    "    p1 = successes_1/trials_1\n",
    " \n",
    "   \n",
    "    p2 = successes_2/trials_2\n",
    " \n",
    "    \n",
    "    p_combined = (successes_1 + successes_2) / (trials_1 + trials_2)\n",
    " \n",
    "    \n",
    "    difference = p1 - p2 \n",
    " \n",
    "    z_value = difference / mth.sqrt(p_combined * (1 - p_combined) * (1/trials_1 + 1/trials_2))\n",
    " \n",
    "    \n",
    "    distr = st.norm(0, 1)\n",
    " \n",
    "    p_value = (1 - distr.cdf(abs(z_value))) * 2\n",
    " \n",
    "    print('событие {} p-значение: {:.3f}'.format(target_event, p_value))\n",
    " \n",
    "    if p_value < alpha:\n",
    "        print('Отвергаем нулевую гипотезу: между долями есть значимая разница')\n",
    "    else:\n",
    "        print('Не получилось отвергнуть нулевую гипотезу, нет оснований считать доли разными')"
   ]
  },
  {
   "cell_type": "code",
   "execution_count": 482,
   "metadata": {},
   "outputs": [
    {
     "name": "stdout",
     "output_type": "stream",
     "text": [
      "событие contacts_show p-значение: 0.738\n",
      "Не получилось отвергнуть нулевую гипотезу, нет оснований считать доли разными\n"
     ]
    }
   ],
   "source": [
    "z_test(source_users, 'yandex','google','contacts_show', alpha=0.05)"
   ]
  },
  {
   "cell_type": "markdown",
   "metadata": {},
   "source": [
    "Нет оснований полагать, что ресурс, через который пользователи перешли в приложение имеет влияние на конверсию в просмотр контактов."
   ]
  },
  {
   "cell_type": "markdown",
   "metadata": {},
   "source": [
    "<a id=\"step_5.2\"></a> \n",
    "### Гипотеза №2 : Конверсии в просмотры контактов для пользователей, просмотревших рекомендованные объявления, и пользователей, не просмотревших рекомендованные объявления, различаются."
   ]
  },
  {
   "cell_type": "markdown",
   "metadata": {},
   "source": [
    "Нулевая гипотеза: Между конверсиями в просмотры контактов для пользователей, просмотревших рекомендованные объявления, и пользователей, не просмотревших рекомендованные объявления,  нет статистически значимой разницы.\n",
    "\n",
    "Альтернативная гипотеза: Между конверсиями в просмотры контактов для пользователей, просмотревших рекомендованные объявления, и пользователей, не просмотревших рекомендованные объявления, существует статистически значимая разница, конверсии данных групп различны.\n",
    "\n",
    "Критический уровень статистической значимости: 0.05"
   ]
  },
  {
   "cell_type": "code",
   "execution_count": 483,
   "metadata": {},
   "outputs": [
    {
     "name": "stdout",
     "output_type": "stream",
     "text": [
      "событие contacts_show p-значение: 0.000\n",
      "Отвергаем нулевую гипотезу: между долями есть значимая разница\n"
     ]
    }
   ],
   "source": [
    "z_test(tips_show_users, 'with_tips_show','without_tips_show','contacts_show', alpha=0.05)"
   ]
  },
  {
   "cell_type": "markdown",
   "metadata": {},
   "source": [
    "Мы можем получить нулевое значение p_value, когда две пропорции не равны.\n",
    "\n",
    "Однако мы также можем сравнить рассчитанный `conversion` для двух групп, конверсия в просмотр контактов выше для группы не просмотревших рекомендованные объявления. Можно предположить, что такие значения конверсии получились в результате неэффективной работы алгоритма по подбору рекомендаций в приложении."
   ]
  },
  {
   "cell_type": "markdown",
   "metadata": {},
   "source": [
    "<a id=\"step_7\"></a> \n",
    "## Общие выводы и рекомендации."
   ]
  },
  {
   "cell_type": "markdown",
   "metadata": {},
   "source": [
    "Мы провели исследовательский анализ данных, в ходе которого удалость установить:\n",
    "\n",
    "* Абсолютное большинство пользователей совершает всего одну пользовательскую сессию в приложении;\n",
    "* Среднее количество сессий на одного пользователя: 2;\n",
    "* Среднее количество событий за одну пользовательскую сессию: 7;\n",
    "* Средняя продолжительность пользовательской сессии: 974.23 cекунд (~16 минут);\n",
    "* Медианная продолжительность пользовательской сессии: 559.00 секунд (~9 минут).\n",
    "\n",
    "Сегментация пользователей приложения была проведена на основе их пользовательской активности, а именно характеристик:\n",
    "* медианное количество совершаемых действий за одну сессию\n",
    "* медианная длительность сессии\n",
    "\n",
    "Сегментация пользователей была проведена путем кластеризации, в результате кластеризации пользователи приложения были разделены на 3 кластера:\n",
    "\n",
    "Кластер под номером 0: средне активные пользователи\n",
    "\n",
    "Кластер под номером 1: мало активные пользователи\n",
    "\n",
    "Кластер под номером 2: высоко активные пользователи.\n",
    "\n",
    "Для каждого кластера были рассчитаны, а далее сравнены следующие метрики:\n",
    "* время, проведенное пользователем в приложении;\n",
    "* среднее количество действий, совершенных пользователем;\n",
    "* retention rate;\n",
    "* конверсия в целевое действие — просмотр контактов.\n",
    "\n",
    "В ходе анализа метрик было выявлено:\n",
    "1. Низкие значения удержания для пользователей всех кластеров.\n",
    "\n",
    "2. Низкое значение удержания для кластера №2. Данные пользователи проявляют активность в приложении, но удерживаются плохо.\n",
    "\n",
    "3. Короткое время пребывания в приложении для пользователей первого кластера. При этом пользователи данного кластера удерживаются заметно лучше, чем пользователи нулевого и второго кластера, однако значение конверсии в целевое действие - просмотр контактов ниже, чем для прочих кластеров. Можно предположить, что у пользователей данного кластера есть потребности в приложении, они удерживаются, находясь в поиске подходящей вещи, но не всегда доходят до результата.\n",
    "\n",
    "4. Конверсия пользователей в просмотр контактов из второго кластера выше, чем для прочих, однако стоит заметить, что данные пользователи проводят в приложении гораздо большее время, относительно прочих.\n",
    "\n",
    "Также было проведено сравнение конверсий в целевое действие - просмотр контактов для пользователей двух групп:\n",
    "* просмотревших рекомендованные объявления\n",
    "* не просмотревших рекомендованные объявления\n",
    "\n",
    "В ходе чего было выявлено, что конверсия не просмотревших выше, чем конверсия просмотревших рекомендованные объявления.\n",
    "\n",
    "На основе проведенного анализа и выявленных проблем, следует предложить следующие рекомендации по улучшению приложения:\n",
    "\n",
    "Для повышения конверсии в целевое действие, следует рассмотреть возможность модернизации поисковых алгоритмов, на данном этапе обнаружены проблемы пользователей с быстрым нахождением необходимого им запроса.\n",
    "\n",
    "Также стоит рассмотреть возможность улучшения алгоритмов для подбора рекомендованных объявлений, конверсия в целевое действие для просмотревших рекомендации ниже, чем для не просмотревших рекомендации пользователей, что свидетельствует об неэффективности данного метода. \n",
    "\n",
    "К тому же, можно отправить запрос в маркетинговый отдел для рассмотрения вопроса о привлечения новых пользователей в приложение, с акцентом на тех, кто объявление размещает, с целью повышения предложения товаров в приложении."
   ]
  },
  {
   "cell_type": "markdown",
   "metadata": {},
   "source": [
    "<a id=\"step_8\"></a> \n",
    "## Презентация."
   ]
  },
  {
   "cell_type": "markdown",
   "metadata": {},
   "source": [
    "Ссылка на презентацию: https://drive.google.com/file/d/1fdKjGZgzpUtu9iSBkgzabiTrorAfRvRY/view?usp=sharing"
   ]
  }
 ],
 "metadata": {
  "ExecuteTimeLog": [
   {
    "duration": 46,
    "start_time": "2022-07-07T16:23:38.676Z"
   },
   {
    "duration": 1256,
    "start_time": "2022-07-07T16:23:43.655Z"
   },
   {
    "duration": 343,
    "start_time": "2022-07-07T16:23:45.763Z"
   },
   {
    "duration": 19,
    "start_time": "2022-07-07T16:23:50.755Z"
   },
   {
    "duration": 89,
    "start_time": "2022-07-07T16:24:26.359Z"
   },
   {
    "duration": 25,
    "start_time": "2022-07-07T16:24:43.359Z"
   },
   {
    "duration": 26,
    "start_time": "2022-07-07T16:24:51.662Z"
   },
   {
    "duration": 40,
    "start_time": "2022-07-07T16:25:43.811Z"
   },
   {
    "duration": 10,
    "start_time": "2022-07-07T16:26:23.067Z"
   },
   {
    "duration": 5,
    "start_time": "2022-07-07T16:30:34.062Z"
   },
   {
    "duration": 4,
    "start_time": "2022-07-07T16:30:34.664Z"
   },
   {
    "duration": 49,
    "start_time": "2022-07-07T16:30:35.120Z"
   },
   {
    "duration": 30,
    "start_time": "2022-07-07T16:30:35.716Z"
   },
   {
    "duration": 27,
    "start_time": "2022-07-07T16:30:41.802Z"
   },
   {
    "duration": 26,
    "start_time": "2022-07-07T16:30:42.181Z"
   },
   {
    "duration": 37,
    "start_time": "2022-07-07T16:30:44.265Z"
   },
   {
    "duration": 24,
    "start_time": "2022-07-07T16:30:45.725Z"
   },
   {
    "duration": 20,
    "start_time": "2022-07-07T16:30:46.442Z"
   },
   {
    "duration": 8,
    "start_time": "2022-07-07T16:30:47.798Z"
   },
   {
    "duration": 5,
    "start_time": "2022-07-07T16:30:48.403Z"
   },
   {
    "duration": 8,
    "start_time": "2022-07-07T16:30:49.073Z"
   },
   {
    "duration": 26,
    "start_time": "2022-07-07T16:30:51.362Z"
   },
   {
    "duration": 6,
    "start_time": "2022-07-07T16:32:05.426Z"
   },
   {
    "duration": 15,
    "start_time": "2022-07-07T16:32:06.093Z"
   },
   {
    "duration": 21,
    "start_time": "2022-07-07T16:32:07.976Z"
   },
   {
    "duration": 22,
    "start_time": "2022-07-07T16:32:37.690Z"
   },
   {
    "duration": 187,
    "start_time": "2022-07-07T16:44:11.671Z"
   },
   {
    "duration": 253,
    "start_time": "2022-07-07T16:44:55.744Z"
   },
   {
    "duration": 210,
    "start_time": "2022-07-07T16:45:14.488Z"
   },
   {
    "duration": 200,
    "start_time": "2022-07-07T16:45:23.044Z"
   },
   {
    "duration": 275,
    "start_time": "2022-07-07T16:45:30.957Z"
   },
   {
    "duration": 526,
    "start_time": "2022-07-07T16:45:37.839Z"
   },
   {
    "duration": 164,
    "start_time": "2022-07-07T16:45:52.581Z"
   },
   {
    "duration": 195,
    "start_time": "2022-07-07T16:46:04.915Z"
   },
   {
    "duration": 259,
    "start_time": "2022-07-07T16:46:20.865Z"
   },
   {
    "duration": 361,
    "start_time": "2022-07-07T16:47:59.872Z"
   },
   {
    "duration": 240,
    "start_time": "2022-07-07T16:48:40.809Z"
   },
   {
    "duration": 341,
    "start_time": "2022-07-07T16:50:16.702Z"
   },
   {
    "duration": 167,
    "start_time": "2022-07-07T16:50:25.011Z"
   },
   {
    "duration": 162,
    "start_time": "2022-07-07T16:51:22.146Z"
   },
   {
    "duration": 166,
    "start_time": "2022-07-07T16:51:32.481Z"
   },
   {
    "duration": 167,
    "start_time": "2022-07-07T16:51:52.162Z"
   },
   {
    "duration": 199,
    "start_time": "2022-07-07T16:52:03.151Z"
   },
   {
    "duration": 248,
    "start_time": "2022-07-07T16:52:12.103Z"
   },
   {
    "duration": 232,
    "start_time": "2022-07-07T16:52:24.069Z"
   },
   {
    "duration": 365,
    "start_time": "2022-07-07T16:55:01.484Z"
   },
   {
    "duration": 235,
    "start_time": "2022-07-07T16:55:18.780Z"
   },
   {
    "duration": 372,
    "start_time": "2022-07-07T16:55:30.123Z"
   },
   {
    "duration": 251,
    "start_time": "2022-07-07T16:55:52.648Z"
   },
   {
    "duration": 260,
    "start_time": "2022-07-07T17:04:25.265Z"
   },
   {
    "duration": 293,
    "start_time": "2022-07-07T17:04:32.482Z"
   },
   {
    "duration": 276,
    "start_time": "2022-07-07T17:04:54.014Z"
   },
   {
    "duration": 42,
    "start_time": "2022-07-07T18:34:03.401Z"
   },
   {
    "duration": 43,
    "start_time": "2022-07-07T18:45:01.845Z"
   },
   {
    "duration": 39,
    "start_time": "2022-07-07T18:45:51.770Z"
   },
   {
    "duration": 49,
    "start_time": "2022-07-07T18:46:01.381Z"
   },
   {
    "duration": 175,
    "start_time": "2022-07-07T18:46:36.452Z"
   },
   {
    "duration": 18,
    "start_time": "2022-07-07T18:46:38.027Z"
   },
   {
    "duration": 37,
    "start_time": "2022-07-07T18:46:38.520Z"
   },
   {
    "duration": 10,
    "start_time": "2022-07-07T18:46:38.958Z"
   },
   {
    "duration": 5,
    "start_time": "2022-07-07T18:46:43.913Z"
   },
   {
    "duration": 6,
    "start_time": "2022-07-07T18:46:44.306Z"
   },
   {
    "duration": 32,
    "start_time": "2022-07-07T18:46:45.013Z"
   },
   {
    "duration": 29,
    "start_time": "2022-07-07T18:46:45.364Z"
   },
   {
    "duration": 36,
    "start_time": "2022-07-07T18:46:46.427Z"
   },
   {
    "duration": 32,
    "start_time": "2022-07-07T18:46:47.133Z"
   },
   {
    "duration": 22,
    "start_time": "2022-07-07T18:46:47.498Z"
   },
   {
    "duration": 8,
    "start_time": "2022-07-07T18:46:48.195Z"
   },
   {
    "duration": 6,
    "start_time": "2022-07-07T18:46:48.581Z"
   },
   {
    "duration": 11,
    "start_time": "2022-07-07T18:46:48.974Z"
   },
   {
    "duration": 27,
    "start_time": "2022-07-07T18:46:49.765Z"
   },
   {
    "duration": 6,
    "start_time": "2022-07-07T18:46:51.339Z"
   },
   {
    "duration": 14,
    "start_time": "2022-07-07T18:46:51.719Z"
   },
   {
    "duration": 20,
    "start_time": "2022-07-07T18:46:52.533Z"
   },
   {
    "duration": 247,
    "start_time": "2022-07-07T18:46:53.510Z"
   },
   {
    "duration": 49,
    "start_time": "2022-07-07T18:46:57.638Z"
   },
   {
    "duration": 49,
    "start_time": "2022-07-07T18:48:02.017Z"
   },
   {
    "duration": 14,
    "start_time": "2022-07-07T18:48:16.289Z"
   },
   {
    "duration": 706,
    "start_time": "2022-07-07T18:48:28.409Z"
   },
   {
    "duration": 786,
    "start_time": "2022-07-07T18:48:40.515Z"
   },
   {
    "duration": 821,
    "start_time": "2022-07-07T18:56:51.546Z"
   },
   {
    "duration": 173,
    "start_time": "2022-07-07T18:58:17.720Z"
   },
   {
    "duration": 16,
    "start_time": "2022-07-07T18:58:18.114Z"
   },
   {
    "duration": 43,
    "start_time": "2022-07-07T18:58:18.447Z"
   },
   {
    "duration": 9,
    "start_time": "2022-07-07T18:58:18.812Z"
   },
   {
    "duration": 4,
    "start_time": "2022-07-07T18:58:20.141Z"
   },
   {
    "duration": 4,
    "start_time": "2022-07-07T18:58:20.462Z"
   },
   {
    "duration": 31,
    "start_time": "2022-07-07T18:58:21.154Z"
   },
   {
    "duration": 30,
    "start_time": "2022-07-07T18:58:21.515Z"
   },
   {
    "duration": 35,
    "start_time": "2022-07-07T18:58:22.564Z"
   },
   {
    "duration": 23,
    "start_time": "2022-07-07T18:58:23.255Z"
   },
   {
    "duration": 20,
    "start_time": "2022-07-07T18:58:23.651Z"
   },
   {
    "duration": 8,
    "start_time": "2022-07-07T18:58:24.388Z"
   },
   {
    "duration": 6,
    "start_time": "2022-07-07T18:58:24.750Z"
   },
   {
    "duration": 8,
    "start_time": "2022-07-07T18:58:25.102Z"
   },
   {
    "duration": 27,
    "start_time": "2022-07-07T18:58:25.958Z"
   },
   {
    "duration": 11,
    "start_time": "2022-07-07T18:58:27.263Z"
   },
   {
    "duration": 14,
    "start_time": "2022-07-07T18:58:27.693Z"
   },
   {
    "duration": 22,
    "start_time": "2022-07-07T18:58:29.001Z"
   },
   {
    "duration": 250,
    "start_time": "2022-07-07T18:58:30.543Z"
   },
   {
    "duration": 59,
    "start_time": "2022-07-07T18:58:56.103Z"
   },
   {
    "duration": 55,
    "start_time": "2022-07-07T18:59:14.038Z"
   },
   {
    "duration": 59,
    "start_time": "2022-07-07T19:01:07.136Z"
   },
   {
    "duration": 13,
    "start_time": "2022-07-07T19:01:37.043Z"
   },
   {
    "duration": 12,
    "start_time": "2022-07-07T19:01:46.161Z"
   },
   {
    "duration": 815,
    "start_time": "2022-07-07T19:01:58.291Z"
   },
   {
    "duration": 12,
    "start_time": "2022-07-07T19:02:00.640Z"
   },
   {
    "duration": 705,
    "start_time": "2022-07-07T19:02:11.720Z"
   },
   {
    "duration": 11,
    "start_time": "2022-07-07T19:02:23.318Z"
   },
   {
    "duration": 12,
    "start_time": "2022-07-07T19:02:30.476Z"
   },
   {
    "duration": 3,
    "start_time": "2022-07-07T19:03:34.143Z"
   },
   {
    "duration": 169,
    "start_time": "2022-07-07T19:03:34.985Z"
   },
   {
    "duration": 19,
    "start_time": "2022-07-07T19:03:35.507Z"
   },
   {
    "duration": 37,
    "start_time": "2022-07-07T19:03:35.904Z"
   },
   {
    "duration": 9,
    "start_time": "2022-07-07T19:03:36.275Z"
   },
   {
    "duration": 5,
    "start_time": "2022-07-07T19:03:38.163Z"
   },
   {
    "duration": 5,
    "start_time": "2022-07-07T19:03:38.539Z"
   },
   {
    "duration": 29,
    "start_time": "2022-07-07T19:03:39.258Z"
   },
   {
    "duration": 29,
    "start_time": "2022-07-07T19:03:39.619Z"
   },
   {
    "duration": 36,
    "start_time": "2022-07-07T19:03:40.643Z"
   },
   {
    "duration": 22,
    "start_time": "2022-07-07T19:03:41.309Z"
   },
   {
    "duration": 19,
    "start_time": "2022-07-07T19:03:41.637Z"
   },
   {
    "duration": 8,
    "start_time": "2022-07-07T19:03:42.338Z"
   },
   {
    "duration": 5,
    "start_time": "2022-07-07T19:03:42.684Z"
   },
   {
    "duration": 8,
    "start_time": "2022-07-07T19:03:42.994Z"
   },
   {
    "duration": 27,
    "start_time": "2022-07-07T19:03:43.784Z"
   },
   {
    "duration": 6,
    "start_time": "2022-07-07T19:03:44.839Z"
   },
   {
    "duration": 14,
    "start_time": "2022-07-07T19:03:45.201Z"
   },
   {
    "duration": 22,
    "start_time": "2022-07-07T19:03:45.946Z"
   },
   {
    "duration": 238,
    "start_time": "2022-07-07T19:03:46.746Z"
   },
   {
    "duration": 47,
    "start_time": "2022-07-07T19:03:49.749Z"
   },
   {
    "duration": 768,
    "start_time": "2022-07-07T19:03:51.241Z"
   },
   {
    "duration": 12,
    "start_time": "2022-07-07T19:03:52.095Z"
   },
   {
    "duration": 12,
    "start_time": "2022-07-07T19:04:28.935Z"
   },
   {
    "duration": 13,
    "start_time": "2022-07-07T19:04:54.287Z"
   },
   {
    "duration": 13,
    "start_time": "2022-07-07T19:05:06.097Z"
   },
   {
    "duration": 31,
    "start_time": "2022-07-07T19:05:42.237Z"
   },
   {
    "duration": 15,
    "start_time": "2022-07-07T19:07:54.852Z"
   },
   {
    "duration": 171,
    "start_time": "2022-07-07T19:09:39.784Z"
   },
   {
    "duration": 18,
    "start_time": "2022-07-07T19:09:40.144Z"
   },
   {
    "duration": 59,
    "start_time": "2022-07-07T19:09:40.485Z"
   },
   {
    "duration": 15,
    "start_time": "2022-07-07T19:09:40.811Z"
   },
   {
    "duration": 6,
    "start_time": "2022-07-07T19:09:42.264Z"
   },
   {
    "duration": 4,
    "start_time": "2022-07-07T19:09:42.662Z"
   },
   {
    "duration": 31,
    "start_time": "2022-07-07T19:09:43.398Z"
   },
   {
    "duration": 29,
    "start_time": "2022-07-07T19:09:43.740Z"
   },
   {
    "duration": 39,
    "start_time": "2022-07-07T19:09:44.814Z"
   },
   {
    "duration": 23,
    "start_time": "2022-07-07T19:09:45.544Z"
   },
   {
    "duration": 20,
    "start_time": "2022-07-07T19:09:45.907Z"
   },
   {
    "duration": 8,
    "start_time": "2022-07-07T19:09:46.688Z"
   },
   {
    "duration": 6,
    "start_time": "2022-07-07T19:09:47.089Z"
   },
   {
    "duration": 9,
    "start_time": "2022-07-07T19:09:47.516Z"
   },
   {
    "duration": 27,
    "start_time": "2022-07-07T19:09:48.670Z"
   },
   {
    "duration": 6,
    "start_time": "2022-07-07T19:09:50.506Z"
   },
   {
    "duration": 14,
    "start_time": "2022-07-07T19:09:51.236Z"
   },
   {
    "duration": 20,
    "start_time": "2022-07-07T19:09:52.257Z"
   },
   {
    "duration": 253,
    "start_time": "2022-07-07T19:09:53.421Z"
   },
   {
    "duration": 51,
    "start_time": "2022-07-07T19:09:56.103Z"
   },
   {
    "duration": 792,
    "start_time": "2022-07-07T19:10:00.021Z"
   },
   {
    "duration": 18,
    "start_time": "2022-07-07T19:10:07.363Z"
   },
   {
    "duration": 13,
    "start_time": "2022-07-07T19:10:14.341Z"
   },
   {
    "duration": 28,
    "start_time": "2022-07-07T19:10:54.448Z"
   },
   {
    "duration": 49,
    "start_time": "2022-07-07T19:17:41.126Z"
   },
   {
    "duration": 6,
    "start_time": "2022-07-07T19:24:08.036Z"
   },
   {
    "duration": 73,
    "start_time": "2022-07-07T19:25:06.448Z"
   },
   {
    "duration": 9,
    "start_time": "2022-07-07T19:39:00.399Z"
   },
   {
    "duration": 94,
    "start_time": "2022-07-07T19:44:42.850Z"
   },
   {
    "duration": 52,
    "start_time": "2022-07-07T19:45:09.762Z"
   },
   {
    "duration": 59,
    "start_time": "2022-07-07T19:45:15.391Z"
   },
   {
    "duration": 210,
    "start_time": "2022-07-07T19:45:22.450Z"
   },
   {
    "duration": 16,
    "start_time": "2022-07-07T19:45:22.836Z"
   },
   {
    "duration": 116,
    "start_time": "2022-07-07T19:45:23.352Z"
   },
   {
    "duration": 9,
    "start_time": "2022-07-07T19:45:23.708Z"
   },
   {
    "duration": 4,
    "start_time": "2022-07-07T19:45:25.117Z"
   },
   {
    "duration": 4,
    "start_time": "2022-07-07T19:45:25.472Z"
   },
   {
    "duration": 30,
    "start_time": "2022-07-07T19:45:26.194Z"
   },
   {
    "duration": 31,
    "start_time": "2022-07-07T19:45:26.549Z"
   },
   {
    "duration": 50,
    "start_time": "2022-07-07T19:45:27.618Z"
   },
   {
    "duration": 23,
    "start_time": "2022-07-07T19:45:28.346Z"
   },
   {
    "duration": 22,
    "start_time": "2022-07-07T19:45:28.685Z"
   },
   {
    "duration": 7,
    "start_time": "2022-07-07T19:45:29.394Z"
   },
   {
    "duration": 5,
    "start_time": "2022-07-07T19:45:29.764Z"
   },
   {
    "duration": 9,
    "start_time": "2022-07-07T19:45:30.101Z"
   },
   {
    "duration": 27,
    "start_time": "2022-07-07T19:45:30.858Z"
   },
   {
    "duration": 6,
    "start_time": "2022-07-07T19:45:32.032Z"
   },
   {
    "duration": 13,
    "start_time": "2022-07-07T19:45:32.458Z"
   },
   {
    "duration": 20,
    "start_time": "2022-07-07T19:45:33.329Z"
   },
   {
    "duration": 249,
    "start_time": "2022-07-07T19:45:34.128Z"
   },
   {
    "duration": 47,
    "start_time": "2022-07-07T19:45:36.266Z"
   },
   {
    "duration": 767,
    "start_time": "2022-07-07T19:45:37.057Z"
   },
   {
    "duration": 12,
    "start_time": "2022-07-07T19:45:37.874Z"
   },
   {
    "duration": 13,
    "start_time": "2022-07-07T19:45:38.337Z"
   },
   {
    "duration": 20,
    "start_time": "2022-07-07T19:45:39.257Z"
   },
   {
    "duration": 49,
    "start_time": "2022-07-07T19:45:40.247Z"
   },
   {
    "duration": 7,
    "start_time": "2022-07-07T19:45:44.644Z"
   },
   {
    "duration": 53,
    "start_time": "2022-07-07T19:46:03.313Z"
   },
   {
    "duration": 1688,
    "start_time": "2022-07-07T20:37:20.212Z"
   },
   {
    "duration": 14,
    "start_time": "2022-07-07T20:37:54.487Z"
   },
   {
    "duration": 15,
    "start_time": "2022-07-07T20:38:06.572Z"
   },
   {
    "duration": 18,
    "start_time": "2022-07-07T20:39:27.796Z"
   },
   {
    "duration": 225,
    "start_time": "2022-07-07T20:39:34.237Z"
   },
   {
    "duration": 216,
    "start_time": "2022-07-07T20:39:46.603Z"
   },
   {
    "duration": 3,
    "start_time": "2022-07-07T20:40:00.574Z"
   },
   {
    "duration": 230,
    "start_time": "2022-07-07T20:40:00.915Z"
   },
   {
    "duration": 17,
    "start_time": "2022-07-07T20:40:01.234Z"
   },
   {
    "duration": 54,
    "start_time": "2022-07-07T20:40:01.563Z"
   },
   {
    "duration": 11,
    "start_time": "2022-07-07T20:40:01.887Z"
   },
   {
    "duration": 6,
    "start_time": "2022-07-07T20:40:03.217Z"
   },
   {
    "duration": 5,
    "start_time": "2022-07-07T20:40:03.553Z"
   },
   {
    "duration": 34,
    "start_time": "2022-07-07T20:40:04.286Z"
   },
   {
    "duration": 29,
    "start_time": "2022-07-07T20:40:04.655Z"
   },
   {
    "duration": 37,
    "start_time": "2022-07-07T20:40:05.704Z"
   },
   {
    "duration": 22,
    "start_time": "2022-07-07T20:40:06.444Z"
   },
   {
    "duration": 21,
    "start_time": "2022-07-07T20:40:06.812Z"
   },
   {
    "duration": 7,
    "start_time": "2022-07-07T20:40:07.574Z"
   },
   {
    "duration": 6,
    "start_time": "2022-07-07T20:40:07.931Z"
   },
   {
    "duration": 8,
    "start_time": "2022-07-07T20:40:08.277Z"
   },
   {
    "duration": 26,
    "start_time": "2022-07-07T20:40:08.934Z"
   },
   {
    "duration": 6,
    "start_time": "2022-07-07T20:40:10.057Z"
   },
   {
    "duration": 15,
    "start_time": "2022-07-07T20:40:10.414Z"
   },
   {
    "duration": 22,
    "start_time": "2022-07-07T20:40:11.125Z"
   },
   {
    "duration": 257,
    "start_time": "2022-07-07T20:40:11.853Z"
   },
   {
    "duration": 53,
    "start_time": "2022-07-07T20:40:13.808Z"
   },
   {
    "duration": 750,
    "start_time": "2022-07-07T20:40:14.621Z"
   },
   {
    "duration": 11,
    "start_time": "2022-07-07T20:40:15.488Z"
   },
   {
    "duration": 12,
    "start_time": "2022-07-07T20:40:15.930Z"
   },
   {
    "duration": 18,
    "start_time": "2022-07-07T20:40:16.902Z"
   },
   {
    "duration": 62,
    "start_time": "2022-07-07T20:40:17.910Z"
   },
   {
    "duration": 50,
    "start_time": "2022-07-07T20:40:19.149Z"
   },
   {
    "duration": 7,
    "start_time": "2022-07-07T20:40:21.678Z"
   },
   {
    "duration": 1620,
    "start_time": "2022-07-07T20:40:45.615Z"
   },
   {
    "duration": 16,
    "start_time": "2022-07-07T20:40:50.484Z"
   },
   {
    "duration": 19,
    "start_time": "2022-07-07T20:40:51.523Z"
   },
   {
    "duration": 350,
    "start_time": "2022-07-07T20:44:13.829Z"
   },
   {
    "duration": 17,
    "start_time": "2022-07-07T20:44:14.194Z"
   },
   {
    "duration": 50,
    "start_time": "2022-07-07T20:44:14.593Z"
   },
   {
    "duration": 10,
    "start_time": "2022-07-07T20:44:15.644Z"
   },
   {
    "duration": 5,
    "start_time": "2022-07-07T20:44:17.079Z"
   },
   {
    "duration": 6,
    "start_time": "2022-07-07T20:44:17.430Z"
   },
   {
    "duration": 34,
    "start_time": "2022-07-07T20:44:18.154Z"
   },
   {
    "duration": 30,
    "start_time": "2022-07-07T20:44:18.507Z"
   },
   {
    "duration": 36,
    "start_time": "2022-07-07T20:44:19.551Z"
   },
   {
    "duration": 23,
    "start_time": "2022-07-07T20:44:20.307Z"
   },
   {
    "duration": 22,
    "start_time": "2022-07-07T20:44:20.686Z"
   },
   {
    "duration": 8,
    "start_time": "2022-07-07T20:44:21.427Z"
   },
   {
    "duration": 5,
    "start_time": "2022-07-07T20:44:21.819Z"
   },
   {
    "duration": 8,
    "start_time": "2022-07-07T20:44:22.219Z"
   },
   {
    "duration": 26,
    "start_time": "2022-07-07T20:44:23.041Z"
   },
   {
    "duration": 7,
    "start_time": "2022-07-07T20:44:24.229Z"
   },
   {
    "duration": 17,
    "start_time": "2022-07-07T20:44:24.627Z"
   },
   {
    "duration": 34,
    "start_time": "2022-07-07T20:44:25.400Z"
   },
   {
    "duration": 281,
    "start_time": "2022-07-07T20:44:26.195Z"
   },
   {
    "duration": 58,
    "start_time": "2022-07-07T20:44:28.296Z"
   },
   {
    "duration": 725,
    "start_time": "2022-07-07T20:44:29.414Z"
   },
   {
    "duration": 12,
    "start_time": "2022-07-07T20:44:30.921Z"
   },
   {
    "duration": 13,
    "start_time": "2022-07-07T20:44:32.394Z"
   },
   {
    "duration": 21,
    "start_time": "2022-07-07T20:44:41.724Z"
   },
   {
    "duration": 54,
    "start_time": "2022-07-07T20:44:42.618Z"
   },
   {
    "duration": 63,
    "start_time": "2022-07-07T20:44:46.291Z"
   },
   {
    "duration": 5,
    "start_time": "2022-07-07T20:44:47.891Z"
   },
   {
    "duration": 1717,
    "start_time": "2022-07-07T20:44:58.193Z"
   },
   {
    "duration": 17,
    "start_time": "2022-07-07T20:45:00.802Z"
   },
   {
    "duration": 12,
    "start_time": "2022-07-07T20:51:54.613Z"
   },
   {
    "duration": 1043,
    "start_time": "2022-07-07T20:52:04.410Z"
   },
   {
    "duration": 18,
    "start_time": "2022-07-07T20:52:16.258Z"
   },
   {
    "duration": 203,
    "start_time": "2022-07-07T20:58:54.945Z"
   },
   {
    "duration": 16,
    "start_time": "2022-07-07T20:58:55.310Z"
   },
   {
    "duration": 38,
    "start_time": "2022-07-07T20:58:55.632Z"
   },
   {
    "duration": 9,
    "start_time": "2022-07-07T20:58:55.964Z"
   },
   {
    "duration": 6,
    "start_time": "2022-07-07T20:58:57.346Z"
   },
   {
    "duration": 6,
    "start_time": "2022-07-07T20:58:57.682Z"
   },
   {
    "duration": 31,
    "start_time": "2022-07-07T20:58:58.328Z"
   },
   {
    "duration": 28,
    "start_time": "2022-07-07T20:58:58.649Z"
   },
   {
    "duration": 37,
    "start_time": "2022-07-07T20:58:59.807Z"
   },
   {
    "duration": 23,
    "start_time": "2022-07-07T20:59:00.481Z"
   },
   {
    "duration": 22,
    "start_time": "2022-07-07T20:59:00.825Z"
   },
   {
    "duration": 9,
    "start_time": "2022-07-07T20:59:01.507Z"
   },
   {
    "duration": 6,
    "start_time": "2022-07-07T20:59:01.854Z"
   },
   {
    "duration": 8,
    "start_time": "2022-07-07T20:59:02.204Z"
   },
   {
    "duration": 25,
    "start_time": "2022-07-07T20:59:02.955Z"
   },
   {
    "duration": 6,
    "start_time": "2022-07-07T20:59:04.000Z"
   },
   {
    "duration": 14,
    "start_time": "2022-07-07T20:59:04.370Z"
   },
   {
    "duration": 23,
    "start_time": "2022-07-07T20:59:05.129Z"
   },
   {
    "duration": 290,
    "start_time": "2022-07-07T20:59:05.990Z"
   },
   {
    "duration": 51,
    "start_time": "2022-07-07T20:59:07.951Z"
   },
   {
    "duration": 723,
    "start_time": "2022-07-07T20:59:08.759Z"
   },
   {
    "duration": 12,
    "start_time": "2022-07-07T20:59:09.580Z"
   },
   {
    "duration": 12,
    "start_time": "2022-07-07T20:59:10.048Z"
   },
   {
    "duration": 20,
    "start_time": "2022-07-07T20:59:10.905Z"
   },
   {
    "duration": 50,
    "start_time": "2022-07-07T20:59:11.803Z"
   },
   {
    "duration": 50,
    "start_time": "2022-07-07T20:59:15.961Z"
   },
   {
    "duration": 5,
    "start_time": "2022-07-07T20:59:18.609Z"
   },
   {
    "duration": 1612,
    "start_time": "2022-07-07T20:59:28.074Z"
   },
   {
    "duration": 1035,
    "start_time": "2022-07-07T21:04:23.819Z"
   },
   {
    "duration": 1010,
    "start_time": "2022-07-07T21:04:32.218Z"
   },
   {
    "duration": 741,
    "start_time": "2022-07-07T21:06:06.320Z"
   },
   {
    "duration": 8,
    "start_time": "2022-07-07T21:06:26.080Z"
   },
   {
    "duration": 203,
    "start_time": "2022-07-07T21:08:14.143Z"
   },
   {
    "duration": 208,
    "start_time": "2022-07-07T21:08:24.776Z"
   },
   {
    "duration": 242,
    "start_time": "2022-07-07T21:08:38.320Z"
   },
   {
    "duration": 225,
    "start_time": "2022-07-07T21:09:24.193Z"
   },
   {
    "duration": 9,
    "start_time": "2022-07-07T21:10:14.050Z"
   },
   {
    "duration": 209,
    "start_time": "2022-07-07T21:11:14.963Z"
   },
   {
    "duration": 18,
    "start_time": "2022-07-07T21:11:15.279Z"
   },
   {
    "duration": 39,
    "start_time": "2022-07-07T21:11:15.619Z"
   },
   {
    "duration": 11,
    "start_time": "2022-07-07T21:11:15.938Z"
   },
   {
    "duration": 6,
    "start_time": "2022-07-07T21:11:17.280Z"
   },
   {
    "duration": 7,
    "start_time": "2022-07-07T21:11:17.604Z"
   },
   {
    "duration": 39,
    "start_time": "2022-07-07T21:11:18.288Z"
   },
   {
    "duration": 30,
    "start_time": "2022-07-07T21:11:18.693Z"
   },
   {
    "duration": 37,
    "start_time": "2022-07-07T21:11:19.988Z"
   },
   {
    "duration": 22,
    "start_time": "2022-07-07T21:11:20.689Z"
   },
   {
    "duration": 33,
    "start_time": "2022-07-07T21:11:21.015Z"
   },
   {
    "duration": 7,
    "start_time": "2022-07-07T21:11:21.708Z"
   },
   {
    "duration": 6,
    "start_time": "2022-07-07T21:11:22.083Z"
   },
   {
    "duration": 7,
    "start_time": "2022-07-07T21:11:22.458Z"
   },
   {
    "duration": 31,
    "start_time": "2022-07-07T21:11:23.222Z"
   },
   {
    "duration": 7,
    "start_time": "2022-07-07T21:11:24.360Z"
   },
   {
    "duration": 13,
    "start_time": "2022-07-07T21:11:24.725Z"
   },
   {
    "duration": 20,
    "start_time": "2022-07-07T21:11:25.463Z"
   },
   {
    "duration": 248,
    "start_time": "2022-07-07T21:11:26.256Z"
   },
   {
    "duration": 67,
    "start_time": "2022-07-07T21:11:28.341Z"
   },
   {
    "duration": 662,
    "start_time": "2022-07-07T21:11:29.185Z"
   },
   {
    "duration": 11,
    "start_time": "2022-07-07T21:11:30.094Z"
   },
   {
    "duration": 12,
    "start_time": "2022-07-07T21:11:30.537Z"
   },
   {
    "duration": 26,
    "start_time": "2022-07-07T21:11:31.392Z"
   },
   {
    "duration": 62,
    "start_time": "2022-07-07T21:11:32.347Z"
   },
   {
    "duration": 58,
    "start_time": "2022-07-07T21:11:34.535Z"
   },
   {
    "duration": 6,
    "start_time": "2022-07-07T21:11:44.974Z"
   },
   {
    "duration": 1813,
    "start_time": "2022-07-07T21:12:07.858Z"
   },
   {
    "duration": 17,
    "start_time": "2022-07-07T21:12:09.673Z"
   },
   {
    "duration": 1107,
    "start_time": "2022-07-07T21:12:14.809Z"
   },
   {
    "duration": 798,
    "start_time": "2022-07-07T21:15:19.084Z"
   },
   {
    "duration": 22,
    "start_time": "2022-07-07T21:15:51.792Z"
   },
   {
    "duration": 536,
    "start_time": "2022-07-07T21:17:55.301Z"
   },
   {
    "duration": 448,
    "start_time": "2022-07-07T21:18:30.569Z"
   },
   {
    "duration": 17,
    "start_time": "2022-07-07T21:18:31.019Z"
   },
   {
    "duration": 47,
    "start_time": "2022-07-07T21:18:31.375Z"
   },
   {
    "duration": 9,
    "start_time": "2022-07-07T21:18:31.718Z"
   },
   {
    "duration": 6,
    "start_time": "2022-07-07T21:18:33.172Z"
   },
   {
    "duration": 5,
    "start_time": "2022-07-07T21:18:33.548Z"
   },
   {
    "duration": 38,
    "start_time": "2022-07-07T21:18:34.306Z"
   },
   {
    "duration": 30,
    "start_time": "2022-07-07T21:18:34.693Z"
   },
   {
    "duration": 35,
    "start_time": "2022-07-07T21:18:35.761Z"
   },
   {
    "duration": 21,
    "start_time": "2022-07-07T21:18:36.503Z"
   },
   {
    "duration": 22,
    "start_time": "2022-07-07T21:18:36.873Z"
   },
   {
    "duration": 8,
    "start_time": "2022-07-07T21:18:37.668Z"
   },
   {
    "duration": 6,
    "start_time": "2022-07-07T21:18:38.048Z"
   },
   {
    "duration": 8,
    "start_time": "2022-07-07T21:18:38.406Z"
   },
   {
    "duration": 28,
    "start_time": "2022-07-07T21:18:39.131Z"
   },
   {
    "duration": 6,
    "start_time": "2022-07-07T21:18:40.259Z"
   },
   {
    "duration": 13,
    "start_time": "2022-07-07T21:18:40.629Z"
   },
   {
    "duration": 20,
    "start_time": "2022-07-07T21:18:41.454Z"
   },
   {
    "duration": 254,
    "start_time": "2022-07-07T21:18:42.210Z"
   },
   {
    "duration": 50,
    "start_time": "2022-07-07T21:18:44.256Z"
   },
   {
    "duration": 685,
    "start_time": "2022-07-07T21:18:45.119Z"
   },
   {
    "duration": 11,
    "start_time": "2022-07-07T21:18:45.986Z"
   },
   {
    "duration": 12,
    "start_time": "2022-07-07T21:18:46.389Z"
   },
   {
    "duration": 19,
    "start_time": "2022-07-07T21:18:47.256Z"
   },
   {
    "duration": 52,
    "start_time": "2022-07-07T21:18:48.109Z"
   },
   {
    "duration": 48,
    "start_time": "2022-07-07T21:18:48.990Z"
   },
   {
    "duration": 7,
    "start_time": "2022-07-07T21:18:49.927Z"
   },
   {
    "duration": 1709,
    "start_time": "2022-07-07T21:18:59.953Z"
   },
   {
    "duration": 14,
    "start_time": "2022-07-07T21:19:01.664Z"
   },
   {
    "duration": 989,
    "start_time": "2022-07-07T21:19:01.680Z"
   },
   {
    "duration": 14,
    "start_time": "2022-07-07T21:19:02.671Z"
   },
   {
    "duration": 23,
    "start_time": "2022-07-07T21:19:12.702Z"
   },
   {
    "duration": 10,
    "start_time": "2022-07-07T21:23:06.066Z"
   },
   {
    "duration": 8,
    "start_time": "2022-07-07T21:25:57.945Z"
   },
   {
    "duration": 12,
    "start_time": "2022-07-07T21:26:52.753Z"
   },
   {
    "duration": 12,
    "start_time": "2022-07-07T21:27:56.904Z"
   },
   {
    "duration": 12,
    "start_time": "2022-07-07T21:28:07.570Z"
   },
   {
    "duration": 12,
    "start_time": "2022-07-07T21:29:21.308Z"
   },
   {
    "duration": 255,
    "start_time": "2022-07-07T21:29:36.173Z"
   },
   {
    "duration": 16,
    "start_time": "2022-07-07T21:29:36.567Z"
   },
   {
    "duration": 37,
    "start_time": "2022-07-07T21:29:36.919Z"
   },
   {
    "duration": 12,
    "start_time": "2022-07-07T21:29:37.250Z"
   },
   {
    "duration": 5,
    "start_time": "2022-07-07T21:29:38.678Z"
   },
   {
    "duration": 5,
    "start_time": "2022-07-07T21:29:39.079Z"
   },
   {
    "duration": 31,
    "start_time": "2022-07-07T21:29:39.802Z"
   },
   {
    "duration": 27,
    "start_time": "2022-07-07T21:29:40.177Z"
   },
   {
    "duration": 50,
    "start_time": "2022-07-07T21:29:41.275Z"
   },
   {
    "duration": 22,
    "start_time": "2022-07-07T21:29:42.018Z"
   },
   {
    "duration": 19,
    "start_time": "2022-07-07T21:29:42.415Z"
   },
   {
    "duration": 7,
    "start_time": "2022-07-07T21:29:43.146Z"
   },
   {
    "duration": 7,
    "start_time": "2022-07-07T21:29:43.517Z"
   },
   {
    "duration": 7,
    "start_time": "2022-07-07T21:29:43.954Z"
   },
   {
    "duration": 30,
    "start_time": "2022-07-07T21:29:44.801Z"
   },
   {
    "duration": 6,
    "start_time": "2022-07-07T21:29:46.045Z"
   },
   {
    "duration": 14,
    "start_time": "2022-07-07T21:29:46.457Z"
   },
   {
    "duration": 24,
    "start_time": "2022-07-07T21:29:47.268Z"
   },
   {
    "duration": 237,
    "start_time": "2022-07-07T21:29:48.116Z"
   },
   {
    "duration": 46,
    "start_time": "2022-07-07T21:29:50.438Z"
   },
   {
    "duration": 734,
    "start_time": "2022-07-07T21:29:51.260Z"
   },
   {
    "duration": 12,
    "start_time": "2022-07-07T21:29:52.013Z"
   },
   {
    "duration": 11,
    "start_time": "2022-07-07T21:29:52.429Z"
   },
   {
    "duration": 17,
    "start_time": "2022-07-07T21:29:53.276Z"
   },
   {
    "duration": 49,
    "start_time": "2022-07-07T21:29:54.144Z"
   },
   {
    "duration": 55,
    "start_time": "2022-07-07T21:29:55.039Z"
   },
   {
    "duration": 6,
    "start_time": "2022-07-07T21:29:55.994Z"
   },
   {
    "duration": 1681,
    "start_time": "2022-07-07T21:29:58.678Z"
   },
   {
    "duration": 15,
    "start_time": "2022-07-07T21:30:00.361Z"
   },
   {
    "duration": 1192,
    "start_time": "2022-07-07T21:30:00.378Z"
   },
   {
    "duration": 16,
    "start_time": "2022-07-07T21:30:02.197Z"
   },
   {
    "duration": 24,
    "start_time": "2022-07-07T21:30:02.666Z"
   },
   {
    "duration": 8,
    "start_time": "2022-07-07T21:30:15.769Z"
   },
   {
    "duration": 8,
    "start_time": "2022-07-07T21:30:20.577Z"
   },
   {
    "duration": 72,
    "start_time": "2022-07-07T21:32:55.962Z"
   },
   {
    "duration": 7,
    "start_time": "2022-07-07T21:33:45.299Z"
   },
   {
    "duration": 3,
    "start_time": "2022-07-07T21:35:45.831Z"
   },
   {
    "duration": 214,
    "start_time": "2022-07-07T21:35:46.407Z"
   },
   {
    "duration": 17,
    "start_time": "2022-07-07T21:35:46.746Z"
   },
   {
    "duration": 42,
    "start_time": "2022-07-07T21:35:47.069Z"
   },
   {
    "duration": 11,
    "start_time": "2022-07-07T21:35:47.376Z"
   },
   {
    "duration": 5,
    "start_time": "2022-07-07T21:35:48.779Z"
   },
   {
    "duration": 5,
    "start_time": "2022-07-07T21:35:49.125Z"
   },
   {
    "duration": 31,
    "start_time": "2022-07-07T21:35:49.842Z"
   },
   {
    "duration": 29,
    "start_time": "2022-07-07T21:35:50.179Z"
   },
   {
    "duration": 36,
    "start_time": "2022-07-07T21:35:51.206Z"
   },
   {
    "duration": 22,
    "start_time": "2022-07-07T21:35:51.927Z"
   },
   {
    "duration": 20,
    "start_time": "2022-07-07T21:35:52.264Z"
   },
   {
    "duration": 7,
    "start_time": "2022-07-07T21:35:52.961Z"
   },
   {
    "duration": 5,
    "start_time": "2022-07-07T21:35:53.322Z"
   },
   {
    "duration": 8,
    "start_time": "2022-07-07T21:35:53.698Z"
   },
   {
    "duration": 26,
    "start_time": "2022-07-07T21:35:54.423Z"
   },
   {
    "duration": 7,
    "start_time": "2022-07-07T21:35:55.556Z"
   },
   {
    "duration": 13,
    "start_time": "2022-07-07T21:35:55.941Z"
   },
   {
    "duration": 21,
    "start_time": "2022-07-07T21:35:56.729Z"
   },
   {
    "duration": 238,
    "start_time": "2022-07-07T21:35:57.555Z"
   },
   {
    "duration": 47,
    "start_time": "2022-07-07T21:35:59.461Z"
   },
   {
    "duration": 716,
    "start_time": "2022-07-07T21:36:00.302Z"
   },
   {
    "duration": 12,
    "start_time": "2022-07-07T21:36:01.117Z"
   },
   {
    "duration": 12,
    "start_time": "2022-07-07T21:36:01.562Z"
   },
   {
    "duration": 16,
    "start_time": "2022-07-07T21:36:02.349Z"
   },
   {
    "duration": 49,
    "start_time": "2022-07-07T21:36:03.197Z"
   },
   {
    "duration": 52,
    "start_time": "2022-07-07T21:36:03.999Z"
   },
   {
    "duration": 6,
    "start_time": "2022-07-07T21:36:04.797Z"
   },
   {
    "duration": 1760,
    "start_time": "2022-07-07T21:36:06.270Z"
   },
   {
    "duration": 17,
    "start_time": "2022-07-07T21:36:08.031Z"
   },
   {
    "duration": 1023,
    "start_time": "2022-07-07T21:36:08.049Z"
   },
   {
    "duration": 14,
    "start_time": "2022-07-07T21:36:09.074Z"
   },
   {
    "duration": 35,
    "start_time": "2022-07-07T21:36:09.090Z"
   },
   {
    "duration": 9,
    "start_time": "2022-07-07T21:36:11.804Z"
   },
   {
    "duration": 174,
    "start_time": "2022-07-07T21:36:21.727Z"
   },
   {
    "duration": 17,
    "start_time": "2022-07-07T21:36:22.079Z"
   },
   {
    "duration": 39,
    "start_time": "2022-07-07T21:36:22.405Z"
   },
   {
    "duration": 10,
    "start_time": "2022-07-07T21:36:22.701Z"
   },
   {
    "duration": 5,
    "start_time": "2022-07-07T21:36:24.095Z"
   },
   {
    "duration": 4,
    "start_time": "2022-07-07T21:36:24.430Z"
   },
   {
    "duration": 30,
    "start_time": "2022-07-07T21:36:25.636Z"
   },
   {
    "duration": 29,
    "start_time": "2022-07-07T21:36:26.000Z"
   },
   {
    "duration": 38,
    "start_time": "2022-07-07T21:36:27.024Z"
   },
   {
    "duration": 22,
    "start_time": "2022-07-07T21:36:27.764Z"
   },
   {
    "duration": 20,
    "start_time": "2022-07-07T21:36:28.121Z"
   },
   {
    "duration": 7,
    "start_time": "2022-07-07T21:36:28.903Z"
   },
   {
    "duration": 6,
    "start_time": "2022-07-07T21:36:29.260Z"
   },
   {
    "duration": 8,
    "start_time": "2022-07-07T21:36:29.647Z"
   },
   {
    "duration": 26,
    "start_time": "2022-07-07T21:36:30.463Z"
   },
   {
    "duration": 6,
    "start_time": "2022-07-07T21:36:31.752Z"
   },
   {
    "duration": 14,
    "start_time": "2022-07-07T21:36:32.199Z"
   },
   {
    "duration": 20,
    "start_time": "2022-07-07T21:36:33.205Z"
   },
   {
    "duration": 261,
    "start_time": "2022-07-07T21:36:34.075Z"
   },
   {
    "duration": 49,
    "start_time": "2022-07-07T21:36:36.277Z"
   },
   {
    "duration": 708,
    "start_time": "2022-07-07T21:36:37.530Z"
   },
   {
    "duration": 13,
    "start_time": "2022-07-07T21:36:39.148Z"
   },
   {
    "duration": 13,
    "start_time": "2022-07-07T21:36:40.479Z"
   },
   {
    "duration": 16,
    "start_time": "2022-07-07T21:36:45.358Z"
   },
   {
    "duration": 48,
    "start_time": "2022-07-07T21:36:46.632Z"
   },
   {
    "duration": 49,
    "start_time": "2022-07-07T21:36:50.132Z"
   },
   {
    "duration": 6,
    "start_time": "2022-07-07T21:36:53.787Z"
   },
   {
    "duration": 1673,
    "start_time": "2022-07-07T21:36:56.546Z"
   },
   {
    "duration": 16,
    "start_time": "2022-07-07T21:36:59.600Z"
   },
   {
    "duration": 1130,
    "start_time": "2022-07-07T21:37:04.962Z"
   },
   {
    "duration": 14,
    "start_time": "2022-07-07T21:37:12.134Z"
   },
   {
    "duration": 23,
    "start_time": "2022-07-07T21:37:13.557Z"
   },
   {
    "duration": 9,
    "start_time": "2022-07-07T21:37:20.929Z"
   },
   {
    "duration": 8,
    "start_time": "2022-07-07T21:37:24.650Z"
   },
   {
    "duration": 6,
    "start_time": "2022-07-07T21:37:29.030Z"
   },
   {
    "duration": 10,
    "start_time": "2022-07-07T21:41:28.741Z"
   },
   {
    "duration": 128,
    "start_time": "2022-07-07T21:41:38.197Z"
   },
   {
    "duration": 112,
    "start_time": "2022-07-07T21:43:25.279Z"
   },
   {
    "duration": 133,
    "start_time": "2022-07-07T21:44:26.807Z"
   },
   {
    "duration": 106,
    "start_time": "2022-07-07T21:44:33.075Z"
   },
   {
    "duration": 126,
    "start_time": "2022-07-07T21:44:36.384Z"
   },
   {
    "duration": 106,
    "start_time": "2022-07-07T21:44:44.863Z"
   },
   {
    "duration": 171,
    "start_time": "2022-07-07T21:46:42.347Z"
   },
   {
    "duration": 11,
    "start_time": "2022-07-07T21:47:15.278Z"
   },
   {
    "duration": 11,
    "start_time": "2022-07-07T21:48:00.896Z"
   },
   {
    "duration": 9,
    "start_time": "2022-07-07T21:48:27.445Z"
   },
   {
    "duration": 10,
    "start_time": "2022-07-07T21:48:45.990Z"
   },
   {
    "duration": 5,
    "start_time": "2022-07-07T21:50:47.959Z"
   },
   {
    "duration": 6,
    "start_time": "2022-07-07T21:50:49.355Z"
   },
   {
    "duration": 108,
    "start_time": "2022-07-07T21:50:56.826Z"
   },
   {
    "duration": 30,
    "start_time": "2022-07-07T22:00:18.381Z"
   },
   {
    "duration": 12,
    "start_time": "2022-07-07T22:00:31.958Z"
   },
   {
    "duration": 50,
    "start_time": "2022-07-07T22:08:26.569Z"
   },
   {
    "duration": 11,
    "start_time": "2022-07-07T22:09:07.401Z"
   },
   {
    "duration": 10,
    "start_time": "2022-07-07T22:09:17.899Z"
   },
   {
    "duration": 10,
    "start_time": "2022-07-07T22:11:56.660Z"
   },
   {
    "duration": 10,
    "start_time": "2022-07-07T22:12:13.704Z"
   },
   {
    "duration": 11,
    "start_time": "2022-07-07T22:12:59.147Z"
   },
   {
    "duration": 121,
    "start_time": "2022-07-07T22:26:30.736Z"
   },
   {
    "duration": 14,
    "start_time": "2022-07-07T22:28:24.373Z"
   },
   {
    "duration": 17,
    "start_time": "2022-07-07T23:02:07.203Z"
   },
   {
    "duration": 17,
    "start_time": "2022-07-07T23:02:20.231Z"
   },
   {
    "duration": 233,
    "start_time": "2022-07-07T23:04:02.995Z"
   },
   {
    "duration": 247,
    "start_time": "2022-07-07T23:06:12.456Z"
   },
   {
    "duration": 181,
    "start_time": "2022-07-07T23:06:22.463Z"
   },
   {
    "duration": 252,
    "start_time": "2022-07-07T23:06:28.572Z"
   },
   {
    "duration": 227,
    "start_time": "2022-07-07T23:07:09.861Z"
   },
   {
    "duration": 17,
    "start_time": "2022-07-07T23:07:10.248Z"
   },
   {
    "duration": 189,
    "start_time": "2022-07-07T23:07:10.614Z"
   },
   {
    "duration": 9,
    "start_time": "2022-07-07T23:07:10.967Z"
   },
   {
    "duration": 5,
    "start_time": "2022-07-07T23:07:12.557Z"
   },
   {
    "duration": 5,
    "start_time": "2022-07-07T23:07:12.934Z"
   },
   {
    "duration": 30,
    "start_time": "2022-07-07T23:07:13.691Z"
   },
   {
    "duration": 29,
    "start_time": "2022-07-07T23:07:14.047Z"
   },
   {
    "duration": 37,
    "start_time": "2022-07-07T23:07:15.286Z"
   },
   {
    "duration": 23,
    "start_time": "2022-07-07T23:07:16.118Z"
   },
   {
    "duration": 22,
    "start_time": "2022-07-07T23:07:16.532Z"
   },
   {
    "duration": 9,
    "start_time": "2022-07-07T23:07:17.308Z"
   },
   {
    "duration": 6,
    "start_time": "2022-07-07T23:07:17.723Z"
   },
   {
    "duration": 8,
    "start_time": "2022-07-07T23:07:18.130Z"
   },
   {
    "duration": 26,
    "start_time": "2022-07-07T23:07:18.928Z"
   },
   {
    "duration": 7,
    "start_time": "2022-07-07T23:07:20.079Z"
   },
   {
    "duration": 14,
    "start_time": "2022-07-07T23:07:20.476Z"
   },
   {
    "duration": 20,
    "start_time": "2022-07-07T23:07:21.308Z"
   },
   {
    "duration": 357,
    "start_time": "2022-07-07T23:07:22.120Z"
   },
   {
    "duration": 45,
    "start_time": "2022-07-07T23:07:24.386Z"
   },
   {
    "duration": 616,
    "start_time": "2022-07-07T23:07:25.266Z"
   },
   {
    "duration": 11,
    "start_time": "2022-07-07T23:07:26.272Z"
   },
   {
    "duration": 12,
    "start_time": "2022-07-07T23:07:26.948Z"
   },
   {
    "duration": 17,
    "start_time": "2022-07-07T23:07:28.184Z"
   },
   {
    "duration": 54,
    "start_time": "2022-07-07T23:07:29.513Z"
   },
   {
    "duration": 53,
    "start_time": "2022-07-07T23:07:30.673Z"
   },
   {
    "duration": 5,
    "start_time": "2022-07-07T23:07:35.367Z"
   },
   {
    "duration": 1686,
    "start_time": "2022-07-07T23:07:38.248Z"
   },
   {
    "duration": 15,
    "start_time": "2022-07-07T23:07:39.935Z"
   },
   {
    "duration": 990,
    "start_time": "2022-07-07T23:07:48.995Z"
   },
   {
    "duration": 16,
    "start_time": "2022-07-07T23:08:05.803Z"
   },
   {
    "duration": 22,
    "start_time": "2022-07-07T23:08:07.789Z"
   },
   {
    "duration": 102,
    "start_time": "2022-07-07T23:09:21.458Z"
   },
   {
    "duration": 104,
    "start_time": "2022-07-07T23:09:47.390Z"
   },
   {
    "duration": 13,
    "start_time": "2022-07-07T23:10:31.110Z"
   },
   {
    "duration": 9,
    "start_time": "2022-07-07T23:11:40.600Z"
   },
   {
    "duration": 8,
    "start_time": "2022-07-07T23:11:45.272Z"
   },
   {
    "duration": 12,
    "start_time": "2022-07-07T23:11:54.810Z"
   },
   {
    "duration": 6,
    "start_time": "2022-07-07T23:11:57.097Z"
   },
   {
    "duration": 6,
    "start_time": "2022-07-07T23:11:57.519Z"
   },
   {
    "duration": 110,
    "start_time": "2022-07-07T23:12:01.396Z"
   },
   {
    "duration": 15,
    "start_time": "2022-07-07T23:12:27.949Z"
   },
   {
    "duration": 59,
    "start_time": "2022-07-07T23:12:39.999Z"
   },
   {
    "duration": 246,
    "start_time": "2022-07-07T23:12:55.445Z"
   },
   {
    "duration": 236,
    "start_time": "2022-07-07T23:13:30.202Z"
   },
   {
    "duration": 233,
    "start_time": "2022-07-07T23:13:42.267Z"
   },
   {
    "duration": 437,
    "start_time": "2022-07-07T23:13:58.354Z"
   },
   {
    "duration": 195,
    "start_time": "2022-07-07T23:23:58.600Z"
   },
   {
    "duration": 338,
    "start_time": "2022-07-07T23:24:07.588Z"
   },
   {
    "duration": 163,
    "start_time": "2022-07-07T23:24:24.833Z"
   },
   {
    "duration": 180,
    "start_time": "2022-07-07T23:24:38.629Z"
   },
   {
    "duration": 13,
    "start_time": "2022-07-07T23:34:36.827Z"
   },
   {
    "duration": 13,
    "start_time": "2022-07-07T23:37:59.228Z"
   },
   {
    "duration": 19,
    "start_time": "2022-07-07T23:38:07.259Z"
   },
   {
    "duration": 235,
    "start_time": "2022-07-07T23:42:40.829Z"
   },
   {
    "duration": 16,
    "start_time": "2022-07-07T23:42:41.200Z"
   },
   {
    "duration": 40,
    "start_time": "2022-07-07T23:42:41.564Z"
   },
   {
    "duration": 9,
    "start_time": "2022-07-07T23:42:41.909Z"
   },
   {
    "duration": 5,
    "start_time": "2022-07-07T23:42:43.425Z"
   },
   {
    "duration": 4,
    "start_time": "2022-07-07T23:42:43.777Z"
   },
   {
    "duration": 36,
    "start_time": "2022-07-07T23:42:44.588Z"
   },
   {
    "duration": 31,
    "start_time": "2022-07-07T23:42:44.969Z"
   },
   {
    "duration": 36,
    "start_time": "2022-07-07T23:42:46.133Z"
   },
   {
    "duration": 22,
    "start_time": "2022-07-07T23:42:46.922Z"
   },
   {
    "duration": 19,
    "start_time": "2022-07-07T23:42:47.377Z"
   },
   {
    "duration": 8,
    "start_time": "2022-07-07T23:42:48.268Z"
   },
   {
    "duration": 7,
    "start_time": "2022-07-07T23:42:49.171Z"
   },
   {
    "duration": 8,
    "start_time": "2022-07-07T23:42:49.624Z"
   },
   {
    "duration": 27,
    "start_time": "2022-07-07T23:42:50.535Z"
   },
   {
    "duration": 6,
    "start_time": "2022-07-07T23:42:51.960Z"
   },
   {
    "duration": 13,
    "start_time": "2022-07-07T23:42:52.446Z"
   },
   {
    "duration": 22,
    "start_time": "2022-07-07T23:42:55.917Z"
   },
   {
    "duration": 158,
    "start_time": "2022-07-07T23:43:42.096Z"
   },
   {
    "duration": 161,
    "start_time": "2022-07-07T23:43:48.331Z"
   },
   {
    "duration": 160,
    "start_time": "2022-07-07T23:43:58.890Z"
   },
   {
    "duration": 169,
    "start_time": "2022-07-07T23:44:13.226Z"
   },
   {
    "duration": 47,
    "start_time": "2022-07-07T23:46:08.330Z"
   },
   {
    "duration": 699,
    "start_time": "2022-07-07T23:46:10.629Z"
   },
   {
    "duration": 12,
    "start_time": "2022-07-07T23:46:14.081Z"
   },
   {
    "duration": 12,
    "start_time": "2022-07-07T23:46:16.268Z"
   },
   {
    "duration": 16,
    "start_time": "2022-07-07T23:46:20.809Z"
   },
   {
    "duration": 48,
    "start_time": "2022-07-07T23:46:31.497Z"
   },
   {
    "duration": 48,
    "start_time": "2022-07-07T23:47:02.550Z"
   },
   {
    "duration": 6,
    "start_time": "2022-07-07T23:47:06.389Z"
   },
   {
    "duration": 1420,
    "start_time": "2022-07-08T10:25:45.698Z"
   },
   {
    "duration": 316,
    "start_time": "2022-07-08T10:25:48.858Z"
   },
   {
    "duration": 18,
    "start_time": "2022-07-08T10:25:49.996Z"
   },
   {
    "duration": 101,
    "start_time": "2022-07-08T10:25:50.609Z"
   },
   {
    "duration": 10,
    "start_time": "2022-07-08T10:25:51.074Z"
   },
   {
    "duration": 6,
    "start_time": "2022-07-08T10:25:52.961Z"
   },
   {
    "duration": 6,
    "start_time": "2022-07-08T10:25:53.359Z"
   },
   {
    "duration": 39,
    "start_time": "2022-07-08T10:25:54.122Z"
   },
   {
    "duration": 33,
    "start_time": "2022-07-08T10:25:54.551Z"
   },
   {
    "duration": 40,
    "start_time": "2022-07-08T10:25:55.758Z"
   },
   {
    "duration": 30,
    "start_time": "2022-07-08T10:25:56.728Z"
   },
   {
    "duration": 21,
    "start_time": "2022-07-08T10:25:57.259Z"
   },
   {
    "duration": 9,
    "start_time": "2022-07-08T10:25:58.566Z"
   },
   {
    "duration": 7,
    "start_time": "2022-07-08T10:25:59.029Z"
   },
   {
    "duration": 11,
    "start_time": "2022-07-08T10:25:59.432Z"
   },
   {
    "duration": 30,
    "start_time": "2022-07-08T10:26:09.027Z"
   },
   {
    "duration": 7,
    "start_time": "2022-07-08T10:26:17.704Z"
   },
   {
    "duration": 14,
    "start_time": "2022-07-08T10:26:18.205Z"
   },
   {
    "duration": 120,
    "start_time": "2022-07-08T10:35:24.070Z"
   },
   {
    "duration": 22,
    "start_time": "2022-07-08T10:35:48.298Z"
   },
   {
    "duration": 219,
    "start_time": "2022-07-08T10:35:49.629Z"
   },
   {
    "duration": 56,
    "start_time": "2022-07-08T10:35:52.898Z"
   },
   {
    "duration": 826,
    "start_time": "2022-07-08T10:35:53.844Z"
   },
   {
    "duration": 14,
    "start_time": "2022-07-08T10:35:54.696Z"
   },
   {
    "duration": 15,
    "start_time": "2022-07-08T10:35:56.129Z"
   },
   {
    "duration": 23,
    "start_time": "2022-07-08T10:35:57.246Z"
   },
   {
    "duration": 61,
    "start_time": "2022-07-08T10:35:59.945Z"
   },
   {
    "duration": 59,
    "start_time": "2022-07-08T10:36:02.589Z"
   },
   {
    "duration": 8,
    "start_time": "2022-07-08T10:36:04.628Z"
   },
   {
    "duration": 24,
    "start_time": "2022-07-08T10:36:11.480Z"
   },
   {
    "duration": 35,
    "start_time": "2022-07-08T10:36:56.704Z"
   },
   {
    "duration": 37,
    "start_time": "2022-07-08T10:37:56.672Z"
   },
   {
    "duration": 186,
    "start_time": "2022-07-08T10:40:10.402Z"
   },
   {
    "duration": 187,
    "start_time": "2022-07-08T10:40:24.073Z"
   },
   {
    "duration": 214,
    "start_time": "2022-07-08T10:42:40.301Z"
   },
   {
    "duration": 237,
    "start_time": "2022-07-08T10:43:37.331Z"
   },
   {
    "duration": 171,
    "start_time": "2022-07-08T10:43:51.412Z"
   },
   {
    "duration": 156,
    "start_time": "2022-07-08T10:44:12.920Z"
   },
   {
    "duration": 89,
    "start_time": "2022-07-08T10:45:00.042Z"
   },
   {
    "duration": 12,
    "start_time": "2022-07-08T10:51:44.152Z"
   },
   {
    "duration": 4,
    "start_time": "2022-07-08T10:53:19.350Z"
   },
   {
    "duration": 5,
    "start_time": "2022-07-08T10:53:37.682Z"
   },
   {
    "duration": 5,
    "start_time": "2022-07-08T10:55:28.177Z"
   },
   {
    "duration": 6,
    "start_time": "2022-07-08T11:01:25.669Z"
   },
   {
    "duration": 5,
    "start_time": "2022-07-08T11:01:52.238Z"
   },
   {
    "duration": 6,
    "start_time": "2022-07-08T11:02:03.967Z"
   },
   {
    "duration": 6,
    "start_time": "2022-07-08T11:02:09.711Z"
   },
   {
    "duration": 12,
    "start_time": "2022-07-08T11:02:28.706Z"
   },
   {
    "duration": 11,
    "start_time": "2022-07-08T11:08:43.025Z"
   },
   {
    "duration": 12,
    "start_time": "2022-07-08T11:08:52.024Z"
   },
   {
    "duration": 5,
    "start_time": "2022-07-08T11:10:07.377Z"
   },
   {
    "duration": 5,
    "start_time": "2022-07-08T11:10:24.813Z"
   },
   {
    "duration": 7,
    "start_time": "2022-07-08T11:10:29.256Z"
   },
   {
    "duration": 7,
    "start_time": "2022-07-08T11:12:41.766Z"
   },
   {
    "duration": 18,
    "start_time": "2022-07-08T11:23:13.941Z"
   },
   {
    "duration": 10,
    "start_time": "2022-07-08T11:23:37.820Z"
   },
   {
    "duration": 23,
    "start_time": "2022-07-08T13:17:07.697Z"
   },
   {
    "duration": 20,
    "start_time": "2022-07-08T13:17:22.261Z"
   },
   {
    "duration": 32,
    "start_time": "2022-07-08T13:17:44.711Z"
   },
   {
    "duration": 23,
    "start_time": "2022-07-08T13:18:20.667Z"
   },
   {
    "duration": 5,
    "start_time": "2022-07-08T13:18:57.211Z"
   },
   {
    "duration": 2093,
    "start_time": "2022-07-08T13:24:31.381Z"
   },
   {
    "duration": 18,
    "start_time": "2022-07-08T13:24:44.308Z"
   },
   {
    "duration": 44,
    "start_time": "2022-07-08T13:27:06.407Z"
   },
   {
    "duration": 25,
    "start_time": "2022-07-08T13:27:28.406Z"
   },
   {
    "duration": 11,
    "start_time": "2022-07-08T13:27:40.676Z"
   },
   {
    "duration": 9,
    "start_time": "2022-07-08T13:28:18.156Z"
   },
   {
    "duration": 11,
    "start_time": "2022-07-08T13:32:20.761Z"
   },
   {
    "duration": 12,
    "start_time": "2022-07-08T13:32:33.170Z"
   },
   {
    "duration": 10,
    "start_time": "2022-07-08T13:32:48.083Z"
   },
   {
    "duration": 17,
    "start_time": "2022-07-08T13:33:05.264Z"
   },
   {
    "duration": 12,
    "start_time": "2022-07-08T13:33:07.491Z"
   },
   {
    "duration": 10,
    "start_time": "2022-07-08T13:33:36.977Z"
   },
   {
    "duration": 8,
    "start_time": "2022-07-08T13:33:41.225Z"
   },
   {
    "duration": 1219,
    "start_time": "2022-07-08T13:35:23.139Z"
   },
   {
    "duration": 19,
    "start_time": "2022-07-08T13:36:18.262Z"
   },
   {
    "duration": 27,
    "start_time": "2022-07-08T13:36:20.012Z"
   },
   {
    "duration": 2076,
    "start_time": "2022-07-08T13:37:19.000Z"
   },
   {
    "duration": 1258,
    "start_time": "2022-07-08T13:37:40.556Z"
   },
   {
    "duration": 19,
    "start_time": "2022-07-08T13:37:47.949Z"
   },
   {
    "duration": 1258,
    "start_time": "2022-07-08T13:37:48.610Z"
   },
   {
    "duration": 16,
    "start_time": "2022-07-08T13:38:02.440Z"
   },
   {
    "duration": 27,
    "start_time": "2022-07-08T13:38:03.158Z"
   },
   {
    "duration": 8,
    "start_time": "2022-07-08T13:40:32.086Z"
   },
   {
    "duration": 15,
    "start_time": "2022-07-08T13:43:59.168Z"
   },
   {
    "duration": 16,
    "start_time": "2022-07-08T13:44:23.314Z"
   },
   {
    "duration": 50,
    "start_time": "2022-07-08T13:47:17.222Z"
   },
   {
    "duration": 22,
    "start_time": "2022-07-08T14:02:34.663Z"
   },
   {
    "duration": 361,
    "start_time": "2022-07-08T14:09:36.712Z"
   },
   {
    "duration": 20,
    "start_time": "2022-07-08T14:09:37.770Z"
   },
   {
    "duration": 112,
    "start_time": "2022-07-08T14:09:38.238Z"
   },
   {
    "duration": 12,
    "start_time": "2022-07-08T14:09:38.925Z"
   },
   {
    "duration": 5,
    "start_time": "2022-07-08T14:09:40.639Z"
   },
   {
    "duration": 6,
    "start_time": "2022-07-08T14:09:41.110Z"
   },
   {
    "duration": 39,
    "start_time": "2022-07-08T14:09:41.964Z"
   },
   {
    "duration": 35,
    "start_time": "2022-07-08T14:09:42.413Z"
   },
   {
    "duration": 70,
    "start_time": "2022-07-08T14:09:43.657Z"
   },
   {
    "duration": 24,
    "start_time": "2022-07-08T14:09:44.518Z"
   },
   {
    "duration": 23,
    "start_time": "2022-07-08T14:09:44.943Z"
   },
   {
    "duration": 16,
    "start_time": "2022-07-08T14:09:45.791Z"
   },
   {
    "duration": 8,
    "start_time": "2022-07-08T14:09:46.177Z"
   },
   {
    "duration": 9,
    "start_time": "2022-07-08T14:09:46.545Z"
   },
   {
    "duration": 35,
    "start_time": "2022-07-08T14:09:47.376Z"
   },
   {
    "duration": 9,
    "start_time": "2022-07-08T14:09:48.605Z"
   },
   {
    "duration": 14,
    "start_time": "2022-07-08T14:09:49.126Z"
   },
   {
    "duration": 29,
    "start_time": "2022-07-08T14:09:50.180Z"
   },
   {
    "duration": 226,
    "start_time": "2022-07-08T14:10:03.573Z"
   },
   {
    "duration": 78,
    "start_time": "2022-07-08T14:10:18.291Z"
   },
   {
    "duration": 911,
    "start_time": "2022-07-08T14:10:26.134Z"
   },
   {
    "duration": 16,
    "start_time": "2022-07-08T14:10:29.774Z"
   },
   {
    "duration": 14,
    "start_time": "2022-07-08T14:10:30.362Z"
   },
   {
    "duration": 25,
    "start_time": "2022-07-08T14:10:33.112Z"
   },
   {
    "duration": 85,
    "start_time": "2022-07-08T14:10:38.847Z"
   },
   {
    "duration": 67,
    "start_time": "2022-07-08T14:13:13.900Z"
   },
   {
    "duration": 6,
    "start_time": "2022-07-08T14:13:42.084Z"
   },
   {
    "duration": 40,
    "start_time": "2022-07-08T14:14:20.688Z"
   },
   {
    "duration": 263,
    "start_time": "2022-07-08T14:14:25.745Z"
   },
   {
    "duration": 235,
    "start_time": "2022-07-08T14:14:31.233Z"
   },
   {
    "duration": 197,
    "start_time": "2022-07-08T14:14:42.250Z"
   },
   {
    "duration": 4,
    "start_time": "2022-07-08T14:14:45.933Z"
   },
   {
    "duration": 2122,
    "start_time": "2022-07-08T14:14:54.095Z"
   },
   {
    "duration": 19,
    "start_time": "2022-07-08T14:15:00.727Z"
   },
   {
    "duration": 1263,
    "start_time": "2022-07-08T14:15:02.598Z"
   },
   {
    "duration": 21,
    "start_time": "2022-07-08T14:17:11.597Z"
   },
   {
    "duration": 29,
    "start_time": "2022-07-08T14:17:13.101Z"
   },
   {
    "duration": 91,
    "start_time": "2022-07-08T14:17:37.087Z"
   },
   {
    "duration": 11,
    "start_time": "2022-07-08T14:17:42.950Z"
   },
   {
    "duration": 83,
    "start_time": "2022-07-08T14:19:36.520Z"
   },
   {
    "duration": 24,
    "start_time": "2022-07-08T14:19:57.930Z"
   },
   {
    "duration": 11,
    "start_time": "2022-07-08T14:20:12.490Z"
   },
   {
    "duration": 494,
    "start_time": "2022-07-08T14:25:49.010Z"
   },
   {
    "duration": 18,
    "start_time": "2022-07-08T14:25:49.506Z"
   },
   {
    "duration": 69,
    "start_time": "2022-07-08T14:25:50.848Z"
   },
   {
    "duration": 12,
    "start_time": "2022-07-08T14:25:51.258Z"
   },
   {
    "duration": 6,
    "start_time": "2022-07-08T14:25:52.777Z"
   },
   {
    "duration": 6,
    "start_time": "2022-07-08T14:25:53.153Z"
   },
   {
    "duration": 36,
    "start_time": "2022-07-08T14:25:53.909Z"
   },
   {
    "duration": 34,
    "start_time": "2022-07-08T14:25:54.276Z"
   },
   {
    "duration": 41,
    "start_time": "2022-07-08T14:25:55.414Z"
   },
   {
    "duration": 40,
    "start_time": "2022-07-08T14:25:56.199Z"
   },
   {
    "duration": 25,
    "start_time": "2022-07-08T14:25:56.580Z"
   },
   {
    "duration": 8,
    "start_time": "2022-07-08T14:25:57.420Z"
   },
   {
    "duration": 5,
    "start_time": "2022-07-08T14:25:57.802Z"
   },
   {
    "duration": 8,
    "start_time": "2022-07-08T14:25:58.182Z"
   },
   {
    "duration": 45,
    "start_time": "2022-07-08T14:25:59.049Z"
   },
   {
    "duration": 6,
    "start_time": "2022-07-08T14:26:10.098Z"
   },
   {
    "duration": 15,
    "start_time": "2022-07-08T14:26:10.829Z"
   },
   {
    "duration": 23,
    "start_time": "2022-07-08T14:26:20.884Z"
   },
   {
    "duration": 200,
    "start_time": "2022-07-08T14:26:33.240Z"
   },
   {
    "duration": 56,
    "start_time": "2022-07-08T14:26:35.500Z"
   },
   {
    "duration": 900,
    "start_time": "2022-07-08T14:26:36.243Z"
   },
   {
    "duration": 12,
    "start_time": "2022-07-08T14:26:37.145Z"
   },
   {
    "duration": 15,
    "start_time": "2022-07-08T14:26:37.371Z"
   },
   {
    "duration": 23,
    "start_time": "2022-07-08T14:26:38.201Z"
   },
   {
    "duration": 58,
    "start_time": "2022-07-08T14:26:39.181Z"
   },
   {
    "duration": 60,
    "start_time": "2022-07-08T14:26:39.988Z"
   },
   {
    "duration": 6,
    "start_time": "2022-07-08T14:26:40.750Z"
   },
   {
    "duration": 31,
    "start_time": "2022-07-08T14:26:41.656Z"
   },
   {
    "duration": 231,
    "start_time": "2022-07-08T14:26:45.895Z"
   },
   {
    "duration": 168,
    "start_time": "2022-07-08T14:26:46.995Z"
   },
   {
    "duration": 5,
    "start_time": "2022-07-08T14:26:49.943Z"
   },
   {
    "duration": 2006,
    "start_time": "2022-07-08T14:26:51.717Z"
   },
   {
    "duration": 19,
    "start_time": "2022-07-08T14:26:53.726Z"
   },
   {
    "duration": 1376,
    "start_time": "2022-07-08T14:26:54.139Z"
   },
   {
    "duration": 22,
    "start_time": "2022-07-08T14:26:56.490Z"
   },
   {
    "duration": 27,
    "start_time": "2022-07-08T14:26:59.126Z"
   },
   {
    "duration": 10,
    "start_time": "2022-07-08T14:27:04.496Z"
   },
   {
    "duration": 22,
    "start_time": "2022-07-08T14:27:06.033Z"
   },
   {
    "duration": 14,
    "start_time": "2022-07-08T14:27:15.387Z"
   },
   {
    "duration": 135,
    "start_time": "2022-07-08T14:27:30.230Z"
   },
   {
    "duration": 22,
    "start_time": "2022-07-08T14:28:15.994Z"
   },
   {
    "duration": 233,
    "start_time": "2022-07-08T14:32:54.316Z"
   },
   {
    "duration": 18,
    "start_time": "2022-07-08T14:32:54.689Z"
   },
   {
    "duration": 76,
    "start_time": "2022-07-08T14:32:55.027Z"
   },
   {
    "duration": 11,
    "start_time": "2022-07-08T14:32:55.361Z"
   },
   {
    "duration": 6,
    "start_time": "2022-07-08T14:32:56.789Z"
   },
   {
    "duration": 7,
    "start_time": "2022-07-08T14:32:57.137Z"
   },
   {
    "duration": 55,
    "start_time": "2022-07-08T14:32:57.863Z"
   },
   {
    "duration": 33,
    "start_time": "2022-07-08T14:32:58.260Z"
   },
   {
    "duration": 40,
    "start_time": "2022-07-08T14:32:59.356Z"
   },
   {
    "duration": 25,
    "start_time": "2022-07-08T14:33:00.110Z"
   },
   {
    "duration": 23,
    "start_time": "2022-07-08T14:33:00.480Z"
   },
   {
    "duration": 8,
    "start_time": "2022-07-08T14:33:01.177Z"
   },
   {
    "duration": 6,
    "start_time": "2022-07-08T14:33:01.538Z"
   },
   {
    "duration": 9,
    "start_time": "2022-07-08T14:33:01.930Z"
   },
   {
    "duration": 31,
    "start_time": "2022-07-08T14:33:02.646Z"
   },
   {
    "duration": 7,
    "start_time": "2022-07-08T14:33:03.713Z"
   },
   {
    "duration": 18,
    "start_time": "2022-07-08T14:33:04.076Z"
   },
   {
    "duration": 23,
    "start_time": "2022-07-08T14:33:04.827Z"
   },
   {
    "duration": 225,
    "start_time": "2022-07-08T14:33:05.530Z"
   },
   {
    "duration": 55,
    "start_time": "2022-07-08T14:33:07.370Z"
   },
   {
    "duration": 922,
    "start_time": "2022-07-08T14:33:08.158Z"
   },
   {
    "duration": 19,
    "start_time": "2022-07-08T14:33:09.082Z"
   },
   {
    "duration": 24,
    "start_time": "2022-07-08T14:33:09.332Z"
   },
   {
    "duration": 24,
    "start_time": "2022-07-08T14:33:10.094Z"
   },
   {
    "duration": 83,
    "start_time": "2022-07-08T14:33:10.916Z"
   },
   {
    "duration": 57,
    "start_time": "2022-07-08T14:33:11.749Z"
   },
   {
    "duration": 6,
    "start_time": "2022-07-08T14:33:12.607Z"
   },
   {
    "duration": 33,
    "start_time": "2022-07-08T14:33:13.457Z"
   },
   {
    "duration": 218,
    "start_time": "2022-07-08T14:33:14.205Z"
   },
   {
    "duration": 172,
    "start_time": "2022-07-08T14:33:14.917Z"
   },
   {
    "duration": 4,
    "start_time": "2022-07-08T14:33:15.358Z"
   },
   {
    "duration": 2011,
    "start_time": "2022-07-08T14:33:16.617Z"
   },
   {
    "duration": 20,
    "start_time": "2022-07-08T14:33:18.630Z"
   },
   {
    "duration": 1272,
    "start_time": "2022-07-08T14:33:18.651Z"
   },
   {
    "duration": 17,
    "start_time": "2022-07-08T14:33:19.925Z"
   },
   {
    "duration": 25,
    "start_time": "2022-07-08T14:33:19.944Z"
   },
   {
    "duration": 29,
    "start_time": "2022-07-08T14:33:19.971Z"
   },
   {
    "duration": 16,
    "start_time": "2022-07-08T14:33:20.694Z"
   },
   {
    "duration": 10,
    "start_time": "2022-07-08T14:33:21.781Z"
   },
   {
    "duration": 132,
    "start_time": "2022-07-08T14:33:24.637Z"
   },
   {
    "duration": 23,
    "start_time": "2022-07-08T14:33:32.454Z"
   },
   {
    "duration": 20,
    "start_time": "2022-07-08T14:37:15.867Z"
   },
   {
    "duration": 5,
    "start_time": "2022-07-08T14:39:30.913Z"
   },
   {
    "duration": 80,
    "start_time": "2022-07-08T14:44:59.931Z"
   },
   {
    "duration": 408,
    "start_time": "2022-07-08T15:20:44.959Z"
   },
   {
    "duration": 1248,
    "start_time": "2022-07-08T19:40:29.493Z"
   },
   {
    "duration": 250,
    "start_time": "2022-07-08T19:40:40.032Z"
   },
   {
    "duration": 19,
    "start_time": "2022-07-08T19:40:40.957Z"
   },
   {
    "duration": 39,
    "start_time": "2022-07-08T19:40:41.505Z"
   },
   {
    "duration": 11,
    "start_time": "2022-07-08T19:40:42.001Z"
   },
   {
    "duration": 6,
    "start_time": "2022-07-08T19:40:43.744Z"
   },
   {
    "duration": 5,
    "start_time": "2022-07-08T19:40:44.198Z"
   },
   {
    "duration": 35,
    "start_time": "2022-07-08T19:40:45.004Z"
   },
   {
    "duration": 28,
    "start_time": "2022-07-08T19:40:45.438Z"
   },
   {
    "duration": 37,
    "start_time": "2022-07-08T19:40:46.747Z"
   },
   {
    "duration": 22,
    "start_time": "2022-07-08T19:40:47.640Z"
   },
   {
    "duration": 21,
    "start_time": "2022-07-08T19:40:48.116Z"
   },
   {
    "duration": 9,
    "start_time": "2022-07-08T19:40:49.003Z"
   },
   {
    "duration": 8,
    "start_time": "2022-07-08T19:40:49.455Z"
   },
   {
    "duration": 11,
    "start_time": "2022-07-08T19:40:49.882Z"
   },
   {
    "duration": 31,
    "start_time": "2022-07-08T19:40:50.800Z"
   },
   {
    "duration": 9,
    "start_time": "2022-07-08T19:40:52.120Z"
   },
   {
    "duration": 22,
    "start_time": "2022-07-08T19:40:52.809Z"
   },
   {
    "duration": 33,
    "start_time": "2022-07-08T19:40:53.828Z"
   },
   {
    "duration": 181,
    "start_time": "2022-07-08T19:40:54.760Z"
   },
   {
    "duration": 49,
    "start_time": "2022-07-08T19:40:57.050Z"
   },
   {
    "duration": 754,
    "start_time": "2022-07-08T19:40:57.992Z"
   },
   {
    "duration": 12,
    "start_time": "2022-07-08T19:40:59.081Z"
   },
   {
    "duration": 12,
    "start_time": "2022-07-08T19:40:59.657Z"
   },
   {
    "duration": 24,
    "start_time": "2022-07-08T19:41:00.684Z"
   },
   {
    "duration": 53,
    "start_time": "2022-07-08T19:41:01.672Z"
   },
   {
    "duration": 59,
    "start_time": "2022-07-08T19:41:02.679Z"
   },
   {
    "duration": 5,
    "start_time": "2022-07-08T19:41:03.647Z"
   },
   {
    "duration": 27,
    "start_time": "2022-07-08T19:41:04.580Z"
   },
   {
    "duration": 193,
    "start_time": "2022-07-08T19:41:05.494Z"
   },
   {
    "duration": 152,
    "start_time": "2022-07-08T19:41:06.537Z"
   },
   {
    "duration": 3,
    "start_time": "2022-07-08T19:41:07.043Z"
   },
   {
    "duration": 1725,
    "start_time": "2022-07-08T19:41:08.776Z"
   },
   {
    "duration": 16,
    "start_time": "2022-07-08T19:41:10.503Z"
   },
   {
    "duration": 1075,
    "start_time": "2022-07-08T19:41:10.521Z"
   },
   {
    "duration": 15,
    "start_time": "2022-07-08T19:41:17.041Z"
   },
   {
    "duration": 22,
    "start_time": "2022-07-08T19:41:17.648Z"
   },
   {
    "duration": 8,
    "start_time": "2022-07-08T19:41:18.781Z"
   },
   {
    "duration": 12,
    "start_time": "2022-07-08T19:41:19.842Z"
   },
   {
    "duration": 9,
    "start_time": "2022-07-08T19:41:21.105Z"
   },
   {
    "duration": 133,
    "start_time": "2022-07-08T19:41:24.616Z"
   },
   {
    "duration": 20,
    "start_time": "2022-07-08T19:41:28.407Z"
   },
   {
    "duration": 17,
    "start_time": "2022-07-08T19:41:34.577Z"
   },
   {
    "duration": 4,
    "start_time": "2022-07-08T19:41:35.184Z"
   },
   {
    "duration": 269,
    "start_time": "2022-07-08T19:41:40.600Z"
   },
   {
    "duration": 149,
    "start_time": "2022-07-08T19:48:08.729Z"
   },
   {
    "duration": 9,
    "start_time": "2022-07-08T19:53:36.480Z"
   },
   {
    "duration": 118577,
    "start_time": "2022-07-08T19:54:58.694Z"
   },
   {
    "duration": 857,
    "start_time": "2022-07-08T20:06:15.205Z"
   },
   {
    "duration": 14,
    "start_time": "2022-07-08T20:17:33.614Z"
   },
   {
    "duration": 15,
    "start_time": "2022-07-08T20:18:07.435Z"
   },
   {
    "duration": 4,
    "start_time": "2022-07-08T20:18:11.425Z"
   },
   {
    "duration": 271,
    "start_time": "2022-07-08T20:18:11.785Z"
   },
   {
    "duration": 22,
    "start_time": "2022-07-08T20:18:12.141Z"
   },
   {
    "duration": 37,
    "start_time": "2022-07-08T20:18:12.448Z"
   },
   {
    "duration": 10,
    "start_time": "2022-07-08T20:18:12.774Z"
   },
   {
    "duration": 5,
    "start_time": "2022-07-08T20:18:14.077Z"
   },
   {
    "duration": 6,
    "start_time": "2022-07-08T20:18:14.452Z"
   },
   {
    "duration": 31,
    "start_time": "2022-07-08T20:18:15.175Z"
   },
   {
    "duration": 30,
    "start_time": "2022-07-08T20:18:15.512Z"
   },
   {
    "duration": 38,
    "start_time": "2022-07-08T20:18:16.600Z"
   },
   {
    "duration": 22,
    "start_time": "2022-07-08T20:18:17.337Z"
   },
   {
    "duration": 21,
    "start_time": "2022-07-08T20:18:17.683Z"
   },
   {
    "duration": 11,
    "start_time": "2022-07-08T20:18:18.409Z"
   },
   {
    "duration": 7,
    "start_time": "2022-07-08T20:18:18.777Z"
   },
   {
    "duration": 8,
    "start_time": "2022-07-08T20:18:19.102Z"
   },
   {
    "duration": 27,
    "start_time": "2022-07-08T20:18:19.784Z"
   },
   {
    "duration": 7,
    "start_time": "2022-07-08T20:18:20.829Z"
   },
   {
    "duration": 13,
    "start_time": "2022-07-08T20:18:21.158Z"
   },
   {
    "duration": 19,
    "start_time": "2022-07-08T20:18:21.869Z"
   },
   {
    "duration": 203,
    "start_time": "2022-07-08T20:18:22.608Z"
   },
   {
    "duration": 48,
    "start_time": "2022-07-08T20:18:24.581Z"
   },
   {
    "duration": 1029,
    "start_time": "2022-07-08T20:18:25.433Z"
   },
   {
    "duration": 15,
    "start_time": "2022-07-08T20:18:26.464Z"
   },
   {
    "duration": 12,
    "start_time": "2022-07-08T20:18:27.194Z"
   },
   {
    "duration": 17,
    "start_time": "2022-07-08T20:18:28.261Z"
   },
   {
    "duration": 56,
    "start_time": "2022-07-08T20:18:29.260Z"
   },
   {
    "duration": 63,
    "start_time": "2022-07-08T20:18:30.212Z"
   },
   {
    "duration": 6,
    "start_time": "2022-07-08T20:18:32.861Z"
   },
   {
    "duration": 32,
    "start_time": "2022-07-08T20:18:33.762Z"
   },
   {
    "duration": 214,
    "start_time": "2022-07-08T20:18:34.548Z"
   },
   {
    "duration": 154,
    "start_time": "2022-07-08T20:18:35.391Z"
   },
   {
    "duration": 8,
    "start_time": "2022-07-08T20:18:35.776Z"
   },
   {
    "duration": 2010,
    "start_time": "2022-07-08T20:18:36.953Z"
   },
   {
    "duration": 23,
    "start_time": "2022-07-08T20:18:38.966Z"
   },
   {
    "duration": 1286,
    "start_time": "2022-07-08T20:18:38.992Z"
   },
   {
    "duration": 15,
    "start_time": "2022-07-08T20:18:40.280Z"
   },
   {
    "duration": 26,
    "start_time": "2022-07-08T20:18:40.297Z"
   },
   {
    "duration": 36,
    "start_time": "2022-07-08T20:18:40.325Z"
   },
   {
    "duration": 18,
    "start_time": "2022-07-08T20:18:40.939Z"
   },
   {
    "duration": 9,
    "start_time": "2022-07-08T20:18:41.875Z"
   },
   {
    "duration": 130,
    "start_time": "2022-07-08T20:18:42.857Z"
   },
   {
    "duration": 22,
    "start_time": "2022-07-08T20:18:45.512Z"
   },
   {
    "duration": 20,
    "start_time": "2022-07-08T20:18:52.048Z"
   },
   {
    "duration": 5,
    "start_time": "2022-07-08T20:19:34.695Z"
   },
   {
    "duration": 3,
    "start_time": "2022-07-08T20:19:38.406Z"
   },
   {
    "duration": 8,
    "start_time": "2022-07-08T20:19:40.196Z"
   },
   {
    "duration": 512,
    "start_time": "2022-07-08T20:19:47.850Z"
   },
   {
    "duration": 613,
    "start_time": "2022-07-08T21:25:00.659Z"
   },
   {
    "duration": 11,
    "start_time": "2022-07-08T21:31:07.909Z"
   },
   {
    "duration": 811,
    "start_time": "2022-07-08T21:36:37.754Z"
   },
   {
    "duration": 11,
    "start_time": "2022-07-08T21:37:11.840Z"
   },
   {
    "duration": 716,
    "start_time": "2022-07-08T21:46:04.111Z"
   },
   {
    "duration": 789,
    "start_time": "2022-07-08T21:47:44.985Z"
   },
   {
    "duration": 12,
    "start_time": "2022-07-08T21:47:51.537Z"
   },
   {
    "duration": 622,
    "start_time": "2022-07-08T21:47:52.406Z"
   },
   {
    "duration": 688,
    "start_time": "2022-07-08T21:48:10.179Z"
   },
   {
    "duration": 11,
    "start_time": "2022-07-08T21:48:12.139Z"
   },
   {
    "duration": 631,
    "start_time": "2022-07-08T21:48:13.703Z"
   },
   {
    "duration": 51044,
    "start_time": "2022-07-08T21:48:59.856Z"
   },
   {
    "duration": 718,
    "start_time": "2022-07-08T21:53:25.491Z"
   },
   {
    "duration": 147,
    "start_time": "2022-07-08T21:56:24.546Z"
   },
   {
    "duration": 26,
    "start_time": "2022-07-08T21:57:33.452Z"
   },
   {
    "duration": 862,
    "start_time": "2022-07-08T21:58:51.180Z"
   },
   {
    "duration": 9,
    "start_time": "2022-07-08T22:03:58.056Z"
   },
   {
    "duration": 292,
    "start_time": "2022-07-08T22:05:40.023Z"
   },
   {
    "duration": 261,
    "start_time": "2022-07-08T22:07:11.064Z"
   },
   {
    "duration": 482,
    "start_time": "2022-07-08T22:10:49.155Z"
   },
   {
    "duration": 454,
    "start_time": "2022-07-08T22:11:20.758Z"
   },
   {
    "duration": 438,
    "start_time": "2022-07-08T22:11:42.182Z"
   },
   {
    "duration": 729,
    "start_time": "2022-07-08T22:13:16.242Z"
   },
   {
    "duration": 596,
    "start_time": "2022-07-08T22:33:48.192Z"
   },
   {
    "duration": 632,
    "start_time": "2022-07-08T22:33:56.380Z"
   },
   {
    "duration": 673,
    "start_time": "2022-07-08T22:34:08.730Z"
   },
   {
    "duration": 1118,
    "start_time": "2022-07-08T22:36:14.130Z"
   },
   {
    "duration": 524,
    "start_time": "2022-07-08T22:36:37.956Z"
   },
   {
    "duration": 1119,
    "start_time": "2022-07-08T22:37:34.311Z"
   },
   {
    "duration": 1597,
    "start_time": "2022-07-08T22:43:58.491Z"
   },
   {
    "duration": 443,
    "start_time": "2022-07-08T22:44:11.111Z"
   },
   {
    "duration": 440,
    "start_time": "2022-07-08T22:44:17.977Z"
   },
   {
    "duration": 14,
    "start_time": "2022-07-08T22:48:14.581Z"
   },
   {
    "duration": 12,
    "start_time": "2022-07-08T22:49:09.502Z"
   },
   {
    "duration": 12,
    "start_time": "2022-07-08T22:49:56.074Z"
   },
   {
    "duration": 13,
    "start_time": "2022-07-08T22:51:25.983Z"
   },
   {
    "duration": 12,
    "start_time": "2022-07-08T22:51:59.430Z"
   },
   {
    "duration": 10,
    "start_time": "2022-07-08T22:52:27.280Z"
   },
   {
    "duration": 149,
    "start_time": "2022-07-08T22:52:43.633Z"
   },
   {
    "duration": 17,
    "start_time": "2022-07-08T22:53:05.049Z"
   },
   {
    "duration": 16,
    "start_time": "2022-07-08T22:53:32.961Z"
   },
   {
    "duration": 152,
    "start_time": "2022-07-08T22:53:43.513Z"
   },
   {
    "duration": 7,
    "start_time": "2022-07-08T23:01:22.363Z"
   },
   {
    "duration": 114631,
    "start_time": "2022-07-08T23:01:23.572Z"
   },
   {
    "duration": 10,
    "start_time": "2022-07-08T23:05:41.138Z"
   },
   {
    "duration": 115729,
    "start_time": "2022-07-08T23:05:42.352Z"
   },
   {
    "duration": 7,
    "start_time": "2022-07-08T23:09:18.495Z"
   },
   {
    "duration": 115718,
    "start_time": "2022-07-08T23:09:19.375Z"
   },
   {
    "duration": 295,
    "start_time": "2022-07-08T23:12:50.432Z"
   },
   {
    "duration": 18,
    "start_time": "2022-07-08T23:12:50.816Z"
   },
   {
    "duration": 56,
    "start_time": "2022-07-08T23:12:51.254Z"
   },
   {
    "duration": 10,
    "start_time": "2022-07-08T23:12:51.687Z"
   },
   {
    "duration": 5,
    "start_time": "2022-07-08T23:12:53.303Z"
   },
   {
    "duration": 6,
    "start_time": "2022-07-08T23:12:53.704Z"
   },
   {
    "duration": 29,
    "start_time": "2022-07-08T23:12:54.497Z"
   },
   {
    "duration": 29,
    "start_time": "2022-07-08T23:12:54.888Z"
   },
   {
    "duration": 38,
    "start_time": "2022-07-08T23:12:56.028Z"
   },
   {
    "duration": 23,
    "start_time": "2022-07-08T23:12:56.778Z"
   },
   {
    "duration": 29,
    "start_time": "2022-07-08T23:12:57.151Z"
   },
   {
    "duration": 8,
    "start_time": "2022-07-08T23:12:57.948Z"
   },
   {
    "duration": 6,
    "start_time": "2022-07-08T23:12:58.313Z"
   },
   {
    "duration": 8,
    "start_time": "2022-07-08T23:12:58.699Z"
   },
   {
    "duration": 26,
    "start_time": "2022-07-08T23:12:59.473Z"
   },
   {
    "duration": 9,
    "start_time": "2022-07-08T23:13:00.672Z"
   },
   {
    "duration": 14,
    "start_time": "2022-07-08T23:13:01.047Z"
   },
   {
    "duration": 28,
    "start_time": "2022-07-08T23:13:01.853Z"
   },
   {
    "duration": 199,
    "start_time": "2022-07-08T23:13:02.634Z"
   },
   {
    "duration": 61,
    "start_time": "2022-07-08T23:13:04.680Z"
   },
   {
    "duration": 806,
    "start_time": "2022-07-08T23:13:05.589Z"
   },
   {
    "duration": 13,
    "start_time": "2022-07-08T23:13:06.398Z"
   },
   {
    "duration": 18,
    "start_time": "2022-07-08T23:13:06.757Z"
   },
   {
    "duration": 18,
    "start_time": "2022-07-08T23:13:07.578Z"
   },
   {
    "duration": 53,
    "start_time": "2022-07-08T23:13:08.440Z"
   },
   {
    "duration": 57,
    "start_time": "2022-07-08T23:13:09.420Z"
   },
   {
    "duration": 7,
    "start_time": "2022-07-08T23:13:10.272Z"
   },
   {
    "duration": 28,
    "start_time": "2022-07-08T23:13:11.123Z"
   },
   {
    "duration": 195,
    "start_time": "2022-07-08T23:13:12.025Z"
   },
   {
    "duration": 413,
    "start_time": "2022-07-08T23:13:12.868Z"
   },
   {
    "duration": 4,
    "start_time": "2022-07-08T23:13:13.321Z"
   },
   {
    "duration": 1858,
    "start_time": "2022-07-08T23:13:14.781Z"
   },
   {
    "duration": 34,
    "start_time": "2022-07-08T23:13:16.641Z"
   },
   {
    "duration": 1026,
    "start_time": "2022-07-08T23:13:16.676Z"
   },
   {
    "duration": 15,
    "start_time": "2022-07-08T23:13:17.704Z"
   },
   {
    "duration": 19,
    "start_time": "2022-07-08T23:13:17.720Z"
   },
   {
    "duration": 10,
    "start_time": "2022-07-08T23:13:17.953Z"
   },
   {
    "duration": 13,
    "start_time": "2022-07-08T23:13:18.730Z"
   },
   {
    "duration": 9,
    "start_time": "2022-07-08T23:13:19.570Z"
   },
   {
    "duration": 120,
    "start_time": "2022-07-08T23:13:20.409Z"
   },
   {
    "duration": 23,
    "start_time": "2022-07-08T23:13:22.559Z"
   },
   {
    "duration": 19,
    "start_time": "2022-07-08T23:13:23.706Z"
   },
   {
    "duration": 7,
    "start_time": "2022-07-08T23:13:24.271Z"
   },
   {
    "duration": 3,
    "start_time": "2022-07-08T23:13:29.425Z"
   },
   {
    "duration": 8,
    "start_time": "2022-07-08T23:13:49.535Z"
   },
   {
    "duration": 118728,
    "start_time": "2022-07-08T23:13:50.188Z"
   },
   {
    "duration": 59,
    "start_time": "2022-07-08T23:16:24.068Z"
   },
   {
    "duration": 11,
    "start_time": "2022-07-08T23:16:28.741Z"
   },
   {
    "duration": 218,
    "start_time": "2022-07-08T23:18:48.258Z"
   },
   {
    "duration": 27,
    "start_time": "2022-07-08T23:18:48.576Z"
   },
   {
    "duration": 52,
    "start_time": "2022-07-08T23:18:48.940Z"
   },
   {
    "duration": 12,
    "start_time": "2022-07-08T23:18:49.332Z"
   },
   {
    "duration": 6,
    "start_time": "2022-07-08T23:18:50.733Z"
   },
   {
    "duration": 4,
    "start_time": "2022-07-08T23:18:51.086Z"
   },
   {
    "duration": 28,
    "start_time": "2022-07-08T23:18:51.826Z"
   },
   {
    "duration": 29,
    "start_time": "2022-07-08T23:18:52.171Z"
   },
   {
    "duration": 36,
    "start_time": "2022-07-08T23:18:53.187Z"
   },
   {
    "duration": 22,
    "start_time": "2022-07-08T23:18:53.918Z"
   },
   {
    "duration": 21,
    "start_time": "2022-07-08T23:18:54.276Z"
   },
   {
    "duration": 11,
    "start_time": "2022-07-08T23:18:54.980Z"
   },
   {
    "duration": 5,
    "start_time": "2022-07-08T23:18:55.346Z"
   },
   {
    "duration": 9,
    "start_time": "2022-07-08T23:18:55.693Z"
   },
   {
    "duration": 35,
    "start_time": "2022-07-08T23:18:56.451Z"
   },
   {
    "duration": 10,
    "start_time": "2022-07-08T23:18:57.603Z"
   },
   {
    "duration": 21,
    "start_time": "2022-07-08T23:18:58.055Z"
   },
   {
    "duration": 20,
    "start_time": "2022-07-08T23:18:58.796Z"
   },
   {
    "duration": 173,
    "start_time": "2022-07-08T23:18:59.577Z"
   },
   {
    "duration": 49,
    "start_time": "2022-07-08T23:19:01.528Z"
   },
   {
    "duration": 924,
    "start_time": "2022-07-08T23:19:02.301Z"
   },
   {
    "duration": 11,
    "start_time": "2022-07-08T23:19:03.227Z"
   },
   {
    "duration": 13,
    "start_time": "2022-07-08T23:19:03.568Z"
   },
   {
    "duration": 20,
    "start_time": "2022-07-08T23:19:04.410Z"
   },
   {
    "duration": 58,
    "start_time": "2022-07-08T23:19:05.223Z"
   },
   {
    "duration": 59,
    "start_time": "2022-07-08T23:19:06.042Z"
   },
   {
    "duration": 15,
    "start_time": "2022-07-08T23:19:06.956Z"
   },
   {
    "duration": 32,
    "start_time": "2022-07-08T23:19:07.746Z"
   },
   {
    "duration": 229,
    "start_time": "2022-07-08T23:19:08.593Z"
   },
   {
    "duration": 163,
    "start_time": "2022-07-08T23:19:09.414Z"
   },
   {
    "duration": 4,
    "start_time": "2022-07-08T23:19:09.817Z"
   },
   {
    "duration": 1808,
    "start_time": "2022-07-08T23:19:11.113Z"
   },
   {
    "duration": 16,
    "start_time": "2022-07-08T23:19:12.923Z"
   },
   {
    "duration": 1087,
    "start_time": "2022-07-08T23:19:12.940Z"
   },
   {
    "duration": 17,
    "start_time": "2022-07-08T23:19:14.029Z"
   },
   {
    "duration": 38,
    "start_time": "2022-07-08T23:19:14.048Z"
   },
   {
    "duration": 8,
    "start_time": "2022-07-08T23:19:14.520Z"
   },
   {
    "duration": 13,
    "start_time": "2022-07-08T23:19:15.483Z"
   },
   {
    "duration": 9,
    "start_time": "2022-07-08T23:19:17.323Z"
   },
   {
    "duration": 122,
    "start_time": "2022-07-08T23:19:18.261Z"
   },
   {
    "duration": 27,
    "start_time": "2022-07-08T23:19:20.649Z"
   },
   {
    "duration": 19,
    "start_time": "2022-07-08T23:19:21.496Z"
   },
   {
    "duration": 4,
    "start_time": "2022-07-08T23:19:21.974Z"
   },
   {
    "duration": 3,
    "start_time": "2022-07-08T23:19:31.343Z"
   },
   {
    "duration": 9,
    "start_time": "2022-07-08T23:19:33.875Z"
   },
   {
    "duration": 117414,
    "start_time": "2022-07-08T23:19:35.511Z"
   },
   {
    "duration": 671,
    "start_time": "2022-07-08T23:21:40.897Z"
   },
   {
    "duration": 12,
    "start_time": "2022-07-08T23:21:46.451Z"
   },
   {
    "duration": 10,
    "start_time": "2022-07-08T23:24:35.193Z"
   },
   {
    "duration": 4,
    "start_time": "2022-07-08T23:27:09.063Z"
   },
   {
    "duration": 195,
    "start_time": "2022-07-08T23:27:09.782Z"
   },
   {
    "duration": 20,
    "start_time": "2022-07-08T23:27:10.870Z"
   },
   {
    "duration": 44,
    "start_time": "2022-07-08T23:27:11.352Z"
   },
   {
    "duration": 10,
    "start_time": "2022-07-08T23:27:11.763Z"
   },
   {
    "duration": 5,
    "start_time": "2022-07-08T23:27:13.300Z"
   },
   {
    "duration": 5,
    "start_time": "2022-07-08T23:27:13.691Z"
   },
   {
    "duration": 30,
    "start_time": "2022-07-08T23:27:14.414Z"
   },
   {
    "duration": 30,
    "start_time": "2022-07-08T23:27:14.747Z"
   },
   {
    "duration": 36,
    "start_time": "2022-07-08T23:27:15.777Z"
   },
   {
    "duration": 22,
    "start_time": "2022-07-08T23:27:16.516Z"
   },
   {
    "duration": 22,
    "start_time": "2022-07-08T23:27:16.868Z"
   },
   {
    "duration": 8,
    "start_time": "2022-07-08T23:27:17.567Z"
   },
   {
    "duration": 7,
    "start_time": "2022-07-08T23:27:17.916Z"
   },
   {
    "duration": 11,
    "start_time": "2022-07-08T23:27:18.298Z"
   },
   {
    "duration": 36,
    "start_time": "2022-07-08T23:27:19.047Z"
   },
   {
    "duration": 9,
    "start_time": "2022-07-08T23:27:20.145Z"
   },
   {
    "duration": 20,
    "start_time": "2022-07-08T23:27:20.587Z"
   },
   {
    "duration": 30,
    "start_time": "2022-07-08T23:27:22.240Z"
   },
   {
    "duration": 176,
    "start_time": "2022-07-08T23:27:26.603Z"
   },
   {
    "duration": 48,
    "start_time": "2022-07-08T23:27:39.163Z"
   },
   {
    "duration": 947,
    "start_time": "2022-07-08T23:27:41.891Z"
   },
   {
    "duration": 12,
    "start_time": "2022-07-08T23:27:44.308Z"
   },
   {
    "duration": 15,
    "start_time": "2022-07-08T23:27:44.675Z"
   },
   {
    "duration": 21,
    "start_time": "2022-07-08T23:27:45.697Z"
   },
   {
    "duration": 55,
    "start_time": "2022-07-08T23:27:46.675Z"
   },
   {
    "duration": 54,
    "start_time": "2022-07-08T23:27:52.008Z"
   },
   {
    "duration": 6,
    "start_time": "2022-07-08T23:27:54.844Z"
   },
   {
    "duration": 26,
    "start_time": "2022-07-08T23:28:21.648Z"
   },
   {
    "duration": 9,
    "start_time": "2022-07-08T23:30:25.200Z"
   },
   {
    "duration": 8,
    "start_time": "2022-07-08T23:31:15.927Z"
   },
   {
    "duration": 209,
    "start_time": "2022-07-08T23:31:33.642Z"
   },
   {
    "duration": 4,
    "start_time": "2022-07-08T23:35:19.029Z"
   },
   {
    "duration": 266,
    "start_time": "2022-07-08T23:35:19.358Z"
   },
   {
    "duration": 25,
    "start_time": "2022-07-08T23:35:19.649Z"
   },
   {
    "duration": 45,
    "start_time": "2022-07-08T23:35:19.945Z"
   },
   {
    "duration": 10,
    "start_time": "2022-07-08T23:35:20.251Z"
   },
   {
    "duration": 5,
    "start_time": "2022-07-08T23:35:21.517Z"
   },
   {
    "duration": 6,
    "start_time": "2022-07-08T23:35:21.890Z"
   },
   {
    "duration": 30,
    "start_time": "2022-07-08T23:35:22.492Z"
   },
   {
    "duration": 41,
    "start_time": "2022-07-08T23:35:22.802Z"
   },
   {
    "duration": 38,
    "start_time": "2022-07-08T23:35:23.770Z"
   },
   {
    "duration": 23,
    "start_time": "2022-07-08T23:35:24.428Z"
   },
   {
    "duration": 21,
    "start_time": "2022-07-08T23:35:24.738Z"
   },
   {
    "duration": 8,
    "start_time": "2022-07-08T23:35:25.450Z"
   },
   {
    "duration": 6,
    "start_time": "2022-07-08T23:35:25.782Z"
   },
   {
    "duration": 8,
    "start_time": "2022-07-08T23:35:26.127Z"
   },
   {
    "duration": 28,
    "start_time": "2022-07-08T23:35:26.797Z"
   },
   {
    "duration": 7,
    "start_time": "2022-07-08T23:35:27.817Z"
   },
   {
    "duration": 14,
    "start_time": "2022-07-08T23:35:28.144Z"
   },
   {
    "duration": 21,
    "start_time": "2022-07-08T23:35:28.825Z"
   },
   {
    "duration": 176,
    "start_time": "2022-07-08T23:35:29.552Z"
   },
   {
    "duration": 53,
    "start_time": "2022-07-08T23:35:31.387Z"
   },
   {
    "duration": 732,
    "start_time": "2022-07-08T23:35:32.118Z"
   },
   {
    "duration": 26,
    "start_time": "2022-07-08T23:35:32.852Z"
   },
   {
    "duration": 13,
    "start_time": "2022-07-08T23:35:33.218Z"
   },
   {
    "duration": 21,
    "start_time": "2022-07-08T23:35:33.984Z"
   },
   {
    "duration": 53,
    "start_time": "2022-07-08T23:35:34.771Z"
   },
   {
    "duration": 52,
    "start_time": "2022-07-08T23:35:35.575Z"
   },
   {
    "duration": 6,
    "start_time": "2022-07-08T23:35:36.391Z"
   },
   {
    "duration": 28,
    "start_time": "2022-07-08T23:35:37.179Z"
   },
   {
    "duration": 101,
    "start_time": "2022-07-08T23:35:37.593Z"
   },
   {
    "duration": 9,
    "start_time": "2022-07-08T23:35:38.027Z"
   },
   {
    "duration": 211,
    "start_time": "2022-07-08T23:35:38.428Z"
   },
   {
    "duration": 198,
    "start_time": "2022-07-08T23:35:39.260Z"
   },
   {
    "duration": 150,
    "start_time": "2022-07-08T23:35:40.101Z"
   },
   {
    "duration": 4,
    "start_time": "2022-07-08T23:35:40.476Z"
   },
   {
    "duration": 1746,
    "start_time": "2022-07-08T23:35:41.645Z"
   },
   {
    "duration": 15,
    "start_time": "2022-07-08T23:35:43.393Z"
   },
   {
    "duration": 1036,
    "start_time": "2022-07-08T23:35:43.409Z"
   },
   {
    "duration": 25,
    "start_time": "2022-07-08T23:35:44.447Z"
   },
   {
    "duration": 20,
    "start_time": "2022-07-08T23:35:44.474Z"
   },
   {
    "duration": 7,
    "start_time": "2022-07-08T23:35:44.606Z"
   },
   {
    "duration": 13,
    "start_time": "2022-07-08T23:35:45.445Z"
   },
   {
    "duration": 20,
    "start_time": "2022-07-08T23:35:46.353Z"
   },
   {
    "duration": 120,
    "start_time": "2022-07-08T23:35:47.277Z"
   },
   {
    "duration": 20,
    "start_time": "2022-07-08T23:35:50.289Z"
   },
   {
    "duration": 20,
    "start_time": "2022-07-08T23:35:51.382Z"
   },
   {
    "duration": 4,
    "start_time": "2022-07-08T23:35:51.804Z"
   },
   {
    "duration": 3,
    "start_time": "2022-07-08T23:35:54.618Z"
   },
   {
    "duration": 9,
    "start_time": "2022-07-08T23:35:56.567Z"
   },
   {
    "duration": 599,
    "start_time": "2022-07-08T23:36:05.685Z"
   },
   {
    "duration": 13,
    "start_time": "2022-07-08T23:36:26.076Z"
   },
   {
    "duration": 243,
    "start_time": "2022-07-08T23:49:12.635Z"
   },
   {
    "duration": 19,
    "start_time": "2022-07-08T23:49:12.991Z"
   },
   {
    "duration": 75,
    "start_time": "2022-07-08T23:49:13.361Z"
   },
   {
    "duration": 9,
    "start_time": "2022-07-08T23:49:13.703Z"
   },
   {
    "duration": 5,
    "start_time": "2022-07-08T23:49:15.306Z"
   },
   {
    "duration": 4,
    "start_time": "2022-07-08T23:49:15.689Z"
   },
   {
    "duration": 30,
    "start_time": "2022-07-08T23:49:16.493Z"
   },
   {
    "duration": 29,
    "start_time": "2022-07-08T23:49:16.876Z"
   },
   {
    "duration": 36,
    "start_time": "2022-07-08T23:49:18.065Z"
   },
   {
    "duration": 23,
    "start_time": "2022-07-08T23:49:18.920Z"
   },
   {
    "duration": 21,
    "start_time": "2022-07-08T23:49:19.338Z"
   },
   {
    "duration": 7,
    "start_time": "2022-07-08T23:49:20.160Z"
   },
   {
    "duration": 5,
    "start_time": "2022-07-08T23:49:20.549Z"
   },
   {
    "duration": 7,
    "start_time": "2022-07-08T23:49:20.982Z"
   },
   {
    "duration": 26,
    "start_time": "2022-07-08T23:49:21.820Z"
   },
   {
    "duration": 6,
    "start_time": "2022-07-08T23:49:23.008Z"
   },
   {
    "duration": 14,
    "start_time": "2022-07-08T23:49:23.415Z"
   },
   {
    "duration": 21,
    "start_time": "2022-07-08T23:49:24.282Z"
   },
   {
    "duration": 177,
    "start_time": "2022-07-08T23:49:25.144Z"
   },
   {
    "duration": 51,
    "start_time": "2022-07-08T23:49:27.443Z"
   },
   {
    "duration": 735,
    "start_time": "2022-07-08T23:49:28.375Z"
   },
   {
    "duration": 11,
    "start_time": "2022-07-08T23:49:29.165Z"
   },
   {
    "duration": 13,
    "start_time": "2022-07-08T23:49:29.632Z"
   },
   {
    "duration": 21,
    "start_time": "2022-07-08T23:49:30.587Z"
   },
   {
    "duration": 52,
    "start_time": "2022-07-08T23:49:31.587Z"
   },
   {
    "duration": 53,
    "start_time": "2022-07-08T23:49:32.499Z"
   },
   {
    "duration": 5,
    "start_time": "2022-07-08T23:49:33.392Z"
   },
   {
    "duration": 26,
    "start_time": "2022-07-08T23:49:34.326Z"
   },
   {
    "duration": 46,
    "start_time": "2022-07-08T23:49:34.787Z"
   },
   {
    "duration": 12,
    "start_time": "2022-07-08T23:49:35.239Z"
   },
   {
    "duration": 177,
    "start_time": "2022-07-08T23:49:35.699Z"
   },
   {
    "duration": 178,
    "start_time": "2022-07-08T23:49:36.610Z"
   },
   {
    "duration": 144,
    "start_time": "2022-07-08T23:49:37.569Z"
   },
   {
    "duration": 4,
    "start_time": "2022-07-08T23:49:38.061Z"
   },
   {
    "duration": 1707,
    "start_time": "2022-07-08T23:49:39.490Z"
   },
   {
    "duration": 13,
    "start_time": "2022-07-08T23:49:41.199Z"
   },
   {
    "duration": 983,
    "start_time": "2022-07-08T23:49:41.214Z"
   },
   {
    "duration": 14,
    "start_time": "2022-07-08T23:49:42.198Z"
   },
   {
    "duration": 19,
    "start_time": "2022-07-08T23:49:42.214Z"
   },
   {
    "duration": 7,
    "start_time": "2022-07-08T23:49:42.898Z"
   },
   {
    "duration": 12,
    "start_time": "2022-07-08T23:49:43.808Z"
   },
   {
    "duration": 9,
    "start_time": "2022-07-08T23:49:44.709Z"
   },
   {
    "duration": 108,
    "start_time": "2022-07-08T23:49:45.622Z"
   },
   {
    "duration": 18,
    "start_time": "2022-07-08T23:49:47.341Z"
   },
   {
    "duration": 19,
    "start_time": "2022-07-08T23:49:48.242Z"
   },
   {
    "duration": 4,
    "start_time": "2022-07-08T23:49:48.684Z"
   },
   {
    "duration": 3,
    "start_time": "2022-07-08T23:49:51.669Z"
   },
   {
    "duration": 9,
    "start_time": "2022-07-08T23:50:12.099Z"
   },
   {
    "duration": 109080,
    "start_time": "2022-07-08T23:50:13.362Z"
   },
   {
    "duration": 19,
    "start_time": "2022-07-08T23:53:31.126Z"
   },
   {
    "duration": 4,
    "start_time": "2022-07-08T23:54:50.445Z"
   },
   {
    "duration": 16,
    "start_time": "2022-07-08T23:55:15.221Z"
   },
   {
    "duration": 10,
    "start_time": "2022-07-08T23:55:56.227Z"
   },
   {
    "duration": 10,
    "start_time": "2022-07-08T23:56:11.316Z"
   },
   {
    "duration": 173,
    "start_time": "2022-07-08T23:56:22.119Z"
   },
   {
    "duration": 1033,
    "start_time": "2022-07-08T23:56:45.425Z"
   },
   {
    "duration": 234,
    "start_time": "2022-07-08T23:56:56.217Z"
   },
   {
    "duration": 187,
    "start_time": "2022-07-08T23:57:21.721Z"
   },
   {
    "duration": 10,
    "start_time": "2022-07-08T23:57:58.216Z"
   },
   {
    "duration": 187,
    "start_time": "2022-07-08T23:57:59.113Z"
   },
   {
    "duration": 10,
    "start_time": "2022-07-08T23:58:21.277Z"
   },
   {
    "duration": 179,
    "start_time": "2022-07-08T23:58:21.714Z"
   },
   {
    "duration": 172,
    "start_time": "2022-07-08T23:58:59.904Z"
   },
   {
    "duration": 402,
    "start_time": "2022-07-08T23:59:30.476Z"
   },
   {
    "duration": 126,
    "start_time": "2022-07-08T23:59:36.789Z"
   },
   {
    "duration": 176,
    "start_time": "2022-07-09T00:00:00.005Z"
   },
   {
    "duration": 142,
    "start_time": "2022-07-09T00:00:01.094Z"
   },
   {
    "duration": 1966,
    "start_time": "2022-07-09T00:00:01.647Z"
   },
   {
    "duration": 5,
    "start_time": "2022-07-09T00:00:13.204Z"
   },
   {
    "duration": 1741,
    "start_time": "2022-07-09T00:00:15.746Z"
   },
   {
    "duration": 15,
    "start_time": "2022-07-09T00:00:17.489Z"
   },
   {
    "duration": 1017,
    "start_time": "2022-07-09T00:00:17.505Z"
   },
   {
    "duration": 15,
    "start_time": "2022-07-09T00:00:19.596Z"
   },
   {
    "duration": 22,
    "start_time": "2022-07-09T00:00:22.063Z"
   },
   {
    "duration": 7,
    "start_time": "2022-07-09T00:00:22.719Z"
   },
   {
    "duration": 13,
    "start_time": "2022-07-09T00:00:23.397Z"
   },
   {
    "duration": 8,
    "start_time": "2022-07-09T00:00:24.104Z"
   },
   {
    "duration": 115,
    "start_time": "2022-07-09T00:00:27.536Z"
   },
   {
    "duration": 19,
    "start_time": "2022-07-09T00:01:00.319Z"
   },
   {
    "duration": 20,
    "start_time": "2022-07-09T00:01:01.387Z"
   },
   {
    "duration": 12,
    "start_time": "2022-07-09T00:01:33.794Z"
   },
   {
    "duration": 14,
    "start_time": "2022-07-09T00:02:29.686Z"
   },
   {
    "duration": 4,
    "start_time": "2022-07-09T00:02:36.286Z"
   },
   {
    "duration": 372,
    "start_time": "2022-07-09T00:02:36.628Z"
   },
   {
    "duration": 18,
    "start_time": "2022-07-09T00:02:37.001Z"
   },
   {
    "duration": 41,
    "start_time": "2022-07-09T00:02:37.234Z"
   },
   {
    "duration": 9,
    "start_time": "2022-07-09T00:02:37.524Z"
   },
   {
    "duration": 5,
    "start_time": "2022-07-09T00:02:38.809Z"
   },
   {
    "duration": 5,
    "start_time": "2022-07-09T00:02:39.138Z"
   },
   {
    "duration": 29,
    "start_time": "2022-07-09T00:02:39.839Z"
   },
   {
    "duration": 28,
    "start_time": "2022-07-09T00:02:40.168Z"
   },
   {
    "duration": 35,
    "start_time": "2022-07-09T00:02:41.151Z"
   },
   {
    "duration": 21,
    "start_time": "2022-07-09T00:02:41.835Z"
   },
   {
    "duration": 21,
    "start_time": "2022-07-09T00:02:42.171Z"
   },
   {
    "duration": 8,
    "start_time": "2022-07-09T00:02:42.871Z"
   },
   {
    "duration": 6,
    "start_time": "2022-07-09T00:02:43.249Z"
   },
   {
    "duration": 7,
    "start_time": "2022-07-09T00:02:43.587Z"
   },
   {
    "duration": 26,
    "start_time": "2022-07-09T00:02:44.262Z"
   },
   {
    "duration": 7,
    "start_time": "2022-07-09T00:02:45.302Z"
   },
   {
    "duration": 13,
    "start_time": "2022-07-09T00:02:45.652Z"
   },
   {
    "duration": 19,
    "start_time": "2022-07-09T00:02:46.353Z"
   },
   {
    "duration": 165,
    "start_time": "2022-07-09T00:02:47.105Z"
   },
   {
    "duration": 48,
    "start_time": "2022-07-09T00:02:48.865Z"
   },
   {
    "duration": 682,
    "start_time": "2022-07-09T00:02:49.622Z"
   },
   {
    "duration": 11,
    "start_time": "2022-07-09T00:02:50.345Z"
   },
   {
    "duration": 13,
    "start_time": "2022-07-09T00:02:50.701Z"
   },
   {
    "duration": 20,
    "start_time": "2022-07-09T00:02:51.413Z"
   },
   {
    "duration": 52,
    "start_time": "2022-07-09T00:02:52.124Z"
   },
   {
    "duration": 52,
    "start_time": "2022-07-09T00:02:52.871Z"
   },
   {
    "duration": 5,
    "start_time": "2022-07-09T00:02:53.643Z"
   },
   {
    "duration": 26,
    "start_time": "2022-07-09T00:02:54.877Z"
   },
   {
    "duration": 11,
    "start_time": "2022-07-09T00:02:55.645Z"
   },
   {
    "duration": 153,
    "start_time": "2022-07-09T00:02:56.091Z"
   },
   {
    "duration": 179,
    "start_time": "2022-07-09T00:02:57.073Z"
   },
   {
    "duration": 142,
    "start_time": "2022-07-09T00:02:57.966Z"
   },
   {
    "duration": 5,
    "start_time": "2022-07-09T00:02:58.336Z"
   },
   {
    "duration": 1645,
    "start_time": "2022-07-09T00:03:00.232Z"
   },
   {
    "duration": 15,
    "start_time": "2022-07-09T00:03:01.878Z"
   },
   {
    "duration": 979,
    "start_time": "2022-07-09T00:03:01.895Z"
   },
   {
    "duration": 16,
    "start_time": "2022-07-09T00:03:02.876Z"
   },
   {
    "duration": 43,
    "start_time": "2022-07-09T00:03:02.894Z"
   },
   {
    "duration": 7,
    "start_time": "2022-07-09T00:03:03.059Z"
   },
   {
    "duration": 12,
    "start_time": "2022-07-09T00:03:03.837Z"
   },
   {
    "duration": 8,
    "start_time": "2022-07-09T00:03:04.661Z"
   },
   {
    "duration": 117,
    "start_time": "2022-07-09T00:03:05.556Z"
   },
   {
    "duration": 19,
    "start_time": "2022-07-09T00:03:08.074Z"
   },
   {
    "duration": 18,
    "start_time": "2022-07-09T00:03:11.755Z"
   },
   {
    "duration": 3,
    "start_time": "2022-07-09T00:03:34.720Z"
   },
   {
    "duration": 7,
    "start_time": "2022-07-09T00:03:43.956Z"
   },
   {
    "duration": 110591,
    "start_time": "2022-07-09T00:05:18.416Z"
   },
   {
    "duration": 48,
    "start_time": "2022-07-09T00:07:32.004Z"
   },
   {
    "duration": 10,
    "start_time": "2022-07-09T00:07:37.893Z"
   },
   {
    "duration": 58,
    "start_time": "2022-07-09T00:07:58.047Z"
   },
   {
    "duration": 10,
    "start_time": "2022-07-09T00:07:59.686Z"
   },
   {
    "duration": 417,
    "start_time": "2022-07-09T00:09:06.076Z"
   },
   {
    "duration": 273,
    "start_time": "2022-07-09T00:09:34.031Z"
   },
   {
    "duration": 54,
    "start_time": "2022-07-09T00:11:15.333Z"
   },
   {
    "duration": 383,
    "start_time": "2022-07-09T00:12:01.823Z"
   },
   {
    "duration": 43,
    "start_time": "2022-07-09T00:33:59.700Z"
   },
   {
    "duration": 17,
    "start_time": "2022-07-09T00:35:31.538Z"
   },
   {
    "duration": 17,
    "start_time": "2022-07-09T00:36:12.183Z"
   },
   {
    "duration": 17,
    "start_time": "2022-07-09T00:37:48.257Z"
   },
   {
    "duration": 9,
    "start_time": "2022-07-09T00:39:27.695Z"
   },
   {
    "duration": 16,
    "start_time": "2022-07-09T00:39:40.415Z"
   },
   {
    "duration": 12,
    "start_time": "2022-07-09T00:41:00.496Z"
   },
   {
    "duration": 18,
    "start_time": "2022-07-09T00:41:40.184Z"
   },
   {
    "duration": 18,
    "start_time": "2022-07-09T00:42:10.167Z"
   },
   {
    "duration": 15,
    "start_time": "2022-07-09T00:43:09.087Z"
   },
   {
    "duration": 7,
    "start_time": "2022-07-09T00:45:08.450Z"
   },
   {
    "duration": 7,
    "start_time": "2022-07-09T00:45:13.812Z"
   },
   {
    "duration": 6,
    "start_time": "2022-07-09T00:45:24.467Z"
   },
   {
    "duration": 178,
    "start_time": "2022-07-09T00:51:23.148Z"
   },
   {
    "duration": 204,
    "start_time": "2022-07-09T00:55:10.727Z"
   },
   {
    "duration": 206,
    "start_time": "2022-07-09T00:55:22.244Z"
   },
   {
    "duration": 210,
    "start_time": "2022-07-09T00:55:34.618Z"
   },
   {
    "duration": 221,
    "start_time": "2022-07-09T00:55:54.926Z"
   },
   {
    "duration": 203,
    "start_time": "2022-07-09T00:56:10.876Z"
   },
   {
    "duration": 1429,
    "start_time": "2022-07-09T18:24:43.536Z"
   },
   {
    "duration": 199,
    "start_time": "2022-07-09T18:24:44.967Z"
   },
   {
    "duration": 17,
    "start_time": "2022-07-09T18:24:45.168Z"
   },
   {
    "duration": 149,
    "start_time": "2022-07-09T18:24:45.188Z"
   },
   {
    "duration": 10,
    "start_time": "2022-07-09T18:24:45.569Z"
   },
   {
    "duration": 5,
    "start_time": "2022-07-09T18:24:47.137Z"
   },
   {
    "duration": 6,
    "start_time": "2022-07-09T18:24:47.552Z"
   },
   {
    "duration": 32,
    "start_time": "2022-07-09T18:24:48.373Z"
   },
   {
    "duration": 42,
    "start_time": "2022-07-09T18:24:48.805Z"
   },
   {
    "duration": 40,
    "start_time": "2022-07-09T18:24:50.049Z"
   },
   {
    "duration": 25,
    "start_time": "2022-07-09T18:24:50.859Z"
   },
   {
    "duration": 23,
    "start_time": "2022-07-09T18:24:51.265Z"
   },
   {
    "duration": 8,
    "start_time": "2022-07-09T18:24:52.070Z"
   },
   {
    "duration": 6,
    "start_time": "2022-07-09T18:24:52.458Z"
   },
   {
    "duration": 9,
    "start_time": "2022-07-09T18:24:52.849Z"
   },
   {
    "duration": 29,
    "start_time": "2022-07-09T18:24:53.643Z"
   },
   {
    "duration": 7,
    "start_time": "2022-07-09T18:24:54.861Z"
   },
   {
    "duration": 14,
    "start_time": "2022-07-09T18:24:55.256Z"
   },
   {
    "duration": 22,
    "start_time": "2022-07-09T18:24:56.049Z"
   },
   {
    "duration": 235,
    "start_time": "2022-07-09T18:24:56.843Z"
   },
   {
    "duration": 63,
    "start_time": "2022-07-09T18:24:58.890Z"
   },
   {
    "duration": 847,
    "start_time": "2022-07-09T18:24:59.735Z"
   },
   {
    "duration": 13,
    "start_time": "2022-07-09T18:25:00.584Z"
   },
   {
    "duration": 14,
    "start_time": "2022-07-09T18:25:00.983Z"
   },
   {
    "duration": 20,
    "start_time": "2022-07-09T18:25:01.835Z"
   },
   {
    "duration": 73,
    "start_time": "2022-07-09T18:25:02.670Z"
   },
   {
    "duration": 57,
    "start_time": "2022-07-09T18:25:03.552Z"
   },
   {
    "duration": 7,
    "start_time": "2022-07-09T18:25:04.385Z"
   },
   {
    "duration": 52,
    "start_time": "2022-07-09T18:25:05.287Z"
   },
   {
    "duration": 11,
    "start_time": "2022-07-09T18:25:06.148Z"
   },
   {
    "duration": 166,
    "start_time": "2022-07-09T18:25:06.583Z"
   },
   {
    "duration": 245,
    "start_time": "2022-07-09T18:25:09.347Z"
   },
   {
    "duration": 187,
    "start_time": "2022-07-09T18:25:10.159Z"
   },
   {
    "duration": 5,
    "start_time": "2022-07-09T18:25:10.561Z"
   },
   {
    "duration": 2055,
    "start_time": "2022-07-09T18:25:11.837Z"
   },
   {
    "duration": 15,
    "start_time": "2022-07-09T18:25:13.894Z"
   },
   {
    "duration": 1355,
    "start_time": "2022-07-09T18:25:13.911Z"
   },
   {
    "duration": 14,
    "start_time": "2022-07-09T18:25:15.268Z"
   },
   {
    "duration": 20,
    "start_time": "2022-07-09T18:25:15.284Z"
   },
   {
    "duration": 7,
    "start_time": "2022-07-09T18:25:15.306Z"
   },
   {
    "duration": 13,
    "start_time": "2022-07-09T18:25:15.585Z"
   },
   {
    "duration": 10,
    "start_time": "2022-07-09T18:25:16.437Z"
   },
   {
    "duration": 130,
    "start_time": "2022-07-09T18:25:17.252Z"
   },
   {
    "duration": 20,
    "start_time": "2022-07-09T18:25:19.092Z"
   },
   {
    "duration": 19,
    "start_time": "2022-07-09T18:25:19.888Z"
   },
   {
    "duration": 371,
    "start_time": "2022-07-09T18:25:22.603Z"
   },
   {
    "duration": 11,
    "start_time": "2022-07-09T18:25:25.535Z"
   },
   {
    "duration": 60,
    "start_time": "2022-07-09T18:25:29.435Z"
   },
   {
    "duration": 9,
    "start_time": "2022-07-09T18:25:35.404Z"
   },
   {
    "duration": 440,
    "start_time": "2022-07-09T18:25:35.802Z"
   },
   {
    "duration": 306,
    "start_time": "2022-07-09T18:25:36.263Z"
   },
   {
    "duration": 46,
    "start_time": "2022-07-09T18:26:42.839Z"
   },
   {
    "duration": 39,
    "start_time": "2022-07-09T18:26:51.843Z"
   },
   {
    "duration": 5,
    "start_time": "2022-07-09T20:10:49.074Z"
   },
   {
    "duration": 66,
    "start_time": "2022-07-09T20:11:41.802Z"
   },
   {
    "duration": 3,
    "start_time": "2022-07-09T20:15:31.775Z"
   },
   {
    "duration": 344,
    "start_time": "2022-07-09T20:15:34.659Z"
   },
   {
    "duration": 28,
    "start_time": "2022-07-09T20:15:35.005Z"
   },
   {
    "duration": 102,
    "start_time": "2022-07-09T20:15:35.265Z"
   },
   {
    "duration": 10,
    "start_time": "2022-07-09T20:15:35.581Z"
   },
   {
    "duration": 7,
    "start_time": "2022-07-09T20:15:36.835Z"
   },
   {
    "duration": 9,
    "start_time": "2022-07-09T20:15:37.141Z"
   },
   {
    "duration": 30,
    "start_time": "2022-07-09T20:15:37.754Z"
   },
   {
    "duration": 31,
    "start_time": "2022-07-09T20:15:38.106Z"
   },
   {
    "duration": 39,
    "start_time": "2022-07-09T20:15:39.099Z"
   },
   {
    "duration": 23,
    "start_time": "2022-07-09T20:15:39.742Z"
   },
   {
    "duration": 22,
    "start_time": "2022-07-09T20:15:40.082Z"
   },
   {
    "duration": 9,
    "start_time": "2022-07-09T20:15:40.764Z"
   },
   {
    "duration": 6,
    "start_time": "2022-07-09T20:15:41.090Z"
   },
   {
    "duration": 11,
    "start_time": "2022-07-09T20:15:41.466Z"
   },
   {
    "duration": 27,
    "start_time": "2022-07-09T20:15:42.163Z"
   },
   {
    "duration": 8,
    "start_time": "2022-07-09T20:15:43.156Z"
   },
   {
    "duration": 13,
    "start_time": "2022-07-09T20:15:43.508Z"
   },
   {
    "duration": 27,
    "start_time": "2022-07-09T20:15:44.207Z"
   },
   {
    "duration": 198,
    "start_time": "2022-07-09T20:15:44.889Z"
   },
   {
    "duration": 51,
    "start_time": "2022-07-09T20:15:46.654Z"
   },
   {
    "duration": 794,
    "start_time": "2022-07-09T20:15:47.370Z"
   },
   {
    "duration": 11,
    "start_time": "2022-07-09T20:15:48.166Z"
   },
   {
    "duration": 13,
    "start_time": "2022-07-09T20:15:48.443Z"
   },
   {
    "duration": 20,
    "start_time": "2022-07-09T20:15:49.175Z"
   },
   {
    "duration": 67,
    "start_time": "2022-07-09T20:15:49.945Z"
   },
   {
    "duration": 55,
    "start_time": "2022-07-09T20:15:50.645Z"
   },
   {
    "duration": 8,
    "start_time": "2022-07-09T20:15:51.392Z"
   },
   {
    "duration": 31,
    "start_time": "2022-07-09T20:15:52.109Z"
   },
   {
    "duration": 10,
    "start_time": "2022-07-09T20:15:52.852Z"
   },
   {
    "duration": 159,
    "start_time": "2022-07-09T20:15:53.246Z"
   },
   {
    "duration": 199,
    "start_time": "2022-07-09T20:15:54.017Z"
   },
   {
    "duration": 153,
    "start_time": "2022-07-09T20:15:54.825Z"
   },
   {
    "duration": 4,
    "start_time": "2022-07-09T20:15:55.296Z"
   },
   {
    "duration": 1756,
    "start_time": "2022-07-09T20:15:56.610Z"
   },
   {
    "duration": 15,
    "start_time": "2022-07-09T20:15:58.368Z"
   },
   {
    "duration": 1058,
    "start_time": "2022-07-09T20:15:58.384Z"
   },
   {
    "duration": 16,
    "start_time": "2022-07-09T20:15:59.444Z"
   },
   {
    "duration": 21,
    "start_time": "2022-07-09T20:15:59.461Z"
   },
   {
    "duration": 7,
    "start_time": "2022-07-09T20:15:59.774Z"
   },
   {
    "duration": 12,
    "start_time": "2022-07-09T20:16:00.679Z"
   },
   {
    "duration": 12,
    "start_time": "2022-07-09T20:16:01.525Z"
   },
   {
    "duration": 121,
    "start_time": "2022-07-09T20:16:02.444Z"
   },
   {
    "duration": 27,
    "start_time": "2022-07-09T20:16:05.020Z"
   },
   {
    "duration": 19,
    "start_time": "2022-07-09T20:16:05.922Z"
   },
   {
    "duration": 3,
    "start_time": "2022-07-09T20:16:08.133Z"
   },
   {
    "duration": 9,
    "start_time": "2022-07-09T20:16:19.313Z"
   },
   {
    "duration": 57,
    "start_time": "2022-07-09T20:16:23.350Z"
   },
   {
    "duration": 14,
    "start_time": "2022-07-09T20:16:24.524Z"
   },
   {
    "duration": 440,
    "start_time": "2022-07-09T20:16:24.859Z"
   },
   {
    "duration": 284,
    "start_time": "2022-07-09T20:16:25.300Z"
   },
   {
    "duration": 38,
    "start_time": "2022-07-09T20:16:26.965Z"
   },
   {
    "duration": 4,
    "start_time": "2022-07-09T20:16:27.493Z"
   },
   {
    "duration": 11,
    "start_time": "2022-07-09T20:16:34.754Z"
   },
   {
    "duration": 45,
    "start_time": "2022-07-09T20:18:27.814Z"
   },
   {
    "duration": 15,
    "start_time": "2022-07-09T20:19:13.073Z"
   },
   {
    "duration": 42,
    "start_time": "2022-07-09T21:37:32.072Z"
   },
   {
    "duration": 4,
    "start_time": "2022-07-09T21:37:33.014Z"
   },
   {
    "duration": 63,
    "start_time": "2022-07-09T21:37:33.959Z"
   },
   {
    "duration": 11,
    "start_time": "2022-07-09T21:37:34.989Z"
   },
   {
    "duration": 59,
    "start_time": "2022-07-09T21:38:08.397Z"
   },
   {
    "duration": 49,
    "start_time": "2022-07-09T21:39:39.280Z"
   },
   {
    "duration": 23,
    "start_time": "2022-07-09T21:39:44.442Z"
   },
   {
    "duration": 89,
    "start_time": "2022-07-09T21:40:48.852Z"
   },
   {
    "duration": 27,
    "start_time": "2022-07-09T21:41:29.528Z"
   },
   {
    "duration": 51,
    "start_time": "2022-07-09T21:42:04.606Z"
   },
   {
    "duration": 37,
    "start_time": "2022-07-09T22:02:21.769Z"
   },
   {
    "duration": 34,
    "start_time": "2022-07-09T22:05:33.577Z"
   },
   {
    "duration": 4,
    "start_time": "2022-07-09T22:05:34.681Z"
   },
   {
    "duration": 63,
    "start_time": "2022-07-09T22:05:36.154Z"
   },
   {
    "duration": 5,
    "start_time": "2022-07-09T22:05:38.005Z"
   },
   {
    "duration": 5,
    "start_time": "2022-07-09T22:10:58.625Z"
   },
   {
    "duration": 6,
    "start_time": "2022-07-09T22:13:35.109Z"
   },
   {
    "duration": 103,
    "start_time": "2022-07-09T22:15:15.703Z"
   },
   {
    "duration": 76,
    "start_time": "2022-07-09T22:15:42.821Z"
   },
   {
    "duration": 93,
    "start_time": "2022-07-09T22:16:23.701Z"
   },
   {
    "duration": 97,
    "start_time": "2022-07-09T22:18:01.360Z"
   },
   {
    "duration": 7,
    "start_time": "2022-07-09T22:30:41.830Z"
   },
   {
    "duration": 9,
    "start_time": "2022-07-09T22:33:21.429Z"
   },
   {
    "duration": 97,
    "start_time": "2022-07-09T22:33:27.071Z"
   },
   {
    "duration": 126,
    "start_time": "2022-07-09T22:34:22.059Z"
   },
   {
    "duration": 94,
    "start_time": "2022-07-09T22:43:03.403Z"
   },
   {
    "duration": 150,
    "start_time": "2022-07-09T22:43:39.057Z"
   },
   {
    "duration": 170,
    "start_time": "2022-07-09T22:43:49.287Z"
   },
   {
    "duration": 218,
    "start_time": "2022-07-09T22:43:54.053Z"
   },
   {
    "duration": 242,
    "start_time": "2022-07-09T22:44:09.229Z"
   },
   {
    "duration": 898,
    "start_time": "2022-07-09T22:50:10.465Z"
   },
   {
    "duration": 239,
    "start_time": "2022-07-09T22:51:30.123Z"
   },
   {
    "duration": 11,
    "start_time": "2022-07-09T22:58:22.686Z"
   },
   {
    "duration": 139,
    "start_time": "2022-07-09T22:58:35.951Z"
   },
   {
    "duration": 155,
    "start_time": "2022-07-09T23:00:03.625Z"
   },
   {
    "duration": 173,
    "start_time": "2022-07-09T23:00:11.428Z"
   },
   {
    "duration": 15,
    "start_time": "2022-07-09T23:01:13.635Z"
   },
   {
    "duration": 147,
    "start_time": "2022-07-09T23:01:21.348Z"
   },
   {
    "duration": 145,
    "start_time": "2022-07-09T23:02:53.900Z"
   },
   {
    "duration": 152,
    "start_time": "2022-07-09T23:03:01.018Z"
   },
   {
    "duration": 264,
    "start_time": "2022-07-09T23:03:14.234Z"
   },
   {
    "duration": 907,
    "start_time": "2022-07-09T23:07:34.359Z"
   },
   {
    "duration": 780,
    "start_time": "2022-07-09T23:08:35.193Z"
   },
   {
    "duration": 10,
    "start_time": "2022-07-09T23:11:09.441Z"
   },
   {
    "duration": 131,
    "start_time": "2022-07-09T23:12:06.826Z"
   },
   {
    "duration": 826,
    "start_time": "2022-07-09T23:12:09.492Z"
   },
   {
    "duration": 847,
    "start_time": "2022-07-09T23:14:08.037Z"
   },
   {
    "duration": 16,
    "start_time": "2022-07-09T23:14:44.291Z"
   },
   {
    "duration": 857,
    "start_time": "2022-07-09T23:14:56.126Z"
   },
   {
    "duration": 932,
    "start_time": "2022-07-09T23:15:23.961Z"
   },
   {
    "duration": 9,
    "start_time": "2022-07-09T23:15:44.354Z"
   },
   {
    "duration": 20,
    "start_time": "2022-07-09T23:16:23.554Z"
   },
   {
    "duration": 19,
    "start_time": "2022-07-09T23:16:58.484Z"
   },
   {
    "duration": 1051,
    "start_time": "2022-07-09T23:19:31.253Z"
   },
   {
    "duration": 861,
    "start_time": "2022-07-09T23:20:22.869Z"
   },
   {
    "duration": 998,
    "start_time": "2022-07-09T23:21:00.798Z"
   },
   {
    "duration": 846,
    "start_time": "2022-07-09T23:22:00.291Z"
   },
   {
    "duration": 1047,
    "start_time": "2022-07-09T23:22:10.538Z"
   },
   {
    "duration": 913,
    "start_time": "2022-07-09T23:28:20.376Z"
   },
   {
    "duration": 132,
    "start_time": "2022-07-09T23:29:34.606Z"
   },
   {
    "duration": 127,
    "start_time": "2022-07-09T23:30:23.074Z"
   },
   {
    "duration": 152,
    "start_time": "2022-07-09T23:31:11.873Z"
   },
   {
    "duration": 1168,
    "start_time": "2022-07-09T23:41:22.770Z"
   },
   {
    "duration": 132,
    "start_time": "2022-07-09T23:44:41.550Z"
   },
   {
    "duration": 143,
    "start_time": "2022-07-09T23:44:42.621Z"
   },
   {
    "duration": 952,
    "start_time": "2022-07-09T23:44:43.447Z"
   },
   {
    "duration": 343,
    "start_time": "2022-07-10T00:07:21.594Z"
   },
   {
    "duration": 7,
    "start_time": "2022-07-10T00:39:08.847Z"
   },
   {
    "duration": 105,
    "start_time": "2022-07-10T00:39:09.729Z"
   },
   {
    "duration": 1740,
    "start_time": "2022-07-10T00:39:10.857Z"
   },
   {
    "duration": 2346,
    "start_time": "2022-07-10T00:39:22.305Z"
   },
   {
    "duration": 33,
    "start_time": "2022-07-10T00:39:55.219Z"
   },
   {
    "duration": 4,
    "start_time": "2022-07-10T00:39:55.711Z"
   },
   {
    "duration": 58,
    "start_time": "2022-07-10T00:39:56.433Z"
   },
   {
    "duration": 5,
    "start_time": "2022-07-10T00:39:57.278Z"
   },
   {
    "duration": 6,
    "start_time": "2022-07-10T00:39:57.965Z"
   },
   {
    "duration": 92,
    "start_time": "2022-07-10T00:39:58.838Z"
   },
   {
    "duration": 1618,
    "start_time": "2022-07-10T00:40:00.295Z"
   },
   {
    "duration": 2292,
    "start_time": "2022-07-10T00:40:11.052Z"
   },
   {
    "duration": 75,
    "start_time": "2022-07-10T00:40:32.235Z"
   },
   {
    "duration": 259,
    "start_time": "2022-07-10T00:40:33.710Z"
   },
   {
    "duration": 285,
    "start_time": "2022-07-10T00:40:37.048Z"
   },
   {
    "duration": 4,
    "start_time": "2022-07-10T00:41:53.576Z"
   },
   {
    "duration": 47,
    "start_time": "2022-07-10T00:43:17.660Z"
   },
   {
    "duration": 50,
    "start_time": "2022-07-10T00:45:28.354Z"
   },
   {
    "duration": 52,
    "start_time": "2022-07-10T00:45:48.153Z"
   },
   {
    "duration": 58,
    "start_time": "2022-07-10T00:50:05.582Z"
   },
   {
    "duration": 4,
    "start_time": "2022-07-10T00:50:26.007Z"
   },
   {
    "duration": 53,
    "start_time": "2022-07-10T00:52:22.748Z"
   },
   {
    "duration": 303,
    "start_time": "2022-07-10T00:55:02.361Z"
   },
   {
    "duration": 145,
    "start_time": "2022-07-10T00:55:25.457Z"
   },
   {
    "duration": 13,
    "start_time": "2022-07-10T01:12:23.780Z"
   },
   {
    "duration": 17,
    "start_time": "2022-07-10T01:12:41.127Z"
   },
   {
    "duration": 16,
    "start_time": "2022-07-10T01:12:41.831Z"
   },
   {
    "duration": 6,
    "start_time": "2022-07-10T01:12:42.470Z"
   },
   {
    "duration": 49,
    "start_time": "2022-07-10T01:12:43.150Z"
   },
   {
    "duration": 311,
    "start_time": "2022-07-10T01:12:44.112Z"
   },
   {
    "duration": 207,
    "start_time": "2022-07-10T01:13:12.319Z"
   },
   {
    "duration": 300,
    "start_time": "2022-07-10T01:13:40.237Z"
   },
   {
    "duration": 7,
    "start_time": "2022-07-10T01:13:55.958Z"
   },
   {
    "duration": 6,
    "start_time": "2022-07-10T01:14:02.335Z"
   },
   {
    "duration": 318,
    "start_time": "2022-07-10T01:14:54.210Z"
   },
   {
    "duration": 346,
    "start_time": "2022-07-10T01:15:10.325Z"
   },
   {
    "duration": 298,
    "start_time": "2022-07-10T01:15:22.961Z"
   },
   {
    "duration": 297,
    "start_time": "2022-07-10T01:15:31.697Z"
   },
   {
    "duration": 304,
    "start_time": "2022-07-10T01:19:22.047Z"
   },
   {
    "duration": 312,
    "start_time": "2022-07-10T01:26:42.763Z"
   },
   {
    "duration": 15,
    "start_time": "2022-07-10T01:37:35.210Z"
   },
   {
    "duration": 12,
    "start_time": "2022-07-10T01:40:08.574Z"
   },
   {
    "duration": 13,
    "start_time": "2022-07-10T01:40:34.427Z"
   },
   {
    "duration": 12,
    "start_time": "2022-07-10T01:40:43.701Z"
   },
   {
    "duration": 12,
    "start_time": "2022-07-10T01:42:08.998Z"
   },
   {
    "duration": 770,
    "start_time": "2022-07-10T01:42:38.800Z"
   },
   {
    "duration": 23,
    "start_time": "2022-07-10T01:43:06.875Z"
   },
   {
    "duration": 26,
    "start_time": "2022-07-10T01:44:43.284Z"
   },
   {
    "duration": 21,
    "start_time": "2022-07-10T01:45:59.805Z"
   },
   {
    "duration": 23,
    "start_time": "2022-07-10T01:46:04.069Z"
   },
   {
    "duration": 29,
    "start_time": "2022-07-10T01:46:19.323Z"
   },
   {
    "duration": 24,
    "start_time": "2022-07-10T01:46:26.416Z"
   },
   {
    "duration": 29,
    "start_time": "2022-07-10T01:46:38.387Z"
   },
   {
    "duration": 123,
    "start_time": "2022-07-10T01:46:48.153Z"
   },
   {
    "duration": 371,
    "start_time": "2022-07-10T01:49:47.180Z"
   },
   {
    "duration": 118,
    "start_time": "2022-07-10T01:50:35.765Z"
   },
   {
    "duration": 390,
    "start_time": "2022-07-10T01:50:52.051Z"
   },
   {
    "duration": 376,
    "start_time": "2022-07-10T01:51:13.873Z"
   },
   {
    "duration": 10,
    "start_time": "2022-07-10T01:54:07.381Z"
   },
   {
    "duration": 188,
    "start_time": "2022-07-10T01:54:36.623Z"
   },
   {
    "duration": 678,
    "start_time": "2022-07-10T01:57:09.228Z"
   },
   {
    "duration": 529,
    "start_time": "2022-07-10T01:57:25.193Z"
   },
   {
    "duration": 648,
    "start_time": "2022-07-10T01:57:31.852Z"
   },
   {
    "duration": 536,
    "start_time": "2022-07-10T01:57:40.258Z"
   },
   {
    "duration": 648,
    "start_time": "2022-07-10T01:57:56.962Z"
   },
   {
    "duration": 537,
    "start_time": "2022-07-10T01:58:36.914Z"
   },
   {
    "duration": 772,
    "start_time": "2022-07-10T01:59:52.535Z"
   },
   {
    "duration": 536,
    "start_time": "2022-07-10T02:02:28.574Z"
   },
   {
    "duration": 688,
    "start_time": "2022-07-10T02:03:23.070Z"
   },
   {
    "duration": 325,
    "start_time": "2022-07-10T02:05:06.350Z"
   },
   {
    "duration": 193,
    "start_time": "2022-07-10T02:06:17.721Z"
   },
   {
    "duration": 590,
    "start_time": "2022-07-10T02:09:35.671Z"
   },
   {
    "duration": 693,
    "start_time": "2022-07-10T02:09:47.041Z"
   },
   {
    "duration": 578,
    "start_time": "2022-07-10T02:10:13.451Z"
   },
   {
    "duration": 1195,
    "start_time": "2022-07-10T02:10:52.213Z"
   },
   {
    "duration": 1493,
    "start_time": "2022-07-10T02:11:14.860Z"
   },
   {
    "duration": 1100,
    "start_time": "2022-07-10T02:11:33.980Z"
   },
   {
    "duration": 946,
    "start_time": "2022-07-10T02:12:54.055Z"
   },
   {
    "duration": 183,
    "start_time": "2022-07-10T02:14:38.993Z"
   },
   {
    "duration": 690,
    "start_time": "2022-07-10T02:20:27.698Z"
   },
   {
    "duration": 11,
    "start_time": "2022-07-10T02:47:32.151Z"
   },
   {
    "duration": 16,
    "start_time": "2022-07-10T02:57:30.578Z"
   },
   {
    "duration": 8,
    "start_time": "2022-07-10T03:00:44.653Z"
   },
   {
    "duration": 874,
    "start_time": "2022-07-10T03:05:06.162Z"
   },
   {
    "duration": 9,
    "start_time": "2022-07-10T03:05:53.958Z"
   },
   {
    "duration": 36,
    "start_time": "2022-07-10T03:05:54.625Z"
   },
   {
    "duration": 62,
    "start_time": "2022-07-10T03:08:58.912Z"
   },
   {
    "duration": 36,
    "start_time": "2022-07-10T03:09:01.259Z"
   },
   {
    "duration": 15,
    "start_time": "2022-07-10T03:11:32.241Z"
   },
   {
    "duration": 58,
    "start_time": "2022-07-10T03:13:56.184Z"
   },
   {
    "duration": 7,
    "start_time": "2022-07-10T03:14:22.444Z"
   },
   {
    "duration": 27,
    "start_time": "2022-07-10T03:14:26.577Z"
   },
   {
    "duration": 7,
    "start_time": "2022-07-10T03:15:19.330Z"
   },
   {
    "duration": 836,
    "start_time": "2022-07-10T03:15:23.106Z"
   },
   {
    "duration": 6,
    "start_time": "2022-07-10T03:16:02.572Z"
   },
   {
    "duration": 986,
    "start_time": "2022-07-10T03:16:03.336Z"
   },
   {
    "duration": 9,
    "start_time": "2022-07-10T03:17:22.738Z"
   },
   {
    "duration": 15,
    "start_time": "2022-07-10T03:17:39.883Z"
   },
   {
    "duration": 17,
    "start_time": "2022-07-10T03:19:21.546Z"
   },
   {
    "duration": 13,
    "start_time": "2022-07-10T03:22:23.792Z"
   },
   {
    "duration": 11,
    "start_time": "2022-07-10T03:25:17.249Z"
   },
   {
    "duration": 16,
    "start_time": "2022-07-10T03:25:24.754Z"
   },
   {
    "duration": 6,
    "start_time": "2022-07-10T03:25:40.817Z"
   },
   {
    "duration": 17,
    "start_time": "2022-07-10T03:25:46.274Z"
   },
   {
    "duration": 12,
    "start_time": "2022-07-10T03:26:12.938Z"
   },
   {
    "duration": 9,
    "start_time": "2022-07-10T03:27:23.075Z"
   },
   {
    "duration": 64,
    "start_time": "2022-07-10T03:27:26.863Z"
   },
   {
    "duration": 401,
    "start_time": "2022-07-10T03:29:11.175Z"
   },
   {
    "duration": 381,
    "start_time": "2022-07-10T03:31:21.513Z"
   },
   {
    "duration": 403,
    "start_time": "2022-07-10T03:31:42.857Z"
   },
   {
    "duration": 547,
    "start_time": "2022-07-10T03:32:38.391Z"
   },
   {
    "duration": 112,
    "start_time": "2022-07-10T03:33:34.432Z"
   },
   {
    "duration": 562,
    "start_time": "2022-07-10T03:33:35.160Z"
   },
   {
    "duration": 582,
    "start_time": "2022-07-10T03:35:26.251Z"
   },
   {
    "duration": 650,
    "start_time": "2022-07-10T03:35:52.538Z"
   },
   {
    "duration": 7,
    "start_time": "2022-07-10T03:39:04.780Z"
   },
   {
    "duration": 572,
    "start_time": "2022-07-10T03:39:05.576Z"
   },
   {
    "duration": 15,
    "start_time": "2022-07-10T03:46:03.167Z"
   },
   {
    "duration": 12,
    "start_time": "2022-07-10T03:46:27.425Z"
   },
   {
    "duration": 7,
    "start_time": "2022-07-10T03:47:49.447Z"
   },
   {
    "duration": 35,
    "start_time": "2022-07-10T03:47:50.342Z"
   },
   {
    "duration": 7,
    "start_time": "2022-07-10T03:50:00.627Z"
   },
   {
    "duration": 1509,
    "start_time": "2022-07-10T03:50:01.520Z"
   },
   {
    "duration": 11,
    "start_time": "2022-07-10T03:54:08.595Z"
   },
   {
    "duration": 20,
    "start_time": "2022-07-10T04:18:40.403Z"
   },
   {
    "duration": 12,
    "start_time": "2022-07-10T04:20:20.137Z"
   },
   {
    "duration": 18,
    "start_time": "2022-07-10T04:20:33.384Z"
   },
   {
    "duration": 13,
    "start_time": "2022-07-10T04:27:02.511Z"
   },
   {
    "duration": 32,
    "start_time": "2022-07-10T04:27:48.157Z"
   },
   {
    "duration": 7,
    "start_time": "2022-07-10T04:28:09.206Z"
   },
   {
    "duration": 38,
    "start_time": "2022-07-10T04:28:09.686Z"
   },
   {
    "duration": 7,
    "start_time": "2022-07-10T04:28:51.045Z"
   },
   {
    "duration": 618,
    "start_time": "2022-07-10T04:28:52.507Z"
   },
   {
    "duration": 7,
    "start_time": "2022-07-10T04:32:18.377Z"
   },
   {
    "duration": 36,
    "start_time": "2022-07-10T04:32:19.041Z"
   },
   {
    "duration": 7,
    "start_time": "2022-07-10T04:32:49.653Z"
   },
   {
    "duration": 713,
    "start_time": "2022-07-10T04:32:50.594Z"
   },
   {
    "duration": 12,
    "start_time": "2022-07-10T04:50:10.454Z"
   },
   {
    "duration": 19,
    "start_time": "2022-07-10T04:50:17.437Z"
   },
   {
    "duration": 42,
    "start_time": "2022-07-10T04:51:08.835Z"
   },
   {
    "duration": 19,
    "start_time": "2022-07-10T04:52:44.453Z"
   },
   {
    "duration": 12,
    "start_time": "2022-07-10T04:52:45.239Z"
   },
   {
    "duration": 40,
    "start_time": "2022-07-10T04:53:05.590Z"
   },
   {
    "duration": 11,
    "start_time": "2022-07-10T05:04:08.180Z"
   },
   {
    "duration": 12,
    "start_time": "2022-07-10T05:05:04.826Z"
   },
   {
    "duration": 24,
    "start_time": "2022-07-10T05:09:49.026Z"
   },
   {
    "duration": 18,
    "start_time": "2022-07-10T05:13:04.520Z"
   },
   {
    "duration": 19,
    "start_time": "2022-07-10T05:14:02.696Z"
   },
   {
    "duration": 24,
    "start_time": "2022-07-10T05:14:32.881Z"
   },
   {
    "duration": 13,
    "start_time": "2022-07-10T05:16:48.206Z"
   },
   {
    "duration": 31,
    "start_time": "2022-07-10T05:17:17.355Z"
   },
   {
    "duration": 14,
    "start_time": "2022-07-10T05:17:27.936Z"
   },
   {
    "duration": 19,
    "start_time": "2022-07-10T05:17:34.457Z"
   },
   {
    "duration": 32,
    "start_time": "2022-07-10T05:17:35.875Z"
   },
   {
    "duration": 624,
    "start_time": "2022-07-10T05:18:39.057Z"
   },
   {
    "duration": 53,
    "start_time": "2022-07-10T05:20:05.896Z"
   },
   {
    "duration": 11,
    "start_time": "2022-07-10T05:20:17.249Z"
   },
   {
    "duration": 29,
    "start_time": "2022-07-10T05:20:30.938Z"
   },
   {
    "duration": 54,
    "start_time": "2022-07-10T05:20:55.338Z"
   },
   {
    "duration": 27,
    "start_time": "2022-07-10T05:21:17.099Z"
   },
   {
    "duration": 54,
    "start_time": "2022-07-10T05:22:15.472Z"
   },
   {
    "duration": 53,
    "start_time": "2022-07-10T05:23:42.327Z"
   },
   {
    "duration": 29,
    "start_time": "2022-07-10T05:23:58.943Z"
   },
   {
    "duration": 19,
    "start_time": "2022-07-10T05:24:17.167Z"
   },
   {
    "duration": 28,
    "start_time": "2022-07-10T05:24:36.706Z"
   },
   {
    "duration": 55,
    "start_time": "2022-07-10T05:25:40.482Z"
   },
   {
    "duration": 27,
    "start_time": "2022-07-10T05:25:58.274Z"
   },
   {
    "duration": 2230,
    "start_time": "2022-07-10T05:26:52.654Z"
   },
   {
    "duration": 48,
    "start_time": "2022-07-10T05:27:21.402Z"
   },
   {
    "duration": 58,
    "start_time": "2022-07-10T05:27:32.903Z"
   },
   {
    "duration": 44,
    "start_time": "2022-07-10T05:27:45.134Z"
   },
   {
    "duration": 22,
    "start_time": "2022-07-10T05:27:51.392Z"
   },
   {
    "duration": 23,
    "start_time": "2022-07-10T05:28:18.017Z"
   },
   {
    "duration": 22,
    "start_time": "2022-07-10T05:29:03.957Z"
   },
   {
    "duration": 1230,
    "start_time": "2022-07-10T10:39:17.840Z"
   },
   {
    "duration": 321,
    "start_time": "2022-07-10T10:39:19.072Z"
   },
   {
    "duration": 16,
    "start_time": "2022-07-10T10:39:19.394Z"
   },
   {
    "duration": 87,
    "start_time": "2022-07-10T10:39:19.412Z"
   },
   {
    "duration": 8,
    "start_time": "2022-07-10T10:39:19.500Z"
   },
   {
    "duration": 4,
    "start_time": "2022-07-10T10:39:22.014Z"
   },
   {
    "duration": 5,
    "start_time": "2022-07-10T10:39:22.362Z"
   },
   {
    "duration": 32,
    "start_time": "2022-07-10T10:39:23.029Z"
   },
   {
    "duration": 28,
    "start_time": "2022-07-10T10:39:23.375Z"
   },
   {
    "duration": 36,
    "start_time": "2022-07-10T10:39:24.388Z"
   },
   {
    "duration": 22,
    "start_time": "2022-07-10T10:39:25.053Z"
   },
   {
    "duration": 19,
    "start_time": "2022-07-10T10:39:25.367Z"
   },
   {
    "duration": 7,
    "start_time": "2022-07-10T10:39:26.026Z"
   },
   {
    "duration": 5,
    "start_time": "2022-07-10T10:39:26.335Z"
   },
   {
    "duration": 7,
    "start_time": "2022-07-10T10:39:26.650Z"
   },
   {
    "duration": 28,
    "start_time": "2022-07-10T10:39:27.372Z"
   },
   {
    "duration": 5,
    "start_time": "2022-07-10T10:39:28.424Z"
   },
   {
    "duration": 11,
    "start_time": "2022-07-10T10:39:28.813Z"
   },
   {
    "duration": 19,
    "start_time": "2022-07-10T10:39:29.553Z"
   },
   {
    "duration": 198,
    "start_time": "2022-07-10T10:39:30.391Z"
   },
   {
    "duration": 46,
    "start_time": "2022-07-10T10:39:32.292Z"
   },
   {
    "duration": 701,
    "start_time": "2022-07-10T10:39:33.084Z"
   },
   {
    "duration": 13,
    "start_time": "2022-07-10T10:39:33.917Z"
   },
   {
    "duration": 13,
    "start_time": "2022-07-10T10:39:34.367Z"
   },
   {
    "duration": 26,
    "start_time": "2022-07-10T10:39:35.199Z"
   },
   {
    "duration": 56,
    "start_time": "2022-07-10T10:39:36.024Z"
   },
   {
    "duration": 51,
    "start_time": "2022-07-10T10:39:36.952Z"
   },
   {
    "duration": 6,
    "start_time": "2022-07-10T10:39:37.763Z"
   },
   {
    "duration": 26,
    "start_time": "2022-07-10T10:39:38.510Z"
   },
   {
    "duration": 15,
    "start_time": "2022-07-10T10:39:39.317Z"
   },
   {
    "duration": 130,
    "start_time": "2022-07-10T10:39:39.710Z"
   },
   {
    "duration": 185,
    "start_time": "2022-07-10T10:39:40.500Z"
   },
   {
    "duration": 137,
    "start_time": "2022-07-10T10:39:41.289Z"
   },
   {
    "duration": 4,
    "start_time": "2022-07-10T10:39:41.667Z"
   },
   {
    "duration": 1753,
    "start_time": "2022-07-10T10:39:42.833Z"
   },
   {
    "duration": 19,
    "start_time": "2022-07-10T10:39:44.587Z"
   },
   {
    "duration": 1078,
    "start_time": "2022-07-10T10:39:44.608Z"
   },
   {
    "duration": 24,
    "start_time": "2022-07-10T10:39:45.687Z"
   },
   {
    "duration": 20,
    "start_time": "2022-07-10T10:39:45.713Z"
   },
   {
    "duration": 8,
    "start_time": "2022-07-10T10:39:45.868Z"
   },
   {
    "duration": 17,
    "start_time": "2022-07-10T10:39:46.669Z"
   },
   {
    "duration": 9,
    "start_time": "2022-07-10T10:39:47.512Z"
   },
   {
    "duration": 111,
    "start_time": "2022-07-10T10:39:48.328Z"
   },
   {
    "duration": 19,
    "start_time": "2022-07-10T10:39:50.367Z"
   },
   {
    "duration": 19,
    "start_time": "2022-07-10T10:39:51.309Z"
   },
   {
    "duration": 339,
    "start_time": "2022-07-10T10:39:53.339Z"
   },
   {
    "duration": 7,
    "start_time": "2022-07-10T10:39:54.683Z"
   },
   {
    "duration": 57,
    "start_time": "2022-07-10T10:40:00.712Z"
   },
   {
    "duration": 10,
    "start_time": "2022-07-10T10:40:01.969Z"
   },
   {
    "duration": 428,
    "start_time": "2022-07-10T10:40:02.381Z"
   },
   {
    "duration": 276,
    "start_time": "2022-07-10T10:40:02.858Z"
   },
   {
    "duration": 39,
    "start_time": "2022-07-10T10:40:04.990Z"
   },
   {
    "duration": 4,
    "start_time": "2022-07-10T10:40:05.782Z"
   },
   {
    "duration": 57,
    "start_time": "2022-07-10T10:40:06.193Z"
   },
   {
    "duration": 4,
    "start_time": "2022-07-10T10:40:06.974Z"
   },
   {
    "duration": 6,
    "start_time": "2022-07-10T10:40:07.852Z"
   },
   {
    "duration": 72,
    "start_time": "2022-07-10T10:40:08.261Z"
   },
   {
    "duration": 76,
    "start_time": "2022-07-10T10:40:08.740Z"
   },
   {
    "duration": 378,
    "start_time": "2022-07-10T10:40:09.137Z"
   },
   {
    "duration": 156,
    "start_time": "2022-07-10T10:40:10.012Z"
   },
   {
    "duration": 17,
    "start_time": "2022-07-10T10:40:11.258Z"
   },
   {
    "duration": 16,
    "start_time": "2022-07-10T10:40:11.704Z"
   },
   {
    "duration": 48,
    "start_time": "2022-07-10T10:40:12.114Z"
   },
   {
    "duration": 7,
    "start_time": "2022-07-10T10:40:12.539Z"
   },
   {
    "duration": 318,
    "start_time": "2022-07-10T10:40:13.361Z"
   },
   {
    "duration": 1124,
    "start_time": "2022-07-10T10:40:13.793Z"
   },
   {
    "duration": 24,
    "start_time": "2022-07-10T10:40:15.179Z"
   },
   {
    "duration": 197,
    "start_time": "2022-07-10T10:40:15.994Z"
   },
   {
    "duration": 597,
    "start_time": "2022-07-10T10:40:16.596Z"
   },
   {
    "duration": 12,
    "start_time": "2022-07-10T10:40:26.605Z"
   },
   {
    "duration": 926,
    "start_time": "2022-07-10T10:43:42.511Z"
   },
   {
    "duration": 16,
    "start_time": "2022-07-10T10:43:52.215Z"
   },
   {
    "duration": 16,
    "start_time": "2022-07-10T10:44:55.212Z"
   },
   {
    "duration": 14,
    "start_time": "2022-07-10T10:45:14.354Z"
   },
   {
    "duration": 148,
    "start_time": "2022-07-10T10:45:44.259Z"
   },
   {
    "duration": 8,
    "start_time": "2022-07-10T10:48:24.556Z"
   },
   {
    "duration": 610,
    "start_time": "2022-07-10T10:48:48.893Z"
   },
   {
    "duration": 10,
    "start_time": "2022-07-10T10:51:55.050Z"
   },
   {
    "duration": 7,
    "start_time": "2022-07-10T10:51:59.800Z"
   },
   {
    "duration": 672,
    "start_time": "2022-07-10T10:52:00.331Z"
   },
   {
    "duration": 10,
    "start_time": "2022-07-10T11:10:34.597Z"
   },
   {
    "duration": 11,
    "start_time": "2022-07-10T11:11:56.146Z"
   },
   {
    "duration": 14,
    "start_time": "2022-07-10T11:15:32.071Z"
   },
   {
    "duration": 21,
    "start_time": "2022-07-10T11:24:55.076Z"
   },
   {
    "duration": 15,
    "start_time": "2022-07-10T11:37:08.977Z"
   },
   {
    "duration": 21,
    "start_time": "2022-07-10T12:02:11.976Z"
   },
   {
    "duration": 17,
    "start_time": "2022-07-10T12:04:16.594Z"
   },
   {
    "duration": 15,
    "start_time": "2022-07-10T12:04:27.340Z"
   },
   {
    "duration": 18,
    "start_time": "2022-07-10T12:04:28.005Z"
   },
   {
    "duration": 22,
    "start_time": "2022-07-10T12:08:03.001Z"
   },
   {
    "duration": 16,
    "start_time": "2022-07-10T12:08:22.895Z"
   },
   {
    "duration": 12,
    "start_time": "2022-07-10T12:09:10.298Z"
   },
   {
    "duration": 8,
    "start_time": "2022-07-10T12:10:40.336Z"
   },
   {
    "duration": 12,
    "start_time": "2022-07-10T12:11:06.893Z"
   },
   {
    "duration": 8,
    "start_time": "2022-07-10T12:11:48.575Z"
   },
   {
    "duration": 12,
    "start_time": "2022-07-10T12:12:47.890Z"
   },
   {
    "duration": 12,
    "start_time": "2022-07-10T12:13:00.572Z"
   },
   {
    "duration": 8,
    "start_time": "2022-07-10T12:13:18.376Z"
   },
   {
    "duration": 11,
    "start_time": "2022-07-10T12:14:59.202Z"
   },
   {
    "duration": 11,
    "start_time": "2022-07-10T12:15:21.695Z"
   },
   {
    "duration": 10,
    "start_time": "2022-07-10T12:15:31.945Z"
   },
   {
    "duration": 12,
    "start_time": "2022-07-10T12:15:39.129Z"
   },
   {
    "duration": 12,
    "start_time": "2022-07-10T12:16:21.439Z"
   },
   {
    "duration": 11,
    "start_time": "2022-07-10T12:16:42.443Z"
   },
   {
    "duration": 11,
    "start_time": "2022-07-10T12:16:48.171Z"
   },
   {
    "duration": 11,
    "start_time": "2022-07-10T12:16:57.750Z"
   },
   {
    "duration": 17,
    "start_time": "2022-07-10T12:17:04.447Z"
   },
   {
    "duration": 13,
    "start_time": "2022-07-10T12:17:05.042Z"
   },
   {
    "duration": 12,
    "start_time": "2022-07-10T12:17:13.769Z"
   },
   {
    "duration": 11,
    "start_time": "2022-07-10T12:18:02.806Z"
   },
   {
    "duration": 5,
    "start_time": "2022-07-10T12:34:45.701Z"
   },
   {
    "duration": 3,
    "start_time": "2022-07-10T12:45:07.243Z"
   },
   {
    "duration": 7,
    "start_time": "2022-07-10T12:45:13.315Z"
   },
   {
    "duration": 5,
    "start_time": "2022-07-10T12:46:58.439Z"
   },
   {
    "duration": 5,
    "start_time": "2022-07-10T12:52:54.456Z"
   },
   {
    "duration": 8,
    "start_time": "2022-07-10T12:54:25.970Z"
   },
   {
    "duration": 12,
    "start_time": "2022-07-10T12:54:44.805Z"
   },
   {
    "duration": 5,
    "start_time": "2022-07-10T12:55:09.833Z"
   },
   {
    "duration": 722,
    "start_time": "2022-07-10T12:55:10.051Z"
   },
   {
    "duration": 9,
    "start_time": "2022-07-10T12:56:03.814Z"
   },
   {
    "duration": 4,
    "start_time": "2022-07-10T12:56:18.582Z"
   },
   {
    "duration": 5,
    "start_time": "2022-07-10T12:56:39.540Z"
   },
   {
    "duration": 13,
    "start_time": "2022-07-10T12:56:40.038Z"
   },
   {
    "duration": 2,
    "start_time": "2022-07-10T12:57:30.173Z"
   },
   {
    "duration": 5,
    "start_time": "2022-07-10T12:57:30.739Z"
   },
   {
    "duration": 12,
    "start_time": "2022-07-10T12:57:31.306Z"
   },
   {
    "duration": 2,
    "start_time": "2022-07-10T12:58:41.278Z"
   },
   {
    "duration": 4,
    "start_time": "2022-07-10T12:58:41.942Z"
   },
   {
    "duration": 12,
    "start_time": "2022-07-10T12:58:42.645Z"
   },
   {
    "duration": 3,
    "start_time": "2022-07-10T13:00:21.088Z"
   },
   {
    "duration": 4,
    "start_time": "2022-07-10T13:00:28.711Z"
   },
   {
    "duration": 11,
    "start_time": "2022-07-10T13:01:08.706Z"
   },
   {
    "duration": 5,
    "start_time": "2022-07-10T13:04:02.865Z"
   },
   {
    "duration": 12,
    "start_time": "2022-07-10T13:04:03.385Z"
   },
   {
    "duration": 10,
    "start_time": "2022-07-10T13:07:52.884Z"
   },
   {
    "duration": 12,
    "start_time": "2022-07-10T13:09:44.735Z"
   },
   {
    "duration": 967,
    "start_time": "2022-07-10T13:10:04.470Z"
   },
   {
    "duration": 3,
    "start_time": "2022-07-10T13:10:30.348Z"
   },
   {
    "duration": 3,
    "start_time": "2022-07-10T13:10:42.243Z"
   },
   {
    "duration": 3,
    "start_time": "2022-07-10T13:10:49.934Z"
   },
   {
    "duration": 3,
    "start_time": "2022-07-10T13:11:00.031Z"
   },
   {
    "duration": 2,
    "start_time": "2022-07-10T13:11:12.537Z"
   },
   {
    "duration": 12,
    "start_time": "2022-07-10T13:11:25.399Z"
   },
   {
    "duration": 5,
    "start_time": "2022-07-10T13:11:38.627Z"
   },
   {
    "duration": 4,
    "start_time": "2022-07-10T13:11:51.785Z"
   },
   {
    "duration": 3,
    "start_time": "2022-07-10T13:25:26.534Z"
   },
   {
    "duration": 4,
    "start_time": "2022-07-10T13:25:27.119Z"
   },
   {
    "duration": 4,
    "start_time": "2022-07-10T13:25:28.561Z"
   },
   {
    "duration": 3,
    "start_time": "2022-07-10T13:25:30.378Z"
   },
   {
    "duration": 5,
    "start_time": "2022-07-10T13:27:02.610Z"
   },
   {
    "duration": 13,
    "start_time": "2022-07-10T13:27:03.337Z"
   },
   {
    "duration": 5,
    "start_time": "2022-07-10T13:27:33.390Z"
   },
   {
    "duration": 5,
    "start_time": "2022-07-10T13:27:35.350Z"
   },
   {
    "duration": 845,
    "start_time": "2022-07-10T14:34:08.962Z"
   },
   {
    "duration": 788,
    "start_time": "2022-07-10T14:34:26.009Z"
   },
   {
    "duration": 3,
    "start_time": "2022-07-10T14:38:21.317Z"
   },
   {
    "duration": 9,
    "start_time": "2022-07-10T14:39:34.361Z"
   },
   {
    "duration": 820,
    "start_time": "2022-07-10T14:39:50.064Z"
   },
   {
    "duration": 4,
    "start_time": "2022-07-10T14:41:35.628Z"
   },
   {
    "duration": 12,
    "start_time": "2022-07-10T14:42:46.996Z"
   },
   {
    "duration": 4,
    "start_time": "2022-07-10T14:43:01.426Z"
   },
   {
    "duration": 42999,
    "start_time": "2022-07-10T14:43:02.012Z"
   },
   {
    "duration": 42,
    "start_time": "2022-07-10T14:45:09.868Z"
   },
   {
    "duration": 1065,
    "start_time": "2022-07-10T14:45:41.306Z"
   },
   {
    "duration": 46118,
    "start_time": "2022-07-10T14:46:14.126Z"
   },
   {
    "duration": 6,
    "start_time": "2022-07-10T14:49:04.170Z"
   },
   {
    "duration": 40,
    "start_time": "2022-07-10T14:49:19.805Z"
   },
   {
    "duration": 44783,
    "start_time": "2022-07-10T14:51:56.095Z"
   },
   {
    "duration": 37,
    "start_time": "2022-07-10T15:07:52.425Z"
   },
   {
    "duration": 12,
    "start_time": "2022-07-10T15:09:57.481Z"
   },
   {
    "duration": 21,
    "start_time": "2022-07-10T15:12:03.659Z"
   },
   {
    "duration": 18,
    "start_time": "2022-07-10T15:14:18.075Z"
   },
   {
    "duration": 22,
    "start_time": "2022-07-10T15:15:24.902Z"
   },
   {
    "duration": 745,
    "start_time": "2022-07-10T15:17:32.552Z"
   },
   {
    "duration": 741,
    "start_time": "2022-07-10T15:17:42.886Z"
   },
   {
    "duration": 12,
    "start_time": "2022-07-10T15:18:00.322Z"
   },
   {
    "duration": 44916,
    "start_time": "2022-07-10T15:27:20.664Z"
   },
   {
    "duration": 16,
    "start_time": "2022-07-10T15:28:35.870Z"
   },
   {
    "duration": 21,
    "start_time": "2022-07-10T15:28:36.601Z"
   },
   {
    "duration": 13,
    "start_time": "2022-07-10T15:28:37.476Z"
   },
   {
    "duration": 13,
    "start_time": "2022-07-10T15:29:05.934Z"
   },
   {
    "duration": 8,
    "start_time": "2022-07-10T15:30:00.866Z"
   },
   {
    "duration": 43795,
    "start_time": "2022-07-10T15:30:15.635Z"
   },
   {
    "duration": 34,
    "start_time": "2022-07-10T15:30:59.432Z"
   },
   {
    "duration": 42887,
    "start_time": "2022-07-10T15:31:13.297Z"
   },
   {
    "duration": 29,
    "start_time": "2022-07-10T15:32:07.167Z"
   },
   {
    "duration": 19,
    "start_time": "2022-07-10T15:32:21.641Z"
   },
   {
    "duration": 22,
    "start_time": "2022-07-10T15:32:24.090Z"
   },
   {
    "duration": 12,
    "start_time": "2022-07-10T15:32:24.903Z"
   },
   {
    "duration": 44058,
    "start_time": "2022-07-10T15:35:22.875Z"
   },
   {
    "duration": 15,
    "start_time": "2022-07-10T15:36:52.732Z"
   },
   {
    "duration": 9,
    "start_time": "2022-07-10T15:38:17.132Z"
   },
   {
    "duration": 43,
    "start_time": "2022-07-10T15:49:38.578Z"
   },
   {
    "duration": 25,
    "start_time": "2022-07-10T15:51:55.049Z"
   },
   {
    "duration": 17,
    "start_time": "2022-07-10T15:52:40.479Z"
   },
   {
    "duration": 25,
    "start_time": "2022-07-10T15:52:45.971Z"
   },
   {
    "duration": 16,
    "start_time": "2022-07-10T15:52:55.913Z"
   },
   {
    "duration": 39,
    "start_time": "2022-07-10T15:53:27.887Z"
   },
   {
    "duration": 43,
    "start_time": "2022-07-10T15:55:43.745Z"
   },
   {
    "duration": 62,
    "start_time": "2022-07-10T15:58:32.354Z"
   },
   {
    "duration": 64,
    "start_time": "2022-07-10T15:58:39.982Z"
   },
   {
    "duration": 23,
    "start_time": "2022-07-10T15:58:44.163Z"
   },
   {
    "duration": 116,
    "start_time": "2022-07-10T15:59:21.853Z"
   },
   {
    "duration": 114,
    "start_time": "2022-07-10T15:59:36.291Z"
   },
   {
    "duration": 118,
    "start_time": "2022-07-10T15:59:54.997Z"
   },
   {
    "duration": 105,
    "start_time": "2022-07-10T16:00:18.942Z"
   },
   {
    "duration": 135,
    "start_time": "2022-07-10T16:01:56.754Z"
   },
   {
    "duration": 142,
    "start_time": "2022-07-10T16:03:28.248Z"
   },
   {
    "duration": 35,
    "start_time": "2022-07-10T16:06:00.803Z"
   },
   {
    "duration": 23,
    "start_time": "2022-07-10T16:06:30.364Z"
   },
   {
    "duration": 26,
    "start_time": "2022-07-10T16:06:42.081Z"
   },
   {
    "duration": 24,
    "start_time": "2022-07-10T16:07:24.558Z"
   },
   {
    "duration": 8,
    "start_time": "2022-07-10T16:07:38.180Z"
   },
   {
    "duration": 18,
    "start_time": "2022-07-10T16:07:44.368Z"
   },
   {
    "duration": 11,
    "start_time": "2022-07-10T16:07:45.645Z"
   },
   {
    "duration": 15,
    "start_time": "2022-07-10T16:12:19.234Z"
   },
   {
    "duration": 37,
    "start_time": "2022-07-10T16:14:25.297Z"
   },
   {
    "duration": 22,
    "start_time": "2022-07-10T16:14:27.271Z"
   },
   {
    "duration": 12,
    "start_time": "2022-07-10T16:14:27.856Z"
   },
   {
    "duration": 44,
    "start_time": "2022-07-10T16:21:10.256Z"
   },
   {
    "duration": 7,
    "start_time": "2022-07-10T16:23:19.613Z"
   },
   {
    "duration": 8,
    "start_time": "2022-07-10T16:24:20.913Z"
   },
   {
    "duration": 3,
    "start_time": "2022-07-10T16:43:06.681Z"
   },
   {
    "duration": 306,
    "start_time": "2022-07-10T16:43:07.466Z"
   },
   {
    "duration": 17,
    "start_time": "2022-07-10T16:43:08.890Z"
   },
   {
    "duration": 44,
    "start_time": "2022-07-10T16:43:10.024Z"
   },
   {
    "duration": 9,
    "start_time": "2022-07-10T16:43:10.071Z"
   },
   {
    "duration": 4,
    "start_time": "2022-07-10T16:43:13.622Z"
   },
   {
    "duration": 6,
    "start_time": "2022-07-10T16:43:14.159Z"
   },
   {
    "duration": 31,
    "start_time": "2022-07-10T16:43:15.076Z"
   },
   {
    "duration": 31,
    "start_time": "2022-07-10T16:43:16.278Z"
   },
   {
    "duration": 38,
    "start_time": "2022-07-10T16:43:18.170Z"
   },
   {
    "duration": 22,
    "start_time": "2022-07-10T16:43:19.163Z"
   },
   {
    "duration": 25,
    "start_time": "2022-07-10T16:43:20.401Z"
   },
   {
    "duration": 8,
    "start_time": "2022-07-10T16:43:21.669Z"
   },
   {
    "duration": 6,
    "start_time": "2022-07-10T16:43:22.167Z"
   },
   {
    "duration": 8,
    "start_time": "2022-07-10T16:43:22.855Z"
   },
   {
    "duration": 28,
    "start_time": "2022-07-10T16:43:25.764Z"
   },
   {
    "duration": 177,
    "start_time": "2022-07-10T16:45:22.090Z"
   },
   {
    "duration": 10,
    "start_time": "2022-07-10T16:48:14.747Z"
   },
   {
    "duration": 28,
    "start_time": "2022-07-10T16:49:54.572Z"
   },
   {
    "duration": 190,
    "start_time": "2022-07-10T16:53:34.566Z"
   },
   {
    "duration": 179,
    "start_time": "2022-07-10T16:53:52.228Z"
   },
   {
    "duration": 9,
    "start_time": "2022-07-10T16:54:47.931Z"
   },
   {
    "duration": 28,
    "start_time": "2022-07-10T17:00:19.239Z"
   },
   {
    "duration": 33,
    "start_time": "2022-07-10T17:03:46.756Z"
   },
   {
    "duration": 25,
    "start_time": "2022-07-10T17:06:48.907Z"
   },
   {
    "duration": 30,
    "start_time": "2022-07-10T17:06:54.249Z"
   },
   {
    "duration": 11,
    "start_time": "2022-07-10T17:15:36.034Z"
   },
   {
    "duration": 7,
    "start_time": "2022-07-10T17:16:27.865Z"
   },
   {
    "duration": 5,
    "start_time": "2022-07-10T17:16:59.148Z"
   },
   {
    "duration": 6,
    "start_time": "2022-07-10T17:17:00.411Z"
   },
   {
    "duration": 19,
    "start_time": "2022-07-10T17:17:00.952Z"
   },
   {
    "duration": 31,
    "start_time": "2022-07-10T17:17:08.337Z"
   },
   {
    "duration": 176,
    "start_time": "2022-07-10T17:17:10.031Z"
   },
   {
    "duration": 29,
    "start_time": "2022-07-10T17:17:17.832Z"
   },
   {
    "duration": 68,
    "start_time": "2022-07-10T17:17:30.916Z"
   },
   {
    "duration": 867,
    "start_time": "2022-07-10T17:17:34.235Z"
   },
   {
    "duration": 12,
    "start_time": "2022-07-10T17:17:36.645Z"
   },
   {
    "duration": 13,
    "start_time": "2022-07-10T17:17:37.065Z"
   },
   {
    "duration": 20,
    "start_time": "2022-07-10T17:17:39.479Z"
   },
   {
    "duration": 54,
    "start_time": "2022-07-10T17:17:42.508Z"
   },
   {
    "duration": 61,
    "start_time": "2022-07-10T17:17:43.808Z"
   },
   {
    "duration": 7,
    "start_time": "2022-07-10T17:17:48.404Z"
   },
   {
    "duration": 29,
    "start_time": "2022-07-10T17:17:52.332Z"
   },
   {
    "duration": 13,
    "start_time": "2022-07-10T17:18:17.941Z"
   },
   {
    "duration": 148,
    "start_time": "2022-07-10T17:18:34.545Z"
   },
   {
    "duration": 166,
    "start_time": "2022-07-10T17:18:52.613Z"
   },
   {
    "duration": 246,
    "start_time": "2022-07-10T17:19:13.178Z"
   },
   {
    "duration": 142,
    "start_time": "2022-07-10T17:19:18.864Z"
   },
   {
    "duration": 259,
    "start_time": "2022-07-10T17:19:25.889Z"
   },
   {
    "duration": 183,
    "start_time": "2022-07-10T17:20:04.353Z"
   },
   {
    "duration": 161,
    "start_time": "2022-07-10T17:20:08.550Z"
   },
   {
    "duration": 220,
    "start_time": "2022-07-10T17:20:25.465Z"
   },
   {
    "duration": 5,
    "start_time": "2022-07-10T17:20:45.874Z"
   },
   {
    "duration": 1764,
    "start_time": "2022-07-10T17:21:13.558Z"
   },
   {
    "duration": 20,
    "start_time": "2022-07-10T17:21:15.325Z"
   },
   {
    "duration": 1109,
    "start_time": "2022-07-10T17:21:15.347Z"
   },
   {
    "duration": 15,
    "start_time": "2022-07-10T17:21:16.458Z"
   },
   {
    "duration": 34,
    "start_time": "2022-07-10T17:21:16.474Z"
   },
   {
    "duration": 8,
    "start_time": "2022-07-10T17:21:17.874Z"
   },
   {
    "duration": 16,
    "start_time": "2022-07-10T17:21:18.679Z"
   },
   {
    "duration": 11,
    "start_time": "2022-07-10T17:21:19.711Z"
   },
   {
    "duration": 113,
    "start_time": "2022-07-10T17:21:22.763Z"
   },
   {
    "duration": 26,
    "start_time": "2022-07-10T17:23:16.185Z"
   },
   {
    "duration": 20,
    "start_time": "2022-07-10T17:23:56.530Z"
   },
   {
    "duration": 4,
    "start_time": "2022-07-10T17:25:06.293Z"
   },
   {
    "duration": 8,
    "start_time": "2022-07-10T17:25:13.383Z"
   },
   {
    "duration": 116003,
    "start_time": "2022-07-10T17:25:15.825Z"
   },
   {
    "duration": 62,
    "start_time": "2022-07-10T20:34:34.110Z"
   },
   {
    "duration": 9,
    "start_time": "2022-07-10T20:34:44.456Z"
   },
   {
    "duration": 9,
    "start_time": "2022-07-10T20:42:37.141Z"
   },
   {
    "duration": 19,
    "start_time": "2022-07-10T20:47:16.090Z"
   },
   {
    "duration": 18,
    "start_time": "2022-07-10T20:49:48.283Z"
   },
   {
    "duration": 16,
    "start_time": "2022-07-10T20:50:20.721Z"
   },
   {
    "duration": 15,
    "start_time": "2022-07-10T20:54:41.064Z"
   },
   {
    "duration": 17,
    "start_time": "2022-07-10T20:59:15.902Z"
   },
   {
    "duration": 38,
    "start_time": "2022-07-10T21:10:32.474Z"
   },
   {
    "duration": 4,
    "start_time": "2022-07-10T21:10:36.963Z"
   },
   {
    "duration": 63,
    "start_time": "2022-07-10T21:10:37.465Z"
   },
   {
    "duration": 4,
    "start_time": "2022-07-10T21:10:48.106Z"
   },
   {
    "duration": 4,
    "start_time": "2022-07-10T21:11:17.265Z"
   },
   {
    "duration": 5,
    "start_time": "2022-07-10T21:11:37.112Z"
   },
   {
    "duration": 85,
    "start_time": "2022-07-10T21:11:37.744Z"
   },
   {
    "duration": 317,
    "start_time": "2022-07-10T21:11:47.012Z"
   },
   {
    "duration": 145,
    "start_time": "2022-07-10T21:11:48.386Z"
   },
   {
    "duration": 16,
    "start_time": "2022-07-10T21:12:21.751Z"
   },
   {
    "duration": 17,
    "start_time": "2022-07-10T21:12:22.865Z"
   },
   {
    "duration": 8,
    "start_time": "2022-07-10T21:12:34.038Z"
   },
   {
    "duration": 560,
    "start_time": "2022-07-10T21:12:36.374Z"
   },
   {
    "duration": 1034,
    "start_time": "2022-07-10T21:12:39.207Z"
   },
   {
    "duration": 26,
    "start_time": "2022-07-10T21:12:52.315Z"
   },
   {
    "duration": 209,
    "start_time": "2022-07-10T21:12:52.769Z"
   },
   {
    "duration": 778,
    "start_time": "2022-07-10T21:12:53.547Z"
   },
   {
    "duration": 12,
    "start_time": "2022-07-10T21:13:12.874Z"
   },
   {
    "duration": 19,
    "start_time": "2022-07-10T21:13:13.922Z"
   },
   {
    "duration": 50,
    "start_time": "2022-07-10T21:13:14.498Z"
   },
   {
    "duration": 7,
    "start_time": "2022-07-10T21:13:14.914Z"
   },
   {
    "duration": 650,
    "start_time": "2022-07-10T21:13:15.737Z"
   },
   {
    "duration": 14,
    "start_time": "2022-07-10T21:13:29.566Z"
   },
   {
    "duration": 18,
    "start_time": "2022-07-10T21:13:30.090Z"
   },
   {
    "duration": 11,
    "start_time": "2022-07-10T21:13:30.602Z"
   },
   {
    "duration": 3,
    "start_time": "2022-07-10T21:13:31.017Z"
   },
   {
    "duration": 43683,
    "start_time": "2022-07-10T21:13:32.520Z"
   },
   {
    "duration": 32,
    "start_time": "2022-07-10T21:14:28.138Z"
   },
   {
    "duration": 21,
    "start_time": "2022-07-10T21:14:28.543Z"
   },
   {
    "duration": 12,
    "start_time": "2022-07-10T21:14:28.976Z"
   },
   {
    "duration": 6,
    "start_time": "2022-07-10T21:14:33.801Z"
   },
   {
    "duration": 5,
    "start_time": "2022-07-10T21:14:38.004Z"
   },
   {
    "duration": 5,
    "start_time": "2022-07-10T21:18:02.010Z"
   },
   {
    "duration": 158,
    "start_time": "2022-07-10T21:21:36.435Z"
   },
   {
    "duration": 161,
    "start_time": "2022-07-10T21:21:41.549Z"
   },
   {
    "duration": 60,
    "start_time": "2022-07-10T21:22:45.725Z"
   },
   {
    "duration": 5,
    "start_time": "2022-07-10T21:25:50.462Z"
   },
   {
    "duration": 51,
    "start_time": "2022-07-10T21:28:47.409Z"
   },
   {
    "duration": 4,
    "start_time": "2022-07-10T21:29:16.209Z"
   },
   {
    "duration": 5,
    "start_time": "2022-07-10T21:29:57.663Z"
   },
   {
    "duration": 4,
    "start_time": "2022-07-10T21:30:19.862Z"
   },
   {
    "duration": 5,
    "start_time": "2022-07-10T21:30:24.989Z"
   },
   {
    "duration": 127,
    "start_time": "2022-07-10T21:32:19.559Z"
   },
   {
    "duration": 161,
    "start_time": "2022-07-10T21:33:38.380Z"
   },
   {
    "duration": 248,
    "start_time": "2022-07-10T21:33:46.949Z"
   },
   {
    "duration": 191,
    "start_time": "2022-07-10T21:34:22.993Z"
   },
   {
    "duration": 146,
    "start_time": "2022-07-10T21:34:30.635Z"
   },
   {
    "duration": 155,
    "start_time": "2022-07-10T21:34:34.456Z"
   },
   {
    "duration": 171,
    "start_time": "2022-07-10T21:34:39.635Z"
   },
   {
    "duration": 16,
    "start_time": "2022-07-10T21:35:23.100Z"
   },
   {
    "duration": 160,
    "start_time": "2022-07-10T21:35:32.941Z"
   },
   {
    "duration": 52,
    "start_time": "2022-07-10T22:13:11.534Z"
   },
   {
    "duration": 107,
    "start_time": "2022-07-10T22:14:15.969Z"
   },
   {
    "duration": 4,
    "start_time": "2022-07-10T22:25:48.012Z"
   },
   {
    "duration": 251,
    "start_time": "2022-07-10T22:25:49.007Z"
   },
   {
    "duration": 16,
    "start_time": "2022-07-10T22:25:49.476Z"
   },
   {
    "duration": 39,
    "start_time": "2022-07-10T22:25:49.897Z"
   },
   {
    "duration": 10,
    "start_time": "2022-07-10T22:25:50.303Z"
   },
   {
    "duration": 5,
    "start_time": "2022-07-10T22:25:56.947Z"
   },
   {
    "duration": 5,
    "start_time": "2022-07-10T22:25:57.338Z"
   },
   {
    "duration": 30,
    "start_time": "2022-07-10T22:25:58.029Z"
   },
   {
    "duration": 29,
    "start_time": "2022-07-10T22:25:58.380Z"
   },
   {
    "duration": 35,
    "start_time": "2022-07-10T22:25:59.374Z"
   },
   {
    "duration": 22,
    "start_time": "2022-07-10T22:26:00.088Z"
   },
   {
    "duration": 19,
    "start_time": "2022-07-10T22:26:00.429Z"
   },
   {
    "duration": 8,
    "start_time": "2022-07-10T22:26:01.103Z"
   },
   {
    "duration": 6,
    "start_time": "2022-07-10T22:26:01.425Z"
   },
   {
    "duration": 8,
    "start_time": "2022-07-10T22:26:01.749Z"
   },
   {
    "duration": 27,
    "start_time": "2022-07-10T22:26:02.415Z"
   },
   {
    "duration": 5,
    "start_time": "2022-07-10T22:26:03.346Z"
   },
   {
    "duration": 6,
    "start_time": "2022-07-10T22:26:03.986Z"
   },
   {
    "duration": 12,
    "start_time": "2022-07-10T22:26:04.320Z"
   },
   {
    "duration": 20,
    "start_time": "2022-07-10T22:26:04.980Z"
   },
   {
    "duration": 169,
    "start_time": "2022-07-10T22:26:05.702Z"
   },
   {
    "duration": 30,
    "start_time": "2022-07-10T22:26:06.784Z"
   },
   {
    "duration": 160,
    "start_time": "2022-07-10T22:26:36.541Z"
   },
   {
    "duration": 30,
    "start_time": "2022-07-10T22:26:40.174Z"
   },
   {
    "duration": 43,
    "start_time": "2022-07-10T22:26:42.301Z"
   },
   {
    "duration": 727,
    "start_time": "2022-07-10T22:26:43.024Z"
   },
   {
    "duration": 12,
    "start_time": "2022-07-10T22:26:43.879Z"
   },
   {
    "duration": 11,
    "start_time": "2022-07-10T22:26:44.259Z"
   },
   {
    "duration": 16,
    "start_time": "2022-07-10T22:26:44.965Z"
   },
   {
    "duration": 45,
    "start_time": "2022-07-10T22:26:45.621Z"
   },
   {
    "duration": 157,
    "start_time": "2022-07-10T22:27:10.149Z"
   },
   {
    "duration": 29,
    "start_time": "2022-07-10T22:27:19.318Z"
   },
   {
    "duration": 53,
    "start_time": "2022-07-10T22:27:21.204Z"
   },
   {
    "duration": 718,
    "start_time": "2022-07-10T22:27:26.859Z"
   },
   {
    "duration": 12,
    "start_time": "2022-07-10T22:27:28.056Z"
   },
   {
    "duration": 13,
    "start_time": "2022-07-10T22:27:29.268Z"
   },
   {
    "duration": 22,
    "start_time": "2022-07-10T22:27:30.287Z"
   },
   {
    "duration": 15,
    "start_time": "2022-07-10T22:27:31.104Z"
   },
   {
    "duration": 12,
    "start_time": "2022-07-10T22:27:41.638Z"
   },
   {
    "duration": 15,
    "start_time": "2022-07-10T22:28:29.711Z"
   },
   {
    "duration": 12,
    "start_time": "2022-07-10T22:28:31.568Z"
   },
   {
    "duration": 16,
    "start_time": "2022-07-10T22:29:10.158Z"
   },
   {
    "duration": 20,
    "start_time": "2022-07-10T22:29:11.485Z"
   },
   {
    "duration": 12,
    "start_time": "2022-07-10T22:29:12.763Z"
   },
   {
    "duration": 11,
    "start_time": "2022-07-10T22:29:28.629Z"
   },
   {
    "duration": 4,
    "start_time": "2022-07-10T22:29:48.304Z"
   },
   {
    "duration": 276,
    "start_time": "2022-07-10T22:29:48.659Z"
   },
   {
    "duration": 18,
    "start_time": "2022-07-10T22:29:48.991Z"
   },
   {
    "duration": 46,
    "start_time": "2022-07-10T22:29:49.310Z"
   },
   {
    "duration": 10,
    "start_time": "2022-07-10T22:29:49.629Z"
   },
   {
    "duration": 5,
    "start_time": "2022-07-10T22:29:50.888Z"
   },
   {
    "duration": 5,
    "start_time": "2022-07-10T22:29:51.199Z"
   },
   {
    "duration": 34,
    "start_time": "2022-07-10T22:29:51.888Z"
   },
   {
    "duration": 33,
    "start_time": "2022-07-10T22:29:52.204Z"
   },
   {
    "duration": 36,
    "start_time": "2022-07-10T22:29:53.209Z"
   },
   {
    "duration": 24,
    "start_time": "2022-07-10T22:29:53.877Z"
   },
   {
    "duration": 22,
    "start_time": "2022-07-10T22:29:54.218Z"
   },
   {
    "duration": 7,
    "start_time": "2022-07-10T22:29:54.870Z"
   },
   {
    "duration": 7,
    "start_time": "2022-07-10T22:29:55.215Z"
   },
   {
    "duration": 7,
    "start_time": "2022-07-10T22:29:55.554Z"
   },
   {
    "duration": 26,
    "start_time": "2022-07-10T22:29:56.278Z"
   },
   {
    "duration": 6,
    "start_time": "2022-07-10T22:29:57.399Z"
   },
   {
    "duration": 6,
    "start_time": "2022-07-10T22:29:58.144Z"
   },
   {
    "duration": 13,
    "start_time": "2022-07-10T22:29:58.559Z"
   },
   {
    "duration": 20,
    "start_time": "2022-07-10T22:29:59.267Z"
   },
   {
    "duration": 150,
    "start_time": "2022-07-10T22:29:59.937Z"
   },
   {
    "duration": 33,
    "start_time": "2022-07-10T22:30:01.011Z"
   },
   {
    "duration": 46,
    "start_time": "2022-07-10T22:30:03.010Z"
   },
   {
    "duration": 758,
    "start_time": "2022-07-10T22:30:03.890Z"
   },
   {
    "duration": 12,
    "start_time": "2022-07-10T22:30:04.708Z"
   },
   {
    "duration": 12,
    "start_time": "2022-07-10T22:30:05.128Z"
   },
   {
    "duration": 19,
    "start_time": "2022-07-10T22:30:06.059Z"
   },
   {
    "duration": 53,
    "start_time": "2022-07-10T22:30:08.973Z"
   },
   {
    "duration": 64,
    "start_time": "2022-07-10T22:30:12.652Z"
   },
   {
    "duration": 6,
    "start_time": "2022-07-10T22:30:13.518Z"
   },
   {
    "duration": 26,
    "start_time": "2022-07-10T22:30:14.294Z"
   },
   {
    "duration": 13,
    "start_time": "2022-07-10T22:30:15.035Z"
   },
   {
    "duration": 170,
    "start_time": "2022-07-10T22:30:15.392Z"
   },
   {
    "duration": 190,
    "start_time": "2022-07-10T22:30:16.560Z"
   },
   {
    "duration": 156,
    "start_time": "2022-07-10T22:30:17.363Z"
   },
   {
    "duration": 5,
    "start_time": "2022-07-10T22:30:18.223Z"
   },
   {
    "duration": 1668,
    "start_time": "2022-07-10T22:30:19.569Z"
   },
   {
    "duration": 14,
    "start_time": "2022-07-10T22:30:21.239Z"
   },
   {
    "duration": 1000,
    "start_time": "2022-07-10T22:30:21.254Z"
   },
   {
    "duration": 15,
    "start_time": "2022-07-10T22:30:22.255Z"
   },
   {
    "duration": 30,
    "start_time": "2022-07-10T22:30:22.271Z"
   },
   {
    "duration": 6,
    "start_time": "2022-07-10T22:30:22.453Z"
   },
   {
    "duration": 13,
    "start_time": "2022-07-10T22:30:23.230Z"
   },
   {
    "duration": 9,
    "start_time": "2022-07-10T22:30:24.115Z"
   },
   {
    "duration": 130,
    "start_time": "2022-07-10T22:30:24.899Z"
   },
   {
    "duration": 174,
    "start_time": "2022-07-10T22:30:25.303Z"
   },
   {
    "duration": 4,
    "start_time": "2022-07-10T22:30:25.766Z"
   },
   {
    "duration": 23,
    "start_time": "2022-07-10T22:30:27.467Z"
   },
   {
    "duration": 18,
    "start_time": "2022-07-10T22:30:28.351Z"
   },
   {
    "duration": 7,
    "start_time": "2022-07-10T22:30:30.560Z"
   },
   {
    "duration": 112253,
    "start_time": "2022-07-10T22:30:31.469Z"
   },
   {
    "duration": 59,
    "start_time": "2022-07-10T22:32:53.069Z"
   },
   {
    "duration": 10,
    "start_time": "2022-07-10T22:32:54.091Z"
   },
   {
    "duration": 277,
    "start_time": "2022-07-10T22:32:54.438Z"
   },
   {
    "duration": 18,
    "start_time": "2022-07-10T22:32:54.814Z"
   },
   {
    "duration": 19,
    "start_time": "2022-07-10T22:32:55.189Z"
   },
   {
    "duration": 16,
    "start_time": "2022-07-10T22:32:55.577Z"
   },
   {
    "duration": 37,
    "start_time": "2022-07-10T22:32:57.530Z"
   },
   {
    "duration": 4,
    "start_time": "2022-07-10T22:32:58.256Z"
   },
   {
    "duration": 55,
    "start_time": "2022-07-10T22:32:58.646Z"
   },
   {
    "duration": 5,
    "start_time": "2022-07-10T22:32:59.305Z"
   },
   {
    "duration": 6,
    "start_time": "2022-07-10T22:32:59.973Z"
   },
   {
    "duration": 80,
    "start_time": "2022-07-10T22:33:00.289Z"
   },
   {
    "duration": 332,
    "start_time": "2022-07-10T22:33:01.010Z"
   },
   {
    "duration": 153,
    "start_time": "2022-07-10T22:33:01.381Z"
   },
   {
    "duration": 16,
    "start_time": "2022-07-10T22:33:02.448Z"
   },
   {
    "duration": 16,
    "start_time": "2022-07-10T22:33:02.810Z"
   },
   {
    "duration": 6,
    "start_time": "2022-07-10T22:33:03.526Z"
   },
   {
    "duration": 319,
    "start_time": "2022-07-10T22:33:04.206Z"
   },
   {
    "duration": 1302,
    "start_time": "2022-07-10T22:33:04.570Z"
   },
   {
    "duration": 27,
    "start_time": "2022-07-10T22:33:05.874Z"
   },
   {
    "duration": 187,
    "start_time": "2022-07-10T22:33:06.107Z"
   },
   {
    "duration": 586,
    "start_time": "2022-07-10T22:33:06.460Z"
   },
   {
    "duration": 12,
    "start_time": "2022-07-10T22:33:07.578Z"
   },
   {
    "duration": 17,
    "start_time": "2022-07-10T22:33:07.979Z"
   },
   {
    "duration": 44,
    "start_time": "2022-07-10T22:33:08.344Z"
   },
   {
    "duration": 7,
    "start_time": "2022-07-10T22:33:08.722Z"
   },
   {
    "duration": 738,
    "start_time": "2022-07-10T22:33:09.085Z"
   },
   {
    "duration": 15,
    "start_time": "2022-07-10T22:33:11.018Z"
   },
   {
    "duration": 19,
    "start_time": "2022-07-10T22:33:11.650Z"
   },
   {
    "duration": 12,
    "start_time": "2022-07-10T22:33:12.150Z"
   },
   {
    "duration": 44438,
    "start_time": "2022-07-10T22:33:13.604Z"
   },
   {
    "duration": 30,
    "start_time": "2022-07-10T22:33:58.044Z"
   },
   {
    "duration": 34,
    "start_time": "2022-07-10T22:33:58.075Z"
   },
   {
    "duration": 11,
    "start_time": "2022-07-10T22:33:58.111Z"
   },
   {
    "duration": 5,
    "start_time": "2022-07-10T22:33:58.124Z"
   },
   {
    "duration": 9,
    "start_time": "2022-07-10T22:33:58.131Z"
   },
   {
    "duration": 10,
    "start_time": "2022-07-10T22:33:58.142Z"
   },
   {
    "duration": 44,
    "start_time": "2022-07-13T06:30:38.798Z"
   },
   {
    "duration": 1440,
    "start_time": "2022-07-13T06:30:43.960Z"
   },
   {
    "duration": 163,
    "start_time": "2022-07-13T06:30:45.402Z"
   },
   {
    "duration": 15,
    "start_time": "2022-07-13T06:30:45.566Z"
   },
   {
    "duration": 42,
    "start_time": "2022-07-13T06:30:45.583Z"
   },
   {
    "duration": 9,
    "start_time": "2022-07-13T06:30:45.626Z"
   },
   {
    "duration": 4,
    "start_time": "2022-07-13T06:30:46.366Z"
   },
   {
    "duration": 4,
    "start_time": "2022-07-13T06:30:46.674Z"
   },
   {
    "duration": 30,
    "start_time": "2022-07-13T06:30:47.252Z"
   },
   {
    "duration": 27,
    "start_time": "2022-07-13T06:30:47.528Z"
   },
   {
    "duration": 35,
    "start_time": "2022-07-13T06:30:48.389Z"
   },
   {
    "duration": 22,
    "start_time": "2022-07-13T06:30:48.961Z"
   },
   {
    "duration": 18,
    "start_time": "2022-07-13T06:30:49.263Z"
   },
   {
    "duration": 7,
    "start_time": "2022-07-13T06:30:49.825Z"
   },
   {
    "duration": 5,
    "start_time": "2022-07-13T06:30:50.160Z"
   },
   {
    "duration": 7,
    "start_time": "2022-07-13T06:30:50.474Z"
   },
   {
    "duration": 27,
    "start_time": "2022-07-13T06:30:51.150Z"
   },
   {
    "duration": 4,
    "start_time": "2022-07-13T06:30:52.410Z"
   },
   {
    "duration": 5,
    "start_time": "2022-07-13T06:30:53.000Z"
   },
   {
    "duration": 12,
    "start_time": "2022-07-13T06:30:53.323Z"
   },
   {
    "duration": 19,
    "start_time": "2022-07-13T06:30:54.019Z"
   },
   {
    "duration": 148,
    "start_time": "2022-07-13T06:30:54.759Z"
   },
   {
    "duration": 31,
    "start_time": "2022-07-13T06:30:55.804Z"
   },
   {
    "duration": 47,
    "start_time": "2022-07-13T06:30:58.098Z"
   },
   {
    "duration": 684,
    "start_time": "2022-07-13T06:30:59.249Z"
   },
   {
    "duration": 11,
    "start_time": "2022-07-13T06:31:00.003Z"
   },
   {
    "duration": 13,
    "start_time": "2022-07-13T06:31:00.370Z"
   },
   {
    "duration": 23,
    "start_time": "2022-07-13T06:31:01.415Z"
   },
   {
    "duration": 51,
    "start_time": "2022-07-13T06:31:02.117Z"
   },
   {
    "duration": 53,
    "start_time": "2022-07-13T06:31:02.813Z"
   },
   {
    "duration": 6,
    "start_time": "2022-07-13T06:31:03.452Z"
   },
   {
    "duration": 25,
    "start_time": "2022-07-13T06:31:04.493Z"
   },
   {
    "duration": 12,
    "start_time": "2022-07-13T06:31:05.226Z"
   },
   {
    "duration": 152,
    "start_time": "2022-07-13T06:31:05.609Z"
   },
   {
    "duration": 183,
    "start_time": "2022-07-13T06:31:07.077Z"
   },
   {
    "duration": 141,
    "start_time": "2022-07-13T06:31:08.096Z"
   },
   {
    "duration": 4,
    "start_time": "2022-07-13T06:31:08.498Z"
   },
   {
    "duration": 1711,
    "start_time": "2022-07-13T06:31:09.631Z"
   },
   {
    "duration": 14,
    "start_time": "2022-07-13T06:31:11.344Z"
   },
   {
    "duration": 1021,
    "start_time": "2022-07-13T06:31:11.359Z"
   },
   {
    "duration": 15,
    "start_time": "2022-07-13T06:31:12.383Z"
   },
   {
    "duration": 20,
    "start_time": "2022-07-13T06:31:12.399Z"
   },
   {
    "duration": 8,
    "start_time": "2022-07-13T06:31:12.442Z"
   },
   {
    "duration": 12,
    "start_time": "2022-07-13T06:31:12.969Z"
   },
   {
    "duration": 10,
    "start_time": "2022-07-13T06:31:13.758Z"
   },
   {
    "duration": 108,
    "start_time": "2022-07-13T06:31:14.518Z"
   },
   {
    "duration": 143,
    "start_time": "2022-07-13T06:31:14.909Z"
   },
   {
    "duration": 4,
    "start_time": "2022-07-13T06:31:15.342Z"
   },
   {
    "duration": 18,
    "start_time": "2022-07-13T06:31:17.426Z"
   },
   {
    "duration": 18,
    "start_time": "2022-07-13T06:31:18.385Z"
   },
   {
    "duration": 7,
    "start_time": "2022-07-13T06:31:20.930Z"
   },
   {
    "duration": 53,
    "start_time": "2022-07-13T06:31:26.512Z"
   },
   {
    "duration": 10,
    "start_time": "2022-07-13T06:31:27.606Z"
   },
   {
    "duration": 252,
    "start_time": "2022-07-13T06:31:27.973Z"
   },
   {
    "duration": 16,
    "start_time": "2022-07-13T06:31:28.693Z"
   },
   {
    "duration": 15,
    "start_time": "2022-07-13T06:31:29.063Z"
   },
   {
    "duration": 16,
    "start_time": "2022-07-13T06:31:29.417Z"
   },
   {
    "duration": 39,
    "start_time": "2022-07-13T06:31:31.567Z"
   },
   {
    "duration": 4,
    "start_time": "2022-07-13T06:31:32.298Z"
   },
   {
    "duration": 59,
    "start_time": "2022-07-13T06:31:32.686Z"
   },
   {
    "duration": 5,
    "start_time": "2022-07-13T06:31:33.378Z"
   },
   {
    "duration": 5,
    "start_time": "2022-07-13T06:31:34.204Z"
   },
   {
    "duration": 80,
    "start_time": "2022-07-13T06:31:34.567Z"
   },
   {
    "duration": 293,
    "start_time": "2022-07-13T06:31:35.287Z"
   },
   {
    "duration": 138,
    "start_time": "2022-07-13T06:31:35.664Z"
   },
   {
    "duration": 16,
    "start_time": "2022-07-13T06:31:37.295Z"
   },
   {
    "duration": 15,
    "start_time": "2022-07-13T06:31:37.731Z"
   },
   {
    "duration": 7,
    "start_time": "2022-07-13T06:31:38.679Z"
   },
   {
    "duration": 304,
    "start_time": "2022-07-13T06:31:39.550Z"
   },
   {
    "duration": 998,
    "start_time": "2022-07-13T06:31:40.081Z"
   },
   {
    "duration": 22,
    "start_time": "2022-07-13T06:31:42.049Z"
   },
   {
    "duration": 198,
    "start_time": "2022-07-13T06:31:42.518Z"
   },
   {
    "duration": 560,
    "start_time": "2022-07-13T06:31:43.391Z"
   },
   {
    "duration": 11,
    "start_time": "2022-07-13T06:31:46.168Z"
   },
   {
    "duration": 16,
    "start_time": "2022-07-13T06:31:46.550Z"
   },
   {
    "duration": 42,
    "start_time": "2022-07-13T06:31:46.914Z"
   },
   {
    "duration": 7,
    "start_time": "2022-07-13T06:31:47.301Z"
   },
   {
    "duration": 618,
    "start_time": "2022-07-13T06:31:47.655Z"
   },
   {
    "duration": 13,
    "start_time": "2022-07-13T06:31:50.653Z"
   },
   {
    "duration": 18,
    "start_time": "2022-07-13T06:31:51.093Z"
   },
   {
    "duration": 11,
    "start_time": "2022-07-13T06:31:51.468Z"
   },
   {
    "duration": 41753,
    "start_time": "2022-07-13T06:31:53.330Z"
   },
   {
    "duration": 39,
    "start_time": "2022-07-13T06:32:35.085Z"
   },
   {
    "duration": 35,
    "start_time": "2022-07-13T06:32:35.126Z"
   },
   {
    "duration": 11,
    "start_time": "2022-07-13T06:32:35.163Z"
   },
   {
    "duration": 5,
    "start_time": "2022-07-13T06:32:35.176Z"
   },
   {
    "duration": 1555,
    "start_time": "2022-08-18T10:38:54.116Z"
   }
  ],
  "kernelspec": {
   "display_name": "Python 3 (ipykernel)",
   "language": "python",
   "name": "python3"
  },
  "language_info": {
   "codemirror_mode": {
    "name": "ipython",
    "version": 3
   },
   "file_extension": ".py",
   "mimetype": "text/x-python",
   "name": "python",
   "nbconvert_exporter": "python",
   "pygments_lexer": "ipython3",
   "version": "3.9.5"
  },
  "toc": {
   "base_numbering": 1,
   "nav_menu": {},
   "number_sections": true,
   "sideBar": true,
   "skip_h1_title": true,
   "title_cell": "Table of Contents",
   "title_sidebar": "Contents",
   "toc_cell": false,
   "toc_position": {
    "height": "calc(100% - 180px)",
    "left": "10px",
    "top": "150px",
    "width": "290.396px"
   },
   "toc_section_display": true,
   "toc_window_display": true
  }
 },
 "nbformat": 4,
 "nbformat_minor": 2
}
