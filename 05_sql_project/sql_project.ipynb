{
 "cells": [
  {
   "cell_type": "markdown",
   "metadata": {},
   "source": [
    "<b> Проект: SQL запросы. Анализ базы данных сервиса для чтения книг по подписке.</b>\n",
    "\n",
    "<b> Оглавление проекта:</b>\n",
    "\n",
    "[1. Загрузка и изучение данных.](#step_1)\n",
    "\n",
    "[2. Расчет количества книг, вышедших после 1 января 2000 года.](#step_2)\n",
    "\n",
    "[3. Расчет количества обзоров и среднюю оценку для кадой книги.](#step_3)\n",
    "\n",
    "[4. Определение издательства, которое выпустило наибольшее число книг толще 50 страниц.](#step_4)\n",
    "\n",
    "[5. Определение автора с самой высокой средней оценкой книг — (учитываются только книги с 50 и более оценками).](#step_5)\n",
    "\n",
    "[6. Расчет среднего количества обзоров от пользователей, которые поставили больше 50 оценок.](#step_6)\n",
    "[7. Вывод.](#step_7)"
   ]
  },
  {
   "cell_type": "markdown",
   "metadata": {},
   "source": [
    "<a id=\"step_1\"></a> \n",
    "## Загрузка и изучение данных."
   ]
  },
  {
   "cell_type": "code",
   "execution_count": 1,
   "metadata": {},
   "outputs": [],
   "source": [
    "# импортируем библиотеки\n",
    "import pandas as pd\n",
    "from sqlalchemy import create_engine "
   ]
  },
  {
   "cell_type": "code",
   "execution_count": 2,
   "metadata": {},
   "outputs": [],
   "source": [
    "# устанавливаем параметры\n",
    "db_config = {'user': 'praktikum_student', # имя пользователя\n",
    "'pwd': 'Sdf4$2;d-d30pp', # пароль\n",
    "'host': 'rc1b-wcoijxj3yxfsf3fs.mdb.yandexcloud.net',\n",
    "'port': 6432, # порт подключения\n",
    "'db': 'data-analyst-final-project-db'} # название базы данных\n",
    "connection_string = 'postgresql://{}:{}@{}:{}/{}'.format(db_config['user'],\n",
    " db_config['pwd'],\n",
    " db_config['host'],\n",
    " db_config['port'],\n",
    " db_config['db'])\n",
    "# сохраняем коннектор\n",
    "engine = create_engine(connection_string, connect_args={'sslmode':'require'})"
   ]
  },
  {
   "cell_type": "code",
   "execution_count": 3,
   "metadata": {},
   "outputs": [],
   "source": [
    "def show_tabs(sql):\n",
    "    return pd.io.sql.read_sql(sql, con = engine)"
   ]
  },
  {
   "cell_type": "code",
   "execution_count": 4,
   "metadata": {},
   "outputs": [],
   "source": [
    "def show_info(df):\n",
    "    return df.info()"
   ]
  },
  {
   "cell_type": "code",
   "execution_count": 5,
   "metadata": {},
   "outputs": [
    {
     "data": {
      "text/html": [
       "<div>\n",
       "<style scoped>\n",
       "    .dataframe tbody tr th:only-of-type {\n",
       "        vertical-align: middle;\n",
       "    }\n",
       "\n",
       "    .dataframe tbody tr th {\n",
       "        vertical-align: top;\n",
       "    }\n",
       "\n",
       "    .dataframe thead th {\n",
       "        text-align: right;\n",
       "    }\n",
       "</style>\n",
       "<table border=\"1\" class=\"dataframe\">\n",
       "  <thead>\n",
       "    <tr style=\"text-align: right;\">\n",
       "      <th></th>\n",
       "      <th>book_id</th>\n",
       "      <th>author_id</th>\n",
       "      <th>title</th>\n",
       "      <th>num_pages</th>\n",
       "      <th>publication_date</th>\n",
       "      <th>publisher_id</th>\n",
       "    </tr>\n",
       "  </thead>\n",
       "  <tbody>\n",
       "    <tr>\n",
       "      <th>0</th>\n",
       "      <td>1</td>\n",
       "      <td>546</td>\n",
       "      <td>'Salem's Lot</td>\n",
       "      <td>594</td>\n",
       "      <td>2005-11-01</td>\n",
       "      <td>93</td>\n",
       "    </tr>\n",
       "    <tr>\n",
       "      <th>1</th>\n",
       "      <td>2</td>\n",
       "      <td>465</td>\n",
       "      <td>1 000 Places to See Before You Die</td>\n",
       "      <td>992</td>\n",
       "      <td>2003-05-22</td>\n",
       "      <td>336</td>\n",
       "    </tr>\n",
       "    <tr>\n",
       "      <th>2</th>\n",
       "      <td>3</td>\n",
       "      <td>407</td>\n",
       "      <td>13 Little Blue Envelopes (Little Blue Envelope...</td>\n",
       "      <td>322</td>\n",
       "      <td>2010-12-21</td>\n",
       "      <td>135</td>\n",
       "    </tr>\n",
       "    <tr>\n",
       "      <th>3</th>\n",
       "      <td>4</td>\n",
       "      <td>82</td>\n",
       "      <td>1491: New Revelations of the Americas Before C...</td>\n",
       "      <td>541</td>\n",
       "      <td>2006-10-10</td>\n",
       "      <td>309</td>\n",
       "    </tr>\n",
       "    <tr>\n",
       "      <th>4</th>\n",
       "      <td>5</td>\n",
       "      <td>125</td>\n",
       "      <td>1776</td>\n",
       "      <td>386</td>\n",
       "      <td>2006-07-04</td>\n",
       "      <td>268</td>\n",
       "    </tr>\n",
       "  </tbody>\n",
       "</table>\n",
       "</div>"
      ],
      "text/plain": [
       "   book_id  author_id                                              title  \\\n",
       "0        1        546                                       'Salem's Lot   \n",
       "1        2        465                 1 000 Places to See Before You Die   \n",
       "2        3        407  13 Little Blue Envelopes (Little Blue Envelope...   \n",
       "3        4         82  1491: New Revelations of the Americas Before C...   \n",
       "4        5        125                                               1776   \n",
       "\n",
       "   num_pages publication_date  publisher_id  \n",
       "0        594       2005-11-01            93  \n",
       "1        992       2003-05-22           336  \n",
       "2        322       2010-12-21           135  \n",
       "3        541       2006-10-10           309  \n",
       "4        386       2006-07-04           268  "
      ]
     },
     "metadata": {},
     "output_type": "display_data"
    },
    {
     "name": "stdout",
     "output_type": "stream",
     "text": [
      "<class 'pandas.core.frame.DataFrame'>\n",
      "RangeIndex: 5 entries, 0 to 4\n",
      "Data columns (total 6 columns):\n",
      " #   Column            Non-Null Count  Dtype \n",
      "---  ------            --------------  ----- \n",
      " 0   book_id           5 non-null      int64 \n",
      " 1   author_id         5 non-null      int64 \n",
      " 2   title             5 non-null      object\n",
      " 3   num_pages         5 non-null      int64 \n",
      " 4   publication_date  5 non-null      object\n",
      " 5   publisher_id      5 non-null      int64 \n",
      "dtypes: int64(4), object(2)\n",
      "memory usage: 368.0+ bytes\n"
     ]
    }
   ],
   "source": [
    "query_1 = ''' SELECT * FROM books LIMIT 5 '''\n",
    "books = show_tabs(query_1)\n",
    "display(books)\n",
    "books.info()"
   ]
  },
  {
   "cell_type": "code",
   "execution_count": 6,
   "metadata": {},
   "outputs": [
    {
     "data": {
      "text/html": [
       "<div>\n",
       "<style scoped>\n",
       "    .dataframe tbody tr th:only-of-type {\n",
       "        vertical-align: middle;\n",
       "    }\n",
       "\n",
       "    .dataframe tbody tr th {\n",
       "        vertical-align: top;\n",
       "    }\n",
       "\n",
       "    .dataframe thead th {\n",
       "        text-align: right;\n",
       "    }\n",
       "</style>\n",
       "<table border=\"1\" class=\"dataframe\">\n",
       "  <thead>\n",
       "    <tr style=\"text-align: right;\">\n",
       "      <th></th>\n",
       "      <th>author_id</th>\n",
       "      <th>author</th>\n",
       "    </tr>\n",
       "  </thead>\n",
       "  <tbody>\n",
       "    <tr>\n",
       "      <th>0</th>\n",
       "      <td>1</td>\n",
       "      <td>A.S. Byatt</td>\n",
       "    </tr>\n",
       "    <tr>\n",
       "      <th>1</th>\n",
       "      <td>2</td>\n",
       "      <td>Aesop/Laura Harris/Laura Gibbs</td>\n",
       "    </tr>\n",
       "    <tr>\n",
       "      <th>2</th>\n",
       "      <td>3</td>\n",
       "      <td>Agatha Christie</td>\n",
       "    </tr>\n",
       "    <tr>\n",
       "      <th>3</th>\n",
       "      <td>4</td>\n",
       "      <td>Alan Brennert</td>\n",
       "    </tr>\n",
       "    <tr>\n",
       "      <th>4</th>\n",
       "      <td>5</td>\n",
       "      <td>Alan Moore/David   Lloyd</td>\n",
       "    </tr>\n",
       "  </tbody>\n",
       "</table>\n",
       "</div>"
      ],
      "text/plain": [
       "   author_id                          author\n",
       "0          1                      A.S. Byatt\n",
       "1          2  Aesop/Laura Harris/Laura Gibbs\n",
       "2          3                 Agatha Christie\n",
       "3          4                   Alan Brennert\n",
       "4          5        Alan Moore/David   Lloyd"
      ]
     },
     "metadata": {},
     "output_type": "display_data"
    },
    {
     "name": "stdout",
     "output_type": "stream",
     "text": [
      "<class 'pandas.core.frame.DataFrame'>\n",
      "RangeIndex: 5 entries, 0 to 4\n",
      "Data columns (total 2 columns):\n",
      " #   Column     Non-Null Count  Dtype \n",
      "---  ------     --------------  ----- \n",
      " 0   author_id  5 non-null      int64 \n",
      " 1   author     5 non-null      object\n",
      "dtypes: int64(1), object(1)\n",
      "memory usage: 208.0+ bytes\n"
     ]
    }
   ],
   "source": [
    "query_2 = ''' SELECT * FROM authors LIMIT 5 '''\n",
    "authors = show_tabs(query_2)\n",
    "display(authors)\n",
    "authors.info()"
   ]
  },
  {
   "cell_type": "code",
   "execution_count": 7,
   "metadata": {},
   "outputs": [
    {
     "data": {
      "text/html": [
       "<div>\n",
       "<style scoped>\n",
       "    .dataframe tbody tr th:only-of-type {\n",
       "        vertical-align: middle;\n",
       "    }\n",
       "\n",
       "    .dataframe tbody tr th {\n",
       "        vertical-align: top;\n",
       "    }\n",
       "\n",
       "    .dataframe thead th {\n",
       "        text-align: right;\n",
       "    }\n",
       "</style>\n",
       "<table border=\"1\" class=\"dataframe\">\n",
       "  <thead>\n",
       "    <tr style=\"text-align: right;\">\n",
       "      <th></th>\n",
       "      <th>publisher_id</th>\n",
       "      <th>publisher</th>\n",
       "    </tr>\n",
       "  </thead>\n",
       "  <tbody>\n",
       "    <tr>\n",
       "      <th>0</th>\n",
       "      <td>1</td>\n",
       "      <td>Ace</td>\n",
       "    </tr>\n",
       "    <tr>\n",
       "      <th>1</th>\n",
       "      <td>2</td>\n",
       "      <td>Ace Book</td>\n",
       "    </tr>\n",
       "    <tr>\n",
       "      <th>2</th>\n",
       "      <td>3</td>\n",
       "      <td>Ace Books</td>\n",
       "    </tr>\n",
       "    <tr>\n",
       "      <th>3</th>\n",
       "      <td>4</td>\n",
       "      <td>Ace Hardcover</td>\n",
       "    </tr>\n",
       "    <tr>\n",
       "      <th>4</th>\n",
       "      <td>5</td>\n",
       "      <td>Addison Wesley Publishing Company</td>\n",
       "    </tr>\n",
       "  </tbody>\n",
       "</table>\n",
       "</div>"
      ],
      "text/plain": [
       "   publisher_id                          publisher\n",
       "0             1                                Ace\n",
       "1             2                           Ace Book\n",
       "2             3                          Ace Books\n",
       "3             4                      Ace Hardcover\n",
       "4             5  Addison Wesley Publishing Company"
      ]
     },
     "metadata": {},
     "output_type": "display_data"
    },
    {
     "name": "stdout",
     "output_type": "stream",
     "text": [
      "<class 'pandas.core.frame.DataFrame'>\n",
      "RangeIndex: 5 entries, 0 to 4\n",
      "Data columns (total 2 columns):\n",
      " #   Column        Non-Null Count  Dtype \n",
      "---  ------        --------------  ----- \n",
      " 0   publisher_id  5 non-null      int64 \n",
      " 1   publisher     5 non-null      object\n",
      "dtypes: int64(1), object(1)\n",
      "memory usage: 208.0+ bytes\n"
     ]
    }
   ],
   "source": [
    "query_3 = ''' SELECT * FROM publishers LIMIT 5 '''\n",
    "publishers = show_tabs(query_3)\n",
    "display(publishers)\n",
    "publishers.info()"
   ]
  },
  {
   "cell_type": "code",
   "execution_count": 8,
   "metadata": {},
   "outputs": [
    {
     "data": {
      "text/html": [
       "<div>\n",
       "<style scoped>\n",
       "    .dataframe tbody tr th:only-of-type {\n",
       "        vertical-align: middle;\n",
       "    }\n",
       "\n",
       "    .dataframe tbody tr th {\n",
       "        vertical-align: top;\n",
       "    }\n",
       "\n",
       "    .dataframe thead th {\n",
       "        text-align: right;\n",
       "    }\n",
       "</style>\n",
       "<table border=\"1\" class=\"dataframe\">\n",
       "  <thead>\n",
       "    <tr style=\"text-align: right;\">\n",
       "      <th></th>\n",
       "      <th>rating_id</th>\n",
       "      <th>book_id</th>\n",
       "      <th>username</th>\n",
       "      <th>rating</th>\n",
       "    </tr>\n",
       "  </thead>\n",
       "  <tbody>\n",
       "    <tr>\n",
       "      <th>0</th>\n",
       "      <td>1</td>\n",
       "      <td>1</td>\n",
       "      <td>ryanfranco</td>\n",
       "      <td>4</td>\n",
       "    </tr>\n",
       "    <tr>\n",
       "      <th>1</th>\n",
       "      <td>2</td>\n",
       "      <td>1</td>\n",
       "      <td>grantpatricia</td>\n",
       "      <td>2</td>\n",
       "    </tr>\n",
       "    <tr>\n",
       "      <th>2</th>\n",
       "      <td>3</td>\n",
       "      <td>1</td>\n",
       "      <td>brandtandrea</td>\n",
       "      <td>5</td>\n",
       "    </tr>\n",
       "    <tr>\n",
       "      <th>3</th>\n",
       "      <td>4</td>\n",
       "      <td>2</td>\n",
       "      <td>lorichen</td>\n",
       "      <td>3</td>\n",
       "    </tr>\n",
       "    <tr>\n",
       "      <th>4</th>\n",
       "      <td>5</td>\n",
       "      <td>2</td>\n",
       "      <td>mariokeller</td>\n",
       "      <td>2</td>\n",
       "    </tr>\n",
       "  </tbody>\n",
       "</table>\n",
       "</div>"
      ],
      "text/plain": [
       "   rating_id  book_id       username  rating\n",
       "0          1        1     ryanfranco       4\n",
       "1          2        1  grantpatricia       2\n",
       "2          3        1   brandtandrea       5\n",
       "3          4        2       lorichen       3\n",
       "4          5        2    mariokeller       2"
      ]
     },
     "metadata": {},
     "output_type": "display_data"
    },
    {
     "name": "stdout",
     "output_type": "stream",
     "text": [
      "<class 'pandas.core.frame.DataFrame'>\n",
      "RangeIndex: 5 entries, 0 to 4\n",
      "Data columns (total 4 columns):\n",
      " #   Column     Non-Null Count  Dtype \n",
      "---  ------     --------------  ----- \n",
      " 0   rating_id  5 non-null      int64 \n",
      " 1   book_id    5 non-null      int64 \n",
      " 2   username   5 non-null      object\n",
      " 3   rating     5 non-null      int64 \n",
      "dtypes: int64(3), object(1)\n",
      "memory usage: 288.0+ bytes\n"
     ]
    }
   ],
   "source": [
    "query_4 = ''' SELECT * FROM ratings LIMIT 5 '''\n",
    "ratings = show_tabs(query_4)\n",
    "display(ratings)\n",
    "ratings.info()"
   ]
  },
  {
   "cell_type": "code",
   "execution_count": 9,
   "metadata": {},
   "outputs": [
    {
     "data": {
      "text/html": [
       "<div>\n",
       "<style scoped>\n",
       "    .dataframe tbody tr th:only-of-type {\n",
       "        vertical-align: middle;\n",
       "    }\n",
       "\n",
       "    .dataframe tbody tr th {\n",
       "        vertical-align: top;\n",
       "    }\n",
       "\n",
       "    .dataframe thead th {\n",
       "        text-align: right;\n",
       "    }\n",
       "</style>\n",
       "<table border=\"1\" class=\"dataframe\">\n",
       "  <thead>\n",
       "    <tr style=\"text-align: right;\">\n",
       "      <th></th>\n",
       "      <th>review_id</th>\n",
       "      <th>book_id</th>\n",
       "      <th>username</th>\n",
       "      <th>text</th>\n",
       "    </tr>\n",
       "  </thead>\n",
       "  <tbody>\n",
       "    <tr>\n",
       "      <th>0</th>\n",
       "      <td>1</td>\n",
       "      <td>1</td>\n",
       "      <td>brandtandrea</td>\n",
       "      <td>Mention society tell send professor analysis. ...</td>\n",
       "    </tr>\n",
       "    <tr>\n",
       "      <th>1</th>\n",
       "      <td>2</td>\n",
       "      <td>1</td>\n",
       "      <td>ryanfranco</td>\n",
       "      <td>Foot glass pretty audience hit themselves. Amo...</td>\n",
       "    </tr>\n",
       "    <tr>\n",
       "      <th>2</th>\n",
       "      <td>3</td>\n",
       "      <td>2</td>\n",
       "      <td>lorichen</td>\n",
       "      <td>Listen treat keep worry. Miss husband tax but ...</td>\n",
       "    </tr>\n",
       "    <tr>\n",
       "      <th>3</th>\n",
       "      <td>4</td>\n",
       "      <td>3</td>\n",
       "      <td>johnsonamanda</td>\n",
       "      <td>Finally month interesting blue could nature cu...</td>\n",
       "    </tr>\n",
       "    <tr>\n",
       "      <th>4</th>\n",
       "      <td>5</td>\n",
       "      <td>3</td>\n",
       "      <td>scotttamara</td>\n",
       "      <td>Nation purpose heavy give wait song will. List...</td>\n",
       "    </tr>\n",
       "  </tbody>\n",
       "</table>\n",
       "</div>"
      ],
      "text/plain": [
       "   review_id  book_id       username  \\\n",
       "0          1        1   brandtandrea   \n",
       "1          2        1     ryanfranco   \n",
       "2          3        2       lorichen   \n",
       "3          4        3  johnsonamanda   \n",
       "4          5        3    scotttamara   \n",
       "\n",
       "                                                text  \n",
       "0  Mention society tell send professor analysis. ...  \n",
       "1  Foot glass pretty audience hit themselves. Amo...  \n",
       "2  Listen treat keep worry. Miss husband tax but ...  \n",
       "3  Finally month interesting blue could nature cu...  \n",
       "4  Nation purpose heavy give wait song will. List...  "
      ]
     },
     "metadata": {},
     "output_type": "display_data"
    },
    {
     "name": "stdout",
     "output_type": "stream",
     "text": [
      "<class 'pandas.core.frame.DataFrame'>\n",
      "RangeIndex: 5 entries, 0 to 4\n",
      "Data columns (total 4 columns):\n",
      " #   Column     Non-Null Count  Dtype \n",
      "---  ------     --------------  ----- \n",
      " 0   review_id  5 non-null      int64 \n",
      " 1   book_id    5 non-null      int64 \n",
      " 2   username   5 non-null      object\n",
      " 3   text       5 non-null      object\n",
      "dtypes: int64(2), object(2)\n",
      "memory usage: 288.0+ bytes\n"
     ]
    }
   ],
   "source": [
    "query_5 = ''' SELECT * FROM reviews LIMIT 5 '''\n",
    "reviews = show_tabs(query_5)\n",
    "display(reviews)\n",
    "reviews.info()"
   ]
  },
  {
   "cell_type": "markdown",
   "metadata": {},
   "source": [
    "<a id=\"step_2\"></a> \n",
    "## Расчет количества книг, вышедших после 1 января 2000 года"
   ]
  },
  {
   "cell_type": "code",
   "execution_count": 10,
   "metadata": {},
   "outputs": [
    {
     "data": {
      "text/html": [
       "<div>\n",
       "<style scoped>\n",
       "    .dataframe tbody tr th:only-of-type {\n",
       "        vertical-align: middle;\n",
       "    }\n",
       "\n",
       "    .dataframe tbody tr th {\n",
       "        vertical-align: top;\n",
       "    }\n",
       "\n",
       "    .dataframe thead th {\n",
       "        text-align: right;\n",
       "    }\n",
       "</style>\n",
       "<table border=\"1\" class=\"dataframe\">\n",
       "  <thead>\n",
       "    <tr style=\"text-align: right;\">\n",
       "      <th></th>\n",
       "      <th>count</th>\n",
       "    </tr>\n",
       "  </thead>\n",
       "  <tbody>\n",
       "    <tr>\n",
       "      <th>0</th>\n",
       "      <td>821</td>\n",
       "    </tr>\n",
       "  </tbody>\n",
       "</table>\n",
       "</div>"
      ],
      "text/plain": [
       "   count\n",
       "0    821"
      ]
     },
     "execution_count": 10,
     "metadata": {},
     "output_type": "execute_result"
    }
   ],
   "source": [
    "query_count_books = ''' SELECT COUNT(book_id) FROM books WHERE CAST(publication_date AS date) >= '2000-01-01'; '''\n",
    "count_books = show_tabs(query_count_books)\n",
    "count_books"
   ]
  },
  {
   "cell_type": "markdown",
   "metadata": {},
   "source": [
    "После 1 января 2000 года было опубликовано 821 книг."
   ]
  },
  {
   "cell_type": "markdown",
   "metadata": {},
   "source": [
    "<a id=\"step_3\"></a> \n",
    "## Расчет количества обзоров и средней оценки для кадой книги"
   ]
  },
  {
   "cell_type": "code",
   "execution_count": 11,
   "metadata": {},
   "outputs": [
    {
     "data": {
      "text/html": [
       "<div>\n",
       "<style scoped>\n",
       "    .dataframe tbody tr th:only-of-type {\n",
       "        vertical-align: middle;\n",
       "    }\n",
       "\n",
       "    .dataframe tbody tr th {\n",
       "        vertical-align: top;\n",
       "    }\n",
       "\n",
       "    .dataframe thead th {\n",
       "        text-align: right;\n",
       "    }\n",
       "</style>\n",
       "<table border=\"1\" class=\"dataframe\">\n",
       "  <thead>\n",
       "    <tr style=\"text-align: right;\">\n",
       "      <th></th>\n",
       "      <th>title</th>\n",
       "      <th>book_id</th>\n",
       "      <th>review_count</th>\n",
       "      <th>avg_rating</th>\n",
       "    </tr>\n",
       "  </thead>\n",
       "  <tbody>\n",
       "    <tr>\n",
       "      <th>0</th>\n",
       "      <td>A Dirty Job (Grim Reaper  #1)</td>\n",
       "      <td>17</td>\n",
       "      <td>4</td>\n",
       "      <td>5.00</td>\n",
       "    </tr>\n",
       "    <tr>\n",
       "      <th>1</th>\n",
       "      <td>School's Out—Forever (Maximum Ride  #2)</td>\n",
       "      <td>553</td>\n",
       "      <td>3</td>\n",
       "      <td>5.00</td>\n",
       "    </tr>\n",
       "    <tr>\n",
       "      <th>2</th>\n",
       "      <td>Moneyball: The Art of Winning an Unfair Game</td>\n",
       "      <td>444</td>\n",
       "      <td>3</td>\n",
       "      <td>5.00</td>\n",
       "    </tr>\n",
       "    <tr>\n",
       "      <th>3</th>\n",
       "      <td>Arrows of the Queen (Heralds of Valdemar  #1)</td>\n",
       "      <td>86</td>\n",
       "      <td>2</td>\n",
       "      <td>5.00</td>\n",
       "    </tr>\n",
       "    <tr>\n",
       "      <th>4</th>\n",
       "      <td>Wherever You Go  There You Are: Mindfulness Me...</td>\n",
       "      <td>972</td>\n",
       "      <td>2</td>\n",
       "      <td>5.00</td>\n",
       "    </tr>\n",
       "    <tr>\n",
       "      <th>...</th>\n",
       "      <td>...</td>\n",
       "      <td>...</td>\n",
       "      <td>...</td>\n",
       "      <td>...</td>\n",
       "    </tr>\n",
       "    <tr>\n",
       "      <th>995</th>\n",
       "      <td>The World Is Flat: A Brief History of the Twen...</td>\n",
       "      <td>915</td>\n",
       "      <td>3</td>\n",
       "      <td>2.25</td>\n",
       "    </tr>\n",
       "    <tr>\n",
       "      <th>996</th>\n",
       "      <td>Drowning Ruth</td>\n",
       "      <td>202</td>\n",
       "      <td>3</td>\n",
       "      <td>2.00</td>\n",
       "    </tr>\n",
       "    <tr>\n",
       "      <th>997</th>\n",
       "      <td>His Excellency: George Washington</td>\n",
       "      <td>316</td>\n",
       "      <td>2</td>\n",
       "      <td>2.00</td>\n",
       "    </tr>\n",
       "    <tr>\n",
       "      <th>998</th>\n",
       "      <td>Junky</td>\n",
       "      <td>371</td>\n",
       "      <td>2</td>\n",
       "      <td>2.00</td>\n",
       "    </tr>\n",
       "    <tr>\n",
       "      <th>999</th>\n",
       "      <td>Harvesting the Heart</td>\n",
       "      <td>303</td>\n",
       "      <td>2</td>\n",
       "      <td>1.50</td>\n",
       "    </tr>\n",
       "  </tbody>\n",
       "</table>\n",
       "<p>1000 rows × 4 columns</p>\n",
       "</div>"
      ],
      "text/plain": [
       "                                                 title  book_id  review_count  \\\n",
       "0                        A Dirty Job (Grim Reaper  #1)       17             4   \n",
       "1              School's Out—Forever (Maximum Ride  #2)      553             3   \n",
       "2         Moneyball: The Art of Winning an Unfair Game      444             3   \n",
       "3        Arrows of the Queen (Heralds of Valdemar  #1)       86             2   \n",
       "4    Wherever You Go  There You Are: Mindfulness Me...      972             2   \n",
       "..                                                 ...      ...           ...   \n",
       "995  The World Is Flat: A Brief History of the Twen...      915             3   \n",
       "996                                      Drowning Ruth      202             3   \n",
       "997                  His Excellency: George Washington      316             2   \n",
       "998                                              Junky      371             2   \n",
       "999                               Harvesting the Heart      303             2   \n",
       "\n",
       "     avg_rating  \n",
       "0          5.00  \n",
       "1          5.00  \n",
       "2          5.00  \n",
       "3          5.00  \n",
       "4          5.00  \n",
       "..          ...  \n",
       "995        2.25  \n",
       "996        2.00  \n",
       "997        2.00  \n",
       "998        2.00  \n",
       "999        1.50  \n",
       "\n",
       "[1000 rows x 4 columns]"
      ]
     },
     "execution_count": 11,
     "metadata": {},
     "output_type": "execute_result"
    }
   ],
   "source": [
    "query_books_rat = '''\n",
    "SELECT b.title,\n",
    "       b.book_id,\n",
    "       COUNT(DISTINCT rev.review_id) AS review_count,\n",
    "       AVG(rat.rating) AS avg_rating\n",
    "FROM books AS b \n",
    "LEFT JOIN ratings AS rat ON rat.book_id = b.book_id\n",
    "LEFT JOIN reviews AS rev ON rev.book_id = b.book_id\n",
    "GROUP BY b.book_id\n",
    "ORDER BY avg_rating DESC , review_count DESC;\n",
    "'''\n",
    "books_rating = show_tabs(query_books_rat)\n",
    "books_rating"
   ]
  },
  {
   "cell_type": "markdown",
   "metadata": {},
   "source": [
    "Самый большой рейтинг и количество обзоров у книги `A Dirty Job (Grim Reaper #1)`\n",
    "\n",
    "Наименьший рейтинг и количество обзоров у книги `Harvesting the Heart`"
   ]
  },
  {
   "cell_type": "markdown",
   "metadata": {},
   "source": [
    "<a id=\"step_4\"></a> \n",
    "## Определение издательства, которое выпустило наибольшее число книг толще 50 страниц"
   ]
  },
  {
   "cell_type": "code",
   "execution_count": 12,
   "metadata": {},
   "outputs": [
    {
     "data": {
      "text/html": [
       "<div>\n",
       "<style scoped>\n",
       "    .dataframe tbody tr th:only-of-type {\n",
       "        vertical-align: middle;\n",
       "    }\n",
       "\n",
       "    .dataframe tbody tr th {\n",
       "        vertical-align: top;\n",
       "    }\n",
       "\n",
       "    .dataframe thead th {\n",
       "        text-align: right;\n",
       "    }\n",
       "</style>\n",
       "<table border=\"1\" class=\"dataframe\">\n",
       "  <thead>\n",
       "    <tr style=\"text-align: right;\">\n",
       "      <th></th>\n",
       "      <th>publisher</th>\n",
       "      <th>book_count</th>\n",
       "    </tr>\n",
       "  </thead>\n",
       "  <tbody>\n",
       "    <tr>\n",
       "      <th>0</th>\n",
       "      <td>Penguin Books</td>\n",
       "      <td>42</td>\n",
       "    </tr>\n",
       "  </tbody>\n",
       "</table>\n",
       "</div>"
      ],
      "text/plain": [
       "       publisher  book_count\n",
       "0  Penguin Books          42"
      ]
     },
     "execution_count": 12,
     "metadata": {},
     "output_type": "execute_result"
    }
   ],
   "source": [
    "query_top_publisher = '''\n",
    "WITH\n",
    "id AS (SELECT publisher_id,\n",
    "       COUNT(book_id) AS book_count\n",
    "       FROM books\n",
    "       WHERE num_pages > 50\n",
    "       GROUP BY publisher_id\n",
    "       ORDER BY book_count DESC\n",
    "       LIMIT 1)\n",
    "SELECT publisher,\n",
    "       id.book_count\n",
    "FROM publishers AS p RIGHT JOIN id ON p.publisher_id = id.publisher_id\n",
    "'''\n",
    "top_publisher = show_tabs(query_top_publisher)\n",
    "top_publisher"
   ]
  },
  {
   "cell_type": "markdown",
   "metadata": {},
   "source": [
    "Издательство, которое выпустило наибольшее число книг, толще 50 страниц - `Penguin Books`, количество книг, выпущенное данным издательством составило 42 книги."
   ]
  },
  {
   "cell_type": "markdown",
   "metadata": {},
   "source": [
    "<a id=\"step_5\"></a> \n",
    "## Определение автора с самой высокой средней оценкой книг — (учитываются только книги с 50 и более оценками)"
   ]
  },
  {
   "cell_type": "code",
   "execution_count": 16,
   "metadata": {},
   "outputs": [
    {
     "data": {
      "text/html": [
       "<div>\n",
       "<style scoped>\n",
       "    .dataframe tbody tr th:only-of-type {\n",
       "        vertical-align: middle;\n",
       "    }\n",
       "\n",
       "    .dataframe tbody tr th {\n",
       "        vertical-align: top;\n",
       "    }\n",
       "\n",
       "    .dataframe thead th {\n",
       "        text-align: right;\n",
       "    }\n",
       "</style>\n",
       "<table border=\"1\" class=\"dataframe\">\n",
       "  <thead>\n",
       "    <tr style=\"text-align: right;\">\n",
       "      <th></th>\n",
       "      <th>author</th>\n",
       "      <th>avg</th>\n",
       "    </tr>\n",
       "  </thead>\n",
       "  <tbody>\n",
       "    <tr>\n",
       "      <th>0</th>\n",
       "      <td>J.K. Rowling/Mary GrandPré</td>\n",
       "      <td>4.283844</td>\n",
       "    </tr>\n",
       "  </tbody>\n",
       "</table>\n",
       "</div>"
      ],
      "text/plain": [
       "                       author       avg\n",
       "0  J.K. Rowling/Mary GrandPré  4.283844"
      ]
     },
     "execution_count": 16,
     "metadata": {},
     "output_type": "execute_result"
    }
   ],
   "source": [
    "query_top_author = '''\n",
    "            SELECT a.author,\n",
    "                   AVG(ratings)\n",
    "            FROM (SELECT book_id,\n",
    "                  AVG(rating) ratings\n",
    "                  FROM ratings\n",
    "                  GROUP BY book_id\n",
    "                  HAVING COUNT(rating_id) >= 50) rat\n",
    "            JOIN (SELECT book_id, author_id FROM books) b ON rat.book_id=b.book_id\n",
    "            JOIN (SELECT author_id, author FROM authors) a ON b.author_id=a.author_id\n",
    "            GROUP BY a.author\n",
    "            ORDER BY avg(ratings) DESC\n",
    "            LIMIT 1\n",
    "        '''\n",
    "top_author = show_tabs(query_top_author)\n",
    "top_author"
   ]
  },
  {
   "cell_type": "markdown",
   "metadata": {},
   "source": [
    "Автор с самой высокой средней оценкой книг — `J.K. Rowling/Mary GrandPré` , средняя оценка книг данного автора `4,28`."
   ]
  },
  {
   "cell_type": "markdown",
   "metadata": {},
   "source": [
    "<a id=\"step_6\"></a> \n",
    "## Расчет среднего количества обзоров от пользователей, которые поставили больше 50 оценок"
   ]
  },
  {
   "cell_type": "code",
   "execution_count": 14,
   "metadata": {},
   "outputs": [
    {
     "data": {
      "text/html": [
       "<div>\n",
       "<style scoped>\n",
       "    .dataframe tbody tr th:only-of-type {\n",
       "        vertical-align: middle;\n",
       "    }\n",
       "\n",
       "    .dataframe tbody tr th {\n",
       "        vertical-align: top;\n",
       "    }\n",
       "\n",
       "    .dataframe thead th {\n",
       "        text-align: right;\n",
       "    }\n",
       "</style>\n",
       "<table border=\"1\" class=\"dataframe\">\n",
       "  <thead>\n",
       "    <tr style=\"text-align: right;\">\n",
       "      <th></th>\n",
       "      <th>round</th>\n",
       "    </tr>\n",
       "  </thead>\n",
       "  <tbody>\n",
       "    <tr>\n",
       "      <th>0</th>\n",
       "      <td>24.33</td>\n",
       "    </tr>\n",
       "  </tbody>\n",
       "</table>\n",
       "</div>"
      ],
      "text/plain": [
       "   round\n",
       "0  24.33"
      ]
     },
     "execution_count": 14,
     "metadata": {},
     "output_type": "execute_result"
    }
   ],
   "source": [
    "query_avg_reviews = '''\n",
    "WITH\n",
    "rat AS (SELECT *\n",
    "        FROM (SELECT username,\n",
    "              COUNT(rating_id) as number_of_ratings\n",
    "              FROM ratings\n",
    "              GROUP BY username) AS ref\n",
    "        WHERE number_of_ratings > 50)\n",
    "SELECT ROUND(AVG(count_reviews),2) \n",
    "FROM (SELECT COUNT(review_id) AS count_reviews\n",
    "      FROM rat LEFT JOIN reviews AS rev ON rat.username = rev.username\n",
    "      GROUP BY rev.username) AS ref_2\n",
    "'''\n",
    "reviews_count_1 = show_tabs(query_avg_reviews)\n",
    "reviews_count_1"
   ]
  },
  {
   "cell_type": "markdown",
   "metadata": {},
   "source": [
    "Среднее количество обзоров от пользователей, которые поставили больше 50 оценок составляет - `24,33`."
   ]
  },
  {
   "cell_type": "markdown",
   "metadata": {},
   "source": [
    "Был проведен анализ базы данных сервиса для чтения книг по подписке. Перечислим результаты проведенного анализа:\n",
    "\n",
    "1. После 1 января 2000 года было опубликовано 821 книг.\n",
    "2. Самый большой рейтинг и количество обзоров у книги `A Dirty Job (Grim Reaper #1)`\n",
    "3. Наименьший рейтинг и количество обзоров у книги `Harvesting the Heart\n",
    "4. Издательство, которое выпустило наибольшее число книг, толще 50 страниц - `Penguin Books`, количество книг, выпущенное данным издательством составило 42 книги.\n",
    "5. Автор с самой высокой средней оценкой книг — `J.K. Rowling/Mary GrandPré` , средняя оценка книг данного автора `4,28`.\n",
    "6. Среднее количество обзоров от пользователей, которые поставили больше 50 оценок составляет - `24,33`."
   ]
  }
 ],
 "metadata": {
  "ExecuteTimeLog": [
   {
    "duration": 506,
    "start_time": "2022-07-14T14:11:14.039Z"
   },
   {
    "duration": 13143,
    "start_time": "2022-07-14T14:11:27.401Z"
   },
   {
    "duration": 2,
    "start_time": "2022-07-14T14:26:30.306Z"
   },
   {
    "duration": 97,
    "start_time": "2022-07-14T14:27:03.116Z"
   },
   {
    "duration": 12,
    "start_time": "2022-07-14T14:27:59.539Z"
   },
   {
    "duration": 513,
    "start_time": "2022-07-14T16:12:41.761Z"
   },
   {
    "duration": 5636,
    "start_time": "2022-07-14T16:12:42.275Z"
   },
   {
    "duration": 3,
    "start_time": "2022-07-14T16:12:47.913Z"
   },
   {
    "duration": 267,
    "start_time": "2022-07-14T16:12:48.171Z"
   },
   {
    "duration": 3,
    "start_time": "2022-07-14T16:16:38.909Z"
   },
   {
    "duration": 83,
    "start_time": "2022-07-14T16:17:02.632Z"
   },
   {
    "duration": 74,
    "start_time": "2022-07-14T16:18:30.158Z"
   },
   {
    "duration": 7,
    "start_time": "2022-07-14T16:18:49.351Z"
   },
   {
    "duration": 79,
    "start_time": "2022-07-14T16:19:29.999Z"
   },
   {
    "duration": 4,
    "start_time": "2022-07-14T16:19:38.843Z"
   },
   {
    "duration": 75,
    "start_time": "2022-07-14T16:20:25.120Z"
   },
   {
    "duration": 92,
    "start_time": "2022-07-14T16:22:37.895Z"
   },
   {
    "duration": 84,
    "start_time": "2022-07-14T16:23:45.633Z"
   },
   {
    "duration": 79,
    "start_time": "2022-07-14T16:24:32.237Z"
   },
   {
    "duration": 85,
    "start_time": "2022-07-14T16:26:04.016Z"
   },
   {
    "duration": 87,
    "start_time": "2022-07-14T16:26:38.361Z"
   },
   {
    "duration": 89,
    "start_time": "2022-07-14T16:27:25.944Z"
   },
   {
    "duration": 75,
    "start_time": "2022-07-14T16:38:10.339Z"
   },
   {
    "duration": 93,
    "start_time": "2022-07-14T16:38:28.403Z"
   },
   {
    "duration": 119,
    "start_time": "2022-07-14T16:39:34.600Z"
   },
   {
    "duration": 8,
    "start_time": "2022-07-14T16:40:04.797Z"
   },
   {
    "duration": 5,
    "start_time": "2022-07-14T16:40:12.262Z"
   },
   {
    "duration": 22,
    "start_time": "2022-07-14T16:41:31.766Z"
   },
   {
    "duration": 3,
    "start_time": "2022-07-14T16:41:56.940Z"
   },
   {
    "duration": 5,
    "start_time": "2022-07-14T16:41:57.435Z"
   },
   {
    "duration": 3,
    "start_time": "2022-07-14T16:41:58.197Z"
   },
   {
    "duration": 2,
    "start_time": "2022-07-14T16:41:58.709Z"
   },
   {
    "duration": 269,
    "start_time": "2022-07-14T16:41:59.395Z"
   },
   {
    "duration": 82,
    "start_time": "2022-07-14T16:42:00.564Z"
   },
   {
    "duration": 92,
    "start_time": "2022-07-14T16:42:01.157Z"
   },
   {
    "duration": 81,
    "start_time": "2022-07-14T16:42:02.000Z"
   },
   {
    "duration": 81,
    "start_time": "2022-07-14T16:42:02.353Z"
   },
   {
    "duration": 73,
    "start_time": "2022-07-14T16:42:03.562Z"
   },
   {
    "duration": 10,
    "start_time": "2022-07-14T16:44:01.972Z"
   },
   {
    "duration": 72,
    "start_time": "2022-07-14T16:49:41.650Z"
   },
   {
    "duration": 83,
    "start_time": "2022-07-14T17:32:46.582Z"
   },
   {
    "duration": 71,
    "start_time": "2022-07-14T17:32:59.583Z"
   },
   {
    "duration": 145,
    "start_time": "2022-07-14T18:00:19.476Z"
   },
   {
    "duration": 140,
    "start_time": "2022-07-14T18:01:03.502Z"
   },
   {
    "duration": 146,
    "start_time": "2022-07-14T18:01:18.669Z"
   },
   {
    "duration": 56,
    "start_time": "2022-07-14T18:05:09.278Z"
   },
   {
    "duration": 566,
    "start_time": "2022-07-14T18:05:21.928Z"
   },
   {
    "duration": 6026,
    "start_time": "2022-07-14T18:05:22.497Z"
   },
   {
    "duration": 3,
    "start_time": "2022-07-14T18:05:28.525Z"
   },
   {
    "duration": 8,
    "start_time": "2022-07-14T18:05:28.529Z"
   },
   {
    "duration": 288,
    "start_time": "2022-07-14T18:05:28.540Z"
   },
   {
    "duration": 92,
    "start_time": "2022-07-14T18:05:28.830Z"
   },
   {
    "duration": 92,
    "start_time": "2022-07-14T18:05:28.925Z"
   },
   {
    "duration": 90,
    "start_time": "2022-07-14T18:05:29.020Z"
   },
   {
    "duration": 98,
    "start_time": "2022-07-14T18:05:29.113Z"
   },
   {
    "duration": 76,
    "start_time": "2022-07-14T18:05:29.213Z"
   },
   {
    "duration": 394,
    "start_time": "2022-07-14T18:05:29.291Z"
   },
   {
    "duration": 176,
    "start_time": "2022-07-14T18:06:37.977Z"
   },
   {
    "duration": 146,
    "start_time": "2022-07-14T18:07:15.492Z"
   },
   {
    "duration": 334,
    "start_time": "2022-07-14T18:07:24.566Z"
   },
   {
    "duration": 169,
    "start_time": "2022-07-14T19:01:11.898Z"
   },
   {
    "duration": 165,
    "start_time": "2022-07-14T19:01:43.733Z"
   },
   {
    "duration": 145,
    "start_time": "2022-07-14T19:04:54.024Z"
   },
   {
    "duration": 136,
    "start_time": "2022-07-14T19:07:21.524Z"
   },
   {
    "duration": 139,
    "start_time": "2022-07-14T19:08:20.334Z"
   },
   {
    "duration": 149,
    "start_time": "2022-07-14T19:09:37.026Z"
   },
   {
    "duration": 135,
    "start_time": "2022-07-14T19:13:04.506Z"
   },
   {
    "duration": 142,
    "start_time": "2022-07-14T19:15:07.630Z"
   },
   {
    "duration": 107,
    "start_time": "2022-07-14T19:19:05.109Z"
   },
   {
    "duration": 110,
    "start_time": "2022-07-14T19:23:04.761Z"
   },
   {
    "duration": 140,
    "start_time": "2022-07-14T19:25:03.805Z"
   },
   {
    "duration": 203,
    "start_time": "2022-07-14T19:26:20.586Z"
   },
   {
    "duration": 89,
    "start_time": "2022-07-14T19:26:25.536Z"
   },
   {
    "duration": 135,
    "start_time": "2022-07-14T19:26:36.556Z"
   },
   {
    "duration": 49,
    "start_time": "2022-07-14T19:37:47.291Z"
   },
   {
    "duration": 173,
    "start_time": "2022-07-14T19:38:04.461Z"
   },
   {
    "duration": 78,
    "start_time": "2022-07-14T19:38:31.077Z"
   },
   {
    "duration": 151,
    "start_time": "2022-07-14T19:41:20.555Z"
   },
   {
    "duration": 75,
    "start_time": "2022-07-14T19:42:05.153Z"
   },
   {
    "duration": 78,
    "start_time": "2022-07-14T19:43:15.842Z"
   },
   {
    "duration": 138,
    "start_time": "2022-07-14T19:43:19.968Z"
   },
   {
    "duration": 140,
    "start_time": "2022-07-14T19:43:56.698Z"
   },
   {
    "duration": 76,
    "start_time": "2022-07-14T19:44:28.708Z"
   },
   {
    "duration": 78,
    "start_time": "2022-07-14T19:44:41.227Z"
   },
   {
    "duration": 139,
    "start_time": "2022-07-14T20:27:33.545Z"
   },
   {
    "duration": 162,
    "start_time": "2022-07-14T20:27:57.587Z"
   },
   {
    "duration": 141,
    "start_time": "2022-07-14T20:28:14.388Z"
   },
   {
    "duration": 156,
    "start_time": "2022-07-14T20:28:28.890Z"
   },
   {
    "duration": 144,
    "start_time": "2022-07-14T20:29:10.707Z"
   },
   {
    "duration": 82,
    "start_time": "2022-07-14T20:29:32.741Z"
   },
   {
    "duration": 155,
    "start_time": "2022-07-14T20:48:08.793Z"
   },
   {
    "duration": 138,
    "start_time": "2022-07-14T20:48:22.264Z"
   },
   {
    "duration": 145,
    "start_time": "2022-07-14T20:49:13.152Z"
   },
   {
    "duration": 147,
    "start_time": "2022-07-14T20:57:34.286Z"
   },
   {
    "duration": 80,
    "start_time": "2022-07-14T21:00:16.903Z"
   },
   {
    "duration": 79,
    "start_time": "2022-07-14T21:00:24.435Z"
   },
   {
    "duration": 79,
    "start_time": "2022-07-14T21:00:32.273Z"
   },
   {
    "duration": 83,
    "start_time": "2022-07-14T21:11:50.798Z"
   },
   {
    "duration": 77,
    "start_time": "2022-07-14T21:12:24.274Z"
   },
   {
    "duration": 81,
    "start_time": "2022-07-14T21:14:07.381Z"
   },
   {
    "duration": 147,
    "start_time": "2022-07-14T21:29:32.627Z"
   },
   {
    "duration": 140,
    "start_time": "2022-07-14T21:29:48.449Z"
   },
   {
    "duration": 143,
    "start_time": "2022-07-14T21:32:23.190Z"
   },
   {
    "duration": 117,
    "start_time": "2022-07-14T21:32:29.153Z"
   },
   {
    "duration": 80,
    "start_time": "2022-07-14T21:38:47.168Z"
   },
   {
    "duration": 81,
    "start_time": "2022-07-14T21:42:15.723Z"
   },
   {
    "duration": 136,
    "start_time": "2022-07-14T21:44:25.716Z"
   },
   {
    "duration": 85,
    "start_time": "2022-07-14T21:44:44.870Z"
   },
   {
    "duration": 81,
    "start_time": "2022-07-14T21:56:45.998Z"
   },
   {
    "duration": 80,
    "start_time": "2022-07-14T21:57:27.155Z"
   },
   {
    "duration": 124,
    "start_time": "2022-07-14T21:58:18.209Z"
   },
   {
    "duration": 79,
    "start_time": "2022-07-14T21:58:57.811Z"
   },
   {
    "duration": 79,
    "start_time": "2022-07-14T21:59:35.063Z"
   },
   {
    "duration": 80,
    "start_time": "2022-07-14T22:02:40.246Z"
   },
   {
    "duration": 80,
    "start_time": "2022-07-14T22:03:01.148Z"
   },
   {
    "duration": 80,
    "start_time": "2022-07-14T22:03:06.231Z"
   },
   {
    "duration": 79,
    "start_time": "2022-07-14T22:05:38.346Z"
   },
   {
    "duration": 144,
    "start_time": "2022-07-14T22:13:29.077Z"
   },
   {
    "duration": 145,
    "start_time": "2022-07-14T22:14:18.999Z"
   },
   {
    "duration": 80,
    "start_time": "2022-07-14T22:14:28.819Z"
   },
   {
    "duration": 160,
    "start_time": "2022-07-14T22:14:36.599Z"
   },
   {
    "duration": 79,
    "start_time": "2022-07-14T22:14:41.185Z"
   },
   {
    "duration": 87,
    "start_time": "2022-07-14T22:20:45.495Z"
   },
   {
    "duration": 80,
    "start_time": "2022-07-14T22:22:37.693Z"
   },
   {
    "duration": 77,
    "start_time": "2022-07-14T22:25:14.715Z"
   },
   {
    "duration": 79,
    "start_time": "2022-07-14T22:25:30.778Z"
   },
   {
    "duration": 79,
    "start_time": "2022-07-14T22:25:44.139Z"
   },
   {
    "duration": 114,
    "start_time": "2022-07-14T22:30:56.148Z"
   },
   {
    "duration": 113,
    "start_time": "2022-07-14T22:31:07.372Z"
   },
   {
    "duration": 113,
    "start_time": "2022-07-14T22:31:15.765Z"
   },
   {
    "duration": 113,
    "start_time": "2022-07-14T22:31:25.815Z"
   },
   {
    "duration": 128,
    "start_time": "2022-07-14T22:33:35.084Z"
   },
   {
    "duration": 114,
    "start_time": "2022-07-14T22:34:21.997Z"
   },
   {
    "duration": 117,
    "start_time": "2022-07-14T22:34:56.852Z"
   },
   {
    "duration": 113,
    "start_time": "2022-07-14T22:35:58.362Z"
   },
   {
    "duration": 143,
    "start_time": "2022-07-14T22:38:14.037Z"
   },
   {
    "duration": 113,
    "start_time": "2022-07-14T22:38:22.715Z"
   },
   {
    "duration": 114,
    "start_time": "2022-07-14T22:40:12.729Z"
   },
   {
    "duration": 114,
    "start_time": "2022-07-14T22:40:34.731Z"
   },
   {
    "duration": 78,
    "start_time": "2022-07-14T22:46:12.194Z"
   },
   {
    "duration": 3,
    "start_time": "2022-07-14T22:51:09.714Z"
   },
   {
    "duration": 4,
    "start_time": "2022-07-14T22:51:10.481Z"
   },
   {
    "duration": 3,
    "start_time": "2022-07-14T22:51:11.044Z"
   },
   {
    "duration": 2,
    "start_time": "2022-07-14T22:51:12.178Z"
   },
   {
    "duration": 277,
    "start_time": "2022-07-14T22:51:13.521Z"
   },
   {
    "duration": 86,
    "start_time": "2022-07-14T22:51:14.689Z"
   },
   {
    "duration": 88,
    "start_time": "2022-07-14T22:51:22.906Z"
   },
   {
    "duration": 85,
    "start_time": "2022-07-14T22:51:24.625Z"
   },
   {
    "duration": 88,
    "start_time": "2022-07-14T22:51:26.344Z"
   },
   {
    "duration": 77,
    "start_time": "2022-07-14T22:51:38.993Z"
   },
   {
    "duration": 118,
    "start_time": "2022-07-14T22:51:41.532Z"
   },
   {
    "duration": 77,
    "start_time": "2022-07-14T22:51:56.124Z"
   },
   {
    "duration": 81,
    "start_time": "2022-07-14T22:52:00.259Z"
   },
   {
    "duration": 80,
    "start_time": "2022-07-14T22:52:03.682Z"
   },
   {
    "duration": 513,
    "start_time": "2022-07-15T05:21:35.150Z"
   },
   {
    "duration": 8693,
    "start_time": "2022-07-15T05:21:35.665Z"
   },
   {
    "duration": 3,
    "start_time": "2022-07-15T05:21:44.360Z"
   },
   {
    "duration": 7,
    "start_time": "2022-07-15T05:21:44.365Z"
   },
   {
    "duration": 254,
    "start_time": "2022-07-15T05:21:44.374Z"
   },
   {
    "duration": 76,
    "start_time": "2022-07-15T05:21:44.630Z"
   },
   {
    "duration": 78,
    "start_time": "2022-07-15T05:21:44.707Z"
   },
   {
    "duration": 76,
    "start_time": "2022-07-15T05:21:44.786Z"
   },
   {
    "duration": 80,
    "start_time": "2022-07-15T05:21:44.863Z"
   },
   {
    "duration": 67,
    "start_time": "2022-07-15T05:21:44.945Z"
   },
   {
    "duration": 104,
    "start_time": "2022-07-15T05:21:45.014Z"
   },
   {
    "duration": 76,
    "start_time": "2022-07-15T05:21:45.119Z"
   },
   {
    "duration": 79,
    "start_time": "2022-07-15T05:21:45.197Z"
   },
   {
    "duration": 73,
    "start_time": "2022-07-15T05:21:45.278Z"
   },
   {
    "duration": 73,
    "start_time": "2022-07-15T05:24:19.525Z"
   },
   {
    "duration": 69,
    "start_time": "2022-07-15T05:24:22.393Z"
   }
  ],
  "kernelspec": {
   "display_name": "Python 3 (ipykernel)",
   "language": "python",
   "name": "python3"
  },
  "language_info": {
   "codemirror_mode": {
    "name": "ipython",
    "version": 3
   },
   "file_extension": ".py",
   "mimetype": "text/x-python",
   "name": "python",
   "nbconvert_exporter": "python",
   "pygments_lexer": "ipython3",
   "version": "3.9.5"
  },
  "toc": {
   "base_numbering": 1,
   "nav_menu": {},
   "number_sections": true,
   "sideBar": true,
   "skip_h1_title": true,
   "title_cell": "Table of Contents",
   "title_sidebar": "Contents",
   "toc_cell": false,
   "toc_position": {},
   "toc_section_display": true,
   "toc_window_display": true
  }
 },
 "nbformat": 4,
 "nbformat_minor": 2
}
